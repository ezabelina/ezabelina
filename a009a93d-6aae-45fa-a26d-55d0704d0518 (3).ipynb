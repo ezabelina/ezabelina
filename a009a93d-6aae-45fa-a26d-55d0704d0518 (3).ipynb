
    "**ROMI**"
   ]
  },
  {
   "cell_type": "markdown",
   "metadata": {},
   "source": [
    "Сводные таблицы расходов на маркетинг по каждому источнику, по месяцам"
   ]
  },
  {
   "cell_type": "code",
   "execution_count": 55,
   "metadata": {},
   "outputs": [],
   "source": [
    "#переименовать заголовки нужно было гораздо раньше конечно\n",
    "visits.columns = ['device', 'end_ts', 'source_id', 'start_ts', 'uid', 'session_year', 'session_month', 'session_week', 'session_date', 'ses_dur_sec']\n",
    "orders.columns = ['buy_ts', 'revenue', 'uid','order_month']"
   ]
  },
  {
   "cell_type": "markdown",
   "metadata": {},
   "source": [
    "находим время первой сессии"
   ]
  },
  {
   "cell_type": "code",
   "execution_count": 56,
   "metadata": {},
   "outputs": [],
   "source": [
    "users = visits.sort_values('start_ts').groupby('uid').first()"
   ]
  },
  {
   "cell_type": "code",
   "execution_count": 57,
   "metadata": {},
   "outputs": [
    {
     "data": {
      "text/html": [
       "<div>\n",
       "<style scoped>\n",
       "    .dataframe tbody tr th:only-of-type {\n",
       "        vertical-align: middle;\n",
       "    }\n",
       "\n",
       "    .dataframe tbody tr th {\n",
       "        vertical-align: top;\n",
       "    }\n",
       "\n",
       "    .dataframe thead th {\n",
       "        text-align: right;\n",
       "    }\n",
       "</style>\n",
       "<table border=\"1\" class=\"dataframe\">\n",
       "  <thead>\n",
       "    <tr style=\"text-align: right;\">\n",
       "      <th></th>\n",
       "      <th>device</th>\n",
       "      <th>end_ts</th>\n",
       "      <th>source_id</th>\n",
       "      <th>start_ts</th>\n",
       "      <th>session_year</th>\n",
       "      <th>session_month</th>\n",
       "      <th>session_week</th>\n",
       "      <th>session_date</th>\n",
       "      <th>ses_dur_sec</th>\n",
       "    </tr>\n",
       "    <tr>\n",
       "      <th>uid</th>\n",
       "      <th></th>\n",
       "      <th></th>\n",
       "      <th></th>\n",
       "      <th></th>\n",
       "      <th></th>\n",
       "      <th></th>\n",
       "      <th></th>\n",
       "      <th></th>\n",
       "      <th></th>\n",
       "    </tr>\n",
       "  </thead>\n",
       "  <tbody>\n",
       "    <tr>\n",
       "      <td>11863502262781</td>\n",
       "      <td>touch</td>\n",
       "      <td>2018-03-01 17:33:00</td>\n",
       "      <td>3</td>\n",
       "      <td>2018-03-01 17:27:00</td>\n",
       "      <td>2018</td>\n",
       "      <td>2018-03-01</td>\n",
       "      <td>2018-03-01</td>\n",
       "      <td>2018-03-01</td>\n",
       "      <td>360</td>\n",
       "    </tr>\n",
       "    <tr>\n",
       "      <td>49537067089222</td>\n",
       "      <td>touch</td>\n",
       "      <td>2018-02-06 15:57:00</td>\n",
       "      <td>2</td>\n",
       "      <td>2018-02-06 15:55:00</td>\n",
       "      <td>2018</td>\n",
       "      <td>2018-02-01</td>\n",
       "      <td>2018-02-01</td>\n",
       "      <td>2018-02-06</td>\n",
       "      <td>120</td>\n",
       "    </tr>\n",
       "    <tr>\n",
       "      <td>297729379853735</td>\n",
       "      <td>desktop</td>\n",
       "      <td>2017-06-07 18:48:00</td>\n",
       "      <td>3</td>\n",
       "      <td>2017-06-07 18:47:00</td>\n",
       "      <td>2017</td>\n",
       "      <td>2017-06-01</td>\n",
       "      <td>2017-06-01</td>\n",
       "      <td>2017-06-07</td>\n",
       "      <td>60</td>\n",
       "    </tr>\n",
       "    <tr>\n",
       "      <td>313578113262317</td>\n",
       "      <td>desktop</td>\n",
       "      <td>2017-09-18 23:07:00</td>\n",
       "      <td>2</td>\n",
       "      <td>2017-09-18 22:49:00</td>\n",
       "      <td>2017</td>\n",
       "      <td>2017-09-01</td>\n",
       "      <td>2017-09-14</td>\n",
       "      <td>2017-09-18</td>\n",
       "      <td>1080</td>\n",
       "    </tr>\n",
       "    <tr>\n",
       "      <td>325320750514679</td>\n",
       "      <td>desktop</td>\n",
       "      <td>2017-09-30 14:38:00</td>\n",
       "      <td>5</td>\n",
       "      <td>2017-09-30 14:29:00</td>\n",
       "      <td>2017</td>\n",
       "      <td>2017-09-01</td>\n",
       "      <td>2017-09-28</td>\n",
       "      <td>2017-09-30</td>\n",
       "      <td>540</td>\n",
       "    </tr>\n",
       "    <tr>\n",
       "      <td>...</td>\n",
       "      <td>...</td>\n",
       "      <td>...</td>\n",
       "      <td>...</td>\n",
       "      <td>...</td>\n",
       "      <td>...</td>\n",
       "      <td>...</td>\n",
       "      <td>...</td>\n",
       "      <td>...</td>\n",
       "      <td>...</td>\n",
       "    </tr>\n",
       "    <tr>\n",
       "      <td>18446403737806311543</td>\n",
       "      <td>desktop</td>\n",
       "      <td>2017-11-30 03:39:00</td>\n",
       "      <td>5</td>\n",
       "      <td>2017-11-30 03:36:00</td>\n",
       "      <td>2017</td>\n",
       "      <td>2017-11-01</td>\n",
       "      <td>2017-11-30</td>\n",
       "      <td>2017-11-30</td>\n",
       "      <td>180</td>\n",
       "    </tr>\n",
       "    <tr>\n",
       "      <td>18446424184725333426</td>\n",
       "      <td>touch</td>\n",
       "      <td>2017-12-06 20:32:00</td>\n",
       "      <td>4</td>\n",
       "      <td>2017-12-06 20:32:00</td>\n",
       "      <td>2017</td>\n",
       "      <td>2017-12-01</td>\n",
       "      <td>2017-11-30</td>\n",
       "      <td>2017-12-06</td>\n",
       "      <td>0</td>\n",
       "    </tr>\n",
       "    <tr>\n",
       "      <td>18446556406699109058</td>\n",
       "      <td>touch</td>\n",
       "      <td>2018-01-01 16:31:00</td>\n",
       "      <td>3</td>\n",
       "      <td>2018-01-01 16:29:00</td>\n",
       "      <td>2018</td>\n",
       "      <td>2018-01-01</td>\n",
       "      <td>2017-12-28</td>\n",
       "      <td>2018-01-01</td>\n",
       "      <td>120</td>\n",
       "    </tr>\n",
       "    <tr>\n",
       "      <td>18446621818809592527</td>\n",
       "      <td>desktop</td>\n",
       "      <td>2017-12-27 14:08:00</td>\n",
       "      <td>4</td>\n",
       "      <td>2017-12-27 13:27:00</td>\n",
       "      <td>2017</td>\n",
       "      <td>2017-12-01</td>\n",
       "      <td>2017-12-21</td>\n",
       "      <td>2017-12-27</td>\n",
       "      <td>2460</td>\n",
       "    </tr>\n",
       "    <tr>\n",
       "      <td>18446676030785672386</td>\n",
       "      <td>desktop</td>\n",
       "      <td>2017-10-04 16:27:00</td>\n",
       "      <td>3</td>\n",
       "      <td>2017-10-04 16:01:00</td>\n",
       "      <td>2017</td>\n",
       "      <td>2017-10-01</td>\n",
       "      <td>2017-09-28</td>\n",
       "      <td>2017-10-04</td>\n",
       "      <td>1560</td>\n",
       "    </tr>\n",
       "  </tbody>\n",
       "</table>\n",
       "<p>228169 rows × 9 columns</p>\n",
       "</div>"
      ],
      "text/plain": [
       "                       device              end_ts  source_id  \\\n",
       "uid                                                            \n",
       "11863502262781          touch 2018-03-01 17:33:00          3   \n",
       "49537067089222          touch 2018-02-06 15:57:00          2   \n",
       "297729379853735       desktop 2017-06-07 18:48:00          3   \n",
       "313578113262317       desktop 2017-09-18 23:07:00          2   \n",
       "325320750514679       desktop 2017-09-30 14:38:00          5   \n",
       "...                       ...                 ...        ...   \n",
       "18446403737806311543  desktop 2017-11-30 03:39:00          5   \n",
       "18446424184725333426    touch 2017-12-06 20:32:00          4   \n",
       "18446556406699109058    touch 2018-01-01 16:31:00          3   \n",
       "18446621818809592527  desktop 2017-12-27 14:08:00          4   \n",
       "18446676030785672386  desktop 2017-10-04 16:27:00          3   \n",
       "\n",
       "                                start_ts  session_year session_month  \\\n",
       "uid                                                                    \n",
       "11863502262781       2018-03-01 17:27:00          2018    2018-03-01   \n",
       "49537067089222       2018-02-06 15:55:00          2018    2018-02-01   \n",
       "297729379853735      2017-06-07 18:47:00          2017    2017-06-01   \n",
       "313578113262317      2017-09-18 22:49:00          2017    2017-09-01   \n",
       "325320750514679      2017-09-30 14:29:00          2017    2017-09-01   \n",
       "...                                  ...           ...           ...   \n",
       "18446403737806311543 2017-11-30 03:36:00          2017    2017-11-01   \n",
       "18446424184725333426 2017-12-06 20:32:00          2017    2017-12-01   \n",
       "18446556406699109058 2018-01-01 16:29:00          2018    2018-01-01   \n",
       "18446621818809592527 2017-12-27 13:27:00          2017    2017-12-01   \n",
       "18446676030785672386 2017-10-04 16:01:00          2017    2017-10-01   \n",
       "\n",
       "                     session_week session_date  ses_dur_sec  \n",
       "uid                                                          \n",
       "11863502262781         2018-03-01   2018-03-01          360  \n",
       "49537067089222         2018-02-01   2018-02-06          120  \n",
       "297729379853735        2017-06-01   2017-06-07           60  \n",
       "313578113262317        2017-09-14   2017-09-18         1080  \n",
       "325320750514679        2017-09-28   2017-09-30          540  \n",
       "...                           ...          ...          ...  \n",
       "18446403737806311543   2017-11-30   2017-11-30          180  \n",
       "18446424184725333426   2017-11-30   2017-12-06            0  \n",
       "18446556406699109058   2017-12-28   2018-01-01          120  \n",
       "18446621818809592527   2017-12-21   2017-12-27         2460  \n",
       "18446676030785672386   2017-09-28   2017-10-04         1560  \n",
       "\n",
       "[228169 rows x 9 columns]"
      ]
     },
     "execution_count": 57,
     "metadata": {},
     "output_type": "execute_result"
    }
   ],
   "source": [
    "users"
   ]
  },
  {
   "cell_type": "markdown",
   "metadata": {},
   "source": [
    "тут манипуляции с месяцем первой покупки для дальнейшего определения возраста когорты"
   ]
  },
  {
   "cell_type": "code",
   "execution_count": 58,
   "metadata": {},
   "outputs": [],
   "source": [
    "first_order = orders.groupby('uid').agg({'buy_ts': 'min'}).reset_index()"
   ]
  },
  {
   "cell_type": "code",
   "execution_count": 59,
   "metadata": {},
   "outputs": [],
   "source": [
    "first_order.columns = ['uid', 'first_order_time']"
   ]
  },
  {
   "cell_type": "code",
   "execution_count": 60,
   "metadata": {},
   "outputs": [],
   "source": [
    "first_order['first_order_month'] = first_order['first_order_time'].astype('datetime64[M]')"
   ]
  },
  {
   "cell_type": "code",
   "execution_count": 61,
   "metadata": {},
   "outputs": [],
   "source": [
    "orders = orders.merge(first_order, on='uid')"
   ]
  },
  {
   "cell_type": "markdown",
   "metadata": {},
   "source": [
    "соединяем с продажами"
   ]
  },
  {
   "cell_type": "code",
   "execution_count": 62,
   "metadata": {},
   "outputs": [
    {
     "data": {
      "text/html": [
       "<div>\n",
       "<style scoped>\n",
       "    .dataframe tbody tr th:only-of-type {\n",
       "        vertical-align: middle;\n",
       "    }\n",
       "\n",
       "    .dataframe tbody tr th {\n",
       "        vertical-align: top;\n",
       "    }\n",
       "\n",
       "    .dataframe thead th {\n",
       "        text-align: right;\n",
       "    }\n",
       "</style>\n",
       "<table border=\"1\" class=\"dataframe\">\n",
       "  <thead>\n",
       "    <tr style=\"text-align: right;\">\n",
       "      <th></th>\n",
       "      <th>buy_ts</th>\n",
       "      <th>revenue</th>\n",
       "      <th>uid</th>\n",
       "      <th>order_month</th>\n",
       "      <th>first_order_time</th>\n",
       "      <th>first_order_month</th>\n",
       "    </tr>\n",
       "  </thead>\n",
       "  <tbody>\n",
       "    <tr>\n",
       "      <td>0</td>\n",
       "      <td>2017-06-01</td>\n",
       "      <td>17.00</td>\n",
       "      <td>10329302124590727494</td>\n",
       "      <td>2017-06-01</td>\n",
       "      <td>2017-06-01</td>\n",
       "      <td>2017-06-01</td>\n",
       "    </tr>\n",
       "    <tr>\n",
       "      <td>1</td>\n",
       "      <td>2017-06-01</td>\n",
       "      <td>0.55</td>\n",
       "      <td>11627257723692907447</td>\n",
       "      <td>2017-06-01</td>\n",
       "      <td>2017-06-01</td>\n",
       "      <td>2017-06-01</td>\n",
       "    </tr>\n",
       "    <tr>\n",
       "      <td>2</td>\n",
       "      <td>2017-06-01</td>\n",
       "      <td>0.37</td>\n",
       "      <td>17903680561304213844</td>\n",
       "      <td>2017-06-01</td>\n",
       "      <td>2017-06-01</td>\n",
       "      <td>2017-06-01</td>\n",
       "    </tr>\n",
       "    <tr>\n",
       "      <td>3</td>\n",
       "      <td>2017-06-01</td>\n",
       "      <td>0.55</td>\n",
       "      <td>16109239769442553005</td>\n",
       "      <td>2017-06-01</td>\n",
       "      <td>2017-06-01</td>\n",
       "      <td>2017-06-01</td>\n",
       "    </tr>\n",
       "    <tr>\n",
       "      <td>4</td>\n",
       "      <td>2017-06-01</td>\n",
       "      <td>0.37</td>\n",
       "      <td>14200605875248379450</td>\n",
       "      <td>2017-06-01</td>\n",
       "      <td>2017-06-01</td>\n",
       "      <td>2017-06-01</td>\n",
       "    </tr>\n",
       "    <tr>\n",
       "      <td>...</td>\n",
       "      <td>...</td>\n",
       "      <td>...</td>\n",
       "      <td>...</td>\n",
       "      <td>...</td>\n",
       "      <td>...</td>\n",
       "      <td>...</td>\n",
       "    </tr>\n",
       "    <tr>\n",
       "      <td>50410</td>\n",
       "      <td>2018-05-31</td>\n",
       "      <td>4.64</td>\n",
       "      <td>12296626599487328624</td>\n",
       "      <td>2018-05-01</td>\n",
       "      <td>2018-05-31</td>\n",
       "      <td>2018-05-01</td>\n",
       "    </tr>\n",
       "    <tr>\n",
       "      <td>50411</td>\n",
       "      <td>2018-05-31</td>\n",
       "      <td>5.80</td>\n",
       "      <td>11369640365507475976</td>\n",
       "      <td>2018-05-01</td>\n",
       "      <td>2018-05-31</td>\n",
       "      <td>2018-05-01</td>\n",
       "    </tr>\n",
       "    <tr>\n",
       "      <td>50412</td>\n",
       "      <td>2018-05-31</td>\n",
       "      <td>0.30</td>\n",
       "      <td>1786462140797698849</td>\n",
       "      <td>2018-05-01</td>\n",
       "      <td>2018-05-31</td>\n",
       "      <td>2018-05-01</td>\n",
       "    </tr>\n",
       "    <tr>\n",
       "      <td>50413</td>\n",
       "      <td>2018-05-31</td>\n",
       "      <td>3.67</td>\n",
       "      <td>3993697860786194247</td>\n",
       "      <td>2018-05-01</td>\n",
       "      <td>2018-05-31</td>\n",
       "      <td>2018-05-01</td>\n",
       "    </tr>\n",
       "    <tr>\n",
       "      <td>50414</td>\n",
       "      <td>2018-06-01</td>\n",
       "      <td>3.42</td>\n",
       "      <td>83872787173869366</td>\n",
       "      <td>2018-06-01</td>\n",
       "      <td>2018-06-01</td>\n",
       "      <td>2018-06-01</td>\n",
       "    </tr>\n",
       "  </tbody>\n",
       "</table>\n",
       "<p>50415 rows × 6 columns</p>\n",
       "</div>"
      ],
      "text/plain": [
       "           buy_ts  revenue                   uid order_month first_order_time  \\\n",
       "0      2017-06-01    17.00  10329302124590727494  2017-06-01       2017-06-01   \n",
       "1      2017-06-01     0.55  11627257723692907447  2017-06-01       2017-06-01   \n",
       "2      2017-06-01     0.37  17903680561304213844  2017-06-01       2017-06-01   \n",
       "3      2017-06-01     0.55  16109239769442553005  2017-06-01       2017-06-01   \n",
       "4      2017-06-01     0.37  14200605875248379450  2017-06-01       2017-06-01   \n",
       "...           ...      ...                   ...         ...              ...   \n",
       "50410  2018-05-31     4.64  12296626599487328624  2018-05-01       2018-05-31   \n",
       "50411  2018-05-31     5.80  11369640365507475976  2018-05-01       2018-05-31   \n",
       "50412  2018-05-31     0.30   1786462140797698849  2018-05-01       2018-05-31   \n",
       "50413  2018-05-31     3.67   3993697860786194247  2018-05-01       2018-05-31   \n",
       "50414  2018-06-01     3.42     83872787173869366  2018-06-01       2018-06-01   \n",
       "\n",
       "      first_order_month  \n",
       "0            2017-06-01  \n",
       "1            2017-06-01  \n",
       "2            2017-06-01  \n",
       "3            2017-06-01  \n",
       "4            2017-06-01  \n",
       "...                 ...  \n",
       "50410        2018-05-01  \n",
       "50411        2018-05-01  \n",
       "50412        2018-05-01  \n",
       "50413        2018-05-01  \n",
       "50414        2018-06-01  \n",
       "\n",
       "[50415 rows x 6 columns]"
      ]
     },
     "execution_count": 62,
     "metadata": {},
     "output_type": "execute_result"
    }
   ],
   "source": [
    "orders"
   ]
  },
  {
   "cell_type": "code",
   "execution_count": 63,
   "metadata": {},
   "outputs": [],
   "source": [
    "users = users.merge(orders, on='uid')"
   ]
  },
  {
   "cell_type": "markdown",
   "metadata": {},
   "source": [
    "**делаем срезы по источникам для рассчета ltv**"
   ]
  },
  {
   "cell_type": "code",
   "execution_count": 64,
   "metadata": {},
   "outputs": [
    {
     "data": {
      "text/plain": [
       "3     13289\n",
       "4     12895\n",
       "5      9406\n",
       "2      6392\n",
       "1      5223\n",
       "9      1647\n",
       "10     1562\n",
       "7         1\n",
       "Name: source_id, dtype: int64"
      ]
     },
     "execution_count": 64,
     "metadata": {},
     "output_type": "execute_result"
    }
   ],
   "source": [
    "users['source_id'].value_counts()"
   ]
  },
  {
   "cell_type": "code",
   "execution_count": 65,
   "metadata": {},
   "outputs": [],
   "source": [
    "ltv1 = users.query('source_id == 1')"
   ]
  },
  {
   "cell_type": "code",
   "execution_count": 66,
   "metadata": {},
   "outputs": [],
   "source": [
    "cohort_size1 = ltv1.groupby('first_order_month').agg({'uid': 'nunique'}).reset_index()\n",
    "cohort_size1.rename(columns={'uid':'n_buyers'}, inplace=True)"
   ]
  },
  {
   "cell_type": "code",
   "execution_count": 67,
   "metadata": {},
   "outputs": [
    {
     "data": {
      "text/html": [
       "<div>\n",
       "<style scoped>\n",
       "    .dataframe tbody tr th:only-of-type {\n",
       "        vertical-align: middle;\n",
       "    }\n",
       "\n",
       "    .dataframe tbody tr th {\n",
       "        vertical-align: top;\n",
       "    }\n",
       "\n",
       "    .dataframe thead th {\n",
       "        text-align: right;\n",
       "    }\n",
       "</style>\n",
       "<table border=\"1\" class=\"dataframe\">\n",
       "  <thead>\n",
       "    <tr style=\"text-align: right;\">\n",
       "      <th></th>\n",
       "      <th>first_order_month</th>\n",
       "      <th>n_buyers</th>\n",
       "    </tr>\n",
       "  </thead>\n",
       "  <tbody>\n",
       "    <tr>\n",
       "      <td>0</td>\n",
       "      <td>2017-06-01</td>\n",
       "      <td>190</td>\n",
       "    </tr>\n",
       "    <tr>\n",
       "      <td>1</td>\n",
       "      <td>2017-07-01</td>\n",
       "      <td>160</td>\n",
       "    </tr>\n",
       "    <tr>\n",
       "      <td>2</td>\n",
       "      <td>2017-08-01</td>\n",
       "      <td>113</td>\n",
       "    </tr>\n",
       "    <tr>\n",
       "      <td>3</td>\n",
       "      <td>2017-09-01</td>\n",
       "      <td>227</td>\n",
       "    </tr>\n",
       "    <tr>\n",
       "      <td>4</td>\n",
       "      <td>2017-10-01</td>\n",
       "      <td>340</td>\n",
       "    </tr>\n",
       "    <tr>\n",
       "      <td>5</td>\n",
       "      <td>2017-11-01</td>\n",
       "      <td>324</td>\n",
       "    </tr>\n",
       "    <tr>\n",
       "      <td>6</td>\n",
       "      <td>2017-12-01</td>\n",
       "      <td>331</td>\n",
       "    </tr>\n",
       "    <tr>\n",
       "      <td>7</td>\n",
       "      <td>2018-01-01</td>\n",
       "      <td>238</td>\n",
       "    </tr>\n",
       "    <tr>\n",
       "      <td>8</td>\n",
       "      <td>2018-02-01</td>\n",
       "      <td>275</td>\n",
       "    </tr>\n",
       "    <tr>\n",
       "      <td>9</td>\n",
       "      <td>2018-03-01</td>\n",
       "      <td>281</td>\n",
       "    </tr>\n",
       "    <tr>\n",
       "      <td>10</td>\n",
       "      <td>2018-04-01</td>\n",
       "      <td>179</td>\n",
       "    </tr>\n",
       "    <tr>\n",
       "      <td>11</td>\n",
       "      <td>2018-05-01</td>\n",
       "      <td>241</td>\n",
       "    </tr>\n",
       "  </tbody>\n",
       "</table>\n",
       "</div>"
      ],
      "text/plain": [
       "   first_order_month  n_buyers\n",
       "0         2017-06-01       190\n",
       "1         2017-07-01       160\n",
       "2         2017-08-01       113\n",
       "3         2017-09-01       227\n",
       "4         2017-10-01       340\n",
       "5         2017-11-01       324\n",
       "6         2017-12-01       331\n",
       "7         2018-01-01       238\n",
       "8         2018-02-01       275\n",
       "9         2018-03-01       281\n",
       "10        2018-04-01       179\n",
       "11        2018-05-01       241"
      ]
     },
     "execution_count": 67,
     "metadata": {},
     "output_type": "execute_result"
    }
   ],
   "source": [
    "cohort_size1"
   ]
  },
  {
   "cell_type": "code",
   "execution_count": 68,
   "metadata": {},
   "outputs": [],
   "source": [
    "ltv2 = users.query('source_id == 2')"
   ]
  },
  {
   "cell_type": "code",
   "execution_count": 69,
   "metadata": {},
   "outputs": [],
   "source": [
    "ltv3 = users.query('source_id == 3')"
   ]
  },
  {
   "cell_type": "code",
   "execution_count": 70,
   "metadata": {},
   "outputs": [],
   "source": [
    "ltv4 = users.query('source_id == 4')"
   ]
  },
  {
   "cell_type": "code",
   "execution_count": 71,
   "metadata": {},
   "outputs": [],
   "source": [
    "ltv5 = users.query('source_id == 5')"
   ]
  },
  {
   "cell_type": "code",
   "execution_count": 72,
   "metadata": {},
   "outputs": [],
   "source": [
    "ltv9 = users.query('source_id == 9')"
   ]
  },
  {
   "cell_type": "code",
   "execution_count": 73,
   "metadata": {},
   "outputs": [],
   "source": [
    "ltv10 = users.query('source_id == 10')"
   ]
  },
  {
   "cell_type": "markdown",
   "metadata": {},
   "source": [
    "находим возраст когорты"
   ]
  },
  {
   "cell_type": "code",
   "execution_count": 74,
   "metadata": {},
   "outputs": [],
   "source": [
    "ltv1['age_month'] = ((ltv1['order_month'] - ltv1['first_order_month']) / np.timedelta64(1, 'M')).round()\n"
   ]
  },
  {
   "cell_type": "code",
   "execution_count": 75,
   "metadata": {},
   "outputs": [
    {
     "data": {
      "text/html": [
       "<div>\n",
       "<style scoped>\n",
       "    .dataframe tbody tr th:only-of-type {\n",
       "        vertical-align: middle;\n",
       "    }\n",
       "\n",
       "    .dataframe tbody tr th {\n",
       "        vertical-align: top;\n",
       "    }\n",
       "\n",
       "    .dataframe thead th {\n",
       "        text-align: right;\n",
       "    }\n",
       "</style>\n",
       "<table border=\"1\" class=\"dataframe\">\n",
       "  <thead>\n",
       "    <tr style=\"text-align: right;\">\n",
       "      <th></th>\n",
       "      <th>uid</th>\n",
       "      <th>device</th>\n",
       "      <th>end_ts</th>\n",
       "      <th>source_id</th>\n",
       "      <th>start_ts</th>\n",
       "      <th>session_year</th>\n",
       "      <th>session_month</th>\n",
       "      <th>session_week</th>\n",
       "      <th>session_date</th>\n",
       "      <th>ses_dur_sec</th>\n",
       "      <th>buy_ts</th>\n",
       "      <th>revenue</th>\n",
       "      <th>order_month</th>\n",
       "      <th>first_order_time</th>\n",
       "      <th>first_order_month</th>\n",
       "      <th>age_month</th>\n",
       "    </tr>\n",
       "  </thead>\n",
       "  <tbody>\n",
       "    <tr>\n",
       "      <td>48</td>\n",
       "      <td>21801295586117262</td>\n",
       "      <td>touch</td>\n",
       "      <td>2018-01-26 19:14:19</td>\n",
       "      <td>1</td>\n",
       "      <td>2018-01-26 19:14:00</td>\n",
       "      <td>2018</td>\n",
       "      <td>2018-01-01</td>\n",
       "      <td>2018-01-25</td>\n",
       "      <td>2018-01-26</td>\n",
       "      <td>19</td>\n",
       "      <td>2018-01-26</td>\n",
       "      <td>0.61</td>\n",
       "      <td>2018-01-01</td>\n",
       "      <td>2018-01-26</td>\n",
       "      <td>2018-01-01</td>\n",
       "      <td>0.0</td>\n",
       "    </tr>\n",
       "    <tr>\n",
       "      <td>49</td>\n",
       "      <td>21801295586117262</td>\n",
       "      <td>touch</td>\n",
       "      <td>2018-01-26 19:14:19</td>\n",
       "      <td>1</td>\n",
       "      <td>2018-01-26 19:14:00</td>\n",
       "      <td>2018</td>\n",
       "      <td>2018-01-01</td>\n",
       "      <td>2018-01-25</td>\n",
       "      <td>2018-01-26</td>\n",
       "      <td>19</td>\n",
       "      <td>2018-01-27</td>\n",
       "      <td>0.61</td>\n",
       "      <td>2018-01-01</td>\n",
       "      <td>2018-01-26</td>\n",
       "      <td>2018-01-01</td>\n",
       "      <td>0.0</td>\n",
       "    </tr>\n",
       "    <tr>\n",
       "      <td>50</td>\n",
       "      <td>22538937500067142</td>\n",
       "      <td>touch</td>\n",
       "      <td>2018-02-16 22:33:00</td>\n",
       "      <td>1</td>\n",
       "      <td>2018-02-16 22:06:00</td>\n",
       "      <td>2018</td>\n",
       "      <td>2018-02-01</td>\n",
       "      <td>2018-02-15</td>\n",
       "      <td>2018-02-16</td>\n",
       "      <td>1620</td>\n",
       "      <td>2018-02-19</td>\n",
       "      <td>0.61</td>\n",
       "      <td>2018-02-01</td>\n",
       "      <td>2018-02-19</td>\n",
       "      <td>2018-02-01</td>\n",
       "      <td>0.0</td>\n",
       "    </tr>\n",
       "    <tr>\n",
       "      <td>51</td>\n",
       "      <td>22538937500067142</td>\n",
       "      <td>touch</td>\n",
       "      <td>2018-02-16 22:33:00</td>\n",
       "      <td>1</td>\n",
       "      <td>2018-02-16 22:06:00</td>\n",
       "      <td>2018</td>\n",
       "      <td>2018-02-01</td>\n",
       "      <td>2018-02-15</td>\n",
       "      <td>2018-02-16</td>\n",
       "      <td>1620</td>\n",
       "      <td>2018-02-19</td>\n",
       "      <td>0.43</td>\n",
       "      <td>2018-02-01</td>\n",
       "      <td>2018-02-19</td>\n",
       "      <td>2018-02-01</td>\n",
       "      <td>0.0</td>\n",
       "    </tr>\n",
       "    <tr>\n",
       "      <td>62</td>\n",
       "      <td>28094489227360733</td>\n",
       "      <td>desktop</td>\n",
       "      <td>2017-06-29 18:01:00</td>\n",
       "      <td>1</td>\n",
       "      <td>2017-06-29 17:41:00</td>\n",
       "      <td>2017</td>\n",
       "      <td>2017-06-01</td>\n",
       "      <td>2017-06-29</td>\n",
       "      <td>2017-06-29</td>\n",
       "      <td>1200</td>\n",
       "      <td>2017-07-20</td>\n",
       "      <td>1.22</td>\n",
       "      <td>2017-07-01</td>\n",
       "      <td>2017-07-20</td>\n",
       "      <td>2017-07-01</td>\n",
       "      <td>0.0</td>\n",
       "    </tr>\n",
       "    <tr>\n",
       "      <td>...</td>\n",
       "      <td>...</td>\n",
       "      <td>...</td>\n",
       "      <td>...</td>\n",
       "      <td>...</td>\n",
       "      <td>...</td>\n",
       "      <td>...</td>\n",
       "      <td>...</td>\n",
       "      <td>...</td>\n",
       "      <td>...</td>\n",
       "      <td>...</td>\n",
       "      <td>...</td>\n",
       "      <td>...</td>\n",
       "      <td>...</td>\n",
       "      <td>...</td>\n",
       "      <td>...</td>\n",
       "      <td>...</td>\n",
       "    </tr>\n",
       "    <tr>\n",
       "      <td>50334</td>\n",
       "      <td>18404729752869455706</td>\n",
       "      <td>desktop</td>\n",
       "      <td>2017-11-09 15:31:00</td>\n",
       "      <td>1</td>\n",
       "      <td>2017-11-09 15:14:00</td>\n",
       "      <td>2017</td>\n",
       "      <td>2017-11-01</td>\n",
       "      <td>2017-11-09</td>\n",
       "      <td>2017-11-09</td>\n",
       "      <td>1020</td>\n",
       "      <td>2018-02-14</td>\n",
       "      <td>1.75</td>\n",
       "      <td>2018-02-01</td>\n",
       "      <td>2017-11-09</td>\n",
       "      <td>2017-11-01</td>\n",
       "      <td>3.0</td>\n",
       "    </tr>\n",
       "    <tr>\n",
       "      <td>50335</td>\n",
       "      <td>18405234926187729536</td>\n",
       "      <td>touch</td>\n",
       "      <td>2017-07-20 12:26:00</td>\n",
       "      <td>1</td>\n",
       "      <td>2017-07-20 12:22:00</td>\n",
       "      <td>2017</td>\n",
       "      <td>2017-07-01</td>\n",
       "      <td>2017-07-20</td>\n",
       "      <td>2017-07-20</td>\n",
       "      <td>240</td>\n",
       "      <td>2017-12-13</td>\n",
       "      <td>1.65</td>\n",
       "      <td>2017-12-01</td>\n",
       "      <td>2017-12-13</td>\n",
       "      <td>2017-12-01</td>\n",
       "      <td>0.0</td>\n",
       "    </tr>\n",
       "    <tr>\n",
       "      <td>50341</td>\n",
       "      <td>18410655351095696115</td>\n",
       "      <td>desktop</td>\n",
       "      <td>2018-02-16 14:59:00</td>\n",
       "      <td>1</td>\n",
       "      <td>2018-02-16 14:58:00</td>\n",
       "      <td>2018</td>\n",
       "      <td>2018-02-01</td>\n",
       "      <td>2018-02-15</td>\n",
       "      <td>2018-02-16</td>\n",
       "      <td>60</td>\n",
       "      <td>2018-02-16</td>\n",
       "      <td>0.18</td>\n",
       "      <td>2018-02-01</td>\n",
       "      <td>2018-02-16</td>\n",
       "      <td>2018-02-01</td>\n",
       "      <td>0.0</td>\n",
       "    </tr>\n",
       "    <tr>\n",
       "      <td>50373</td>\n",
       "      <td>18423636499440883616</td>\n",
       "      <td>touch</td>\n",
       "      <td>2018-01-30 14:38:00</td>\n",
       "      <td>1</td>\n",
       "      <td>2018-01-30 14:21:00</td>\n",
       "      <td>2018</td>\n",
       "      <td>2018-01-01</td>\n",
       "      <td>2018-01-25</td>\n",
       "      <td>2018-01-30</td>\n",
       "      <td>1020</td>\n",
       "      <td>2018-01-30</td>\n",
       "      <td>0.24</td>\n",
       "      <td>2018-01-01</td>\n",
       "      <td>2018-01-30</td>\n",
       "      <td>2018-01-01</td>\n",
       "      <td>0.0</td>\n",
       "    </tr>\n",
       "    <tr>\n",
       "      <td>50399</td>\n",
       "      <td>18436650472890569350</td>\n",
       "      <td>desktop</td>\n",
       "      <td>2017-06-06 16:10:00</td>\n",
       "      <td>1</td>\n",
       "      <td>2017-06-06 16:08:00</td>\n",
       "      <td>2017</td>\n",
       "      <td>2017-06-01</td>\n",
       "      <td>2017-06-01</td>\n",
       "      <td>2017-06-06</td>\n",
       "      <td>120</td>\n",
       "      <td>2017-06-07</td>\n",
       "      <td>0.37</td>\n",
       "      <td>2017-06-01</td>\n",
       "      <td>2017-06-07</td>\n",
       "      <td>2017-06-01</td>\n",
       "      <td>0.0</td>\n",
       "    </tr>\n",
       "  </tbody>\n",
       "</table>\n",
       "<p>5223 rows × 16 columns</p>\n",
       "</div>"
      ],
      "text/plain": [
       "                        uid   device              end_ts  source_id  \\\n",
       "48        21801295586117262    touch 2018-01-26 19:14:19          1   \n",
       "49        21801295586117262    touch 2018-01-26 19:14:19          1   \n",
       "50        22538937500067142    touch 2018-02-16 22:33:00          1   \n",
       "51        22538937500067142    touch 2018-02-16 22:33:00          1   \n",
       "62        28094489227360733  desktop 2017-06-29 18:01:00          1   \n",
       "...                     ...      ...                 ...        ...   \n",
       "50334  18404729752869455706  desktop 2017-11-09 15:31:00          1   \n",
       "50335  18405234926187729536    touch 2017-07-20 12:26:00          1   \n",
       "50341  18410655351095696115  desktop 2018-02-16 14:59:00          1   \n",
       "50373  18423636499440883616    touch 2018-01-30 14:38:00          1   \n",
       "50399  18436650472890569350  desktop 2017-06-06 16:10:00          1   \n",
       "\n",
       "                 start_ts  session_year session_month session_week  \\\n",
       "48    2018-01-26 19:14:00          2018    2018-01-01   2018-01-25   \n",
       "49    2018-01-26 19:14:00          2018    2018-01-01   2018-01-25   \n",
       "50    2018-02-16 22:06:00          2018    2018-02-01   2018-02-15   \n",
       "51    2018-02-16 22:06:00          2018    2018-02-01   2018-02-15   \n",
       "62    2017-06-29 17:41:00          2017    2017-06-01   2017-06-29   \n",
       "...                   ...           ...           ...          ...   \n",
       "50334 2017-11-09 15:14:00          2017    2017-11-01   2017-11-09   \n",
       "50335 2017-07-20 12:22:00          2017    2017-07-01   2017-07-20   \n",
       "50341 2018-02-16 14:58:00          2018    2018-02-01   2018-02-15   \n",
       "50373 2018-01-30 14:21:00          2018    2018-01-01   2018-01-25   \n",
       "50399 2017-06-06 16:08:00          2017    2017-06-01   2017-06-01   \n",
       "\n",
       "      session_date  ses_dur_sec      buy_ts  revenue order_month  \\\n",
       "48      2018-01-26           19  2018-01-26     0.61  2018-01-01   \n",
       "49      2018-01-26           19  2018-01-27     0.61  2018-01-01   \n",
       "50      2018-02-16         1620  2018-02-19     0.61  2018-02-01   \n",
       "51      2018-02-16         1620  2018-02-19     0.43  2018-02-01   \n",
       "62      2017-06-29         1200  2017-07-20     1.22  2017-07-01   \n",
       "...            ...          ...         ...      ...         ...   \n",
       "50334   2017-11-09         1020  2018-02-14     1.75  2018-02-01   \n",
       "50335   2017-07-20          240  2017-12-13     1.65  2017-12-01   \n",
       "50341   2018-02-16           60  2018-02-16     0.18  2018-02-01   \n",
       "50373   2018-01-30         1020  2018-01-30     0.24  2018-01-01   \n",
       "50399   2017-06-06          120  2017-06-07     0.37  2017-06-01   \n",
       "\n",
       "      first_order_time first_order_month  age_month  \n",
       "48          2018-01-26        2018-01-01        0.0  \n",
       "49          2018-01-26        2018-01-01        0.0  \n",
       "50          2018-02-19        2018-02-01        0.0  \n",
       "51          2018-02-19        2018-02-01        0.0  \n",
       "62          2017-07-20        2017-07-01        0.0  \n",
       "...                ...               ...        ...  \n",
       "50334       2017-11-09        2017-11-01        3.0  \n",
       "50335       2017-12-13        2017-12-01        0.0  \n",
       "50341       2018-02-16        2018-02-01        0.0  \n",
       "50373       2018-01-30        2018-01-01        0.0  \n",
       "50399       2017-06-07        2017-06-01        0.0  \n",
       "\n",
       "[5223 rows x 16 columns]"
      ]
     },
     "execution_count": 75,
     "metadata": {},
     "output_type": "execute_result"
    }
   ],
   "source": [
    "ltv1"
   ]
  },
  {
   "cell_type": "code",
   "execution_count": 76,
   "metadata": {},
   "outputs": [],
   "source": [
    "# считаем выручку на каждого покупателя\n",
    "cohorts_ltv1 = pd.merge(cohort_size1, ltv1, on = 'first_order_month')\n",
    "cohorts_ltv1['revenue_per_buyer'] = cohorts_ltv1['revenue'] / cohorts_ltv1['n_buyers']"
   ]
  },
  {
   "cell_type": "code",
   "execution_count": 77,
   "metadata": {},
   "outputs": [
    {
     "data": {
      "text/html": [
       "<div>\n",
       "<style scoped>\n",
       "    .dataframe tbody tr th:only-of-type {\n",
       "        vertical-align: middle;\n",
       "    }\n",
       "\n",
       "    .dataframe tbody tr th {\n",
       "        vertical-align: top;\n",
       "    }\n",
       "\n",
       "    .dataframe thead th {\n",
       "        text-align: right;\n",
       "    }\n",
       "</style>\n",
       "<table border=\"1\" class=\"dataframe\">\n",
       "  <thead>\n",
       "    <tr style=\"text-align: right;\">\n",
       "      <th>age_month</th>\n",
       "      <th>0.0</th>\n",
       "      <th>1.0</th>\n",
       "      <th>2.0</th>\n",
       "      <th>3.0</th>\n",
       "      <th>4.0</th>\n",
       "      <th>5.0</th>\n",
       "      <th>6.0</th>\n",
       "      <th>7.0</th>\n",
       "      <th>8.0</th>\n",
       "      <th>9.0</th>\n",
       "      <th>10.0</th>\n",
       "      <th>11.0</th>\n",
       "    </tr>\n",
       "    <tr>\n",
       "      <th>first_order_month</th>\n",
       "      <th></th>\n",
       "      <th></th>\n",
       "      <th></th>\n",
       "      <th></th>\n",
       "      <th></th>\n",
       "      <th></th>\n",
       "      <th></th>\n",
       "      <th></th>\n",
       "      <th></th>\n",
       "      <th></th>\n",
       "      <th></th>\n",
       "      <th></th>\n",
       "    </tr>\n",
       "  </thead>\n",
       "  <tbody>\n",
       "    <tr>\n",
       "      <td>2017-06-01</td>\n",
       "      <td>7.26</td>\n",
       "      <td>9.44</td>\n",
       "      <td>11.65</td>\n",
       "      <td>15.41</td>\n",
       "      <td>19.68</td>\n",
       "      <td>21.73</td>\n",
       "      <td>24.31</td>\n",
       "      <td>26.83</td>\n",
       "      <td>29.1</td>\n",
       "      <td>30.77</td>\n",
       "      <td>31.97</td>\n",
       "      <td>33.64</td>\n",
       "    </tr>\n",
       "    <tr>\n",
       "      <td>2017-07-01</td>\n",
       "      <td>7.29</td>\n",
       "      <td>8.39</td>\n",
       "      <td>13.74</td>\n",
       "      <td>15.25</td>\n",
       "      <td>16.13</td>\n",
       "      <td>17.03</td>\n",
       "      <td>17.47</td>\n",
       "      <td>18.12</td>\n",
       "      <td>18.98</td>\n",
       "      <td>19.96</td>\n",
       "      <td>20.89</td>\n",
       "      <td></td>\n",
       "    </tr>\n",
       "    <tr>\n",
       "      <td>2017-08-01</td>\n",
       "      <td>7.49</td>\n",
       "      <td>8.69</td>\n",
       "      <td>9.7</td>\n",
       "      <td>10.67</td>\n",
       "      <td>11.7</td>\n",
       "      <td>12.37</td>\n",
       "      <td>13.05</td>\n",
       "      <td>15.71</td>\n",
       "      <td>17.9</td>\n",
       "      <td>18.68</td>\n",
       "      <td></td>\n",
       "      <td></td>\n",
       "    </tr>\n",
       "    <tr>\n",
       "      <td>2017-09-01</td>\n",
       "      <td>6.01</td>\n",
       "      <td>7.82</td>\n",
       "      <td>8.38</td>\n",
       "      <td>9.3</td>\n",
       "      <td>9.34</td>\n",
       "      <td>9.43</td>\n",
       "      <td>9.52</td>\n",
       "      <td>9.83</td>\n",
       "      <td>10.42</td>\n",
       "      <td></td>\n",
       "      <td></td>\n",
       "      <td></td>\n",
       "    </tr>\n",
       "    <tr>\n",
       "      <td>2017-10-01</td>\n",
       "      <td>6.02</td>\n",
       "      <td>7.07</td>\n",
       "      <td>7.32</td>\n",
       "      <td>7.71</td>\n",
       "      <td>7.77</td>\n",
       "      <td>7.88</td>\n",
       "      <td>8.06</td>\n",
       "      <td>8.38</td>\n",
       "      <td></td>\n",
       "      <td></td>\n",
       "      <td></td>\n",
       "      <td></td>\n",
       "    </tr>\n",
       "    <tr>\n",
       "      <td>2017-11-01</td>\n",
       "      <td>7.39</td>\n",
       "      <td>7.96</td>\n",
       "      <td>8.93</td>\n",
       "      <td>9.82</td>\n",
       "      <td>9.99</td>\n",
       "      <td>10.09</td>\n",
       "      <td>10.17</td>\n",
       "      <td></td>\n",
       "      <td></td>\n",
       "      <td></td>\n",
       "      <td></td>\n",
       "      <td></td>\n",
       "    </tr>\n",
       "    <tr>\n",
       "      <td>2017-12-01</td>\n",
       "      <td>4.58</td>\n",
       "      <td>4.9</td>\n",
       "      <td>5.18</td>\n",
       "      <td>5.43</td>\n",
       "      <td>5.46</td>\n",
       "      <td>5.55</td>\n",
       "      <td></td>\n",
       "      <td></td>\n",
       "      <td></td>\n",
       "      <td></td>\n",
       "      <td></td>\n",
       "      <td></td>\n",
       "    </tr>\n",
       "    <tr>\n",
       "      <td>2018-01-01</td>\n",
       "      <td>5.77</td>\n",
       "      <td>5.86</td>\n",
       "      <td>6</td>\n",
       "      <td>6.98</td>\n",
       "      <td>7.03</td>\n",
       "      <td></td>\n",
       "      <td></td>\n",
       "      <td></td>\n",
       "      <td></td>\n",
       "      <td></td>\n",
       "      <td></td>\n",
       "      <td></td>\n",
       "    </tr>\n",
       "    <tr>\n",
       "      <td>2018-02-01</td>\n",
       "      <td>4.69</td>\n",
       "      <td>5.69</td>\n",
       "      <td>5.75</td>\n",
       "      <td>6.12</td>\n",
       "      <td></td>\n",
       "      <td></td>\n",
       "      <td></td>\n",
       "      <td></td>\n",
       "      <td></td>\n",
       "      <td></td>\n",
       "      <td></td>\n",
       "      <td></td>\n",
       "    </tr>\n",
       "    <tr>\n",
       "      <td>2018-03-01</td>\n",
       "      <td>9.34</td>\n",
       "      <td>11.28</td>\n",
       "      <td>12.07</td>\n",
       "      <td></td>\n",
       "      <td></td>\n",
       "      <td></td>\n",
       "      <td></td>\n",
       "      <td></td>\n",
       "      <td></td>\n",
       "      <td></td>\n",
       "      <td></td>\n",
       "      <td></td>\n",
       "    </tr>\n",
       "    <tr>\n",
       "      <td>2018-04-01</td>\n",
       "      <td>4.70</td>\n",
       "      <td>4.97</td>\n",
       "      <td></td>\n",
       "      <td></td>\n",
       "      <td></td>\n",
       "      <td></td>\n",
       "      <td></td>\n",
       "      <td></td>\n",
       "      <td></td>\n",
       "      <td></td>\n",
       "      <td></td>\n",
       "      <td></td>\n",
       "    </tr>\n",
       "    <tr>\n",
       "      <td>2018-05-01</td>\n",
       "      <td>5.22</td>\n",
       "      <td></td>\n",
       "      <td></td>\n",
       "      <td></td>\n",
       "      <td></td>\n",
       "      <td></td>\n",
       "      <td></td>\n",
       "      <td></td>\n",
       "      <td></td>\n",
       "      <td></td>\n",
       "      <td></td>\n",
       "      <td></td>\n",
       "    </tr>\n",
       "  </tbody>\n",
       "</table>\n",
       "</div>"
      ],
      "text/plain": [
       "age_month          0.0    1.0    2.0    3.0    4.0    5.0    6.0    7.0   \\\n",
       "first_order_month                                                          \n",
       "2017-06-01         7.26   9.44  11.65  15.41  19.68  21.73  24.31  26.83   \n",
       "2017-07-01         7.29   8.39  13.74  15.25  16.13  17.03  17.47  18.12   \n",
       "2017-08-01         7.49   8.69    9.7  10.67   11.7  12.37  13.05  15.71   \n",
       "2017-09-01         6.01   7.82   8.38    9.3   9.34   9.43   9.52   9.83   \n",
       "2017-10-01         6.02   7.07   7.32   7.71   7.77   7.88   8.06   8.38   \n",
       "2017-11-01         7.39   7.96   8.93   9.82   9.99  10.09  10.17          \n",
       "2017-12-01         4.58    4.9   5.18   5.43   5.46   5.55                 \n",
       "2018-01-01         5.77   5.86      6   6.98   7.03                        \n",
       "2018-02-01         4.69   5.69   5.75   6.12                               \n",
       "2018-03-01         9.34  11.28  12.07                                      \n",
       "2018-04-01         4.70   4.97                                             \n",
       "2018-05-01         5.22                                                    \n",
       "\n",
       "age_month           8.0    9.0    10.0   11.0  \n",
       "first_order_month                              \n",
       "2017-06-01          29.1  30.77  31.97  33.64  \n",
       "2017-07-01         18.98  19.96  20.89         \n",
       "2017-08-01          17.9  18.68                \n",
       "2017-09-01         10.42                       \n",
       "2017-10-01                                     \n",
       "2017-11-01                                     \n",
       "2017-12-01                                     \n",
       "2018-01-01                                     \n",
       "2018-02-01                                     \n",
       "2018-03-01                                     \n",
       "2018-04-01                                     \n",
       "2018-05-01                                     "
      ]
     },
     "execution_count": 77,
     "metadata": {},
     "output_type": "execute_result"
    }
   ],
   "source": [
    "# теперь показываем накопительную выручку на покупателя\n",
    "cohorts_report_ltv1 = cohorts_ltv1.pivot_table(index='first_order_month', columns = 'age_month', values='revenue_per_buyer', aggfunc='sum').cumsum(axis=1)\n",
    "cohorts_report_ltv1.round(2).fillna('')"
   ]
  },
  {
   "cell_type": "code",
   "execution_count": 78,
   "metadata": {},
   "outputs": [],
   "source": [
    "cac1 = cac.query('source_id == 1')"
   ]
  },
  {
   "cell_type": "code",
   "execution_count": 79,
   "metadata": {},
   "outputs": [
    {
     "data": {
      "text/html": [
       "<div>\n",
       "<style scoped>\n",
       "    .dataframe tbody tr th:only-of-type {\n",
       "        vertical-align: middle;\n",
       "    }\n",
       "\n",
       "    .dataframe tbody tr th {\n",
       "        vertical-align: top;\n",
       "    }\n",
       "\n",
       "    .dataframe thead th {\n",
       "        text-align: right;\n",
       "    }\n",
       "</style>\n",
       "<table border=\"1\" class=\"dataframe\">\n",
       "  <thead>\n",
       "    <tr style=\"text-align: right;\">\n",
       "      <th></th>\n",
       "      <th>month</th>\n",
       "      <th>source_id</th>\n",
       "      <th>costs</th>\n",
       "      <th>n_buyers</th>\n",
       "      <th>cac</th>\n",
       "    </tr>\n",
       "  </thead>\n",
       "  <tbody>\n",
       "    <tr>\n",
       "      <td>0</td>\n",
       "      <td>2017-06-01</td>\n",
       "      <td>1</td>\n",
       "      <td>1125.61</td>\n",
       "      <td>401</td>\n",
       "      <td>2.81</td>\n",
       "    </tr>\n",
       "    <tr>\n",
       "      <td>7</td>\n",
       "      <td>2017-07-01</td>\n",
       "      <td>1</td>\n",
       "      <td>1072.88</td>\n",
       "      <td>400</td>\n",
       "      <td>2.68</td>\n",
       "    </tr>\n",
       "    <tr>\n",
       "      <td>14</td>\n",
       "      <td>2017-08-01</td>\n",
       "      <td>1</td>\n",
       "      <td>951.81</td>\n",
       "      <td>288</td>\n",
       "      <td>3.30</td>\n",
       "    </tr>\n",
       "    <tr>\n",
       "      <td>21</td>\n",
       "      <td>2017-09-01</td>\n",
       "      <td>1</td>\n",
       "      <td>1502.01</td>\n",
       "      <td>526</td>\n",
       "      <td>2.86</td>\n",
       "    </tr>\n",
       "    <tr>\n",
       "      <td>28</td>\n",
       "      <td>2017-10-01</td>\n",
       "      <td>1</td>\n",
       "      <td>2315.75</td>\n",
       "      <td>833</td>\n",
       "      <td>2.78</td>\n",
       "    </tr>\n",
       "    <tr>\n",
       "      <td>35</td>\n",
       "      <td>2017-11-01</td>\n",
       "      <td>1</td>\n",
       "      <td>2445.16</td>\n",
       "      <td>944</td>\n",
       "      <td>2.59</td>\n",
       "    </tr>\n",
       "    <tr>\n",
       "      <td>42</td>\n",
       "      <td>2017-12-01</td>\n",
       "      <td>1</td>\n",
       "      <td>2341.20</td>\n",
       "      <td>903</td>\n",
       "      <td>2.59</td>\n",
       "    </tr>\n",
       "    <tr>\n",
       "      <td>49</td>\n",
       "      <td>2018-01-01</td>\n",
       "      <td>1</td>\n",
       "      <td>2186.18</td>\n",
       "      <td>638</td>\n",
       "      <td>3.43</td>\n",
       "    </tr>\n",
       "    <tr>\n",
       "      <td>56</td>\n",
       "      <td>2018-02-01</td>\n",
       "      <td>1</td>\n",
       "      <td>2204.48</td>\n",
       "      <td>646</td>\n",
       "      <td>3.41</td>\n",
       "    </tr>\n",
       "    <tr>\n",
       "      <td>63</td>\n",
       "      <td>2018-03-01</td>\n",
       "      <td>1</td>\n",
       "      <td>1893.09</td>\n",
       "      <td>676</td>\n",
       "      <td>2.80</td>\n",
       "    </tr>\n",
       "    <tr>\n",
       "      <td>70</td>\n",
       "      <td>2018-04-01</td>\n",
       "      <td>1</td>\n",
       "      <td>1327.49</td>\n",
       "      <td>391</td>\n",
       "      <td>3.40</td>\n",
       "    </tr>\n",
       "    <tr>\n",
       "      <td>77</td>\n",
       "      <td>2018-05-01</td>\n",
       "      <td>1</td>\n",
       "      <td>1467.61</td>\n",
       "      <td>492</td>\n",
       "      <td>2.98</td>\n",
       "    </tr>\n",
       "  </tbody>\n",
       "</table>\n",
       "</div>"
      ],
      "text/plain": [
       "        month  source_id    costs  n_buyers   cac\n",
       "0  2017-06-01          1  1125.61       401  2.81\n",
       "7  2017-07-01          1  1072.88       400  2.68\n",
       "14 2017-08-01          1   951.81       288  3.30\n",
       "21 2017-09-01          1  1502.01       526  2.86\n",
       "28 2017-10-01          1  2315.75       833  2.78\n",
       "35 2017-11-01          1  2445.16       944  2.59\n",
       "42 2017-12-01          1  2341.20       903  2.59\n",
       "49 2018-01-01          1  2186.18       638  3.43\n",
       "56 2018-02-01          1  2204.48       646  3.41\n",
       "63 2018-03-01          1  1893.09       676  2.80\n",
       "70 2018-04-01          1  1327.49       391  3.40\n",
       "77 2018-05-01          1  1467.61       492  2.98"
      ]
     },
     "execution_count": 79,
     "metadata": {},
     "output_type": "execute_result"
    }
   ],
   "source": [
    "cac1"
   ]
  },
  {
   "cell_type": "code",
   "execution_count": 80,
   "metadata": {},
   "outputs": [],
   "source": [
    "cac1 = cac1.drop(columns=['source_id','costs','n_buyers'])"
   ]
  },
  {
   "cell_type": "code",
   "execution_count": 81,
   "metadata": {},
   "outputs": [
    {
     "data": {
      "text/html": [
       "<div>\n",
       "<style scoped>\n",
       "    .dataframe tbody tr th:only-of-type {\n",
       "        vertical-align: middle;\n",
       "    }\n",
       "\n",
       "    .dataframe tbody tr th {\n",
       "        vertical-align: top;\n",
       "    }\n",
       "\n",
       "    .dataframe thead th {\n",
       "        text-align: right;\n",
       "    }\n",
       "</style>\n",
       "<table border=\"1\" class=\"dataframe\">\n",
       "  <thead>\n",
       "    <tr style=\"text-align: right;\">\n",
       "      <th></th>\n",
       "      <th>month</th>\n",
       "      <th>cac</th>\n",
       "    </tr>\n",
       "  </thead>\n",
       "  <tbody>\n",
       "    <tr>\n",
       "      <td>0</td>\n",
       "      <td>2017-06-01</td>\n",
       "      <td>2.81</td>\n",
       "    </tr>\n",
       "    <tr>\n",
       "      <td>7</td>\n",
       "      <td>2017-07-01</td>\n",
       "      <td>2.68</td>\n",
       "    </tr>\n",
       "    <tr>\n",
       "      <td>14</td>\n",
       "      <td>2017-08-01</td>\n",
       "      <td>3.30</td>\n",
       "    </tr>\n",
       "    <tr>\n",
       "      <td>21</td>\n",
       "      <td>2017-09-01</td>\n",
       "      <td>2.86</td>\n",
       "    </tr>\n",
       "    <tr>\n",
       "      <td>28</td>\n",
       "      <td>2017-10-01</td>\n",
       "      <td>2.78</td>\n",
       "    </tr>\n",
       "    <tr>\n",
       "      <td>35</td>\n",
       "      <td>2017-11-01</td>\n",
       "      <td>2.59</td>\n",
       "    </tr>\n",
       "    <tr>\n",
       "      <td>42</td>\n",
       "      <td>2017-12-01</td>\n",
       "      <td>2.59</td>\n",
       "    </tr>\n",
       "    <tr>\n",
       "      <td>49</td>\n",
       "      <td>2018-01-01</td>\n",
       "      <td>3.43</td>\n",
       "    </tr>\n",
       "    <tr>\n",
       "      <td>56</td>\n",
       "      <td>2018-02-01</td>\n",
       "      <td>3.41</td>\n",
       "    </tr>\n",
       "    <tr>\n",
       "      <td>63</td>\n",
       "      <td>2018-03-01</td>\n",
       "      <td>2.80</td>\n",
       "    </tr>\n",
       "    <tr>\n",
       "      <td>70</td>\n",
       "      <td>2018-04-01</td>\n",
       "      <td>3.40</td>\n",
       "    </tr>\n",
       "    <tr>\n",
       "      <td>77</td>\n",
       "      <td>2018-05-01</td>\n",
       "      <td>2.98</td>\n",
       "    </tr>\n",
       "  </tbody>\n",
       "</table>\n",
       "</div>"
      ],
      "text/plain": [
       "        month   cac\n",
       "0  2017-06-01  2.81\n",
       "7  2017-07-01  2.68\n",
       "14 2017-08-01  3.30\n",
       "21 2017-09-01  2.86\n",
       "28 2017-10-01  2.78\n",
       "35 2017-11-01  2.59\n",
       "42 2017-12-01  2.59\n",
       "49 2018-01-01  3.43\n",
       "56 2018-02-01  3.41\n",
       "63 2018-03-01  2.80\n",
       "70 2018-04-01  3.40\n",
       "77 2018-05-01  2.98"
      ]
     },
     "execution_count": 81,
     "metadata": {},
     "output_type": "execute_result"
    }
   ],
   "source": [
    "cac1"
   ]
  },
  {
   "cell_type": "code",
   "execution_count": 82,
   "metadata": {},
   "outputs": [],
   "source": [
    "cac1.rename(columns={'month':'first_order_month'}, inplace=True)"
   ]
  },
  {
   "cell_type": "code",
   "execution_count": 83,
   "metadata": {},
   "outputs": [],
   "source": [
    "romi1 = pd.merge(cohorts_ltv1, cac1, on='first_order_month')"
   ]
  },
  {
   "cell_type": "code",
   "execution_count": 84,
   "metadata": {},
   "outputs": [
    {
     "data": {
      "text/html": [
       "<div>\n",
       "<style scoped>\n",
       "    .dataframe tbody tr th:only-of-type {\n",
       "        vertical-align: middle;\n",
       "    }\n",
       "\n",
       "    .dataframe tbody tr th {\n",
       "        vertical-align: top;\n",
       "    }\n",
       "\n",
       "    .dataframe thead th {\n",
       "        text-align: right;\n",
       "    }\n",
       "</style>\n",
       "<table border=\"1\" class=\"dataframe\">\n",
       "  <thead>\n",
       "    <tr style=\"text-align: right;\">\n",
       "      <th></th>\n",
       "      <th>first_order_month</th>\n",
       "      <th>n_buyers</th>\n",
       "      <th>uid</th>\n",
       "      <th>device</th>\n",
       "      <th>end_ts</th>\n",
       "      <th>source_id</th>\n",
       "      <th>start_ts</th>\n",
       "      <th>session_year</th>\n",
       "      <th>session_month</th>\n",
       "      <th>session_week</th>\n",
       "      <th>session_date</th>\n",
       "      <th>ses_dur_sec</th>\n",
       "      <th>buy_ts</th>\n",
       "      <th>revenue</th>\n",
       "      <th>order_month</th>\n",
       "      <th>first_order_time</th>\n",
       "      <th>age_month</th>\n",
       "      <th>revenue_per_buyer</th>\n",
       "      <th>cac</th>\n",
       "    </tr>\n",
       "  </thead>\n",
       "  <tbody>\n",
       "    <tr>\n",
       "      <td>0</td>\n",
       "      <td>2017-06-01</td>\n",
       "      <td>190</td>\n",
       "      <td>143427074811278640</td>\n",
       "      <td>desktop</td>\n",
       "      <td>2017-06-20 16:24:00</td>\n",
       "      <td>1</td>\n",
       "      <td>2017-06-20 16:03:00</td>\n",
       "      <td>2017</td>\n",
       "      <td>2017-06-01</td>\n",
       "      <td>2017-06-15</td>\n",
       "      <td>2017-06-20</td>\n",
       "      <td>1260</td>\n",
       "      <td>2017-06-20</td>\n",
       "      <td>2.44</td>\n",
       "      <td>2017-06-01</td>\n",
       "      <td>2017-06-20</td>\n",
       "      <td>0.0</td>\n",
       "      <td>0.012842</td>\n",
       "      <td>2.81</td>\n",
       "    </tr>\n",
       "    <tr>\n",
       "      <td>1</td>\n",
       "      <td>2017-06-01</td>\n",
       "      <td>190</td>\n",
       "      <td>143427074811278640</td>\n",
       "      <td>desktop</td>\n",
       "      <td>2017-06-20 16:24:00</td>\n",
       "      <td>1</td>\n",
       "      <td>2017-06-20 16:03:00</td>\n",
       "      <td>2017</td>\n",
       "      <td>2017-06-01</td>\n",
       "      <td>2017-06-15</td>\n",
       "      <td>2017-06-20</td>\n",
       "      <td>1260</td>\n",
       "      <td>2017-09-20</td>\n",
       "      <td>6.11</td>\n",
       "      <td>2017-09-01</td>\n",
       "      <td>2017-06-20</td>\n",
       "      <td>3.0</td>\n",
       "      <td>0.032158</td>\n",
       "      <td>2.81</td>\n",
       "    </tr>\n",
       "    <tr>\n",
       "      <td>2</td>\n",
       "      <td>2017-06-01</td>\n",
       "      <td>190</td>\n",
       "      <td>148401564840028266</td>\n",
       "      <td>desktop</td>\n",
       "      <td>2017-06-05 19:51:00</td>\n",
       "      <td>1</td>\n",
       "      <td>2017-06-05 19:18:00</td>\n",
       "      <td>2017</td>\n",
       "      <td>2017-06-01</td>\n",
       "      <td>2017-06-01</td>\n",
       "      <td>2017-06-05</td>\n",
       "      <td>1980</td>\n",
       "      <td>2017-06-05</td>\n",
       "      <td>9.90</td>\n",
       "      <td>2017-06-01</td>\n",
       "      <td>2017-06-05</td>\n",
       "      <td>0.0</td>\n",
       "      <td>0.052105</td>\n",
       "      <td>2.81</td>\n",
       "    </tr>\n",
       "    <tr>\n",
       "      <td>3</td>\n",
       "      <td>2017-06-01</td>\n",
       "      <td>190</td>\n",
       "      <td>201308712819916034</td>\n",
       "      <td>desktop</td>\n",
       "      <td>2017-06-14 16:23:00</td>\n",
       "      <td>1</td>\n",
       "      <td>2017-06-14 16:12:00</td>\n",
       "      <td>2017</td>\n",
       "      <td>2017-06-01</td>\n",
       "      <td>2017-06-08</td>\n",
       "      <td>2017-06-14</td>\n",
       "      <td>660</td>\n",
       "      <td>2017-06-14</td>\n",
       "      <td>1.83</td>\n",
       "      <td>2017-06-01</td>\n",
       "      <td>2017-06-14</td>\n",
       "      <td>0.0</td>\n",
       "      <td>0.009632</td>\n",
       "      <td>2.81</td>\n",
       "    </tr>\n",
       "    <tr>\n",
       "      <td>4</td>\n",
       "      <td>2017-06-01</td>\n",
       "      <td>190</td>\n",
       "      <td>409262394337119652</td>\n",
       "      <td>desktop</td>\n",
       "      <td>2017-06-14 13:03:00</td>\n",
       "      <td>1</td>\n",
       "      <td>2017-06-14 13:02:00</td>\n",
       "      <td>2017</td>\n",
       "      <td>2017-06-01</td>\n",
       "      <td>2017-06-08</td>\n",
       "      <td>2017-06-14</td>\n",
       "      <td>60</td>\n",
       "      <td>2017-06-14</td>\n",
       "      <td>2.14</td>\n",
       "      <td>2017-06-01</td>\n",
       "      <td>2017-06-14</td>\n",
       "      <td>0.0</td>\n",
       "      <td>0.011263</td>\n",
       "      <td>2.81</td>\n",
       "    </tr>\n",
       "    <tr>\n",
       "      <td>...</td>\n",
       "      <td>...</td>\n",
       "      <td>...</td>\n",
       "      <td>...</td>\n",
       "      <td>...</td>\n",
       "      <td>...</td>\n",
       "      <td>...</td>\n",
       "      <td>...</td>\n",
       "      <td>...</td>\n",
       "      <td>...</td>\n",
       "      <td>...</td>\n",
       "      <td>...</td>\n",
       "      <td>...</td>\n",
       "      <td>...</td>\n",
       "      <td>...</td>\n",
       "      <td>...</td>\n",
       "      <td>...</td>\n",
       "      <td>...</td>\n",
       "      <td>...</td>\n",
       "      <td>...</td>\n",
       "    </tr>\n",
       "    <tr>\n",
       "      <td>5218</td>\n",
       "      <td>2018-05-01</td>\n",
       "      <td>241</td>\n",
       "      <td>17997491778171731375</td>\n",
       "      <td>desktop</td>\n",
       "      <td>2018-05-12 14:14:00</td>\n",
       "      <td>1</td>\n",
       "      <td>2018-05-12 14:14:00</td>\n",
       "      <td>2018</td>\n",
       "      <td>2018-05-01</td>\n",
       "      <td>2018-05-10</td>\n",
       "      <td>2018-05-12</td>\n",
       "      <td>0</td>\n",
       "      <td>2018-05-12</td>\n",
       "      <td>3.42</td>\n",
       "      <td>2018-05-01</td>\n",
       "      <td>2018-05-12</td>\n",
       "      <td>0.0</td>\n",
       "      <td>0.014191</td>\n",
       "      <td>2.98</td>\n",
       "    </tr>\n",
       "    <tr>\n",
       "      <td>5219</td>\n",
       "      <td>2018-05-01</td>\n",
       "      <td>241</td>\n",
       "      <td>18220171840130521054</td>\n",
       "      <td>desktop</td>\n",
       "      <td>2018-05-19 10:42:00</td>\n",
       "      <td>1</td>\n",
       "      <td>2018-05-19 10:38:00</td>\n",
       "      <td>2018</td>\n",
       "      <td>2018-05-01</td>\n",
       "      <td>2018-05-17</td>\n",
       "      <td>2018-05-19</td>\n",
       "      <td>240</td>\n",
       "      <td>2018-05-19</td>\n",
       "      <td>0.37</td>\n",
       "      <td>2018-05-01</td>\n",
       "      <td>2018-05-19</td>\n",
       "      <td>0.0</td>\n",
       "      <td>0.001535</td>\n",
       "      <td>2.98</td>\n",
       "    </tr>\n",
       "    <tr>\n",
       "      <td>5220</td>\n",
       "      <td>2018-05-01</td>\n",
       "      <td>241</td>\n",
       "      <td>18220171840130521054</td>\n",
       "      <td>desktop</td>\n",
       "      <td>2018-05-19 10:42:00</td>\n",
       "      <td>1</td>\n",
       "      <td>2018-05-19 10:38:00</td>\n",
       "      <td>2018</td>\n",
       "      <td>2018-05-01</td>\n",
       "      <td>2018-05-17</td>\n",
       "      <td>2018-05-19</td>\n",
       "      <td>240</td>\n",
       "      <td>2018-05-19</td>\n",
       "      <td>0.37</td>\n",
       "      <td>2018-05-01</td>\n",
       "      <td>2018-05-19</td>\n",
       "      <td>0.0</td>\n",
       "      <td>0.001535</td>\n",
       "      <td>2.98</td>\n",
       "    </tr>\n",
       "    <tr>\n",
       "      <td>5221</td>\n",
       "      <td>2018-05-01</td>\n",
       "      <td>241</td>\n",
       "      <td>18380686934038836742</td>\n",
       "      <td>touch</td>\n",
       "      <td>2018-05-17 21:04:00</td>\n",
       "      <td>1</td>\n",
       "      <td>2018-05-17 21:00:00</td>\n",
       "      <td>2018</td>\n",
       "      <td>2018-05-01</td>\n",
       "      <td>2018-05-17</td>\n",
       "      <td>2018-05-17</td>\n",
       "      <td>240</td>\n",
       "      <td>2018-05-17</td>\n",
       "      <td>0.92</td>\n",
       "      <td>2018-05-01</td>\n",
       "      <td>2018-05-17</td>\n",
       "      <td>0.0</td>\n",
       "      <td>0.003817</td>\n",
       "      <td>2.98</td>\n",
       "    </tr>\n",
       "    <tr>\n",
       "      <td>5222</td>\n",
       "      <td>2018-05-01</td>\n",
       "      <td>241</td>\n",
       "      <td>18397039008941125340</td>\n",
       "      <td>desktop</td>\n",
       "      <td>2018-05-18 16:23:00</td>\n",
       "      <td>1</td>\n",
       "      <td>2018-05-18 16:21:00</td>\n",
       "      <td>2018</td>\n",
       "      <td>2018-05-01</td>\n",
       "      <td>2018-05-17</td>\n",
       "      <td>2018-05-18</td>\n",
       "      <td>120</td>\n",
       "      <td>2018-05-18</td>\n",
       "      <td>2.44</td>\n",
       "      <td>2018-05-01</td>\n",
       "      <td>2018-05-18</td>\n",
       "      <td>0.0</td>\n",
       "      <td>0.010124</td>\n",
       "      <td>2.98</td>\n",
       "    </tr>\n",
       "  </tbody>\n",
       "</table>\n",
       "<p>5223 rows × 19 columns</p>\n",
       "</div>"
      ],
      "text/plain": [
       "     first_order_month  n_buyers                   uid   device  \\\n",
       "0           2017-06-01       190    143427074811278640  desktop   \n",
       "1           2017-06-01       190    143427074811278640  desktop   \n",
       "2           2017-06-01       190    148401564840028266  desktop   \n",
       "3           2017-06-01       190    201308712819916034  desktop   \n",
       "4           2017-06-01       190    409262394337119652  desktop   \n",
       "...                ...       ...                   ...      ...   \n",
       "5218        2018-05-01       241  17997491778171731375  desktop   \n",
       "5219        2018-05-01       241  18220171840130521054  desktop   \n",
       "5220        2018-05-01       241  18220171840130521054  desktop   \n",
       "5221        2018-05-01       241  18380686934038836742    touch   \n",
       "5222        2018-05-01       241  18397039008941125340  desktop   \n",
       "\n",
       "                  end_ts  source_id            start_ts  session_year  \\\n",
       "0    2017-06-20 16:24:00          1 2017-06-20 16:03:00          2017   \n",
       "1    2017-06-20 16:24:00          1 2017-06-20 16:03:00          2017   \n",
       "2    2017-06-05 19:51:00          1 2017-06-05 19:18:00          2017   \n",
       "3    2017-06-14 16:23:00          1 2017-06-14 16:12:00          2017   \n",
       "4    2017-06-14 13:03:00          1 2017-06-14 13:02:00          2017   \n",
       "...                  ...        ...                 ...           ...   \n",
       "5218 2018-05-12 14:14:00          1 2018-05-12 14:14:00          2018   \n",
       "5219 2018-05-19 10:42:00          1 2018-05-19 10:38:00          2018   \n",
       "5220 2018-05-19 10:42:00          1 2018-05-19 10:38:00          2018   \n",
       "5221 2018-05-17 21:04:00          1 2018-05-17 21:00:00          2018   \n",
       "5222 2018-05-18 16:23:00          1 2018-05-18 16:21:00          2018   \n",
       "\n",
       "     session_month session_week session_date  ses_dur_sec      buy_ts  \\\n",
       "0       2017-06-01   2017-06-15   2017-06-20         1260  2017-06-20   \n",
       "1       2017-06-01   2017-06-15   2017-06-20         1260  2017-09-20   \n",
       "2       2017-06-01   2017-06-01   2017-06-05         1980  2017-06-05   \n",
       "3       2017-06-01   2017-06-08   2017-06-14          660  2017-06-14   \n",
       "4       2017-06-01   2017-06-08   2017-06-14           60  2017-06-14   \n",
       "...            ...          ...          ...          ...         ...   \n",
       "5218    2018-05-01   2018-05-10   2018-05-12            0  2018-05-12   \n",
       "5219    2018-05-01   2018-05-17   2018-05-19          240  2018-05-19   \n",
       "5220    2018-05-01   2018-05-17   2018-05-19          240  2018-05-19   \n",
       "5221    2018-05-01   2018-05-17   2018-05-17          240  2018-05-17   \n",
       "5222    2018-05-01   2018-05-17   2018-05-18          120  2018-05-18   \n",
       "\n",
       "      revenue order_month first_order_time  age_month  revenue_per_buyer   cac  \n",
       "0        2.44  2017-06-01       2017-06-20        0.0           0.012842  2.81  \n",
       "1        6.11  2017-09-01       2017-06-20        3.0           0.032158  2.81  \n",
       "2        9.90  2017-06-01       2017-06-05        0.0           0.052105  2.81  \n",
       "3        1.83  2017-06-01       2017-06-14        0.0           0.009632  2.81  \n",
       "4        2.14  2017-06-01       2017-06-14        0.0           0.011263  2.81  \n",
       "...       ...         ...              ...        ...                ...   ...  \n",
       "5218     3.42  2018-05-01       2018-05-12        0.0           0.014191  2.98  \n",
       "5219     0.37  2018-05-01       2018-05-19        0.0           0.001535  2.98  \n",
       "5220     0.37  2018-05-01       2018-05-19        0.0           0.001535  2.98  \n",
       "5221     0.92  2018-05-01       2018-05-17        0.0           0.003817  2.98  \n",
       "5222     2.44  2018-05-01       2018-05-18        0.0           0.010124  2.98  \n",
       "\n",
       "[5223 rows x 19 columns]"
      ]
     },
     "execution_count": 84,
     "metadata": {},
     "output_type": "execute_result"
    }
   ],
   "source": [
    "romi1"
   ]
  },
  {
   "cell_type": "code",
   "execution_count": 85,
   "metadata": {},
   "outputs": [],
   "source": [
    "romi1['romi'] = romi1['revenue_per_buyer'] / romi1['cac']"
   ]
  },
  {
   "cell_type": "code",
   "execution_count": 86,
   "metadata": {},
   "outputs": [
    {
     "data": {
      "text/html": [
       "<div>\n",
       "<style scoped>\n",
       "    .dataframe tbody tr th:only-of-type {\n",
       "        vertical-align: middle;\n",
       "    }\n",
       "\n",
       "    .dataframe tbody tr th {\n",
       "        vertical-align: top;\n",
       "    }\n",
       "\n",
       "    .dataframe thead th {\n",
       "        text-align: right;\n",
       "    }\n",
       "</style>\n",
       "<table border=\"1\" class=\"dataframe\">\n",
       "  <thead>\n",
       "    <tr style=\"text-align: right;\">\n",
       "      <th></th>\n",
       "      <th>first_order_month</th>\n",
       "      <th>n_buyers</th>\n",
       "      <th>uid</th>\n",
       "      <th>device</th>\n",
       "      <th>end_ts</th>\n",
       "      <th>source_id</th>\n",
       "      <th>start_ts</th>\n",
       "      <th>session_year</th>\n",
       "      <th>session_month</th>\n",
       "      <th>session_week</th>\n",
       "      <th>session_date</th>\n",
       "      <th>ses_dur_sec</th>\n",
       "      <th>buy_ts</th>\n",
       "      <th>revenue</th>\n",
       "      <th>order_month</th>\n",
       "      <th>first_order_time</th>\n",
       "      <th>age_month</th>\n",
       "      <th>revenue_per_buyer</th>\n",
       "      <th>cac</th>\n",
       "      <th>romi</th>\n",
       "    </tr>\n",
       "  </thead>\n",
       "  <tbody>\n",
       "    <tr>\n",
       "      <td>0</td>\n",
       "      <td>2017-06-01</td>\n",
       "      <td>190</td>\n",
       "      <td>143427074811278640</td>\n",
       "      <td>desktop</td>\n",
       "      <td>2017-06-20 16:24:00</td>\n",
       "      <td>1</td>\n",
       "      <td>2017-06-20 16:03:00</td>\n",
       "      <td>2017</td>\n",
       "      <td>2017-06-01</td>\n",
       "      <td>2017-06-15</td>\n",
       "      <td>2017-06-20</td>\n",
       "      <td>1260</td>\n",
       "      <td>2017-06-20</td>\n",
       "      <td>2.44</td>\n",
       "      <td>2017-06-01</td>\n",
       "      <td>2017-06-20</td>\n",
       "      <td>0.0</td>\n",
       "      <td>0.012842</td>\n",
       "      <td>2.81</td>\n",
       "      <td>0.004570</td>\n",
       "    </tr>\n",
       "    <tr>\n",
       "      <td>1</td>\n",
       "      <td>2017-06-01</td>\n",
       "      <td>190</td>\n",
       "      <td>143427074811278640</td>\n",
       "      <td>desktop</td>\n",
       "      <td>2017-06-20 16:24:00</td>\n",
       "      <td>1</td>\n",
       "      <td>2017-06-20 16:03:00</td>\n",
       "      <td>2017</td>\n",
       "      <td>2017-06-01</td>\n",
       "      <td>2017-06-15</td>\n",
       "      <td>2017-06-20</td>\n",
       "      <td>1260</td>\n",
       "      <td>2017-09-20</td>\n",
       "      <td>6.11</td>\n",
       "      <td>2017-09-01</td>\n",
       "      <td>2017-06-20</td>\n",
       "      <td>3.0</td>\n",
       "      <td>0.032158</td>\n",
       "      <td>2.81</td>\n",
       "      <td>0.011444</td>\n",
       "    </tr>\n",
       "    <tr>\n",
       "      <td>2</td>\n",
       "      <td>2017-06-01</td>\n",
       "      <td>190</td>\n",
       "      <td>148401564840028266</td>\n",
       "      <td>desktop</td>\n",
       "      <td>2017-06-05 19:51:00</td>\n",
       "      <td>1</td>\n",
       "      <td>2017-06-05 19:18:00</td>\n",
       "      <td>2017</td>\n",
       "      <td>2017-06-01</td>\n",
       "      <td>2017-06-01</td>\n",
       "      <td>2017-06-05</td>\n",
       "      <td>1980</td>\n",
       "      <td>2017-06-05</td>\n",
       "      <td>9.90</td>\n",
       "      <td>2017-06-01</td>\n",
       "      <td>2017-06-05</td>\n",
       "      <td>0.0</td>\n",
       "      <td>0.052105</td>\n",
       "      <td>2.81</td>\n",
       "      <td>0.018543</td>\n",
       "    </tr>\n",
       "    <tr>\n",
       "      <td>3</td>\n",
       "      <td>2017-06-01</td>\n",
       "      <td>190</td>\n",
       "      <td>201308712819916034</td>\n",
       "      <td>desktop</td>\n",
       "      <td>2017-06-14 16:23:00</td>\n",
       "      <td>1</td>\n",
       "      <td>2017-06-14 16:12:00</td>\n",
       "      <td>2017</td>\n",
       "      <td>2017-06-01</td>\n",
       "      <td>2017-06-08</td>\n",
       "      <td>2017-06-14</td>\n",
       "      <td>660</td>\n",
       "      <td>2017-06-14</td>\n",
       "      <td>1.83</td>\n",
       "      <td>2017-06-01</td>\n",
       "      <td>2017-06-14</td>\n",
       "      <td>0.0</td>\n",
       "      <td>0.009632</td>\n",
       "      <td>2.81</td>\n",
       "      <td>0.003428</td>\n",
       "    </tr>\n",
       "    <tr>\n",
       "      <td>4</td>\n",
       "      <td>2017-06-01</td>\n",
       "      <td>190</td>\n",
       "      <td>409262394337119652</td>\n",
       "      <td>desktop</td>\n",
       "      <td>2017-06-14 13:03:00</td>\n",
       "      <td>1</td>\n",
       "      <td>2017-06-14 13:02:00</td>\n",
       "      <td>2017</td>\n",
       "      <td>2017-06-01</td>\n",
       "      <td>2017-06-08</td>\n",
       "      <td>2017-06-14</td>\n",
       "      <td>60</td>\n",
       "      <td>2017-06-14</td>\n",
       "      <td>2.14</td>\n",
       "      <td>2017-06-01</td>\n",
       "      <td>2017-06-14</td>\n",
       "      <td>0.0</td>\n",
       "      <td>0.011263</td>\n",
       "      <td>2.81</td>\n",
       "      <td>0.004008</td>\n",
       "    </tr>\n",
       "    <tr>\n",
       "      <td>...</td>\n",
       "      <td>...</td>\n",
       "      <td>...</td>\n",
       "      <td>...</td>\n",
       "      <td>...</td>\n",
       "      <td>...</td>\n",
       "      <td>...</td>\n",
       "      <td>...</td>\n",
       "      <td>...</td>\n",
       "      <td>...</td>\n",
       "      <td>...</td>\n",
       "      <td>...</td>\n",
       "      <td>...</td>\n",
       "      <td>...</td>\n",
       "      <td>...</td>\n",
       "      <td>...</td>\n",
       "      <td>...</td>\n",
       "      <td>...</td>\n",
       "      <td>...</td>\n",
       "      <td>...</td>\n",
       "      <td>...</td>\n",
       "    </tr>\n",
       "    <tr>\n",
       "      <td>5218</td>\n",
       "      <td>2018-05-01</td>\n",
       "      <td>241</td>\n",
       "      <td>17997491778171731375</td>\n",
       "      <td>desktop</td>\n",
       "      <td>2018-05-12 14:14:00</td>\n",
       "      <td>1</td>\n",
       "      <td>2018-05-12 14:14:00</td>\n",
       "      <td>2018</td>\n",
       "      <td>2018-05-01</td>\n",
       "      <td>2018-05-10</td>\n",
       "      <td>2018-05-12</td>\n",
       "      <td>0</td>\n",
       "      <td>2018-05-12</td>\n",
       "      <td>3.42</td>\n",
       "      <td>2018-05-01</td>\n",
       "      <td>2018-05-12</td>\n",
       "      <td>0.0</td>\n",
       "      <td>0.014191</td>\n",
       "      <td>2.98</td>\n",
       "      <td>0.004762</td>\n",
       "    </tr>\n",
       "    <tr>\n",
       "      <td>5219</td>\n",
       "      <td>2018-05-01</td>\n",
       "      <td>241</td>\n",
       "      <td>18220171840130521054</td>\n",
       "      <td>desktop</td>\n",
       "      <td>2018-05-19 10:42:00</td>\n",
       "      <td>1</td>\n",
       "      <td>2018-05-19 10:38:00</td>\n",
       "      <td>2018</td>\n",
       "      <td>2018-05-01</td>\n",
       "      <td>2018-05-17</td>\n",
       "      <td>2018-05-19</td>\n",
       "      <td>240</td>\n",
       "      <td>2018-05-19</td>\n",
       "      <td>0.37</td>\n",
       "      <td>2018-05-01</td>\n",
       "      <td>2018-05-19</td>\n",
       "      <td>0.0</td>\n",
       "      <td>0.001535</td>\n",
       "      <td>2.98</td>\n",
       "      <td>0.000515</td>\n",
       "    </tr>\n",
       "    <tr>\n",
       "      <td>5220</td>\n",
       "      <td>2018-05-01</td>\n",
       "      <td>241</td>\n",
       "      <td>18220171840130521054</td>\n",
       "      <td>desktop</td>\n",
       "      <td>2018-05-19 10:42:00</td>\n",
       "      <td>1</td>\n",
       "      <td>2018-05-19 10:38:00</td>\n",
       "      <td>2018</td>\n",
       "      <td>2018-05-01</td>\n",
       "      <td>2018-05-17</td>\n",
       "      <td>2018-05-19</td>\n",
       "      <td>240</td>\n",
       "      <td>2018-05-19</td>\n",
       "      <td>0.37</td>\n",
       "      <td>2018-05-01</td>\n",
       "      <td>2018-05-19</td>\n",
       "      <td>0.0</td>\n",
       "      <td>0.001535</td>\n",
       "      <td>2.98</td>\n",
       "      <td>0.000515</td>\n",
       "    </tr>\n",
       "    <tr>\n",
       "      <td>5221</td>\n",
       "      <td>2018-05-01</td>\n",
       "      <td>241</td>\n",
       "      <td>18380686934038836742</td>\n",
       "      <td>touch</td>\n",
       "      <td>2018-05-17 21:04:00</td>\n",
       "      <td>1</td>\n",
       "      <td>2018-05-17 21:00:00</td>\n",
       "      <td>2018</td>\n",
       "      <td>2018-05-01</td>\n",
       "      <td>2018-05-17</td>\n",
       "      <td>2018-05-17</td>\n",
       "      <td>240</td>\n",
       "      <td>2018-05-17</td>\n",
       "      <td>0.92</td>\n",
       "      <td>2018-05-01</td>\n",
       "      <td>2018-05-17</td>\n",
       "      <td>0.0</td>\n",
       "      <td>0.003817</td>\n",
       "      <td>2.98</td>\n",
       "      <td>0.001281</td>\n",
       "    </tr>\n",
       "    <tr>\n",
       "      <td>5222</td>\n",
       "      <td>2018-05-01</td>\n",
       "      <td>241</td>\n",
       "      <td>18397039008941125340</td>\n",
       "      <td>desktop</td>\n",
       "      <td>2018-05-18 16:23:00</td>\n",
       "      <td>1</td>\n",
       "      <td>2018-05-18 16:21:00</td>\n",
       "      <td>2018</td>\n",
       "      <td>2018-05-01</td>\n",
       "      <td>2018-05-17</td>\n",
       "      <td>2018-05-18</td>\n",
       "      <td>120</td>\n",
       "      <td>2018-05-18</td>\n",
       "      <td>2.44</td>\n",
       "      <td>2018-05-01</td>\n",
       "      <td>2018-05-18</td>\n",
       "      <td>0.0</td>\n",
       "      <td>0.010124</td>\n",
       "      <td>2.98</td>\n",
       "      <td>0.003397</td>\n",
       "    </tr>\n",
       "  </tbody>\n",
       "</table>\n",
       "<p>5223 rows × 20 columns</p>\n",
       "</div>"
      ],
      "text/plain": [
       "     first_order_month  n_buyers                   uid   device  \\\n",
       "0           2017-06-01       190    143427074811278640  desktop   \n",
       "1           2017-06-01       190    143427074811278640  desktop   \n",
       "2           2017-06-01       190    148401564840028266  desktop   \n",
       "3           2017-06-01       190    201308712819916034  desktop   \n",
       "4           2017-06-01       190    409262394337119652  desktop   \n",
       "...                ...       ...                   ...      ...   \n",
       "5218        2018-05-01       241  17997491778171731375  desktop   \n",
       "5219        2018-05-01       241  18220171840130521054  desktop   \n",
       "5220        2018-05-01       241  18220171840130521054  desktop   \n",
       "5221        2018-05-01       241  18380686934038836742    touch   \n",
       "5222        2018-05-01       241  18397039008941125340  desktop   \n",
       "\n",
       "                  end_ts  source_id            start_ts  session_year  \\\n",
       "0    2017-06-20 16:24:00          1 2017-06-20 16:03:00          2017   \n",
       "1    2017-06-20 16:24:00          1 2017-06-20 16:03:00          2017   \n",
       "2    2017-06-05 19:51:00          1 2017-06-05 19:18:00          2017   \n",
       "3    2017-06-14 16:23:00          1 2017-06-14 16:12:00          2017   \n",
       "4    2017-06-14 13:03:00          1 2017-06-14 13:02:00          2017   \n",
       "...                  ...        ...                 ...           ...   \n",
       "5218 2018-05-12 14:14:00          1 2018-05-12 14:14:00          2018   \n",
       "5219 2018-05-19 10:42:00          1 2018-05-19 10:38:00          2018   \n",
       "5220 2018-05-19 10:42:00          1 2018-05-19 10:38:00          2018   \n",
       "5221 2018-05-17 21:04:00          1 2018-05-17 21:00:00          2018   \n",
       "5222 2018-05-18 16:23:00          1 2018-05-18 16:21:00          2018   \n",
       "\n",
       "     session_month session_week session_date  ses_dur_sec      buy_ts  \\\n",
       "0       2017-06-01   2017-06-15   2017-06-20         1260  2017-06-20   \n",
       "1       2017-06-01   2017-06-15   2017-06-20         1260  2017-09-20   \n",
       "2       2017-06-01   2017-06-01   2017-06-05         1980  2017-06-05   \n",
       "3       2017-06-01   2017-06-08   2017-06-14          660  2017-06-14   \n",
       "4       2017-06-01   2017-06-08   2017-06-14           60  2017-06-14   \n",
       "...            ...          ...          ...          ...         ...   \n",
       "5218    2018-05-01   2018-05-10   2018-05-12            0  2018-05-12   \n",
       "5219    2018-05-01   2018-05-17   2018-05-19          240  2018-05-19   \n",
       "5220    2018-05-01   2018-05-17   2018-05-19          240  2018-05-19   \n",
       "5221    2018-05-01   2018-05-17   2018-05-17          240  2018-05-17   \n",
       "5222    2018-05-01   2018-05-17   2018-05-18          120  2018-05-18   \n",
       "\n",
       "      revenue order_month first_order_time  age_month  revenue_per_buyer  \\\n",
       "0        2.44  2017-06-01       2017-06-20        0.0           0.012842   \n",
       "1        6.11  2017-09-01       2017-06-20        3.0           0.032158   \n",
       "2        9.90  2017-06-01       2017-06-05        0.0           0.052105   \n",
       "3        1.83  2017-06-01       2017-06-14        0.0           0.009632   \n",
       "4        2.14  2017-06-01       2017-06-14        0.0           0.011263   \n",
       "...       ...         ...              ...        ...                ...   \n",
       "5218     3.42  2018-05-01       2018-05-12        0.0           0.014191   \n",
       "5219     0.37  2018-05-01       2018-05-19        0.0           0.001535   \n",
       "5220     0.37  2018-05-01       2018-05-19        0.0           0.001535   \n",
       "5221     0.92  2018-05-01       2018-05-17        0.0           0.003817   \n",
       "5222     2.44  2018-05-01       2018-05-18        0.0           0.010124   \n",
       "\n",
       "       cac      romi  \n",
       "0     2.81  0.004570  \n",
       "1     2.81  0.011444  \n",
       "2     2.81  0.018543  \n",
       "3     2.81  0.003428  \n",
       "4     2.81  0.004008  \n",
       "...    ...       ...  \n",
       "5218  2.98  0.004762  \n",
       "5219  2.98  0.000515  \n",
       "5220  2.98  0.000515  \n",
       "5221  2.98  0.001281  \n",
       "5222  2.98  0.003397  \n",
       "\n",
       "[5223 rows x 20 columns]"
      ]
     },
     "execution_count": 86,
     "metadata": {},
     "output_type": "execute_result"
    }
   ],
   "source": [
    "romi1.fillna('')"
   ]
  },
  {
   "cell_type": "code",
   "execution_count": 88,
   "metadata": {},
   "outputs": [
    {
     "data": {
      "text/html": [
       "<div>\n",
       "<style scoped>\n",
       "    .dataframe tbody tr th:only-of-type {\n",
       "        vertical-align: middle;\n",
       "    }\n",
       "\n",
       "    .dataframe tbody tr th {\n",
       "        vertical-align: top;\n",
       "    }\n",
       "\n",
       "    .dataframe thead th {\n",
       "        text-align: right;\n",
       "    }\n",
       "</style>\n",
       "<table border=\"1\" class=\"dataframe\">\n",
       "  <thead>\n",
       "    <tr style=\"text-align: right;\">\n",
       "      <th>age_month</th>\n",
       "      <th>0.0</th>\n",
       "      <th>1.0</th>\n",
       "      <th>2.0</th>\n",
       "      <th>3.0</th>\n",
       "      <th>4.0</th>\n",
       "      <th>5.0</th>\n",
       "      <th>6.0</th>\n",
       "      <th>7.0</th>\n",
       "      <th>8.0</th>\n",
       "      <th>9.0</th>\n",
       "      <th>10.0</th>\n",
       "      <th>11.0</th>\n",
       "    </tr>\n",
       "    <tr>\n",
       "      <th>first_order_month</th>\n",
       "      <th></th>\n",
       "      <th></th>\n",
       "      <th></th>\n",
       "      <th></th>\n",
       "      <th></th>\n",
       "      <th></th>\n",
       "      <th></th>\n",
       "      <th></th>\n",
       "      <th></th>\n",
       "      <th></th>\n",
       "      <th></th>\n",
       "      <th></th>\n",
       "    </tr>\n",
       "  </thead>\n",
       "  <tbody>\n",
       "    <tr>\n",
       "      <td>2017-06-01</td>\n",
       "      <td>0.01</td>\n",
       "      <td>0.02</td>\n",
       "      <td>0.03</td>\n",
       "      <td>0.04</td>\n",
       "      <td>0.05</td>\n",
       "      <td>0.06</td>\n",
       "      <td>0.07</td>\n",
       "      <td>0.08</td>\n",
       "      <td>0.09</td>\n",
       "      <td>0.1</td>\n",
       "      <td>0.11</td>\n",
       "      <td>0.14</td>\n",
       "    </tr>\n",
       "    <tr>\n",
       "      <td>2017-07-01</td>\n",
       "      <td>0.02</td>\n",
       "      <td>0.04</td>\n",
       "      <td>0.07</td>\n",
       "      <td>0.1</td>\n",
       "      <td>0.12</td>\n",
       "      <td>0.13</td>\n",
       "      <td>0.13</td>\n",
       "      <td>0.16</td>\n",
       "      <td>0.18</td>\n",
       "      <td>0.28</td>\n",
       "      <td>0.29</td>\n",
       "      <td></td>\n",
       "    </tr>\n",
       "    <tr>\n",
       "      <td>2017-08-01</td>\n",
       "      <td>0.02</td>\n",
       "      <td>0.04</td>\n",
       "      <td>0.07</td>\n",
       "      <td>0.09</td>\n",
       "      <td>0.12</td>\n",
       "      <td>0.14</td>\n",
       "      <td>0.19</td>\n",
       "      <td>0.24</td>\n",
       "      <td>0.28</td>\n",
       "      <td>0.36</td>\n",
       "      <td></td>\n",
       "      <td></td>\n",
       "    </tr>\n",
       "    <tr>\n",
       "      <td>2017-09-01</td>\n",
       "      <td>0.01</td>\n",
       "      <td>0.03</td>\n",
       "      <td>0.04</td>\n",
       "      <td>0.06</td>\n",
       "      <td>0.06</td>\n",
       "      <td>0.06</td>\n",
       "      <td>0.07</td>\n",
       "      <td>0.1</td>\n",
       "      <td>0.13</td>\n",
       "      <td></td>\n",
       "      <td></td>\n",
       "      <td></td>\n",
       "    </tr>\n",
       "    <tr>\n",
       "      <td>2017-10-01</td>\n",
       "      <td>0.01</td>\n",
       "      <td>0.02</td>\n",
       "      <td>0.02</td>\n",
       "      <td>0.04</td>\n",
       "      <td>0.05</td>\n",
       "      <td>0.05</td>\n",
       "      <td>0.06</td>\n",
       "      <td>0.07</td>\n",
       "      <td></td>\n",
       "      <td></td>\n",
       "      <td></td>\n",
       "      <td></td>\n",
       "    </tr>\n",
       "    <tr>\n",
       "      <td>2017-11-01</td>\n",
       "      <td>0.01</td>\n",
       "      <td>0.02</td>\n",
       "      <td>0.03</td>\n",
       "      <td>0.04</td>\n",
       "      <td>0.05</td>\n",
       "      <td>0.06</td>\n",
       "      <td>0.06</td>\n",
       "      <td></td>\n",
       "      <td></td>\n",
       "      <td></td>\n",
       "      <td></td>\n",
       "      <td></td>\n",
       "    </tr>\n",
       "    <tr>\n",
       "      <td>2017-12-01</td>\n",
       "      <td>0.00</td>\n",
       "      <td>0.01</td>\n",
       "      <td>0.01</td>\n",
       "      <td>0.02</td>\n",
       "      <td>0.02</td>\n",
       "      <td>0.03</td>\n",
       "      <td></td>\n",
       "      <td></td>\n",
       "      <td></td>\n",
       "      <td></td>\n",
       "      <td></td>\n",
       "      <td></td>\n",
       "    </tr>\n",
       "    <tr>\n",
       "      <td>2018-01-01</td>\n",
       "      <td>0.01</td>\n",
       "      <td>0.01</td>\n",
       "      <td>0.02</td>\n",
       "      <td>0.06</td>\n",
       "      <td>0.07</td>\n",
       "      <td></td>\n",
       "      <td></td>\n",
       "      <td></td>\n",
       "      <td></td>\n",
       "      <td></td>\n",
       "      <td></td>\n",
       "      <td></td>\n",
       "    </tr>\n",
       "    <tr>\n",
       "      <td>2018-02-01</td>\n",
       "      <td>0.00</td>\n",
       "      <td>0.02</td>\n",
       "      <td>0.02</td>\n",
       "      <td>0.03</td>\n",
       "      <td></td>\n",
       "      <td></td>\n",
       "      <td></td>\n",
       "      <td></td>\n",
       "      <td></td>\n",
       "      <td></td>\n",
       "      <td></td>\n",
       "      <td></td>\n",
       "    </tr>\n",
       "    <tr>\n",
       "      <td>2018-03-01</td>\n",
       "      <td>0.01</td>\n",
       "      <td>0.04</td>\n",
       "      <td>0.06</td>\n",
       "      <td></td>\n",
       "      <td></td>\n",
       "      <td></td>\n",
       "      <td></td>\n",
       "      <td></td>\n",
       "      <td></td>\n",
       "      <td></td>\n",
       "      <td></td>\n",
       "      <td></td>\n",
       "    </tr>\n",
       "    <tr>\n",
       "      <td>2018-04-01</td>\n",
       "      <td>0.01</td>\n",
       "      <td>0.01</td>\n",
       "      <td></td>\n",
       "      <td></td>\n",
       "      <td></td>\n",
       "      <td></td>\n",
       "      <td></td>\n",
       "      <td></td>\n",
       "      <td></td>\n",
       "      <td></td>\n",
       "      <td></td>\n",
       "      <td></td>\n",
       "    </tr>\n",
       "    <tr>\n",
       "      <td>2018-05-01</td>\n",
       "      <td>0.01</td>\n",
       "      <td></td>\n",
       "      <td></td>\n",
       "      <td></td>\n",
       "      <td></td>\n",
       "      <td></td>\n",
       "      <td></td>\n",
       "      <td></td>\n",
       "      <td></td>\n",
       "      <td></td>\n",
       "      <td></td>\n",
       "      <td></td>\n",
       "    </tr>\n",
       "  </tbody>\n",
       "</table>\n",
       "</div>"
      ],
      "text/plain": [
       "age_month          0.0   1.0   2.0   3.0   4.0   5.0   6.0   7.0   8.0   9.0   \\\n",
       "first_order_month                                                               \n",
       "2017-06-01         0.01  0.02  0.03  0.04  0.05  0.06  0.07  0.08  0.09   0.1   \n",
       "2017-07-01         0.02  0.04  0.07   0.1  0.12  0.13  0.13  0.16  0.18  0.28   \n",
       "2017-08-01         0.02  0.04  0.07  0.09  0.12  0.14  0.19  0.24  0.28  0.36   \n",
       "2017-09-01         0.01  0.03  0.04  0.06  0.06  0.06  0.07   0.1  0.13         \n",
       "2017-10-01         0.01  0.02  0.02  0.04  0.05  0.05  0.06  0.07               \n",
       "2017-11-01         0.01  0.02  0.03  0.04  0.05  0.06  0.06                     \n",
       "2017-12-01         0.00  0.01  0.01  0.02  0.02  0.03                           \n",
       "2018-01-01         0.01  0.01  0.02  0.06  0.07                                 \n",
       "2018-02-01         0.00  0.02  0.02  0.03                                       \n",
       "2018-03-01         0.01  0.04  0.06                                             \n",
       "2018-04-01         0.01  0.01                                                   \n",
       "2018-05-01         0.01                                                         \n",
       "\n",
       "age_month          10.0  11.0  \n",
       "first_order_month              \n",
       "2017-06-01         0.11  0.14  \n",
       "2017-07-01         0.29        \n",
       "2017-08-01                     \n",
       "2017-09-01                     \n",
       "2017-10-01                     \n",
       "2017-11-01                     \n",
       "2017-12-01                     \n",
       "2018-01-01                     \n",
       "2018-02-01                     \n",
       "2018-03-01                     \n",
       "2018-04-01                     \n",
       "2018-05-01                     "
      ]
     },
     "execution_count": 88,
     "metadata": {},
     "output_type": "execute_result"
    }
   ],
   "source": [
    "romi1 = romi1.pivot_table(index='first_order_month', columns='age_month', values='romi', aggfunc='mean').cumsum(axis=1).round(2)\n",
    "romi1.fillna('')"
   ]
  },
  {
   "cell_type": "code",
   "execution_count": 89,
   "metadata": {},
   "outputs": [
    {
     "data": {
      "image/png": "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\n",
      "text/plain": [
       "<Figure size 936x648 with 2 Axes>"
      ]
     },
     "metadata": {
      "needs_background": "light"
     },
     "output_type": "display_data"
    }
   ],
   "source": [
    "plt.figure(figsize=(13, 9))\n",
    "plt.title('romi по когортам')\n",
    "sns.heatmap(romi1,annot=True, fmt='.2f', linewidths=1, cmap=\"RdYlGn\");"
   ]
  },
  {
   "cell_type": "code",
   "execution_count": null,
   "metadata": {},
   "outputs": [],
   "source": []
  }
 ],
 "metadata": {
  "ExecuteTimeLog": [
   {
    "duration": 1165,
    "start_time": "2021-06-25T14:36:35.239Z"
   },
   {
    "duration": 826,
    "start_time": "2021-06-25T14:36:37.783Z"
   },
   {
    "duration": 64,
    "start_time": "2021-06-25T14:37:03.499Z"
   },
   {
    "duration": 70,
    "start_time": "2021-06-25T14:38:27.933Z"
   },
   {
    "duration": 130,
    "start_time": "2021-06-25T14:41:14.102Z"
   },
   {
    "duration": 118,
    "start_time": "2021-06-25T14:41:31.364Z"
   },
   {
    "duration": 14,
    "start_time": "2021-06-25T14:41:40.767Z"
   },
   {
    "duration": 27,
    "start_time": "2021-06-25T14:42:16.085Z"
   },
   {
    "duration": 8,
    "start_time": "2021-06-25T14:42:18.391Z"
   },
   {
    "duration": 8,
    "start_time": "2021-06-25T14:42:28.412Z"
   },
   {
    "duration": 8,
    "start_time": "2021-06-25T14:42:58.647Z"
   },
   {
    "duration": 14,
    "start_time": "2021-06-25T14:43:34.449Z"
   },
   {
    "duration": 9,
    "start_time": "2021-06-25T14:43:43.251Z"
   },
   {
    "duration": 33,
    "start_time": "2021-06-25T14:48:52.812Z"
   },
   {
    "duration": 383,
    "start_time": "2021-06-25T14:49:01.410Z"
   },
   {
    "duration": 30,
    "start_time": "2021-06-25T14:49:11.377Z"
   },
   {
    "duration": 153,
    "start_time": "2021-06-25T14:54:09.295Z"
   },
   {
    "duration": 381,
    "start_time": "2021-06-25T14:55:57.921Z"
   },
   {
    "duration": 312,
    "start_time": "2021-06-25T14:56:47.672Z"
   },
   {
    "duration": 9855,
    "start_time": "2021-06-25T14:56:50.984Z"
   },
   {
    "duration": 343,
    "start_time": "2021-06-25T14:59:16.381Z"
   },
   {
    "duration": 5,
    "start_time": "2021-06-25T14:59:38.424Z"
   },
   {
    "duration": 302,
    "start_time": "2021-06-25T15:13:25.415Z"
   },
   {
    "duration": 373,
    "start_time": "2021-06-25T15:13:28.189Z"
   },
   {
    "duration": 10,
    "start_time": "2021-06-25T15:17:22.930Z"
   },
   {
    "duration": 335,
    "start_time": "2021-06-25T15:21:06.113Z"
   },
   {
    "duration": 289,
    "start_time": "2021-06-25T15:25:14.269Z"
   },
   {
    "duration": 299,
    "start_time": "2021-06-25T15:29:01.991Z"
   },
   {
    "duration": 1460,
    "start_time": "2021-06-25T15:29:18.982Z"
   },
   {
    "duration": 838,
    "start_time": "2021-06-25T15:29:20.444Z"
   },
   {
    "duration": 271,
    "start_time": "2021-06-25T15:29:21.285Z"
   },
   {
    "duration": 306,
    "start_time": "2021-06-25T15:29:21.558Z"
   },
   {
    "duration": 395,
    "start_time": "2021-06-25T15:29:21.867Z"
   },
   {
    "duration": 359,
    "start_time": "2021-06-25T15:29:22.264Z"
   },
   {
    "duration": 276,
    "start_time": "2021-06-25T15:29:22.625Z"
   },
   {
    "duration": 1507,
    "start_time": "2021-06-25T15:31:41.145Z"
   },
   {
    "duration": 831,
    "start_time": "2021-06-25T15:31:42.657Z"
   },
   {
    "duration": 280,
    "start_time": "2021-06-25T15:31:43.491Z"
   },
   {
    "duration": 333,
    "start_time": "2021-06-25T15:31:43.773Z"
   },
   {
    "duration": 402,
    "start_time": "2021-06-25T15:31:44.109Z"
   },
   {
    "duration": 367,
    "start_time": "2021-06-25T15:31:44.514Z"
   },
   {
    "duration": 272,
    "start_time": "2021-06-25T15:31:44.884Z"
   },
   {
    "duration": 644,
    "start_time": "2021-06-25T15:34:24.468Z"
   },
   {
    "duration": 620,
    "start_time": "2021-06-25T15:35:07.715Z"
   },
   {
    "duration": 853,
    "start_time": "2021-06-25T15:35:32.309Z"
   },
   {
    "duration": 873,
    "start_time": "2021-06-25T15:35:38.235Z"
   },
   {
    "duration": 1007,
    "start_time": "2021-06-25T15:35:58.805Z"
   },
   {
    "duration": 657,
    "start_time": "2021-06-25T15:36:07.725Z"
   },
   {
    "duration": 740,
    "start_time": "2021-06-25T15:36:16.205Z"
   },
   {
    "duration": 259,
    "start_time": "2021-06-25T15:37:39.713Z"
   },
   {
    "duration": 9,
    "start_time": "2021-06-25T15:37:43.232Z"
   },
   {
    "duration": 254,
    "start_time": "2021-06-25T15:37:51.878Z"
   },
   {
    "duration": 256,
    "start_time": "2021-06-25T15:37:57.071Z"
   },
   {
    "duration": 514,
    "start_time": "2021-06-25T15:38:18.130Z"
   },
   {
    "duration": 1443,
    "start_time": "2021-06-25T15:38:36.299Z"
   },
   {
    "duration": 821,
    "start_time": "2021-06-25T15:38:37.745Z"
   },
   {
    "duration": 273,
    "start_time": "2021-06-25T15:38:38.568Z"
   },
   {
    "duration": 307,
    "start_time": "2021-06-25T15:38:38.844Z"
   },
   {
    "duration": 401,
    "start_time": "2021-06-25T15:38:39.155Z"
   },
   {
    "duration": 362,
    "start_time": "2021-06-25T15:38:39.558Z"
   },
   {
    "duration": 449,
    "start_time": "2021-06-25T15:38:39.922Z"
   },
   {
    "duration": 443,
    "start_time": "2021-06-25T15:38:40.374Z"
   },
   {
    "duration": 420,
    "start_time": "2021-06-25T15:38:40.819Z"
   },
   {
    "duration": 170,
    "start_time": "2021-06-25T15:55:48.344Z"
   },
   {
    "duration": 390,
    "start_time": "2021-06-25T15:58:56.341Z"
   },
   {
    "duration": 266,
    "start_time": "2021-06-25T15:59:16.341Z"
   },
   {
    "duration": 262,
    "start_time": "2021-06-25T16:00:48.518Z"
   },
   {
    "duration": 469,
    "start_time": "2021-06-25T16:01:31.606Z"
   },
   {
    "duration": 443,
    "start_time": "2021-06-25T16:01:38.095Z"
   },
   {
    "duration": 23,
    "start_time": "2021-06-25T16:15:35.558Z"
   },
   {
    "duration": 1537,
    "start_time": "2021-06-25T16:19:24.829Z"
   },
   {
    "duration": 1175,
    "start_time": "2021-06-25T16:19:42.713Z"
   },
   {
    "duration": 1148,
    "start_time": "2021-06-25T16:20:15.643Z"
   },
   {
    "duration": 93,
    "start_time": "2021-06-25T16:25:58.884Z"
   },
   {
    "duration": 113,
    "start_time": "2021-06-25T16:26:15.499Z"
   },
   {
    "duration": 135,
    "start_time": "2021-06-25T16:33:05.322Z"
   },
   {
    "duration": 279,
    "start_time": "2021-06-25T16:34:36.346Z"
   },
   {
    "duration": 341,
    "start_time": "2021-06-25T16:34:48.365Z"
   },
   {
    "duration": 14,
    "start_time": "2021-06-25T16:37:13.307Z"
   },
   {
    "duration": 314,
    "start_time": "2021-06-25T16:43:43.924Z"
   },
   {
    "duration": 1589,
    "start_time": "2021-06-25T16:54:43.287Z"
   },
   {
    "duration": 1389,
    "start_time": "2021-06-25T16:54:54.058Z"
   },
   {
    "duration": 1071,
    "start_time": "2021-06-25T16:58:39.101Z"
   },
   {
    "duration": 88,
    "start_time": "2021-06-25T16:59:36.021Z"
   },
   {
    "duration": 1134,
    "start_time": "2021-06-25T16:59:43.676Z"
   },
   {
    "duration": 1147,
    "start_time": "2021-06-25T16:59:56.880Z"
   },
   {
    "duration": 386,
    "start_time": "2021-06-25T17:09:21.411Z"
   },
   {
    "duration": 395,
    "start_time": "2021-06-25T17:09:31.800Z"
   },
   {
    "duration": 169,
    "start_time": "2021-06-25T17:10:27.460Z"
   },
   {
    "duration": 200,
    "start_time": "2021-06-25T17:10:52.734Z"
   },
   {
    "duration": 170,
    "start_time": "2021-06-25T17:11:17.961Z"
   },
   {
    "duration": 22,
    "start_time": "2021-06-25T17:13:19.104Z"
   },
   {
    "duration": 67,
    "start_time": "2021-06-25T17:13:29.518Z"
   },
   {
    "duration": 9,
    "start_time": "2021-06-25T17:14:03.514Z"
   },
   {
    "duration": 22,
    "start_time": "2021-06-25T17:14:13.883Z"
   },
   {
    "duration": 5530,
    "start_time": "2021-06-25T17:14:31.665Z"
   },
   {
    "duration": 64,
    "start_time": "2021-06-25T17:14:50.091Z"
   },
   {
    "duration": 311,
    "start_time": "2021-06-27T12:52:20.589Z"
   },
   {
    "duration": 1467,
    "start_time": "2021-06-27T12:52:32.970Z"
   },
   {
    "duration": 809,
    "start_time": "2021-06-27T12:52:34.439Z"
   },
   {
    "duration": 266,
    "start_time": "2021-06-27T12:52:35.251Z"
   },
   {
    "duration": 303,
    "start_time": "2021-06-27T12:52:35.520Z"
   },
   {
    "duration": 386,
    "start_time": "2021-06-27T12:52:35.826Z"
   },
   {
    "duration": 443,
    "start_time": "2021-06-27T12:52:36.214Z"
   },
   {
    "duration": 445,
    "start_time": "2021-06-27T12:52:36.660Z"
   },
   {
    "duration": 415,
    "start_time": "2021-06-27T12:52:37.109Z"
   },
   {
    "duration": 152,
    "start_time": "2021-06-27T12:52:37.527Z"
   },
   {
    "duration": 461,
    "start_time": "2021-06-27T12:52:37.682Z"
   },
   {
    "duration": 27,
    "start_time": "2021-06-27T12:52:38.145Z"
   },
   {
    "duration": 1270,
    "start_time": "2021-06-27T12:52:38.175Z"
   },
   {
    "duration": 128,
    "start_time": "2021-06-27T12:52:39.454Z"
   },
   {
    "duration": 137,
    "start_time": "2021-06-27T12:52:39.584Z"
   },
   {
    "duration": 365,
    "start_time": "2021-06-27T12:52:39.723Z"
   },
   {
    "duration": 15,
    "start_time": "2021-06-27T12:52:40.090Z"
   },
   {
    "duration": 236,
    "start_time": "2021-06-27T12:52:40.107Z"
   },
   {
    "duration": 1036,
    "start_time": "2021-06-27T12:52:40.346Z"
   },
   {
    "duration": 86,
    "start_time": "2021-06-27T12:52:41.385Z"
   },
   {
    "duration": 47,
    "start_time": "2021-06-27T12:52:41.474Z"
   },
   {
    "duration": 6085,
    "start_time": "2021-06-27T12:58:34.572Z"
   },
   {
    "duration": 5675,
    "start_time": "2021-06-27T13:01:23.307Z"
   },
   {
    "duration": 5681,
    "start_time": "2021-06-27T13:02:33.049Z"
   },
   {
    "duration": 263,
    "start_time": "2021-06-27T13:02:51.956Z"
   },
   {
    "duration": 257,
    "start_time": "2021-06-27T13:03:01.074Z"
   },
   {
    "duration": 563,
    "start_time": "2021-06-27T13:03:45.382Z"
   },
   {
    "duration": 5786,
    "start_time": "2021-06-27T13:03:52.544Z"
   },
   {
    "duration": 276,
    "start_time": "2021-06-27T13:04:00.261Z"
   },
   {
    "duration": 5482,
    "start_time": "2021-06-27T13:04:10.551Z"
   },
   {
    "duration": 198,
    "start_time": "2021-06-27T13:04:27.304Z"
   },
   {
    "duration": 106,
    "start_time": "2021-06-27T13:05:40.148Z"
   },
   {
    "duration": 6633,
    "start_time": "2021-06-27T13:10:43.709Z"
   },
   {
    "duration": 8008,
    "start_time": "2021-06-27T13:11:09.041Z"
   },
   {
    "duration": 20,
    "start_time": "2021-06-27T13:11:28.557Z"
   },
   {
    "duration": 268,
    "start_time": "2021-06-27T13:14:00.034Z"
   },
   {
    "duration": 8,
    "start_time": "2021-06-27T13:14:28.156Z"
   },
   {
    "duration": 22,
    "start_time": "2021-06-27T13:14:33.672Z"
   },
   {
    "duration": 85,
    "start_time": "2021-06-27T13:18:57.339Z"
   },
   {
    "duration": 100,
    "start_time": "2021-06-27T13:19:20.939Z"
   },
   {
    "duration": 96,
    "start_time": "2021-06-27T13:19:29.373Z"
   },
   {
    "duration": 718,
    "start_time": "2021-06-27T13:19:48.923Z"
   },
   {
    "duration": 90,
    "start_time": "2021-06-27T13:20:38.099Z"
   },
   {
    "duration": 85,
    "start_time": "2021-06-27T13:20:42.696Z"
   },
   {
    "duration": 86,
    "start_time": "2021-06-27T13:21:08.372Z"
   },
   {
    "duration": 91,
    "start_time": "2021-06-27T13:21:19.314Z"
   },
   {
    "duration": 95,
    "start_time": "2021-06-27T13:21:34.599Z"
   },
   {
    "duration": 667,
    "start_time": "2021-06-27T13:21:44.797Z"
   },
   {
    "duration": 88,
    "start_time": "2021-06-27T13:21:56.130Z"
   },
   {
    "duration": 742,
    "start_time": "2021-06-27T13:22:17.130Z"
   },
   {
    "duration": 275,
    "start_time": "2021-06-27T13:24:30.598Z"
   },
   {
    "duration": 7,
    "start_time": "2021-06-27T13:24:57.293Z"
   },
   {
    "duration": 86,
    "start_time": "2021-06-27T13:35:31.086Z"
   },
   {
    "duration": 91,
    "start_time": "2021-06-27T13:36:34.668Z"
   },
   {
    "duration": 257,
    "start_time": "2021-06-27T13:36:45.101Z"
   },
   {
    "duration": 86,
    "start_time": "2021-06-27T13:37:02.742Z"
   },
   {
    "duration": 57,
    "start_time": "2021-06-27T13:37:32.115Z"
   },
   {
    "duration": 272,
    "start_time": "2021-06-27T14:00:03.176Z"
   },
   {
    "duration": 6072,
    "start_time": "2021-06-27T14:00:21.984Z"
   },
   {
    "duration": 6129,
    "start_time": "2021-06-27T14:01:03.968Z"
   },
   {
    "duration": 57,
    "start_time": "2021-06-27T14:02:59.030Z"
   },
   {
    "duration": 15,
    "start_time": "2021-06-27T14:03:03.841Z"
   },
   {
    "duration": 25,
    "start_time": "2021-06-27T14:03:22.055Z"
   },
   {
    "duration": 1532,
    "start_time": "2021-07-10T06:17:38.280Z"
   },
   {
    "duration": 940,
    "start_time": "2021-07-10T06:17:39.815Z"
   },
   {
    "duration": 276,
    "start_time": "2021-07-10T06:17:40.758Z"
   },
   {
    "duration": 310,
    "start_time": "2021-07-10T06:17:41.037Z"
   },
   {
    "duration": 407,
    "start_time": "2021-07-10T06:17:41.350Z"
   },
   {
    "duration": 476,
    "start_time": "2021-07-10T06:17:41.760Z"
   },
   {
    "duration": 453,
    "start_time": "2021-07-10T06:17:42.239Z"
   },
   {
    "duration": 441,
    "start_time": "2021-07-10T06:17:42.695Z"
   },
   {
    "duration": 167,
    "start_time": "2021-07-10T06:17:43.142Z"
   },
   {
    "duration": 466,
    "start_time": "2021-07-10T06:17:43.312Z"
   },
   {
    "duration": 37,
    "start_time": "2021-07-10T06:17:43.782Z"
   },
   {
    "duration": 1305,
    "start_time": "2021-07-10T06:17:43.821Z"
   },
   {
    "duration": 140,
    "start_time": "2021-07-10T06:17:45.130Z"
   },
   {
    "duration": 150,
    "start_time": "2021-07-10T06:17:45.273Z"
   },
   {
    "duration": 388,
    "start_time": "2021-07-10T06:17:45.425Z"
   },
   {
    "duration": 15,
    "start_time": "2021-07-10T06:17:45.816Z"
   },
   {
    "duration": 276,
    "start_time": "2021-07-10T06:17:45.834Z"
   },
   {
    "duration": 1137,
    "start_time": "2021-07-10T06:17:46.113Z"
   },
   {
    "duration": 113,
    "start_time": "2021-07-10T06:17:47.253Z"
   },
   {
    "duration": 57,
    "start_time": "2021-07-10T06:17:47.368Z"
   },
   {
    "duration": 6099,
    "start_time": "2021-07-10T06:17:47.427Z"
   },
   {
    "duration": 125,
    "start_time": "2021-07-10T06:17:53.529Z"
   },
   {
    "duration": 28,
    "start_time": "2021-07-10T06:17:53.657Z"
   },
   {
    "duration": 26,
    "start_time": "2021-07-10T06:17:53.687Z"
   },
   {
    "duration": 21,
    "start_time": "2021-07-10T06:17:53.715Z"
   },
   {
    "duration": 801,
    "start_time": "2021-07-10T06:17:53.738Z"
   },
   {
    "duration": 67,
    "start_time": "2021-07-10T06:17:54.543Z"
   },
   {
    "duration": 14,
    "start_time": "2021-07-10T06:17:54.613Z"
   },
   {
    "duration": 28,
    "start_time": "2021-07-10T06:17:54.629Z"
   },
   {
    "duration": 342,
    "start_time": "2021-07-10T06:18:15.928Z"
   },
   {
    "duration": 348,
    "start_time": "2021-07-10T06:18:48.144Z"
   },
   {
    "duration": 344,
    "start_time": "2021-07-10T06:19:10.924Z"
   },
   {
    "duration": 575,
    "start_time": "2021-07-10T06:37:07.560Z"
   },
   {
    "duration": 413,
    "start_time": "2021-07-10T06:37:27.808Z"
   },
   {
    "duration": 369,
    "start_time": "2021-07-10T06:50:06.368Z"
   },
   {
    "duration": 37,
    "start_time": "2021-07-10T06:50:22.175Z"
   },
   {
    "duration": 47,
    "start_time": "2021-07-10T06:55:03.487Z"
   },
   {
    "duration": 6,
    "start_time": "2021-07-10T06:56:01.062Z"
   },
   {
    "duration": 8606,
    "start_time": "2021-07-10T07:01:06.833Z"
   },
   {
    "duration": 7,
    "start_time": "2021-07-10T07:01:22.487Z"
   },
   {
    "duration": 331,
    "start_time": "2021-07-10T07:06:16.968Z"
   },
   {
    "duration": 18,
    "start_time": "2021-07-10T07:06:46.495Z"
   },
   {
    "duration": 317,
    "start_time": "2021-07-10T07:07:52.930Z"
   },
   {
    "duration": 7,
    "start_time": "2021-07-10T07:11:35.047Z"
   },
   {
    "duration": 50,
    "start_time": "2021-07-10T07:20:01.034Z"
   },
   {
    "duration": 7,
    "start_time": "2021-07-10T07:22:57.875Z"
   },
   {
    "duration": 11,
    "start_time": "2021-07-10T07:24:40.890Z"
   },
   {
    "duration": 52,
    "start_time": "2021-07-10T07:33:53.598Z"
   },
   {
    "duration": 58,
    "start_time": "2021-07-10T07:34:03.617Z"
   },
   {
    "duration": 1128,
    "start_time": "2021-07-10T07:36:14.510Z"
   },
   {
    "duration": 1296,
    "start_time": "2021-07-10T07:37:52.886Z"
   },
   {
    "duration": 5,
    "start_time": "2021-07-10T07:48:28.125Z"
   },
   {
    "duration": 5,
    "start_time": "2021-07-10T07:48:34.764Z"
   },
   {
    "duration": 6,
    "start_time": "2021-07-10T07:50:12.698Z"
   },
   {
    "duration": 142,
    "start_time": "2021-07-10T07:53:31.574Z"
   },
   {
    "duration": 105,
    "start_time": "2021-07-10T07:53:59.550Z"
   },
   {
    "duration": 113,
    "start_time": "2021-07-10T07:54:09.548Z"
   },
   {
    "duration": 787,
    "start_time": "2021-07-10T07:54:23.390Z"
   },
   {
    "duration": 763,
    "start_time": "2021-07-10T07:54:41.518Z"
   },
   {
    "duration": 791,
    "start_time": "2021-07-10T07:55:40.545Z"
   },
   {
    "duration": 6,
    "start_time": "2021-07-10T07:55:44.412Z"
   },
   {
    "duration": 743,
    "start_time": "2021-07-10T07:55:45.673Z"
   },
   {
    "duration": 5,
    "start_time": "2021-07-10T07:57:28.800Z"
   },
   {
    "duration": 418,
    "start_time": "2021-07-10T07:57:34.874Z"
   },
   {
    "duration": 18,
    "start_time": "2021-07-10T07:57:40.494Z"
   },
   {
    "duration": 31,
    "start_time": "2021-07-10T07:58:45.150Z"
   },
   {
    "duration": 3,
    "start_time": "2021-07-10T07:59:27.776Z"
   },
   {
    "duration": 350,
    "start_time": "2021-07-10T08:01:03.275Z"
   },
   {
    "duration": 11,
    "start_time": "2021-07-10T08:01:11.298Z"
   },
   {
    "duration": 837,
    "start_time": "2021-07-10T08:03:51.431Z"
   },
   {
    "duration": 487,
    "start_time": "2021-07-10T08:04:30.022Z"
   },
   {
    "duration": 10,
    "start_time": "2021-07-10T08:08:00.769Z"
   },
   {
    "duration": 521,
    "start_time": "2021-07-10T08:22:35.289Z"
   },
   {
    "duration": 115,
    "start_time": "2021-07-10T08:23:14.605Z"
   },
   {
    "duration": 132,
    "start_time": "2021-07-10T08:23:25.550Z"
   },
   {
    "duration": 368,
    "start_time": "2021-07-10T08:23:32.046Z"
   },
   {
    "duration": 15,
    "start_time": "2021-07-10T08:24:08.806Z"
   },
   {
    "duration": 8348,
    "start_time": "2021-07-10T08:24:37.943Z"
   },
   {
    "duration": 6409,
    "start_time": "2021-07-10T08:25:03.572Z"
   },
   {
    "duration": 14,
    "start_time": "2021-07-10T08:30:22.340Z"
   },
   {
    "duration": 15,
    "start_time": "2021-07-10T08:30:33.405Z"
   },
   {
    "duration": 15,
    "start_time": "2021-07-10T08:39:57.310Z"
   },
   {
    "duration": 21,
    "start_time": "2021-07-10T08:40:47.264Z"
   },
   {
    "duration": 236,
    "start_time": "2021-07-10T08:43:25.592Z"
   },
   {
    "duration": 15,
    "start_time": "2021-07-10T08:43:32.902Z"
   },
   {
    "duration": 238,
    "start_time": "2021-07-10T08:45:27.222Z"
   },
   {
    "duration": 384,
    "start_time": "2021-07-10T08:47:20.934Z"
   },
   {
    "duration": 137,
    "start_time": "2021-07-10T08:47:27.269Z"
   },
   {
    "duration": 21,
    "start_time": "2021-07-10T08:50:34.562Z"
   },
   {
    "duration": 19,
    "start_time": "2021-07-10T08:51:16.160Z"
   },
   {
    "duration": 15,
    "start_time": "2021-07-10T08:51:25.669Z"
   },
   {
    "duration": 377,
    "start_time": "2021-07-10T08:57:11.717Z"
   },
   {
    "duration": 15,
    "start_time": "2021-07-10T08:58:23.108Z"
   },
   {
    "duration": 23,
    "start_time": "2021-07-10T08:58:25.332Z"
   },
   {
    "duration": 360,
    "start_time": "2021-07-10T08:58:29.697Z"
   },
   {
    "duration": 19,
    "start_time": "2021-07-10T08:58:42.768Z"
   },
   {
    "duration": 22,
    "start_time": "2021-07-10T08:58:44.958Z"
   },
   {
    "duration": 26,
    "start_time": "2021-07-10T08:58:48.459Z"
   },
   {
    "duration": 6,
    "start_time": "2021-07-10T09:00:02.897Z"
   },
   {
    "duration": 24,
    "start_time": "2021-07-10T09:00:05.244Z"
   },
   {
    "duration": 291,
    "start_time": "2021-07-12T02:09:52.093Z"
   },
   {
    "duration": 1080,
    "start_time": "2021-07-12T02:10:02.979Z"
   },
   {
    "duration": 603,
    "start_time": "2021-07-12T02:10:04.061Z"
   },
   {
    "duration": 220,
    "start_time": "2021-07-12T02:10:04.666Z"
   },
   {
    "duration": 196,
    "start_time": "2021-07-12T02:10:04.888Z"
   },
   {
    "duration": 287,
    "start_time": "2021-07-12T02:10:05.086Z"
   },
   {
    "duration": 249,
    "start_time": "2021-07-12T02:10:05.375Z"
   },
   {
    "duration": 231,
    "start_time": "2021-07-12T02:10:05.626Z"
   },
   {
    "duration": 233,
    "start_time": "2021-07-12T02:10:05.860Z"
   },
   {
    "duration": 115,
    "start_time": "2021-07-12T02:10:06.095Z"
   },
   {
    "duration": 249,
    "start_time": "2021-07-12T02:10:06.211Z"
   },
   {
    "duration": 16,
    "start_time": "2021-07-12T02:10:06.462Z"
   },
   {
    "duration": 703,
    "start_time": "2021-07-12T02:10:06.479Z"
   },
   {
    "duration": 86,
    "start_time": "2021-07-12T02:10:07.183Z"
   },
   {
    "duration": 93,
    "start_time": "2021-07-12T02:10:07.271Z"
   },
   {
    "duration": 254,
    "start_time": "2021-07-12T02:10:07.365Z"
   },
   {
    "duration": 11,
    "start_time": "2021-07-12T02:10:07.621Z"
   },
   {
    "duration": 182,
    "start_time": "2021-07-12T02:10:07.634Z"
   },
   {
    "duration": 682,
    "start_time": "2021-07-12T02:10:07.817Z"
   },
   {
    "duration": 48,
    "start_time": "2021-07-12T02:10:08.500Z"
   },
   {
    "duration": 31,
    "start_time": "2021-07-12T02:10:08.549Z"
   },
   {
    "duration": 2483,
    "start_time": "2021-07-12T02:10:08.581Z"
   },
   {
    "duration": 52,
    "start_time": "2021-07-12T02:10:11.066Z"
   },
   {
    "duration": 29,
    "start_time": "2021-07-12T02:10:11.121Z"
   },
   {
    "duration": 9,
    "start_time": "2021-07-12T02:10:11.152Z"
   },
   {
    "duration": 13,
    "start_time": "2021-07-12T02:10:11.162Z"
   },
   {
    "duration": 426,
    "start_time": "2021-07-12T02:10:11.177Z"
   },
   {
    "duration": 51,
    "start_time": "2021-07-12T02:10:11.605Z"
   },
   {
    "duration": 9,
    "start_time": "2021-07-12T02:10:11.658Z"
   },
   {
    "duration": 19,
    "start_time": "2021-07-12T02:10:11.669Z"
   },
   {
    "duration": 26,
    "start_time": "2021-07-12T02:10:11.690Z"
   },
   {
    "duration": 26,
    "start_time": "2021-07-12T02:10:11.718Z"
   },
   {
    "duration": 186,
    "start_time": "2021-07-12T02:10:11.745Z"
   },
   {
    "duration": 5,
    "start_time": "2021-07-12T02:10:11.941Z"
   },
   {
    "duration": 38,
    "start_time": "2021-07-12T02:10:11.948Z"
   },
   {
    "duration": 6,
    "start_time": "2021-07-12T02:10:11.987Z"
   },
   {
    "duration": 13,
    "start_time": "2021-07-12T02:10:11.995Z"
   },
   {
    "duration": 49,
    "start_time": "2021-07-12T02:10:12.009Z"
   },
   {
    "duration": 4,
    "start_time": "2021-07-12T02:10:12.061Z"
   },
   {
    "duration": 6,
    "start_time": "2021-07-12T02:10:12.066Z"
   },
   {
    "duration": 8,
    "start_time": "2021-07-12T02:10:12.074Z"
   },
   {
    "duration": 295,
    "start_time": "2021-07-12T02:10:12.084Z"
   },
   {
    "duration": 6,
    "start_time": "2021-07-12T02:10:12.380Z"
   },
   {
    "duration": 8,
    "start_time": "2021-07-12T02:10:12.388Z"
   },
   {
    "duration": 10,
    "start_time": "2021-07-12T02:10:12.398Z"
   },
   {
    "duration": 36,
    "start_time": "2021-07-12T02:10:12.409Z"
   },
   {
    "duration": 152,
    "start_time": "2021-07-12T02:10:12.447Z"
   },
   {
    "duration": 11,
    "start_time": "2021-07-12T02:10:12.601Z"
   },
   {
    "duration": 63,
    "start_time": "2021-07-12T02:10:12.614Z"
   },
   {
    "duration": 16,
    "start_time": "2021-07-12T02:10:12.679Z"
   },
   {
    "duration": 11,
    "start_time": "2021-07-12T02:10:12.696Z"
   },
   {
    "duration": 40,
    "start_time": "2021-07-12T02:10:12.709Z"
   },
   {
    "duration": 5,
    "start_time": "2021-07-12T02:10:12.751Z"
   },
   {
    "duration": 15,
    "start_time": "2021-07-12T02:10:12.758Z"
   },
   {
    "duration": 359,
    "start_time": "2021-07-12T02:10:12.774Z"
   },
   {
    "duration": 6,
    "start_time": "2021-07-12T02:11:42.268Z"
   },
   {
    "duration": 276,
    "start_time": "2021-07-12T02:16:28.495Z"
   },
   {
    "duration": 265,
    "start_time": "2021-07-12T02:17:35.953Z"
   },
   {
    "duration": 261,
    "start_time": "2021-07-12T03:42:00.282Z"
   },
   {
    "duration": 19,
    "start_time": "2021-07-12T03:42:08.716Z"
   },
   {
    "duration": 84,
    "start_time": "2021-07-12T03:44:08.424Z"
   },
   {
    "duration": 23,
    "start_time": "2021-07-12T03:44:11.865Z"
   },
   {
    "duration": 13,
    "start_time": "2021-07-12T03:45:00.629Z"
   },
   {
    "duration": 13,
    "start_time": "2021-07-12T03:45:13.798Z"
   },
   {
    "duration": 273,
    "start_time": "2021-07-12T03:46:38.568Z"
   },
   {
    "duration": 668,
    "start_time": "2021-07-12T03:46:53.025Z"
   },
   {
    "duration": 13,
    "start_time": "2021-07-12T03:55:17.168Z"
   },
   {
    "duration": 101,
    "start_time": "2021-07-12T04:13:06.877Z"
   },
   {
    "duration": 10,
    "start_time": "2021-07-12T04:33:27.341Z"
   },
   {
    "duration": 61,
    "start_time": "2021-07-12T04:34:21.703Z"
   },
   {
    "duration": 17,
    "start_time": "2021-07-12T04:34:24.413Z"
   },
   {
    "duration": 457,
    "start_time": "2021-07-12T04:37:54.935Z"
   },
   {
    "duration": 62,
    "start_time": "2021-07-12T04:40:57.831Z"
   },
   {
    "duration": 24,
    "start_time": "2021-07-12T04:41:00.390Z"
   },
   {
    "duration": 89,
    "start_time": "2021-07-12T04:42:36.563Z"
   },
   {
    "duration": 1108,
    "start_time": "2021-07-12T04:42:58.443Z"
   },
   {
    "duration": 717,
    "start_time": "2021-07-12T04:42:59.553Z"
   },
   {
    "duration": 207,
    "start_time": "2021-07-12T04:43:00.272Z"
   },
   {
    "duration": 197,
    "start_time": "2021-07-12T04:43:00.481Z"
   },
   {
    "duration": 306,
    "start_time": "2021-07-12T04:43:00.680Z"
   },
   {
    "duration": 260,
    "start_time": "2021-07-12T04:43:00.988Z"
   },
   {
    "duration": 350,
    "start_time": "2021-07-12T04:43:01.249Z"
   },
   {
    "duration": 246,
    "start_time": "2021-07-12T04:43:01.601Z"
   },
   {
    "duration": 116,
    "start_time": "2021-07-12T04:43:01.849Z"
   },
   {
    "duration": 260,
    "start_time": "2021-07-12T04:43:01.967Z"
   },
   {
    "duration": 26,
    "start_time": "2021-07-12T04:43:02.229Z"
   },
   {
    "duration": 717,
    "start_time": "2021-07-12T04:43:02.257Z"
   },
   {
    "duration": 88,
    "start_time": "2021-07-12T04:43:02.976Z"
   },
   {
    "duration": 94,
    "start_time": "2021-07-12T04:43:03.066Z"
   },
   {
    "duration": 264,
    "start_time": "2021-07-12T04:43:03.162Z"
   },
   {
    "duration": 20,
    "start_time": "2021-07-12T04:43:03.428Z"
   },
   {
    "duration": 175,
    "start_time": "2021-07-12T04:43:03.449Z"
   },
   {
    "duration": 663,
    "start_time": "2021-07-12T04:43:03.625Z"
   },
   {
    "duration": 37,
    "start_time": "2021-07-12T04:43:04.289Z"
   },
   {
    "duration": 43,
    "start_time": "2021-07-12T04:43:04.327Z"
   },
   {
    "duration": 2608,
    "start_time": "2021-07-12T04:43:04.372Z"
   },
   {
    "duration": 64,
    "start_time": "2021-07-12T04:43:06.982Z"
   },
   {
    "duration": 22,
    "start_time": "2021-07-12T04:43:07.050Z"
   },
   {
    "duration": 7,
    "start_time": "2021-07-12T04:43:07.074Z"
   },
   {
    "duration": 14,
    "start_time": "2021-07-12T04:43:07.082Z"
   },
   {
    "duration": 454,
    "start_time": "2021-07-12T04:43:07.098Z"
   },
   {
    "duration": 42,
    "start_time": "2021-07-12T04:43:07.553Z"
   },
   {
    "duration": 9,
    "start_time": "2021-07-12T04:43:07.597Z"
   },
   {
    "duration": 39,
    "start_time": "2021-07-12T04:43:07.607Z"
   },
   {
    "duration": 30,
    "start_time": "2021-07-12T04:43:07.648Z"
   },
   {
    "duration": 4,
    "start_time": "2021-07-12T04:43:07.680Z"
   },
   {
    "duration": 195,
    "start_time": "2021-07-12T04:43:07.685Z"
   },
   {
    "duration": 4,
    "start_time": "2021-07-12T04:43:07.881Z"
   },
   {
    "duration": 34,
    "start_time": "2021-07-12T04:43:07.887Z"
   },
   {
    "duration": 21,
    "start_time": "2021-07-12T04:43:07.923Z"
   },
   {
    "duration": 9,
    "start_time": "2021-07-12T04:43:07.946Z"
   },
   {
    "duration": 38,
    "start_time": "2021-07-12T04:43:07.957Z"
   },
   {
    "duration": 3,
    "start_time": "2021-07-12T04:43:07.997Z"
   },
   {
    "duration": 9,
    "start_time": "2021-07-12T04:43:08.001Z"
   },
   {
    "duration": 9,
    "start_time": "2021-07-12T04:43:08.011Z"
   },
   {
    "duration": 293,
    "start_time": "2021-07-12T04:43:08.022Z"
   },
   {
    "duration": 6,
    "start_time": "2021-07-12T04:43:08.316Z"
   },
   {
    "duration": 21,
    "start_time": "2021-07-12T04:43:08.323Z"
   },
   {
    "duration": 10,
    "start_time": "2021-07-12T04:43:08.346Z"
   },
   {
    "duration": 11,
    "start_time": "2021-07-12T04:43:08.357Z"
   },
   {
    "duration": 153,
    "start_time": "2021-07-12T04:43:08.370Z"
   },
   {
    "duration": 17,
    "start_time": "2021-07-12T04:43:08.524Z"
   },
   {
    "duration": 47,
    "start_time": "2021-07-12T04:43:08.543Z"
   },
   {
    "duration": 14,
    "start_time": "2021-07-12T04:43:08.591Z"
   },
   {
    "duration": 9,
    "start_time": "2021-07-12T04:43:08.607Z"
   },
   {
    "duration": 35,
    "start_time": "2021-07-12T04:43:08.618Z"
   },
   {
    "duration": 4,
    "start_time": "2021-07-12T04:43:08.655Z"
   },
   {
    "duration": 15,
    "start_time": "2021-07-12T04:43:08.661Z"
   },
   {
    "duration": 6,
    "start_time": "2021-07-12T04:43:08.678Z"
   },
   {
    "duration": 302,
    "start_time": "2021-07-12T04:43:08.686Z"
   },
   {
    "duration": 9,
    "start_time": "2021-07-12T04:43:08.990Z"
   },
   {
    "duration": 461,
    "start_time": "2021-07-12T04:43:09.000Z"
   },
   {
    "duration": 18,
    "start_time": "2021-07-12T04:43:09.463Z"
   },
   {
    "duration": 103,
    "start_time": "2021-07-12T04:43:38.150Z"
   },
   {
    "duration": 24,
    "start_time": "2021-07-12T04:43:42.253Z"
   },
   {
    "duration": 5,
    "start_time": "2021-07-12T04:54:28.057Z"
   },
   {
    "duration": 6,
    "start_time": "2021-07-12T04:54:42.840Z"
   },
   {
    "duration": 1069,
    "start_time": "2021-07-12T04:54:50.693Z"
   },
   {
    "duration": 619,
    "start_time": "2021-07-12T04:54:51.764Z"
   },
   {
    "duration": 186,
    "start_time": "2021-07-12T04:54:52.385Z"
   },
   {
    "duration": 201,
    "start_time": "2021-07-12T04:54:52.573Z"
   },
   {
    "duration": 299,
    "start_time": "2021-07-12T04:54:52.776Z"
   },
   {
    "duration": 263,
    "start_time": "2021-07-12T04:54:53.077Z"
   },
   {
    "duration": 251,
    "start_time": "2021-07-12T04:54:53.342Z"
   },
   {
    "duration": 248,
    "start_time": "2021-07-12T04:54:53.595Z"
   },
   {
    "duration": 114,
    "start_time": "2021-07-12T04:54:53.845Z"
   },
   {
    "duration": 292,
    "start_time": "2021-07-12T04:54:53.960Z"
   },
   {
    "duration": 19,
    "start_time": "2021-07-12T04:54:54.254Z"
   },
   {
    "duration": 780,
    "start_time": "2021-07-12T04:54:54.275Z"
   },
   {
    "duration": 91,
    "start_time": "2021-07-12T04:54:55.057Z"
   },
   {
    "duration": 94,
    "start_time": "2021-07-12T04:54:55.149Z"
   },
   {
    "duration": 253,
    "start_time": "2021-07-12T04:54:55.245Z"
   },
   {
    "duration": 11,
    "start_time": "2021-07-12T04:54:55.500Z"
   },
   {
    "duration": 178,
    "start_time": "2021-07-12T04:54:55.512Z"
   },
   {
    "duration": 700,
    "start_time": "2021-07-12T04:54:55.692Z"
   },
   {
    "duration": 46,
    "start_time": "2021-07-12T04:54:56.394Z"
   },
   {
    "duration": 30,
    "start_time": "2021-07-12T04:54:56.442Z"
   },
   {
    "duration": 2650,
    "start_time": "2021-07-12T04:54:56.474Z"
   },
   {
    "duration": 59,
    "start_time": "2021-07-12T04:54:59.126Z"
   },
   {
    "duration": 19,
    "start_time": "2021-07-12T04:54:59.189Z"
   },
   {
    "duration": 8,
    "start_time": "2021-07-12T04:54:59.211Z"
   },
   {
    "duration": 22,
    "start_time": "2021-07-12T04:54:59.221Z"
   },
   {
    "duration": 436,
    "start_time": "2021-07-12T04:54:59.245Z"
   },
   {
    "duration": 37,
    "start_time": "2021-07-12T04:54:59.682Z"
   },
   {
    "duration": 23,
    "start_time": "2021-07-12T04:54:59.720Z"
   },
   {
    "duration": 17,
    "start_time": "2021-07-12T04:54:59.744Z"
   },
   {
    "duration": 27,
    "start_time": "2021-07-12T04:54:59.762Z"
   },
   {
    "duration": 4,
    "start_time": "2021-07-12T04:54:59.791Z"
   },
   {
    "duration": 217,
    "start_time": "2021-07-12T04:54:59.797Z"
   },
   {
    "duration": 6,
    "start_time": "2021-07-12T04:55:00.016Z"
   },
   {
    "duration": 47,
    "start_time": "2021-07-12T04:55:00.024Z"
   },
   {
    "duration": 5,
    "start_time": "2021-07-12T04:55:00.073Z"
   },
   {
    "duration": 12,
    "start_time": "2021-07-12T04:55:00.080Z"
   },
   {
    "duration": 50,
    "start_time": "2021-07-12T04:55:00.093Z"
   },
   {
    "duration": 4,
    "start_time": "2021-07-12T04:55:00.145Z"
   },
   {
    "duration": 6,
    "start_time": "2021-07-12T04:55:00.152Z"
   },
   {
    "duration": 17,
    "start_time": "2021-07-12T04:55:00.160Z"
   },
   {
    "duration": 309,
    "start_time": "2021-07-12T04:55:00.179Z"
   },
   {
    "duration": 7,
    "start_time": "2021-07-12T04:55:00.490Z"
   },
   {
    "duration": 13,
    "start_time": "2021-07-12T04:55:00.499Z"
   },
   {
    "duration": 16,
    "start_time": "2021-07-12T04:55:00.514Z"
   },
   {
    "duration": 11,
    "start_time": "2021-07-12T04:55:00.541Z"
   },
   {
    "duration": 154,
    "start_time": "2021-07-12T04:55:00.554Z"
   },
   {
    "duration": 9,
    "start_time": "2021-07-12T04:55:00.710Z"
   },
   {
    "duration": 63,
    "start_time": "2021-07-12T04:55:00.721Z"
   },
   {
    "duration": 17,
    "start_time": "2021-07-12T04:55:00.786Z"
   },
   {
    "duration": 12,
    "start_time": "2021-07-12T04:55:00.804Z"
   },
   {
    "duration": 33,
    "start_time": "2021-07-12T04:55:00.818Z"
   },
   {
    "duration": 4,
    "start_time": "2021-07-12T04:55:00.853Z"
   },
   {
    "duration": 24,
    "start_time": "2021-07-12T04:55:00.859Z"
   },
   {
    "duration": 25,
    "start_time": "2021-07-12T04:55:00.885Z"
   },
   {
    "duration": 272,
    "start_time": "2021-07-12T04:55:00.912Z"
   },
   {
    "duration": 10,
    "start_time": "2021-07-12T04:55:01.187Z"
   },
   {
    "duration": 466,
    "start_time": "2021-07-12T04:55:01.198Z"
   },
   {
    "duration": 5,
    "start_time": "2021-07-12T04:55:01.666Z"
   },
   {
    "duration": 25,
    "start_time": "2021-07-12T04:55:01.673Z"
   },
   {
    "duration": 50,
    "start_time": "2021-07-12T05:22:35.783Z"
   },
   {
    "duration": 338,
    "start_time": "2021-07-12T05:24:47.960Z"
   },
   {
    "duration": 20,
    "start_time": "2021-07-12T05:30:43.313Z"
   },
   {
    "duration": 403,
    "start_time": "2021-07-12T05:46:25.972Z"
   },
   {
    "duration": 329,
    "start_time": "2021-07-12T06:04:06.733Z"
   },
   {
    "duration": 3231,
    "start_time": "2021-07-12T06:04:13.502Z"
   },
   {
    "duration": 8978,
    "start_time": "2021-07-12T06:04:40.277Z"
   },
   {
    "duration": 3006,
    "start_time": "2021-07-12T06:05:47.594Z"
   },
   {
    "duration": 3023,
    "start_time": "2021-07-12T06:06:32.940Z"
   },
   {
    "duration": 278,
    "start_time": "2021-07-12T06:08:40.622Z"
   },
   {
    "duration": 16,
    "start_time": "2021-07-12T06:08:47.407Z"
   },
   {
    "duration": 12,
    "start_time": "2021-07-12T06:09:23.697Z"
   },
   {
    "duration": 10,
    "start_time": "2021-07-12T06:10:09.467Z"
   },
   {
    "duration": 6,
    "start_time": "2021-07-12T06:13:01.209Z"
   },
   {
    "duration": 11,
    "start_time": "2021-07-12T06:13:05.971Z"
   },
   {
    "duration": 4,
    "start_time": "2021-07-12T06:15:18.239Z"
   },
   {
    "duration": 13,
    "start_time": "2021-07-12T06:15:23.569Z"
   },
   {
    "duration": 27,
    "start_time": "2021-07-12T06:15:43.433Z"
   },
   {
    "duration": 19,
    "start_time": "2021-07-12T06:22:21.321Z"
   },
   {
    "duration": 20,
    "start_time": "2021-07-12T06:22:42.528Z"
   },
   {
    "duration": 13,
    "start_time": "2021-07-12T06:23:39.038Z"
   },
   {
    "duration": 12,
    "start_time": "2021-07-12T06:23:53.006Z"
   },
   {
    "duration": 267,
    "start_time": "2021-07-12T06:24:43.327Z"
   },
   {
    "duration": 8,
    "start_time": "2021-07-12T06:24:46.208Z"
   },
   {
    "duration": 20,
    "start_time": "2021-07-12T06:24:55.264Z"
   },
   {
    "duration": 8,
    "start_time": "2021-07-12T06:25:52.282Z"
   },
   {
    "duration": 19,
    "start_time": "2021-07-12T06:25:54.019Z"
   },
   {
    "duration": 1138,
    "start_time": "2021-07-12T06:26:14.439Z"
   },
   {
    "duration": 584,
    "start_time": "2021-07-12T06:26:15.578Z"
   },
   {
    "duration": 191,
    "start_time": "2021-07-12T06:26:16.164Z"
   },
   {
    "duration": 201,
    "start_time": "2021-07-12T06:26:16.357Z"
   },
   {
    "duration": 307,
    "start_time": "2021-07-12T06:26:16.560Z"
   },
   {
    "duration": 261,
    "start_time": "2021-07-12T06:26:16.869Z"
   },
   {
    "duration": 235,
    "start_time": "2021-07-12T06:26:17.132Z"
   },
   {
    "duration": 240,
    "start_time": "2021-07-12T06:26:17.369Z"
   },
   {
    "duration": 122,
    "start_time": "2021-07-12T06:26:17.611Z"
   },
   {
    "duration": 245,
    "start_time": "2021-07-12T06:26:17.735Z"
   },
   {
    "duration": 17,
    "start_time": "2021-07-12T06:26:17.982Z"
   },
   {
    "duration": 748,
    "start_time": "2021-07-12T06:26:18.001Z"
   },
   {
    "duration": 90,
    "start_time": "2021-07-12T06:26:18.751Z"
   },
   {
    "duration": 101,
    "start_time": "2021-07-12T06:26:18.842Z"
   },
   {
    "duration": 251,
    "start_time": "2021-07-12T06:26:18.945Z"
   },
   {
    "duration": 12,
    "start_time": "2021-07-12T06:26:19.197Z"
   },
   {
    "duration": 180,
    "start_time": "2021-07-12T06:26:19.210Z"
   },
   {
    "duration": 680,
    "start_time": "2021-07-12T06:26:19.391Z"
   },
   {
    "duration": 39,
    "start_time": "2021-07-12T06:26:20.072Z"
   },
   {
    "duration": 48,
    "start_time": "2021-07-12T06:26:20.112Z"
   },
   {
    "duration": 2653,
    "start_time": "2021-07-12T06:26:20.162Z"
   },
   {
    "duration": 66,
    "start_time": "2021-07-12T06:26:22.816Z"
   },
   {
    "duration": 20,
    "start_time": "2021-07-12T06:26:22.886Z"
   },
   {
    "duration": 13,
    "start_time": "2021-07-12T06:26:22.908Z"
   },
   {
    "duration": 30,
    "start_time": "2021-07-12T06:26:22.922Z"
   },
   {
    "duration": 450,
    "start_time": "2021-07-12T06:26:22.954Z"
   },
   {
    "duration": 47,
    "start_time": "2021-07-12T06:26:23.405Z"
   },
   {
    "duration": 9,
    "start_time": "2021-07-12T06:26:23.454Z"
   },
   {
    "duration": 18,
    "start_time": "2021-07-12T06:26:23.465Z"
   },
   {
    "duration": 29,
    "start_time": "2021-07-12T06:26:23.484Z"
   },
   {
    "duration": 28,
    "start_time": "2021-07-12T06:26:23.515Z"
   },
   {
    "duration": 193,
    "start_time": "2021-07-12T06:26:23.545Z"
   },
   {
    "duration": 5,
    "start_time": "2021-07-12T06:26:23.740Z"
   },
   {
    "duration": 38,
    "start_time": "2021-07-12T06:26:23.747Z"
   },
   {
    "duration": 5,
    "start_time": "2021-07-12T06:26:23.786Z"
   },
   {
    "duration": 17,
    "start_time": "2021-07-12T06:26:23.793Z"
   },
   {
    "duration": 59,
    "start_time": "2021-07-12T06:26:23.811Z"
   },
   {
    "duration": 4,
    "start_time": "2021-07-12T06:26:23.872Z"
   },
   {
    "duration": 19,
    "start_time": "2021-07-12T06:26:23.877Z"
   },
   {
    "duration": 15,
    "start_time": "2021-07-12T06:26:23.898Z"
   },
   {
    "duration": 285,
    "start_time": "2021-07-12T06:26:23.915Z"
   },
   {
    "duration": 6,
    "start_time": "2021-07-12T06:26:24.202Z"
   },
   {
    "duration": 8,
    "start_time": "2021-07-12T06:26:24.210Z"
   },
   {
    "duration": 26,
    "start_time": "2021-07-12T06:26:24.220Z"
   },
   {
    "duration": 21,
    "start_time": "2021-07-12T06:26:24.248Z"
   },
   {
    "duration": 154,
    "start_time": "2021-07-12T06:26:24.270Z"
   },
   {
    "duration": 10,
    "start_time": "2021-07-12T06:26:24.426Z"
   },
   {
    "duration": 50,
    "start_time": "2021-07-12T06:26:24.437Z"
   },
   {
    "duration": 14,
    "start_time": "2021-07-12T06:26:24.489Z"
   },
   {
    "duration": 10,
    "start_time": "2021-07-12T06:26:24.505Z"
   },
   {
    "duration": 31,
    "start_time": "2021-07-12T06:26:24.517Z"
   },
   {
    "duration": 4,
    "start_time": "2021-07-12T06:26:24.550Z"
   },
   {
    "duration": 23,
    "start_time": "2021-07-12T06:26:24.556Z"
   },
   {
    "duration": 6,
    "start_time": "2021-07-12T06:26:24.581Z"
   },
   {
    "duration": 294,
    "start_time": "2021-07-12T06:26:24.588Z"
   },
   {
    "duration": 3078,
    "start_time": "2021-07-12T06:26:24.884Z"
   },
   {
    "duration": 18,
    "start_time": "2021-07-12T06:26:27.963Z"
   },
   {
    "duration": 10,
    "start_time": "2021-07-12T06:26:27.982Z"
   },
   {
    "duration": 5,
    "start_time": "2021-07-12T06:26:27.993Z"
   },
   {
    "duration": 9,
    "start_time": "2021-07-12T06:26:27.999Z"
   },
   {
    "duration": 50,
    "start_time": "2021-07-12T06:26:28.010Z"
   },
   {
    "duration": 7,
    "start_time": "2021-07-12T06:26:28.062Z"
   },
   {
    "duration": 18,
    "start_time": "2021-07-12T06:27:35.966Z"
   },
   {
    "duration": 15,
    "start_time": "2021-07-12T06:29:56.324Z"
   },
   {
    "duration": 441,
    "start_time": "2021-07-12T06:38:33.294Z"
   },
   {
    "duration": 18,
    "start_time": "2021-07-12T06:38:41.730Z"
   },
   {
    "duration": 114,
    "start_time": "2021-07-12T06:51:18.975Z"
   },
   {
    "duration": 23,
    "start_time": "2021-07-12T06:51:23.008Z"
   },
   {
    "duration": -77,
    "start_time": "2021-07-12T07:07:16.576Z"
   },
   {
    "duration": 6,
    "start_time": "2021-07-12T07:07:56.991Z"
   },
   {
    "duration": 95,
    "start_time": "2021-07-12T07:08:12.609Z"
   },
   {
    "duration": 220,
    "start_time": "2021-07-12T07:09:03.818Z"
   },
   {
    "duration": 115,
    "start_time": "2021-07-12T07:09:25.851Z"
   },
   {
    "duration": 30,
    "start_time": "2021-07-12T07:10:18.677Z"
   },
   {
    "duration": 12,
    "start_time": "2021-07-12T07:10:24.173Z"
   },
   {
    "duration": 270,
    "start_time": "2021-07-12T07:11:43.321Z"
   },
   {
    "duration": 266,
    "start_time": "2021-07-12T07:12:08.235Z"
   },
   {
    "duration": 6385,
    "start_time": "2021-07-12T07:13:17.221Z"
   },
   {
    "duration": 1337,
    "start_time": "2021-07-12T07:14:40.517Z"
   },
   {
    "duration": 893,
    "start_time": "2021-07-12T07:14:41.856Z"
   },
   {
    "duration": 233,
    "start_time": "2021-07-12T07:14:42.751Z"
   },
   {
    "duration": 239,
    "start_time": "2021-07-12T07:14:42.986Z"
   },
   {
    "duration": 339,
    "start_time": "2021-07-12T07:14:43.226Z"
   },
   {
    "duration": 312,
    "start_time": "2021-07-12T07:14:43.567Z"
   },
   {
    "duration": 292,
    "start_time": "2021-07-12T07:14:43.882Z"
   },
   {
    "duration": 297,
    "start_time": "2021-07-12T07:14:44.177Z"
   },
   {
    "duration": 134,
    "start_time": "2021-07-12T07:14:44.476Z"
   },
   {
    "duration": 316,
    "start_time": "2021-07-12T07:14:44.611Z"
   },
   {
    "duration": 26,
    "start_time": "2021-07-12T07:14:44.929Z"
   },
   {
    "duration": 761,
    "start_time": "2021-07-12T07:14:44.956Z"
   },
   {
    "duration": 88,
    "start_time": "2021-07-12T07:14:45.719Z"
   },
   {
    "duration": 90,
    "start_time": "2021-07-12T07:14:45.808Z"
   },
   {
    "duration": 264,
    "start_time": "2021-07-12T07:14:45.899Z"
   },
   {
    "duration": 12,
    "start_time": "2021-07-12T07:14:46.165Z"
   },
   {
    "duration": 190,
    "start_time": "2021-07-12T07:14:46.178Z"
   },
   {
    "duration": 717,
    "start_time": "2021-07-12T07:14:46.369Z"
   },
   {
    "duration": 38,
    "start_time": "2021-07-12T07:14:47.087Z"
   },
   {
    "duration": 50,
    "start_time": "2021-07-12T07:14:47.141Z"
   },
   {
    "duration": 5453,
    "start_time": "2021-07-12T07:14:47.193Z"
   },
   {
    "duration": 102,
    "start_time": "2021-07-12T07:14:52.648Z"
   },
   {
    "duration": 32,
    "start_time": "2021-07-12T07:14:52.755Z"
   },
   {
    "duration": 7,
    "start_time": "2021-07-12T07:14:52.790Z"
   },
   {
    "duration": 16,
    "start_time": "2021-07-12T07:14:52.799Z"
   },
   {
    "duration": 669,
    "start_time": "2021-07-12T07:14:52.816Z"
   },
   {
    "duration": 40,
    "start_time": "2021-07-12T07:14:53.487Z"
   },
   {
    "duration": 21,
    "start_time": "2021-07-12T07:14:53.528Z"
   },
   {
    "duration": 22,
    "start_time": "2021-07-12T07:14:53.551Z"
   },
   {
    "duration": 30,
    "start_time": "2021-07-12T07:14:53.576Z"
   },
   {
    "duration": 4,
    "start_time": "2021-07-12T07:14:53.607Z"
   },
   {
    "duration": 232,
    "start_time": "2021-07-12T07:14:53.613Z"
   },
   {
    "duration": 6,
    "start_time": "2021-07-12T07:14:53.848Z"
   },
   {
    "duration": 36,
    "start_time": "2021-07-12T07:14:53.856Z"
   },
   {
    "duration": 6,
    "start_time": "2021-07-12T07:14:53.894Z"
   },
   {
    "duration": 51,
    "start_time": "2021-07-12T07:14:53.902Z"
   },
   {
    "duration": 46,
    "start_time": "2021-07-12T07:14:53.955Z"
   },
   {
    "duration": 4,
    "start_time": "2021-07-12T07:14:54.004Z"
   },
   {
    "duration": 9,
    "start_time": "2021-07-12T07:14:54.011Z"
   },
   {
    "duration": 9,
    "start_time": "2021-07-12T07:14:54.022Z"
   },
   {
    "duration": 365,
    "start_time": "2021-07-12T07:14:54.041Z"
   },
   {
    "duration": 6,
    "start_time": "2021-07-12T07:14:54.408Z"
   },
   {
    "duration": 26,
    "start_time": "2021-07-12T07:14:54.415Z"
   },
   {
    "duration": 33,
    "start_time": "2021-07-12T07:14:54.443Z"
   },
   {
    "duration": 12,
    "start_time": "2021-07-12T07:14:54.478Z"
   },
   {
    "duration": 153,
    "start_time": "2021-07-12T07:14:54.492Z"
   },
   {
    "duration": 11,
    "start_time": "2021-07-12T07:14:54.647Z"
   },
   {
    "duration": 92,
    "start_time": "2021-07-12T07:14:54.660Z"
   },
   {
    "duration": 16,
    "start_time": "2021-07-12T07:14:54.754Z"
   },
   {
    "duration": 12,
    "start_time": "2021-07-12T07:14:54.772Z"
   },
   {
    "duration": 18,
    "start_time": "2021-07-12T07:14:54.786Z"
   },
   {
    "duration": 47,
    "start_time": "2021-07-12T07:14:54.806Z"
   },
   {
    "duration": 15,
    "start_time": "2021-07-12T07:14:54.855Z"
   },
   {
    "duration": 7,
    "start_time": "2021-07-12T07:14:54.871Z"
   },
   {
    "duration": 322,
    "start_time": "2021-07-12T07:14:54.880Z"
   },
   {
    "duration": 570,
    "start_time": "2021-07-12T07:14:55.204Z"
   },
   {
    "duration": 122,
    "start_time": "2021-07-12T07:14:55.776Z"
   },
   {
    "duration": 3426,
    "start_time": "2021-07-12T07:14:55.900Z"
   },
   {
    "duration": 24,
    "start_time": "2021-07-12T07:14:59.328Z"
   },
   {
    "duration": 10,
    "start_time": "2021-07-12T07:14:59.355Z"
   },
   {
    "duration": 19,
    "start_time": "2021-07-12T07:14:59.367Z"
   },
   {
    "duration": 10,
    "start_time": "2021-07-12T07:14:59.388Z"
   },
   {
    "duration": 45,
    "start_time": "2021-07-12T07:14:59.399Z"
   },
   {
    "duration": 12,
    "start_time": "2021-07-12T07:14:59.446Z"
   },
   {
    "duration": 1194,
    "start_time": "2021-07-12T07:15:23.713Z"
   },
   {
    "duration": 692,
    "start_time": "2021-07-12T07:15:24.909Z"
   },
   {
    "duration": 297,
    "start_time": "2021-07-12T07:15:25.604Z"
   },
   {
    "duration": 276,
    "start_time": "2021-07-12T07:15:25.904Z"
   },
   {
    "duration": 440,
    "start_time": "2021-07-12T07:15:26.183Z"
   },
   {
    "duration": 400,
    "start_time": "2021-07-12T07:15:26.626Z"
   },
   {
    "duration": 366,
    "start_time": "2021-07-12T07:15:27.028Z"
   },
   {
    "duration": 289,
    "start_time": "2021-07-12T07:15:27.396Z"
   },
   {
    "duration": 114,
    "start_time": "2021-07-12T07:15:27.687Z"
   },
   {
    "duration": 263,
    "start_time": "2021-07-12T07:15:27.803Z"
   },
   {
    "duration": 18,
    "start_time": "2021-07-12T07:15:28.067Z"
   },
   {
    "duration": 800,
    "start_time": "2021-07-12T07:15:28.087Z"
   },
   {
    "duration": 97,
    "start_time": "2021-07-12T07:15:28.889Z"
   },
   {
    "duration": 105,
    "start_time": "2021-07-12T07:15:28.987Z"
   },
   {
    "duration": 287,
    "start_time": "2021-07-12T07:15:29.094Z"
   },
   {
    "duration": 11,
    "start_time": "2021-07-12T07:15:29.383Z"
   },
   {
    "duration": 190,
    "start_time": "2021-07-12T07:15:29.396Z"
   },
   {
    "duration": 753,
    "start_time": "2021-07-12T07:15:29.588Z"
   },
   {
    "duration": 48,
    "start_time": "2021-07-12T07:15:30.343Z"
   },
   {
    "duration": 48,
    "start_time": "2021-07-12T07:15:30.400Z"
   },
   {
    "duration": 2748,
    "start_time": "2021-07-12T07:15:30.450Z"
   },
   {
    "duration": 60,
    "start_time": "2021-07-12T07:15:33.200Z"
   },
   {
    "duration": 22,
    "start_time": "2021-07-12T07:15:33.263Z"
   },
   {
    "duration": 6,
    "start_time": "2021-07-12T07:15:33.287Z"
   },
   {
    "duration": 15,
    "start_time": "2021-07-12T07:15:33.295Z"
   },
   {
    "duration": 531,
    "start_time": "2021-07-12T07:15:33.312Z"
   },
   {
    "duration": 52,
    "start_time": "2021-07-12T07:15:33.845Z"
   },
   {
    "duration": 10,
    "start_time": "2021-07-12T07:15:33.898Z"
   },
   {
    "duration": 47,
    "start_time": "2021-07-12T07:15:33.910Z"
   },
   {
    "duration": 35,
    "start_time": "2021-07-12T07:15:33.959Z"
   },
   {
    "duration": 4,
    "start_time": "2021-07-12T07:15:33.996Z"
   },
   {
    "duration": 227,
    "start_time": "2021-07-12T07:15:34.001Z"
   },
   {
    "duration": 12,
    "start_time": "2021-07-12T07:15:34.230Z"
   },
   {
    "duration": 48,
    "start_time": "2021-07-12T07:15:34.244Z"
   },
   {
    "duration": 5,
    "start_time": "2021-07-12T07:15:34.294Z"
   },
   {
    "duration": 17,
    "start_time": "2021-07-12T07:15:34.300Z"
   },
   {
    "duration": 46,
    "start_time": "2021-07-12T07:15:34.318Z"
   },
   {
    "duration": 5,
    "start_time": "2021-07-12T07:15:34.366Z"
   },
   {
    "duration": 27,
    "start_time": "2021-07-12T07:15:34.373Z"
   },
   {
    "duration": 14,
    "start_time": "2021-07-12T07:15:34.402Z"
   },
   {
    "duration": 323,
    "start_time": "2021-07-12T07:15:34.418Z"
   },
   {
    "duration": 6,
    "start_time": "2021-07-12T07:15:34.743Z"
   },
   {
    "duration": 11,
    "start_time": "2021-07-12T07:15:34.750Z"
   },
   {
    "duration": 29,
    "start_time": "2021-07-12T07:15:34.763Z"
   },
   {
    "duration": 15,
    "start_time": "2021-07-12T07:15:34.794Z"
   },
   {
    "duration": 214,
    "start_time": "2021-07-12T07:15:34.811Z"
   },
   {
    "duration": 20,
    "start_time": "2021-07-12T07:15:35.028Z"
   },
   {
    "duration": 63,
    "start_time": "2021-07-12T07:15:35.051Z"
   },
   {
    "duration": 32,
    "start_time": "2021-07-12T07:15:35.115Z"
   },
   {
    "duration": 13,
    "start_time": "2021-07-12T07:15:35.149Z"
   },
   {
    "duration": 24,
    "start_time": "2021-07-12T07:15:35.164Z"
   },
   {
    "duration": 40,
    "start_time": "2021-07-12T07:15:35.190Z"
   },
   {
    "duration": 17,
    "start_time": "2021-07-12T07:15:35.232Z"
   },
   {
    "duration": 6,
    "start_time": "2021-07-12T07:15:35.251Z"
   },
   {
    "duration": 325,
    "start_time": "2021-07-12T07:15:35.259Z"
   },
   {
    "duration": 524,
    "start_time": "2021-07-12T07:15:35.585Z"
   },
   {
    "duration": 4044,
    "start_time": "2021-07-12T07:15:36.112Z"
   },
   {
    "duration": 26,
    "start_time": "2021-07-12T07:15:40.158Z"
   },
   {
    "duration": 11,
    "start_time": "2021-07-12T07:15:40.185Z"
   },
   {
    "duration": 8,
    "start_time": "2021-07-12T07:15:40.197Z"
   },
   {
    "duration": 6,
    "start_time": "2021-07-12T07:15:40.207Z"
   },
   {
    "duration": 60,
    "start_time": "2021-07-12T07:15:40.214Z"
   },
   {
    "duration": 16,
    "start_time": "2021-07-12T07:15:40.275Z"
   },
   {
    "duration": 18,
    "start_time": "2021-07-12T07:15:40.294Z"
   },
   {
    "duration": 1109,
    "start_time": "2021-07-12T07:16:24.449Z"
   },
   {
    "duration": 19,
    "start_time": "2021-07-12T07:17:01.060Z"
   },
   {
    "duration": 1106,
    "start_time": "2021-07-12T07:17:36.318Z"
   },
   {
    "duration": 1091,
    "start_time": "2021-07-12T07:18:18.960Z"
   },
   {
    "duration": 641,
    "start_time": "2021-07-12T07:18:20.053Z"
   },
   {
    "duration": 199,
    "start_time": "2021-07-12T07:18:20.695Z"
   },
   {
    "duration": 208,
    "start_time": "2021-07-12T07:18:20.896Z"
   },
   {
    "duration": 314,
    "start_time": "2021-07-12T07:18:21.106Z"
   },
   {
    "duration": 274,
    "start_time": "2021-07-12T07:18:21.422Z"
   },
   {
    "duration": 365,
    "start_time": "2021-07-12T07:18:21.697Z"
   },
   {
    "duration": 363,
    "start_time": "2021-07-12T07:18:22.065Z"
   },
   {
    "duration": 189,
    "start_time": "2021-07-12T07:18:22.431Z"
   },
   {
    "duration": 307,
    "start_time": "2021-07-12T07:18:22.622Z"
   },
   {
    "duration": 27,
    "start_time": "2021-07-12T07:18:22.930Z"
   },
   {
    "duration": 1042,
    "start_time": "2021-07-12T07:18:22.959Z"
   },
   {
    "duration": 109,
    "start_time": "2021-07-12T07:18:24.002Z"
   },
   {
    "duration": 119,
    "start_time": "2021-07-12T07:18:24.113Z"
   },
   {
    "duration": 446,
    "start_time": "2021-07-12T07:18:24.234Z"
   },
   {
    "duration": 16,
    "start_time": "2021-07-12T07:18:24.683Z"
   },
   {
    "duration": 211,
    "start_time": "2021-07-12T07:18:24.701Z"
   },
   {
    "duration": 1014,
    "start_time": "2021-07-12T07:18:24.914Z"
   },
   {
    "duration": 63,
    "start_time": "2021-07-12T07:18:25.930Z"
   },
   {
    "duration": 74,
    "start_time": "2021-07-12T07:18:25.995Z"
   },
   {
    "duration": 3395,
    "start_time": "2021-07-12T07:18:26.072Z"
   },
   {
    "duration": 72,
    "start_time": "2021-07-12T07:18:29.469Z"
   },
   {
    "duration": 39,
    "start_time": "2021-07-12T07:18:29.547Z"
   },
   {
    "duration": 5,
    "start_time": "2021-07-12T07:18:29.590Z"
   },
   {
    "duration": 18,
    "start_time": "2021-07-12T07:18:29.597Z"
   },
   {
    "duration": 570,
    "start_time": "2021-07-12T07:18:29.616Z"
   },
   {
    "duration": 54,
    "start_time": "2021-07-12T07:18:30.189Z"
   },
   {
    "duration": 13,
    "start_time": "2021-07-12T07:18:30.245Z"
   },
   {
    "duration": 31,
    "start_time": "2021-07-12T07:18:30.265Z"
   },
   {
    "duration": 29,
    "start_time": "2021-07-12T07:18:30.298Z"
   },
   {
    "duration": 23,
    "start_time": "2021-07-12T07:18:30.329Z"
   },
   {
    "duration": 258,
    "start_time": "2021-07-12T07:18:30.355Z"
   },
   {
    "duration": 6,
    "start_time": "2021-07-12T07:18:30.616Z"
   },
   {
    "duration": 66,
    "start_time": "2021-07-12T07:18:30.624Z"
   },
   {
    "duration": 5,
    "start_time": "2021-07-12T07:18:30.692Z"
   },
   {
    "duration": 19,
    "start_time": "2021-07-12T07:18:30.700Z"
   },
   {
    "duration": 67,
    "start_time": "2021-07-12T07:18:30.721Z"
   },
   {
    "duration": 4,
    "start_time": "2021-07-12T07:18:30.790Z"
   },
   {
    "duration": 23,
    "start_time": "2021-07-12T07:18:30.795Z"
   },
   {
    "duration": 20,
    "start_time": "2021-07-12T07:18:30.820Z"
   },
   {
    "duration": 351,
    "start_time": "2021-07-12T07:18:30.844Z"
   },
   {
    "duration": 7,
    "start_time": "2021-07-12T07:18:31.197Z"
   },
   {
    "duration": 21,
    "start_time": "2021-07-12T07:18:31.206Z"
   },
   {
    "duration": 26,
    "start_time": "2021-07-12T07:18:31.229Z"
   },
   {
    "duration": 15,
    "start_time": "2021-07-12T07:18:31.259Z"
   },
   {
    "duration": 172,
    "start_time": "2021-07-12T07:18:31.277Z"
   },
   {
    "duration": 15,
    "start_time": "2021-07-12T07:18:31.451Z"
   },
   {
    "duration": 59,
    "start_time": "2021-07-12T07:18:31.468Z"
   },
   {
    "duration": 24,
    "start_time": "2021-07-12T07:18:31.529Z"
   },
   {
    "duration": 16,
    "start_time": "2021-07-12T07:18:31.558Z"
   },
   {
    "duration": 23,
    "start_time": "2021-07-12T07:18:31.576Z"
   },
   {
    "duration": 5,
    "start_time": "2021-07-12T07:18:31.601Z"
   },
   {
    "duration": 44,
    "start_time": "2021-07-12T07:18:31.608Z"
   },
   {
    "duration": 6,
    "start_time": "2021-07-12T07:18:31.655Z"
   },
   {
    "duration": 353,
    "start_time": "2021-07-12T07:18:31.664Z"
   },
   {
    "duration": 2,
    "start_time": "2021-07-12T07:18:32.019Z"
   },
   {
    "duration": 4325,
    "start_time": "2021-07-12T07:18:32.023Z"
   },
   {
    "duration": 30,
    "start_time": "2021-07-12T07:18:36.350Z"
   },
   {
    "duration": 14,
    "start_time": "2021-07-12T07:18:36.382Z"
   },
   {
    "duration": 15,
    "start_time": "2021-07-12T07:18:36.398Z"
   },
   {
    "duration": 14,
    "start_time": "2021-07-12T07:18:36.415Z"
   },
   {
    "duration": 62,
    "start_time": "2021-07-12T07:18:36.431Z"
   },
   {
    "duration": 14,
    "start_time": "2021-07-12T07:18:36.495Z"
   },
   {
    "duration": 31,
    "start_time": "2021-07-12T07:18:36.512Z"
   },
   {
    "duration": 3,
    "start_time": "2021-07-12T07:20:24.817Z"
   },
   {
    "duration": 454,
    "start_time": "2021-07-12T07:20:46.569Z"
   },
   {
    "duration": 19,
    "start_time": "2021-07-12T07:20:49.405Z"
   },
   {
    "duration": 1270,
    "start_time": "2021-07-12T07:22:12.469Z"
   },
   {
    "duration": 12,
    "start_time": "2021-07-12T07:22:31.860Z"
   },
   {
    "duration": 3,
    "start_time": "2021-07-12T07:22:51.535Z"
   },
   {
    "duration": 12,
    "start_time": "2021-07-12T07:22:56.333Z"
   },
   {
    "duration": 117,
    "start_time": "2021-07-12T07:23:33.472Z"
   },
   {
    "duration": 8,
    "start_time": "2021-07-12T07:23:36.071Z"
   },
   {
    "duration": 1147,
    "start_time": "2021-07-12T07:28:19.736Z"
   },
   {
    "duration": 649,
    "start_time": "2021-07-12T07:28:20.885Z"
   },
   {
    "duration": 186,
    "start_time": "2021-07-12T07:28:21.536Z"
   },
   {
    "duration": 207,
    "start_time": "2021-07-12T07:28:21.724Z"
   },
   {
    "duration": 309,
    "start_time": "2021-07-12T07:28:21.932Z"
   },
   {
    "duration": 262,
    "start_time": "2021-07-12T07:28:22.242Z"
   },
   {
    "duration": 248,
    "start_time": "2021-07-12T07:28:22.506Z"
   },
   {
    "duration": 250,
    "start_time": "2021-07-12T07:28:22.756Z"
   },
   {
    "duration": 117,
    "start_time": "2021-07-12T07:28:23.009Z"
   },
   {
    "duration": 282,
    "start_time": "2021-07-12T07:28:23.128Z"
   },
   {
    "duration": 31,
    "start_time": "2021-07-12T07:28:23.412Z"
   },
   {
    "duration": 708,
    "start_time": "2021-07-12T07:28:23.445Z"
   },
   {
    "duration": 86,
    "start_time": "2021-07-12T07:28:24.155Z"
   },
   {
    "duration": 100,
    "start_time": "2021-07-12T07:28:24.243Z"
   },
   {
    "duration": 265,
    "start_time": "2021-07-12T07:28:24.345Z"
   },
   {
    "duration": 10,
    "start_time": "2021-07-12T07:28:24.612Z"
   },
   {
    "duration": 182,
    "start_time": "2021-07-12T07:28:24.624Z"
   },
   {
    "duration": 679,
    "start_time": "2021-07-12T07:28:24.808Z"
   },
   {
    "duration": 54,
    "start_time": "2021-07-12T07:28:25.489Z"
   },
   {
    "duration": 31,
    "start_time": "2021-07-12T07:28:25.545Z"
   },
   {
    "duration": 2729,
    "start_time": "2021-07-12T07:28:25.578Z"
   },
   {
    "duration": 63,
    "start_time": "2021-07-12T07:28:28.309Z"
   },
   {
    "duration": 21,
    "start_time": "2021-07-12T07:28:28.376Z"
   },
   {
    "duration": 7,
    "start_time": "2021-07-12T07:28:28.399Z"
   },
   {
    "duration": 17,
    "start_time": "2021-07-12T07:28:28.407Z"
   },
   {
    "duration": 450,
    "start_time": "2021-07-12T07:28:28.425Z"
   },
   {
    "duration": 40,
    "start_time": "2021-07-12T07:28:28.876Z"
   },
   {
    "duration": 25,
    "start_time": "2021-07-12T07:28:28.918Z"
   },
   {
    "duration": 18,
    "start_time": "2021-07-12T07:28:28.945Z"
   },
   {
    "duration": 27,
    "start_time": "2021-07-12T07:28:28.965Z"
   },
   {
    "duration": 5,
    "start_time": "2021-07-12T07:28:28.994Z"
   },
   {
    "duration": 207,
    "start_time": "2021-07-12T07:28:29.001Z"
   },
   {
    "duration": 10,
    "start_time": "2021-07-12T07:28:29.210Z"
   },
   {
    "duration": 40,
    "start_time": "2021-07-12T07:28:29.221Z"
   },
   {
    "duration": 5,
    "start_time": "2021-07-12T07:28:29.262Z"
   },
   {
    "duration": 10,
    "start_time": "2021-07-12T07:28:29.268Z"
   },
   {
    "duration": 36,
    "start_time": "2021-07-12T07:28:29.279Z"
   },
   {
    "duration": 4,
    "start_time": "2021-07-12T07:28:29.316Z"
   },
   {
    "duration": 4,
    "start_time": "2021-07-12T07:28:29.341Z"
   },
   {
    "duration": 11,
    "start_time": "2021-07-12T07:28:29.347Z"
   },
   {
    "duration": 276,
    "start_time": "2021-07-12T07:28:29.360Z"
   },
   {
    "duration": 7,
    "start_time": "2021-07-12T07:28:29.637Z"
   },
   {
    "duration": 13,
    "start_time": "2021-07-12T07:28:29.645Z"
   },
   {
    "duration": 26,
    "start_time": "2021-07-12T07:28:29.660Z"
   },
   {
    "duration": 15,
    "start_time": "2021-07-12T07:28:29.688Z"
   },
   {
    "duration": 153,
    "start_time": "2021-07-12T07:28:29.705Z"
   },
   {
    "duration": 9,
    "start_time": "2021-07-12T07:28:29.860Z"
   },
   {
    "duration": 64,
    "start_time": "2021-07-12T07:28:29.871Z"
   },
   {
    "duration": 13,
    "start_time": "2021-07-12T07:28:29.937Z"
   },
   {
    "duration": 14,
    "start_time": "2021-07-12T07:28:29.952Z"
   },
   {
    "duration": 32,
    "start_time": "2021-07-12T07:28:29.968Z"
   },
   {
    "duration": 15,
    "start_time": "2021-07-12T07:28:30.002Z"
   },
   {
    "duration": 37,
    "start_time": "2021-07-12T07:28:30.019Z"
   },
   {
    "duration": 30,
    "start_time": "2021-07-12T07:28:30.058Z"
   },
   {
    "duration": 304,
    "start_time": "2021-07-12T07:28:30.090Z"
   },
   {
    "duration": 4,
    "start_time": "2021-07-12T07:28:30.396Z"
   },
   {
    "duration": 471,
    "start_time": "2021-07-12T07:28:30.402Z"
   },
   {
    "duration": 19,
    "start_time": "2021-07-12T07:28:30.875Z"
   },
   {
    "duration": 17,
    "start_time": "2021-07-12T07:28:30.896Z"
   },
   {
    "duration": 395,
    "start_time": "2021-07-12T07:28:30.914Z"
   },
   {
    "duration": -86,
    "start_time": "2021-07-12T07:28:31.397Z"
   },
   {
    "duration": -93,
    "start_time": "2021-07-12T07:28:31.405Z"
   },
   {
    "duration": -95,
    "start_time": "2021-07-12T07:28:31.408Z"
   },
   {
    "duration": -98,
    "start_time": "2021-07-12T07:28:31.412Z"
   },
   {
    "duration": -107,
    "start_time": "2021-07-12T07:28:31.421Z"
   },
   {
    "duration": -109,
    "start_time": "2021-07-12T07:28:31.425Z"
   },
   {
    "duration": 12,
    "start_time": "2021-07-12T07:28:54.221Z"
   },
   {
    "duration": 282,
    "start_time": "2021-07-12T07:32:48.950Z"
   },
   {
    "duration": 22,
    "start_time": "2021-07-12T07:32:52.495Z"
   },
   {
    "duration": 32,
    "start_time": "2021-07-12T07:33:29.048Z"
   },
   {
    "duration": 23,
    "start_time": "2021-07-12T07:33:33.008Z"
   },
   {
    "duration": 14,
    "start_time": "2021-07-12T07:38:28.411Z"
   },
   {
    "duration": 33,
    "start_time": "2021-07-12T08:18:43.852Z"
   },
   {
    "duration": 44,
    "start_time": "2021-07-12T08:22:15.082Z"
   },
   {
    "duration": 1109,
    "start_time": "2021-07-12T08:22:43.338Z"
   },
   {
    "duration": 618,
    "start_time": "2021-07-12T08:22:44.449Z"
   },
   {
    "duration": 185,
    "start_time": "2021-07-12T08:22:45.069Z"
   },
   {
    "duration": 219,
    "start_time": "2021-07-12T08:22:45.256Z"
   },
   {
    "duration": 306,
    "start_time": "2021-07-12T08:22:45.476Z"
   },
   {
    "duration": 264,
    "start_time": "2021-07-12T08:22:45.783Z"
   },
   {
    "duration": 250,
    "start_time": "2021-07-12T08:22:46.049Z"
   },
   {
    "duration": 239,
    "start_time": "2021-07-12T08:22:46.301Z"
   },
   {
    "duration": 114,
    "start_time": "2021-07-12T08:22:46.543Z"
   },
   {
    "duration": 253,
    "start_time": "2021-07-12T08:22:46.659Z"
   },
   {
    "duration": 29,
    "start_time": "2021-07-12T08:22:46.914Z"
   },
   {
    "duration": 699,
    "start_time": "2021-07-12T08:22:46.945Z"
   },
   {
    "duration": 77,
    "start_time": "2021-07-12T08:22:47.646Z"
   },
   {
    "duration": 102,
    "start_time": "2021-07-12T08:22:47.725Z"
   },
   {
    "duration": 257,
    "start_time": "2021-07-12T08:22:47.829Z"
   },
   {
    "duration": 12,
    "start_time": "2021-07-12T08:22:48.088Z"
   },
   {
    "duration": 282,
    "start_time": "2021-07-12T08:22:48.102Z"
   },
   {
    "duration": 704,
    "start_time": "2021-07-12T08:22:48.386Z"
   },
   {
    "duration": 49,
    "start_time": "2021-07-12T08:22:49.092Z"
   },
   {
    "duration": 34,
    "start_time": "2021-07-12T08:22:49.143Z"
   },
   {
    "duration": 2911,
    "start_time": "2021-07-12T08:22:49.179Z"
   },
   {
    "duration": 62,
    "start_time": "2021-07-12T08:22:52.092Z"
   },
   {
    "duration": 20,
    "start_time": "2021-07-12T08:22:52.158Z"
   },
   {
    "duration": 19,
    "start_time": "2021-07-12T08:22:52.180Z"
   },
   {
    "duration": 23,
    "start_time": "2021-07-12T08:22:52.201Z"
   },
   {
    "duration": 423,
    "start_time": "2021-07-12T08:22:52.226Z"
   },
   {
    "duration": 39,
    "start_time": "2021-07-12T08:22:52.651Z"
   },
   {
    "duration": 12,
    "start_time": "2021-07-12T08:22:52.692Z"
   },
   {
    "duration": 41,
    "start_time": "2021-07-12T08:22:52.706Z"
   },
   {
    "duration": 26,
    "start_time": "2021-07-12T08:22:52.749Z"
   },
   {
    "duration": 4,
    "start_time": "2021-07-12T08:22:52.777Z"
   },
   {
    "duration": 196,
    "start_time": "2021-07-12T08:22:52.783Z"
   },
   {
    "duration": 4,
    "start_time": "2021-07-12T08:22:52.981Z"
   },
   {
    "duration": 32,
    "start_time": "2021-07-12T08:22:52.987Z"
   },
   {
    "duration": 21,
    "start_time": "2021-07-12T08:22:53.020Z"
   },
   {
    "duration": 11,
    "start_time": "2021-07-12T08:22:53.043Z"
   },
   {
    "duration": 37,
    "start_time": "2021-07-12T08:22:53.056Z"
   },
   {
    "duration": 3,
    "start_time": "2021-07-12T08:22:53.095Z"
   },
   {
    "duration": 8,
    "start_time": "2021-07-12T08:22:53.100Z"
   },
   {
    "duration": 10,
    "start_time": "2021-07-12T08:22:53.109Z"
   },
   {
    "duration": 300,
    "start_time": "2021-07-12T08:22:53.120Z"
   },
   {
    "duration": 7,
    "start_time": "2021-07-12T08:22:53.422Z"
   },
   {
    "duration": 16,
    "start_time": "2021-07-12T08:22:53.430Z"
   },
   {
    "duration": 9,
    "start_time": "2021-07-12T08:22:53.448Z"
   },
   {
    "duration": 9,
    "start_time": "2021-07-12T08:22:53.459Z"
   },
   {
    "duration": 158,
    "start_time": "2021-07-12T08:22:53.470Z"
   },
   {
    "duration": 13,
    "start_time": "2021-07-12T08:22:53.630Z"
   },
   {
    "duration": 48,
    "start_time": "2021-07-12T08:22:53.645Z"
   },
   {
    "duration": 14,
    "start_time": "2021-07-12T08:22:53.695Z"
   },
   {
    "duration": 31,
    "start_time": "2021-07-12T08:22:53.711Z"
   },
   {
    "duration": 16,
    "start_time": "2021-07-12T08:22:53.744Z"
   },
   {
    "duration": 7,
    "start_time": "2021-07-12T08:22:53.762Z"
   },
   {
    "duration": 15,
    "start_time": "2021-07-12T08:22:53.770Z"
   },
   {
    "duration": 367,
    "start_time": "2021-07-12T08:22:53.787Z"
   },
   {
    "duration": 4,
    "start_time": "2021-07-12T08:22:54.157Z"
   },
   {
    "duration": 615,
    "start_time": "2021-07-12T08:22:54.163Z"
   },
   {
    "duration": 30,
    "start_time": "2021-07-12T08:22:54.780Z"
   },
   {
    "duration": 5,
    "start_time": "2021-07-12T08:22:54.812Z"
   },
   {
    "duration": 22,
    "start_time": "2021-07-12T08:22:54.819Z"
   },
   {
    "duration": 63,
    "start_time": "2021-07-12T08:22:54.843Z"
   },
   {
    "duration": 10,
    "start_time": "2021-07-12T08:22:54.908Z"
   },
   {
    "duration": 440,
    "start_time": "2021-07-12T08:22:54.920Z"
   },
   {
    "duration": 191,
    "start_time": "2021-07-12T08:23:28.213Z"
   },
   {
    "duration": 61,
    "start_time": "2021-07-12T08:23:29.844Z"
   },
   {
    "duration": 1123,
    "start_time": "2021-07-12T08:23:58.085Z"
   },
   {
    "duration": 599,
    "start_time": "2021-07-12T08:23:59.210Z"
   },
   {
    "duration": 184,
    "start_time": "2021-07-12T08:23:59.811Z"
   },
   {
    "duration": 208,
    "start_time": "2021-07-12T08:23:59.997Z"
   },
   {
    "duration": 303,
    "start_time": "2021-07-12T08:24:00.206Z"
   },
   {
    "duration": 260,
    "start_time": "2021-07-12T08:24:00.512Z"
   },
   {
    "duration": 236,
    "start_time": "2021-07-12T08:24:00.774Z"
   },
   {
    "duration": 239,
    "start_time": "2021-07-12T08:24:01.012Z"
   },
   {
    "duration": 115,
    "start_time": "2021-07-12T08:24:01.253Z"
   },
   {
    "duration": 256,
    "start_time": "2021-07-12T08:24:01.370Z"
   },
   {
    "duration": 23,
    "start_time": "2021-07-12T08:24:01.628Z"
   },
   {
    "duration": 1165,
    "start_time": "2021-07-12T08:24:01.653Z"
   },
   {
    "duration": 108,
    "start_time": "2021-07-12T08:24:02.821Z"
   },
   {
    "duration": 150,
    "start_time": "2021-07-12T08:24:02.931Z"
   },
   {
    "duration": 334,
    "start_time": "2021-07-12T08:24:03.083Z"
   },
   {
    "duration": 13,
    "start_time": "2021-07-12T08:24:03.419Z"
   },
   {
    "duration": 241,
    "start_time": "2021-07-12T08:24:03.441Z"
   },
   {
    "duration": 712,
    "start_time": "2021-07-12T08:24:03.684Z"
   },
   {
    "duration": 50,
    "start_time": "2021-07-12T08:24:04.398Z"
   },
   {
    "duration": 31,
    "start_time": "2021-07-12T08:24:04.450Z"
   },
   {
    "duration": 2615,
    "start_time": "2021-07-12T08:24:04.483Z"
   },
   {
    "duration": 64,
    "start_time": "2021-07-12T08:24:07.100Z"
   },
   {
    "duration": 21,
    "start_time": "2021-07-12T08:24:07.167Z"
   },
   {
    "duration": 20,
    "start_time": "2021-07-12T08:24:07.190Z"
   },
   {
    "duration": 70,
    "start_time": "2021-07-12T08:24:07.211Z"
   },
   {
    "duration": 426,
    "start_time": "2021-07-12T08:24:07.283Z"
   },
   {
    "duration": 47,
    "start_time": "2021-07-12T08:24:07.711Z"
   },
   {
    "duration": 9,
    "start_time": "2021-07-12T08:24:07.760Z"
   },
   {
    "duration": 22,
    "start_time": "2021-07-12T08:24:07.771Z"
   },
   {
    "duration": 29,
    "start_time": "2021-07-12T08:24:07.795Z"
   },
   {
    "duration": 16,
    "start_time": "2021-07-12T08:24:07.826Z"
   },
   {
    "duration": 282,
    "start_time": "2021-07-12T08:24:07.844Z"
   },
   {
    "duration": 4,
    "start_time": "2021-07-12T08:24:08.128Z"
   },
   {
    "duration": 30,
    "start_time": "2021-07-12T08:24:08.141Z"
   },
   {
    "duration": 4,
    "start_time": "2021-07-12T08:24:08.172Z"
   },
   {
    "duration": 20,
    "start_time": "2021-07-12T08:24:08.178Z"
   },
   {
    "duration": 42,
    "start_time": "2021-07-12T08:24:08.200Z"
   },
   {
    "duration": 3,
    "start_time": "2021-07-12T08:24:08.244Z"
   },
   {
    "duration": 6,
    "start_time": "2021-07-12T08:24:08.249Z"
   },
   {
    "duration": 9,
    "start_time": "2021-07-12T08:24:08.257Z"
   },
   {
    "duration": 286,
    "start_time": "2021-07-12T08:24:08.268Z"
   },
   {
    "duration": 6,
    "start_time": "2021-07-12T08:24:08.556Z"
   },
   {
    "duration": 9,
    "start_time": "2021-07-12T08:24:08.564Z"
   },
   {
    "duration": 14,
    "start_time": "2021-07-12T08:24:08.575Z"
   },
   {
    "duration": 15,
    "start_time": "2021-07-12T08:24:08.590Z"
   },
   {
    "duration": 159,
    "start_time": "2021-07-12T08:24:08.607Z"
   },
   {
    "duration": 8,
    "start_time": "2021-07-12T08:24:08.768Z"
   },
   {
    "duration": 55,
    "start_time": "2021-07-12T08:24:08.778Z"
   },
   {
    "duration": 20,
    "start_time": "2021-07-12T08:24:08.835Z"
   },
   {
    "duration": 11,
    "start_time": "2021-07-12T08:24:08.856Z"
   },
   {
    "duration": 24,
    "start_time": "2021-07-12T08:24:08.869Z"
   },
   {
    "duration": 6,
    "start_time": "2021-07-12T08:24:08.895Z"
   },
   {
    "duration": 17,
    "start_time": "2021-07-12T08:24:08.902Z"
   },
   {
    "duration": 292,
    "start_time": "2021-07-12T08:24:08.920Z"
   },
   {
    "duration": 3,
    "start_time": "2021-07-12T08:24:09.213Z"
   },
   {
    "duration": 445,
    "start_time": "2021-07-12T08:24:09.218Z"
   },
   {
    "duration": 18,
    "start_time": "2021-07-12T08:24:09.664Z"
   },
   {
    "duration": 5,
    "start_time": "2021-07-12T08:24:09.684Z"
   },
   {
    "duration": 7,
    "start_time": "2021-07-12T08:24:09.691Z"
   },
   {
    "duration": 14,
    "start_time": "2021-07-12T08:24:09.700Z"
   },
   {
    "duration": 1116,
    "start_time": "2021-07-13T03:13:42.564Z"
   },
   {
    "duration": 601,
    "start_time": "2021-07-13T03:13:43.681Z"
   },
   {
    "duration": 201,
    "start_time": "2021-07-13T03:13:44.284Z"
   },
   {
    "duration": 214,
    "start_time": "2021-07-13T03:13:44.487Z"
   },
   {
    "duration": 311,
    "start_time": "2021-07-13T03:13:44.703Z"
   },
   {
    "duration": 277,
    "start_time": "2021-07-13T03:13:45.015Z"
   },
   {
    "duration": 257,
    "start_time": "2021-07-13T03:13:45.293Z"
   },
   {
    "duration": 241,
    "start_time": "2021-07-13T03:13:45.552Z"
   },
   {
    "duration": 112,
    "start_time": "2021-07-13T03:13:45.795Z"
   },
   {
    "duration": 280,
    "start_time": "2021-07-13T03:13:45.909Z"
   },
   {
    "duration": 17,
    "start_time": "2021-07-13T03:13:46.191Z"
   },
   {
    "duration": 751,
    "start_time": "2021-07-13T03:13:46.210Z"
   },
   {
    "duration": 85,
    "start_time": "2021-07-13T03:13:46.963Z"
   },
   {
    "duration": 92,
    "start_time": "2021-07-13T03:13:47.050Z"
   },
   {
    "duration": 270,
    "start_time": "2021-07-13T03:13:47.143Z"
   },
   {
    "duration": 12,
    "start_time": "2021-07-13T03:13:47.414Z"
   },
   {
    "duration": 185,
    "start_time": "2021-07-13T03:13:47.428Z"
   },
   {
    "duration": 684,
    "start_time": "2021-07-13T03:13:47.614Z"
   },
   {
    "duration": 40,
    "start_time": "2021-07-13T03:13:48.300Z"
   },
   {
    "duration": 50,
    "start_time": "2021-07-13T03:13:48.341Z"
   },
   {
    "duration": 2520,
    "start_time": "2021-07-13T03:13:48.392Z"
   },
   {
    "duration": 56,
    "start_time": "2021-07-13T03:13:50.913Z"
   },
   {
    "duration": 28,
    "start_time": "2021-07-13T03:13:50.972Z"
   },
   {
    "duration": 10,
    "start_time": "2021-07-13T03:13:51.002Z"
   },
   {
    "duration": 16,
    "start_time": "2021-07-13T03:13:51.013Z"
   },
   {
    "duration": 474,
    "start_time": "2021-07-13T03:13:51.030Z"
   },
   {
    "duration": 39,
    "start_time": "2021-07-13T03:13:51.505Z"
   },
   {
    "duration": 9,
    "start_time": "2021-07-13T03:13:51.546Z"
   },
   {
    "duration": 34,
    "start_time": "2021-07-13T03:13:51.556Z"
   },
   {
    "duration": 28,
    "start_time": "2021-07-13T03:13:51.592Z"
   },
   {
    "duration": 4,
    "start_time": "2021-07-13T03:13:51.622Z"
   },
   {
    "duration": 211,
    "start_time": "2021-07-13T03:13:51.627Z"
   },
   {
    "duration": 4,
    "start_time": "2021-07-13T03:13:51.840Z"
   },
   {
    "duration": 44,
    "start_time": "2021-07-13T03:13:51.845Z"
   },
   {
    "duration": 4,
    "start_time": "2021-07-13T03:13:51.891Z"
   },
   {
    "duration": 9,
    "start_time": "2021-07-13T03:13:51.897Z"
   },
   {
    "duration": 31,
    "start_time": "2021-07-13T03:13:51.908Z"
   },
   {
    "duration": 3,
    "start_time": "2021-07-13T03:13:51.941Z"
   },
   {
    "duration": 7,
    "start_time": "2021-07-13T03:13:51.945Z"
   },
   {
    "duration": 31,
    "start_time": "2021-07-13T03:13:51.954Z"
   },
   {
    "duration": 298,
    "start_time": "2021-07-13T03:13:51.986Z"
   },
   {
    "duration": 6,
    "start_time": "2021-07-13T03:13:52.286Z"
   },
   {
    "duration": 9,
    "start_time": "2021-07-13T03:13:52.293Z"
   },
   {
    "duration": 10,
    "start_time": "2021-07-13T03:13:52.303Z"
   },
   {
    "duration": 9,
    "start_time": "2021-07-13T03:13:52.315Z"
   },
   {
    "duration": 174,
    "start_time": "2021-07-13T03:13:52.325Z"
   },
   {
    "duration": 9,
    "start_time": "2021-07-13T03:13:52.501Z"
   },
   {
    "duration": 47,
    "start_time": "2021-07-13T03:13:52.511Z"
   },
   {
    "duration": 28,
    "start_time": "2021-07-13T03:13:52.560Z"
   },
   {
    "duration": 9,
    "start_time": "2021-07-13T03:13:52.590Z"
   },
   {
    "duration": 14,
    "start_time": "2021-07-13T03:13:52.600Z"
   },
   {
    "duration": 3,
    "start_time": "2021-07-13T03:13:52.615Z"
   },
   {
    "duration": 15,
    "start_time": "2021-07-13T03:13:52.620Z"
   },
   {
    "duration": 302,
    "start_time": "2021-07-13T03:13:52.636Z"
   },
   {
    "duration": 3,
    "start_time": "2021-07-13T03:13:52.940Z"
   },
   {
    "duration": 478,
    "start_time": "2021-07-13T03:13:52.944Z"
   },
   {
    "duration": 18,
    "start_time": "2021-07-13T03:13:53.423Z"
   },
   {
    "duration": 3,
    "start_time": "2021-07-13T03:13:53.442Z"
   },
   {
    "duration": 12,
    "start_time": "2021-07-13T03:14:08.342Z"
   },
   {
    "duration": 1115,
    "start_time": "2021-07-13T03:14:30.183Z"
   },
   {
    "duration": 599,
    "start_time": "2021-07-13T03:14:31.300Z"
   },
   {
    "duration": 189,
    "start_time": "2021-07-13T03:14:31.901Z"
   },
   {
    "duration": 204,
    "start_time": "2021-07-13T03:14:32.092Z"
   },
   {
    "duration": 295,
    "start_time": "2021-07-13T03:14:32.298Z"
   },
   {
    "duration": 261,
    "start_time": "2021-07-13T03:14:32.595Z"
   },
   {
    "duration": 256,
    "start_time": "2021-07-13T03:14:32.858Z"
   },
   {
    "duration": 252,
    "start_time": "2021-07-13T03:14:33.116Z"
   },
   {
    "duration": 104,
    "start_time": "2021-07-13T03:14:33.371Z"
   },
   {
    "duration": 266,
    "start_time": "2021-07-13T03:14:33.476Z"
   },
   {
    "duration": 18,
    "start_time": "2021-07-13T03:14:33.743Z"
   },
   {
    "duration": 781,
    "start_time": "2021-07-13T03:14:33.762Z"
   },
   {
    "duration": 87,
    "start_time": "2021-07-13T03:14:34.544Z"
   },
   {
    "duration": 96,
    "start_time": "2021-07-13T03:14:34.633Z"
   },
   {
    "duration": 273,
    "start_time": "2021-07-13T03:14:34.731Z"
   },
   {
    "duration": 12,
    "start_time": "2021-07-13T03:14:35.006Z"
   },
   {
    "duration": 187,
    "start_time": "2021-07-13T03:14:35.020Z"
   },
   {
    "duration": 691,
    "start_time": "2021-07-13T03:14:35.208Z"
   },
   {
    "duration": 41,
    "start_time": "2021-07-13T03:14:35.901Z"
   },
   {
    "duration": 47,
    "start_time": "2021-07-13T03:14:35.943Z"
   },
   {
    "duration": 2526,
    "start_time": "2021-07-13T03:14:35.991Z"
   },
   {
    "duration": 55,
    "start_time": "2021-07-13T03:14:38.519Z"
   },
   {
    "duration": 25,
    "start_time": "2021-07-13T03:14:38.578Z"
   },
   {
    "duration": 7,
    "start_time": "2021-07-13T03:14:38.605Z"
   },
   {
    "duration": 14,
    "start_time": "2021-07-13T03:14:38.614Z"
   },
   {
    "duration": 461,
    "start_time": "2021-07-13T03:14:38.630Z"
   },
   {
    "duration": 41,
    "start_time": "2021-07-13T03:14:39.093Z"
   },
   {
    "duration": 10,
    "start_time": "2021-07-13T03:14:39.135Z"
   },
   {
    "duration": 42,
    "start_time": "2021-07-13T03:14:39.147Z"
   },
   {
    "duration": 27,
    "start_time": "2021-07-13T03:14:39.190Z"
   },
   {
    "duration": 5,
    "start_time": "2021-07-13T03:14:39.218Z"
   },
   {
    "duration": 210,
    "start_time": "2021-07-13T03:14:39.225Z"
   },
   {
    "duration": 5,
    "start_time": "2021-07-13T03:14:39.437Z"
   },
   {
    "duration": 43,
    "start_time": "2021-07-13T03:14:39.443Z"
   },
   {
    "duration": 5,
    "start_time": "2021-07-13T03:14:39.488Z"
   },
   {
    "duration": 16,
    "start_time": "2021-07-13T03:14:39.494Z"
   },
   {
    "duration": 36,
    "start_time": "2021-07-13T03:14:39.512Z"
   },
   {
    "duration": 5,
    "start_time": "2021-07-13T03:14:39.550Z"
   },
   {
    "duration": 3,
    "start_time": "2021-07-13T03:14:39.557Z"
   },
   {
    "duration": 28,
    "start_time": "2021-07-13T03:14:39.562Z"
   },
   {
    "duration": 293,
    "start_time": "2021-07-13T03:14:39.592Z"
   },
   {
    "duration": 6,
    "start_time": "2021-07-13T03:14:39.886Z"
   },
   {
    "duration": 8,
    "start_time": "2021-07-13T03:14:39.893Z"
   },
   {
    "duration": 13,
    "start_time": "2021-07-13T03:14:39.903Z"
   },
   {
    "duration": 13,
    "start_time": "2021-07-13T03:14:39.918Z"
   },
   {
    "duration": 166,
    "start_time": "2021-07-13T03:14:39.933Z"
   },
   {
    "duration": 9,
    "start_time": "2021-07-13T03:14:40.101Z"
   },
   {
    "duration": 52,
    "start_time": "2021-07-13T03:14:40.112Z"
   },
   {
    "duration": 25,
    "start_time": "2021-07-13T03:14:40.166Z"
   },
   {
    "duration": 9,
    "start_time": "2021-07-13T03:14:40.193Z"
   },
   {
    "duration": 15,
    "start_time": "2021-07-13T03:14:40.203Z"
   },
   {
    "duration": 4,
    "start_time": "2021-07-13T03:14:40.220Z"
   },
   {
    "duration": 14,
    "start_time": "2021-07-13T03:14:40.226Z"
   },
   {
    "duration": 317,
    "start_time": "2021-07-13T03:14:40.242Z"
   },
   {
    "duration": 3,
    "start_time": "2021-07-13T03:14:40.562Z"
   },
   {
    "duration": 452,
    "start_time": "2021-07-13T03:14:40.568Z"
   },
   {
    "duration": 20,
    "start_time": "2021-07-13T03:14:41.022Z"
   },
   {
    "duration": 2,
    "start_time": "2021-07-13T03:14:41.044Z"
   },
   {
    "duration": 12,
    "start_time": "2021-07-13T03:14:41.048Z"
   },
   {
    "duration": 3,
    "start_time": "2021-07-13T03:15:06.247Z"
   },
   {
    "duration": 13,
    "start_time": "2021-07-13T03:15:07.905Z"
   },
   {
    "duration": 85,
    "start_time": "2021-07-13T03:15:22.825Z"
   },
   {
    "duration": 292,
    "start_time": "2021-07-13T03:19:58.088Z"
   },
   {
    "duration": 11,
    "start_time": "2021-07-13T03:20:06.196Z"
   },
   {
    "duration": 182,
    "start_time": "2021-07-13T03:20:42.999Z"
   },
   {
    "duration": 179,
    "start_time": "2021-07-13T03:21:07.448Z"
   },
   {
    "duration": 7,
    "start_time": "2021-07-13T03:21:22.849Z"
   },
   {
    "duration": 9,
    "start_time": "2021-07-13T03:22:23.906Z"
   },
   {
    "duration": 9,
    "start_time": "2021-07-13T03:22:24.835Z"
   },
   {
    "duration": 12,
    "start_time": "2021-07-13T03:22:25.211Z"
   },
   {
    "duration": 13,
    "start_time": "2021-07-13T03:22:25.498Z"
   },
   {
    "duration": 11,
    "start_time": "2021-07-13T03:22:25.763Z"
   },
   {
    "duration": 9,
    "start_time": "2021-07-13T03:22:26.026Z"
   },
   {
    "duration": 8,
    "start_time": "2021-07-13T03:22:26.410Z"
   },
   {
    "duration": 4392,
    "start_time": "2021-07-13T03:23:18.253Z"
   },
   {
    "duration": 4628,
    "start_time": "2021-07-13T03:24:40.816Z"
   },
   {
    "duration": 23,
    "start_time": "2021-07-13T03:25:08.008Z"
   },
   {
    "duration": 1043,
    "start_time": "2021-07-13T03:25:17.810Z"
   },
   {
    "duration": 608,
    "start_time": "2021-07-13T03:25:18.855Z"
   },
   {
    "duration": 198,
    "start_time": "2021-07-13T03:25:19.465Z"
   },
   {
    "duration": 200,
    "start_time": "2021-07-13T03:25:19.665Z"
   },
   {
    "duration": 306,
    "start_time": "2021-07-13T03:25:19.867Z"
   },
   {
    "duration": 265,
    "start_time": "2021-07-13T03:25:20.175Z"
   },
   {
    "duration": 248,
    "start_time": "2021-07-13T03:25:20.442Z"
   },
   {
    "duration": 247,
    "start_time": "2021-07-13T03:25:20.692Z"
   },
   {
    "duration": 119,
    "start_time": "2021-07-13T03:25:20.941Z"
   },
   {
    "duration": 274,
    "start_time": "2021-07-13T03:25:21.062Z"
   },
   {
    "duration": 17,
    "start_time": "2021-07-13T03:25:21.338Z"
   },
   {
    "duration": 774,
    "start_time": "2021-07-13T03:25:21.357Z"
   },
   {
    "duration": 89,
    "start_time": "2021-07-13T03:25:22.132Z"
   },
   {
    "duration": 98,
    "start_time": "2021-07-13T03:25:22.223Z"
   },
   {
    "duration": 262,
    "start_time": "2021-07-13T03:25:22.323Z"
   },
   {
    "duration": 12,
    "start_time": "2021-07-13T03:25:22.587Z"
   },
   {
    "duration": 185,
    "start_time": "2021-07-13T03:25:22.601Z"
   },
   {
    "duration": 732,
    "start_time": "2021-07-13T03:25:22.787Z"
   },
   {
    "duration": 37,
    "start_time": "2021-07-13T03:25:23.521Z"
   },
   {
    "duration": 41,
    "start_time": "2021-07-13T03:25:23.560Z"
   },
   {
    "duration": 2597,
    "start_time": "2021-07-13T03:25:23.603Z"
   },
   {
    "duration": 57,
    "start_time": "2021-07-13T03:25:26.202Z"
   },
   {
    "duration": 34,
    "start_time": "2021-07-13T03:25:26.263Z"
   },
   {
    "duration": 5,
    "start_time": "2021-07-13T03:25:26.300Z"
   },
   {
    "duration": 13,
    "start_time": "2021-07-13T03:25:26.307Z"
   },
   {
    "duration": 467,
    "start_time": "2021-07-13T03:25:26.322Z"
   },
   {
    "duration": 39,
    "start_time": "2021-07-13T03:25:26.791Z"
   },
   {
    "duration": 9,
    "start_time": "2021-07-13T03:25:26.831Z"
   },
   {
    "duration": 19,
    "start_time": "2021-07-13T03:25:26.842Z"
   },
   {
    "duration": 50,
    "start_time": "2021-07-13T03:25:26.862Z"
   },
   {
    "duration": 7,
    "start_time": "2021-07-13T03:25:26.914Z"
   },
   {
    "duration": 210,
    "start_time": "2021-07-13T03:25:26.922Z"
   },
   {
    "duration": 4,
    "start_time": "2021-07-13T03:25:27.134Z"
   },
   {
    "duration": 45,
    "start_time": "2021-07-13T03:25:27.140Z"
   },
   {
    "duration": 5,
    "start_time": "2021-07-13T03:25:27.187Z"
   },
   {
    "duration": 10,
    "start_time": "2021-07-13T03:25:27.193Z"
   },
   {
    "duration": 33,
    "start_time": "2021-07-13T03:25:27.205Z"
   },
   {
    "duration": 3,
    "start_time": "2021-07-13T03:25:27.240Z"
   },
   {
    "duration": 5,
    "start_time": "2021-07-13T03:25:27.244Z"
   },
   {
    "duration": 33,
    "start_time": "2021-07-13T03:25:27.251Z"
   },
   {
    "duration": 294,
    "start_time": "2021-07-13T03:25:27.286Z"
   },
   {
    "duration": 6,
    "start_time": "2021-07-13T03:25:27.582Z"
   },
   {
    "duration": 9,
    "start_time": "2021-07-13T03:25:27.590Z"
   },
   {
    "duration": 10,
    "start_time": "2021-07-13T03:25:27.601Z"
   },
   {
    "duration": 9,
    "start_time": "2021-07-13T03:25:27.612Z"
   },
   {
    "duration": 174,
    "start_time": "2021-07-13T03:25:27.623Z"
   },
   {
    "duration": 10,
    "start_time": "2021-07-13T03:25:27.799Z"
   },
   {
    "duration": 57,
    "start_time": "2021-07-13T03:25:27.810Z"
   },
   {
    "duration": 21,
    "start_time": "2021-07-13T03:25:27.869Z"
   },
   {
    "duration": 10,
    "start_time": "2021-07-13T03:25:27.892Z"
   },
   {
    "duration": 16,
    "start_time": "2021-07-13T03:25:27.903Z"
   },
   {
    "duration": 3,
    "start_time": "2021-07-13T03:25:27.920Z"
   },
   {
    "duration": 15,
    "start_time": "2021-07-13T03:25:27.925Z"
   },
   {
    "duration": 302,
    "start_time": "2021-07-13T03:25:27.941Z"
   },
   {
    "duration": 3,
    "start_time": "2021-07-13T03:25:28.244Z"
   },
   {
    "duration": 440,
    "start_time": "2021-07-13T03:25:28.249Z"
   },
   {
    "duration": 18,
    "start_time": "2021-07-13T03:25:28.690Z"
   },
   {
    "duration": 10,
    "start_time": "2021-07-13T03:25:28.710Z"
   },
   {
    "duration": 97,
    "start_time": "2021-07-13T03:25:28.721Z"
   },
   {
    "duration": 22,
    "start_time": "2021-07-13T03:25:28.820Z"
   },
   {
    "duration": 6,
    "start_time": "2021-07-13T03:25:28.843Z"
   },
   {
    "duration": 8,
    "start_time": "2021-07-13T03:25:28.851Z"
   },
   {
    "duration": 29,
    "start_time": "2021-07-13T03:25:28.860Z"
   },
   {
    "duration": 12,
    "start_time": "2021-07-13T03:25:28.891Z"
   },
   {
    "duration": 11,
    "start_time": "2021-07-13T03:25:28.904Z"
   },
   {
    "duration": 10,
    "start_time": "2021-07-13T03:25:28.917Z"
   },
   {
    "duration": 7,
    "start_time": "2021-07-13T03:25:28.928Z"
   },
   {
    "duration": 7,
    "start_time": "2021-07-13T03:25:28.940Z"
   },
   {
    "duration": 4467,
    "start_time": "2021-07-13T03:25:28.948Z"
   },
   {
    "duration": 39,
    "start_time": "2021-07-13T03:26:17.428Z"
   },
   {
    "duration": 59,
    "start_time": "2021-07-13T03:26:29.477Z"
   },
   {
    "duration": 20,
    "start_time": "2021-07-13T03:26:31.405Z"
   },
   {
    "duration": 1062,
    "start_time": "2021-07-13T03:27:18.948Z"
   },
   {
    "duration": 619,
    "start_time": "2021-07-13T03:27:20.012Z"
   },
   {
    "duration": 200,
    "start_time": "2021-07-13T03:27:20.633Z"
   },
   {
    "duration": 204,
    "start_time": "2021-07-13T03:27:20.835Z"
   },
   {
    "duration": 321,
    "start_time": "2021-07-13T03:27:21.040Z"
   },
   {
    "duration": 269,
    "start_time": "2021-07-13T03:27:21.363Z"
   },
   {
    "duration": 259,
    "start_time": "2021-07-13T03:27:21.634Z"
   },
   {
    "duration": 263,
    "start_time": "2021-07-13T03:27:21.897Z"
   },
   {
    "duration": 113,
    "start_time": "2021-07-13T03:27:22.163Z"
   },
   {
    "duration": 274,
    "start_time": "2021-07-13T03:27:22.285Z"
   },
   {
    "duration": 32,
    "start_time": "2021-07-13T03:27:22.561Z"
   },
   {
    "duration": 808,
    "start_time": "2021-07-13T03:27:22.595Z"
   },
   {
    "duration": 91,
    "start_time": "2021-07-13T03:27:23.405Z"
   },
   {
    "duration": 94,
    "start_time": "2021-07-13T03:27:23.498Z"
   },
   {
    "duration": 271,
    "start_time": "2021-07-13T03:27:23.594Z"
   },
   {
    "duration": 21,
    "start_time": "2021-07-13T03:27:23.867Z"
   },
   {
    "duration": 200,
    "start_time": "2021-07-13T03:27:23.890Z"
   },
   {
    "duration": 730,
    "start_time": "2021-07-13T03:27:24.092Z"
   },
   {
    "duration": 44,
    "start_time": "2021-07-13T03:27:24.824Z"
   },
   {
    "duration": 33,
    "start_time": "2021-07-13T03:27:24.885Z"
   },
   {
    "duration": 2680,
    "start_time": "2021-07-13T03:27:24.919Z"
   },
   {
    "duration": 55,
    "start_time": "2021-07-13T03:27:27.600Z"
   },
   {
    "duration": 35,
    "start_time": "2021-07-13T03:27:27.660Z"
   },
   {
    "duration": 22,
    "start_time": "2021-07-13T03:27:27.698Z"
   },
   {
    "duration": 30,
    "start_time": "2021-07-13T03:27:27.722Z"
   },
   {
    "duration": 464,
    "start_time": "2021-07-13T03:27:27.754Z"
   },
   {
    "duration": 39,
    "start_time": "2021-07-13T03:27:28.221Z"
   },
   {
    "duration": 26,
    "start_time": "2021-07-13T03:27:28.262Z"
   },
   {
    "duration": 52,
    "start_time": "2021-07-13T03:27:28.290Z"
   },
   {
    "duration": 35,
    "start_time": "2021-07-13T03:27:28.344Z"
   },
   {
    "duration": 12,
    "start_time": "2021-07-13T03:27:28.381Z"
   },
   {
    "duration": 257,
    "start_time": "2021-07-13T03:27:28.394Z"
   },
   {
    "duration": 6,
    "start_time": "2021-07-13T03:27:28.653Z"
   },
   {
    "duration": 55,
    "start_time": "2021-07-13T03:27:28.661Z"
   },
   {
    "duration": 6,
    "start_time": "2021-07-13T03:27:28.718Z"
   },
   {
    "duration": 19,
    "start_time": "2021-07-13T03:27:28.725Z"
   },
   {
    "duration": 50,
    "start_time": "2021-07-13T03:27:28.746Z"
   },
   {
    "duration": 4,
    "start_time": "2021-07-13T03:27:28.798Z"
   },
   {
    "duration": 16,
    "start_time": "2021-07-13T03:27:28.804Z"
   },
   {
    "duration": 16,
    "start_time": "2021-07-13T03:27:28.821Z"
   },
   {
    "duration": 350,
    "start_time": "2021-07-13T03:27:28.839Z"
   },
   {
    "duration": 7,
    "start_time": "2021-07-13T03:27:29.191Z"
   },
   {
    "duration": 28,
    "start_time": "2021-07-13T03:27:29.201Z"
   },
   {
    "duration": 32,
    "start_time": "2021-07-13T03:27:29.230Z"
   },
   {
    "duration": 27,
    "start_time": "2021-07-13T03:27:29.265Z"
   },
   {
    "duration": 176,
    "start_time": "2021-07-13T03:27:29.294Z"
   },
   {
    "duration": 14,
    "start_time": "2021-07-13T03:27:29.472Z"
   },
   {
    "duration": 148,
    "start_time": "2021-07-13T03:27:29.487Z"
   },
   {
    "duration": 13,
    "start_time": "2021-07-13T03:27:29.637Z"
   },
   {
    "duration": 27,
    "start_time": "2021-07-13T03:27:29.651Z"
   },
   {
    "duration": 36,
    "start_time": "2021-07-13T03:27:29.680Z"
   },
   {
    "duration": 6,
    "start_time": "2021-07-13T03:27:29.718Z"
   },
   {
    "duration": 27,
    "start_time": "2021-07-13T03:27:29.725Z"
   },
   {
    "duration": 296,
    "start_time": "2021-07-13T03:27:29.753Z"
   },
   {
    "duration": 4,
    "start_time": "2021-07-13T03:27:30.050Z"
   },
   {
    "duration": 493,
    "start_time": "2021-07-13T03:27:30.056Z"
   },
   {
    "duration": 18,
    "start_time": "2021-07-13T03:27:30.551Z"
   },
   {
    "duration": 18,
    "start_time": "2021-07-13T03:27:30.571Z"
   },
   {
    "duration": 67,
    "start_time": "2021-07-13T03:27:30.591Z"
   },
   {
    "duration": 6,
    "start_time": "2021-07-13T03:27:30.660Z"
   },
   {
    "duration": 14,
    "start_time": "2021-07-13T03:27:30.685Z"
   },
   {
    "duration": 11,
    "start_time": "2021-07-13T03:27:30.701Z"
   },
   {
    "duration": 12,
    "start_time": "2021-07-13T03:27:30.714Z"
   },
   {
    "duration": 7,
    "start_time": "2021-07-13T03:27:30.727Z"
   },
   {
    "duration": 10,
    "start_time": "2021-07-13T03:27:30.736Z"
   },
   {
    "duration": 16,
    "start_time": "2021-07-13T03:27:30.748Z"
   },
   {
    "duration": 9,
    "start_time": "2021-07-13T03:27:30.766Z"
   },
   {
    "duration": 8,
    "start_time": "2021-07-13T03:27:30.779Z"
   },
   {
    "duration": 24,
    "start_time": "2021-07-13T03:27:51.911Z"
   },
   {
    "duration": 23,
    "start_time": "2021-07-13T03:29:48.381Z"
   },
   {
    "duration": 8,
    "start_time": "2021-07-13T03:33:11.739Z"
   },
   {
    "duration": 8,
    "start_time": "2021-07-13T03:34:00.073Z"
   },
   {
    "duration": 8,
    "start_time": "2021-07-13T03:34:42.203Z"
   },
   {
    "duration": 7,
    "start_time": "2021-07-13T03:34:46.699Z"
   },
   {
    "duration": 258,
    "start_time": "2021-07-13T03:38:52.847Z"
   },
   {
    "duration": 12,
    "start_time": "2021-07-13T03:39:19.726Z"
   },
   {
    "duration": 191,
    "start_time": "2021-07-13T03:39:50.824Z"
   },
   {
    "duration": 232,
    "start_time": "2021-07-13T03:40:31.458Z"
   },
   {
    "duration": 34,
    "start_time": "2021-07-13T03:40:42.666Z"
   },
   {
    "duration": 5,
    "start_time": "2021-07-13T03:51:13.848Z"
   },
   {
    "duration": 13,
    "start_time": "2021-07-13T03:51:20.044Z"
   },
   {
    "duration": 34,
    "start_time": "2021-07-13T03:51:21.844Z"
   },
   {
    "duration": 2576,
    "start_time": "2021-07-13T04:00:50.745Z"
   },
   {
    "duration": 19,
    "start_time": "2021-07-13T04:01:47.860Z"
   },
   {
    "duration": 14,
    "start_time": "2021-07-13T04:01:50.253Z"
   },
   {
    "duration": 8,
    "start_time": "2021-07-13T04:02:19.645Z"
   },
   {
    "duration": 3,
    "start_time": "2021-07-13T04:02:53.064Z"
   },
   {
    "duration": 1111,
    "start_time": "2021-07-13T04:03:05.204Z"
   },
   {
    "duration": 613,
    "start_time": "2021-07-13T04:03:06.316Z"
   },
   {
    "duration": 197,
    "start_time": "2021-07-13T04:03:06.931Z"
   },
   {
    "duration": 208,
    "start_time": "2021-07-13T04:03:07.129Z"
   },
   {
    "duration": 297,
    "start_time": "2021-07-13T04:03:07.339Z"
   },
   {
    "duration": 264,
    "start_time": "2021-07-13T04:03:07.637Z"
   },
   {
    "duration": 252,
    "start_time": "2021-07-13T04:03:07.903Z"
   },
   {
    "duration": 264,
    "start_time": "2021-07-13T04:03:08.158Z"
   },
   {
    "duration": 107,
    "start_time": "2021-07-13T04:03:08.424Z"
   },
   {
    "duration": 261,
    "start_time": "2021-07-13T04:03:08.532Z"
   },
   {
    "duration": 17,
    "start_time": "2021-07-13T04:03:08.795Z"
   },
   {
    "duration": 788,
    "start_time": "2021-07-13T04:03:08.813Z"
   },
   {
    "duration": 87,
    "start_time": "2021-07-13T04:03:09.603Z"
   },
   {
    "duration": 98,
    "start_time": "2021-07-13T04:03:09.692Z"
   },
   {
    "duration": 279,
    "start_time": "2021-07-13T04:03:09.791Z"
   },
   {
    "duration": 12,
    "start_time": "2021-07-13T04:03:10.072Z"
   },
   {
    "duration": 187,
    "start_time": "2021-07-13T04:03:10.086Z"
   },
   {
    "duration": 698,
    "start_time": "2021-07-13T04:03:10.275Z"
   },
   {
    "duration": 47,
    "start_time": "2021-07-13T04:03:10.975Z"
   },
   {
    "duration": 33,
    "start_time": "2021-07-13T04:03:11.023Z"
   },
   {
    "duration": 2526,
    "start_time": "2021-07-13T04:03:11.058Z"
   },
   {
    "duration": 54,
    "start_time": "2021-07-13T04:03:13.586Z"
   },
   {
    "duration": 19,
    "start_time": "2021-07-13T04:03:13.644Z"
   },
   {
    "duration": 23,
    "start_time": "2021-07-13T04:03:13.665Z"
   },
   {
    "duration": 19,
    "start_time": "2021-07-13T04:03:13.689Z"
   },
   {
    "duration": 468,
    "start_time": "2021-07-13T04:03:13.709Z"
   },
   {
    "duration": 44,
    "start_time": "2021-07-13T04:03:14.179Z"
   },
   {
    "duration": 10,
    "start_time": "2021-07-13T04:03:14.224Z"
   },
   {
    "duration": 18,
    "start_time": "2021-07-13T04:03:14.235Z"
   },
   {
    "duration": 53,
    "start_time": "2021-07-13T04:03:14.255Z"
   },
   {
    "duration": 5,
    "start_time": "2021-07-13T04:03:14.309Z"
   },
   {
    "duration": 215,
    "start_time": "2021-07-13T04:03:14.315Z"
   },
   {
    "duration": 5,
    "start_time": "2021-07-13T04:03:14.531Z"
   },
   {
    "duration": 50,
    "start_time": "2021-07-13T04:03:14.539Z"
   },
   {
    "duration": 5,
    "start_time": "2021-07-13T04:03:14.591Z"
   },
   {
    "duration": 11,
    "start_time": "2021-07-13T04:03:14.598Z"
   },
   {
    "duration": 32,
    "start_time": "2021-07-13T04:03:14.610Z"
   },
   {
    "duration": 4,
    "start_time": "2021-07-13T04:03:14.644Z"
   },
   {
    "duration": 35,
    "start_time": "2021-07-13T04:03:14.650Z"
   },
   {
    "duration": 8,
    "start_time": "2021-07-13T04:03:14.686Z"
   },
   {
    "duration": 308,
    "start_time": "2021-07-13T04:03:14.696Z"
   },
   {
    "duration": 8,
    "start_time": "2021-07-13T04:03:15.006Z"
   },
   {
    "duration": 10,
    "start_time": "2021-07-13T04:03:15.016Z"
   },
   {
    "duration": 11,
    "start_time": "2021-07-13T04:03:15.028Z"
   },
   {
    "duration": 13,
    "start_time": "2021-07-13T04:03:15.041Z"
   },
   {
    "duration": 155,
    "start_time": "2021-07-13T04:03:15.086Z"
   },
   {
    "duration": 11,
    "start_time": "2021-07-13T04:03:15.242Z"
   },
   {
    "duration": 67,
    "start_time": "2021-07-13T04:03:15.255Z"
   },
   {
    "duration": 15,
    "start_time": "2021-07-13T04:03:15.324Z"
   },
   {
    "duration": 10,
    "start_time": "2021-07-13T04:03:15.340Z"
   },
   {
    "duration": 39,
    "start_time": "2021-07-13T04:03:15.352Z"
   },
   {
    "duration": 3,
    "start_time": "2021-07-13T04:03:15.393Z"
   },
   {
    "duration": 16,
    "start_time": "2021-07-13T04:03:15.397Z"
   },
   {
    "duration": 301,
    "start_time": "2021-07-13T04:03:15.414Z"
   },
   {
    "duration": 4,
    "start_time": "2021-07-13T04:03:15.717Z"
   },
   {
    "duration": 451,
    "start_time": "2021-07-13T04:03:15.723Z"
   },
   {
    "duration": 25,
    "start_time": "2021-07-13T04:03:16.175Z"
   },
   {
    "duration": 2573,
    "start_time": "2021-07-13T04:03:16.202Z"
   },
   {
    "duration": 3,
    "start_time": "2021-07-13T04:03:18.777Z"
   },
   {
    "duration": 23,
    "start_time": "2021-07-13T04:03:18.781Z"
   },
   {
    "duration": 15,
    "start_time": "2021-07-13T04:03:18.806Z"
   },
   {
    "duration": 84,
    "start_time": "2021-07-13T04:03:18.822Z"
   },
   {
    "duration": 7,
    "start_time": "2021-07-13T04:03:18.908Z"
   },
   {
    "duration": 15,
    "start_time": "2021-07-13T04:03:18.916Z"
   },
   {
    "duration": 8,
    "start_time": "2021-07-13T04:03:18.933Z"
   },
   {
    "duration": 8,
    "start_time": "2021-07-13T04:03:18.943Z"
   },
   {
    "duration": 38,
    "start_time": "2021-07-13T04:03:18.952Z"
   },
   {
    "duration": 8,
    "start_time": "2021-07-13T04:03:18.995Z"
   },
   {
    "duration": 7,
    "start_time": "2021-07-13T04:03:19.005Z"
   },
   {
    "duration": 7,
    "start_time": "2021-07-13T04:03:19.014Z"
   },
   {
    "duration": 6,
    "start_time": "2021-07-13T04:03:19.023Z"
   },
   {
    "duration": 6,
    "start_time": "2021-07-13T04:03:19.031Z"
   },
   {
    "duration": 46,
    "start_time": "2021-07-13T04:03:19.039Z"
   },
   {
    "duration": 27,
    "start_time": "2021-07-13T04:03:19.087Z"
   },
   {
    "duration": 13,
    "start_time": "2021-07-13T04:03:19.116Z"
   },
   {
    "duration": 58,
    "start_time": "2021-07-13T04:03:19.131Z"
   },
   {
    "duration": 19,
    "start_time": "2021-07-13T04:05:24.407Z"
   },
   {
    "duration": 20,
    "start_time": "2021-07-13T04:05:26.319Z"
   },
   {
    "duration": 16,
    "start_time": "2021-07-13T04:05:28.079Z"
   },
   {
    "duration": 1099,
    "start_time": "2021-07-13T04:06:26.881Z"
   },
   {
    "duration": 593,
    "start_time": "2021-07-13T04:06:27.982Z"
   },
   {
    "duration": 195,
    "start_time": "2021-07-13T04:06:28.577Z"
   },
   {
    "duration": 202,
    "start_time": "2021-07-13T04:06:28.774Z"
   },
   {
    "duration": 298,
    "start_time": "2021-07-13T04:06:28.977Z"
   },
   {
    "duration": 277,
    "start_time": "2021-07-13T04:06:29.277Z"
   },
   {
    "duration": 256,
    "start_time": "2021-07-13T04:06:29.556Z"
   },
   {
    "duration": 252,
    "start_time": "2021-07-13T04:06:29.814Z"
   },
   {
    "duration": 116,
    "start_time": "2021-07-13T04:06:30.068Z"
   },
   {
    "duration": 275,
    "start_time": "2021-07-13T04:06:30.186Z"
   },
   {
    "duration": 25,
    "start_time": "2021-07-13T04:06:30.463Z"
   },
   {
    "duration": 767,
    "start_time": "2021-07-13T04:06:30.490Z"
   },
   {
    "duration": 92,
    "start_time": "2021-07-13T04:06:31.258Z"
   },
   {
    "duration": 94,
    "start_time": "2021-07-13T04:06:31.352Z"
   },
   {
    "duration": 267,
    "start_time": "2021-07-13T04:06:31.447Z"
   },
   {
    "duration": 12,
    "start_time": "2021-07-13T04:06:31.716Z"
   },
   {
    "duration": 182,
    "start_time": "2021-07-13T04:06:31.729Z"
   },
   {
    "duration": 689,
    "start_time": "2021-07-13T04:06:31.913Z"
   },
   {
    "duration": 42,
    "start_time": "2021-07-13T04:06:32.604Z"
   },
   {
    "duration": 46,
    "start_time": "2021-07-13T04:06:32.648Z"
   },
   {
    "duration": 2624,
    "start_time": "2021-07-13T04:06:32.695Z"
   },
   {
    "duration": 53,
    "start_time": "2021-07-13T04:06:35.321Z"
   },
   {
    "duration": 23,
    "start_time": "2021-07-13T04:06:35.378Z"
   },
   {
    "duration": 5,
    "start_time": "2021-07-13T04:06:35.403Z"
   },
   {
    "duration": 12,
    "start_time": "2021-07-13T04:06:35.410Z"
   },
   {
    "duration": 471,
    "start_time": "2021-07-13T04:06:35.424Z"
   },
   {
    "duration": 40,
    "start_time": "2021-07-13T04:06:35.896Z"
   },
   {
    "duration": 9,
    "start_time": "2021-07-13T04:06:35.938Z"
   },
   {
    "duration": 39,
    "start_time": "2021-07-13T04:06:35.949Z"
   },
   {
    "duration": 33,
    "start_time": "2021-07-13T04:06:35.989Z"
   },
   {
    "duration": 5,
    "start_time": "2021-07-13T04:06:36.023Z"
   },
   {
    "duration": 211,
    "start_time": "2021-07-13T04:06:36.030Z"
   },
   {
    "duration": 5,
    "start_time": "2021-07-13T04:06:36.242Z"
   },
   {
    "duration": 47,
    "start_time": "2021-07-13T04:06:36.249Z"
   },
   {
    "duration": 5,
    "start_time": "2021-07-13T04:06:36.298Z"
   },
   {
    "duration": 10,
    "start_time": "2021-07-13T04:06:36.305Z"
   },
   {
    "duration": 38,
    "start_time": "2021-07-13T04:06:36.316Z"
   },
   {
    "duration": 4,
    "start_time": "2021-07-13T04:06:36.356Z"
   },
   {
    "duration": 4,
    "start_time": "2021-07-13T04:06:36.385Z"
   },
   {
    "duration": 14,
    "start_time": "2021-07-13T04:06:36.390Z"
   },
   {
    "duration": 298,
    "start_time": "2021-07-13T04:06:36.406Z"
   },
   {
    "duration": 6,
    "start_time": "2021-07-13T04:06:36.706Z"
   },
   {
    "duration": 8,
    "start_time": "2021-07-13T04:06:36.714Z"
   },
   {
    "duration": 8,
    "start_time": "2021-07-13T04:06:36.724Z"
   },
   {
    "duration": 10,
    "start_time": "2021-07-13T04:06:36.734Z"
   },
   {
    "duration": 167,
    "start_time": "2021-07-13T04:06:36.746Z"
   },
   {
    "duration": 9,
    "start_time": "2021-07-13T04:06:36.914Z"
   },
   {
    "duration": 59,
    "start_time": "2021-07-13T04:06:36.925Z"
   },
   {
    "duration": 14,
    "start_time": "2021-07-13T04:06:36.986Z"
   },
   {
    "duration": 9,
    "start_time": "2021-07-13T04:06:37.002Z"
   },
   {
    "duration": 15,
    "start_time": "2021-07-13T04:06:37.013Z"
   },
   {
    "duration": 3,
    "start_time": "2021-07-13T04:06:37.030Z"
   },
   {
    "duration": 16,
    "start_time": "2021-07-13T04:06:37.034Z"
   },
   {
    "duration": 342,
    "start_time": "2021-07-13T04:06:37.051Z"
   },
   {
    "duration": 4,
    "start_time": "2021-07-13T04:06:37.394Z"
   },
   {
    "duration": 451,
    "start_time": "2021-07-13T04:06:37.400Z"
   },
   {
    "duration": 19,
    "start_time": "2021-07-13T04:06:37.853Z"
   },
   {
    "duration": 2562,
    "start_time": "2021-07-13T04:06:37.885Z"
   },
   {
    "duration": 3,
    "start_time": "2021-07-13T04:06:40.449Z"
   },
   {
    "duration": 20,
    "start_time": "2021-07-13T04:06:40.453Z"
   },
   {
    "duration": 26,
    "start_time": "2021-07-13T04:06:40.474Z"
   },
   {
    "duration": 16,
    "start_time": "2021-07-13T04:06:40.501Z"
   },
   {
    "duration": 80,
    "start_time": "2021-07-13T04:06:40.518Z"
   },
   {
    "duration": 5,
    "start_time": "2021-07-13T04:06:40.599Z"
   },
   {
    "duration": 14,
    "start_time": "2021-07-13T04:06:40.606Z"
   },
   {
    "duration": 7,
    "start_time": "2021-07-13T04:06:40.622Z"
   },
   {
    "duration": 6,
    "start_time": "2021-07-13T04:06:40.630Z"
   },
   {
    "duration": 5,
    "start_time": "2021-07-13T04:06:40.641Z"
   },
   {
    "duration": 6,
    "start_time": "2021-07-13T04:06:40.648Z"
   },
   {
    "duration": 7,
    "start_time": "2021-07-13T04:06:40.684Z"
   },
   {
    "duration": 6,
    "start_time": "2021-07-13T04:06:40.693Z"
   },
   {
    "duration": 6,
    "start_time": "2021-07-13T04:06:40.700Z"
   },
   {
    "duration": 5,
    "start_time": "2021-07-13T04:06:40.708Z"
   },
   {
    "duration": 6,
    "start_time": "2021-07-13T04:06:40.714Z"
   },
   {
    "duration": 25,
    "start_time": "2021-07-13T04:06:40.722Z"
   },
   {
    "duration": 45,
    "start_time": "2021-07-13T04:06:40.748Z"
   },
   {
    "duration": 32,
    "start_time": "2021-07-13T04:06:40.794Z"
   },
   {
    "duration": 28,
    "start_time": "2021-07-13T04:08:05.884Z"
   },
   {
    "duration": 9,
    "start_time": "2021-07-13T04:08:59.046Z"
   },
   {
    "duration": 7,
    "start_time": "2021-07-13T04:09:01.150Z"
   },
   {
    "duration": 5,
    "start_time": "2021-07-13T04:09:34.801Z"
   },
   {
    "duration": 28,
    "start_time": "2021-07-13T04:09:37.592Z"
   },
   {
    "duration": 14,
    "start_time": "2021-07-13T04:10:40.826Z"
   },
   {
    "duration": 38,
    "start_time": "2021-07-13T04:10:42.579Z"
   },
   {
    "duration": 14,
    "start_time": "2021-07-13T04:10:59.875Z"
   },
   {
    "duration": 17,
    "start_time": "2021-07-13T04:16:34.965Z"
   },
   {
    "duration": 12,
    "start_time": "2021-07-13T04:16:40.495Z"
   },
   {
    "duration": 4,
    "start_time": "2021-07-13T04:18:52.589Z"
   },
   {
    "duration": 267,
    "start_time": "2021-07-13T04:23:44.071Z"
   },
   {
    "duration": 176,
    "start_time": "2021-07-13T04:24:10.306Z"
   },
   {
    "duration": 1121,
    "start_time": "2021-07-13T04:24:23.082Z"
   },
   {
    "duration": 641,
    "start_time": "2021-07-13T04:24:24.205Z"
   },
   {
    "duration": 201,
    "start_time": "2021-07-13T04:24:24.848Z"
   },
   {
    "duration": 214,
    "start_time": "2021-07-13T04:24:25.051Z"
   },
   {
    "duration": 315,
    "start_time": "2021-07-13T04:24:25.267Z"
   },
   {
    "duration": 275,
    "start_time": "2021-07-13T04:24:25.585Z"
   },
   {
    "duration": 258,
    "start_time": "2021-07-13T04:24:25.862Z"
   },
   {
    "duration": 266,
    "start_time": "2021-07-13T04:24:26.122Z"
   },
   {
    "duration": 111,
    "start_time": "2021-07-13T04:24:26.390Z"
   },
   {
    "duration": 267,
    "start_time": "2021-07-13T04:24:26.503Z"
   },
   {
    "duration": 25,
    "start_time": "2021-07-13T04:24:26.772Z"
   },
   {
    "duration": 772,
    "start_time": "2021-07-13T04:24:26.799Z"
   },
   {
    "duration": 85,
    "start_time": "2021-07-13T04:24:27.572Z"
   },
   {
    "duration": 92,
    "start_time": "2021-07-13T04:24:27.658Z"
   },
   {
    "duration": 263,
    "start_time": "2021-07-13T04:24:27.751Z"
   },
   {
    "duration": 12,
    "start_time": "2021-07-13T04:24:28.015Z"
   },
   {
    "duration": 180,
    "start_time": "2021-07-13T04:24:28.029Z"
   },
   {
    "duration": 668,
    "start_time": "2021-07-13T04:24:28.211Z"
   },
   {
    "duration": 38,
    "start_time": "2021-07-13T04:24:28.880Z"
   },
   {
    "duration": 30,
    "start_time": "2021-07-13T04:24:28.919Z"
   },
   {
    "duration": 2587,
    "start_time": "2021-07-13T04:24:28.950Z"
   },
   {
    "duration": 60,
    "start_time": "2021-07-13T04:24:31.538Z"
   },
   {
    "duration": 18,
    "start_time": "2021-07-13T04:24:31.602Z"
   },
   {
    "duration": 7,
    "start_time": "2021-07-13T04:24:31.622Z"
   },
   {
    "duration": 15,
    "start_time": "2021-07-13T04:24:31.631Z"
   },
   {
    "duration": 459,
    "start_time": "2021-07-13T04:24:31.647Z"
   },
   {
    "duration": 37,
    "start_time": "2021-07-13T04:24:32.108Z"
   },
   {
    "duration": 9,
    "start_time": "2021-07-13T04:24:32.147Z"
   },
   {
    "duration": 35,
    "start_time": "2021-07-13T04:24:32.158Z"
   },
   {
    "duration": 28,
    "start_time": "2021-07-13T04:24:32.195Z"
   },
   {
    "duration": 5,
    "start_time": "2021-07-13T04:24:32.224Z"
   },
   {
    "duration": 218,
    "start_time": "2021-07-13T04:24:32.231Z"
   },
   {
    "duration": 4,
    "start_time": "2021-07-13T04:24:32.451Z"
   },
   {
    "duration": 46,
    "start_time": "2021-07-13T04:24:32.457Z"
   },
   {
    "duration": 6,
    "start_time": "2021-07-13T04:24:32.505Z"
   },
   {
    "duration": 9,
    "start_time": "2021-07-13T04:24:32.512Z"
   },
   {
    "duration": 35,
    "start_time": "2021-07-13T04:24:32.523Z"
   },
   {
    "duration": 4,
    "start_time": "2021-07-13T04:24:32.559Z"
   },
   {
    "duration": 4,
    "start_time": "2021-07-13T04:24:32.584Z"
   },
   {
    "duration": 9,
    "start_time": "2021-07-13T04:24:32.590Z"
   },
   {
    "duration": 311,
    "start_time": "2021-07-13T04:24:32.600Z"
   },
   {
    "duration": 6,
    "start_time": "2021-07-13T04:24:32.913Z"
   },
   {
    "duration": 10,
    "start_time": "2021-07-13T04:24:32.920Z"
   },
   {
    "duration": 11,
    "start_time": "2021-07-13T04:24:32.932Z"
   },
   {
    "duration": 14,
    "start_time": "2021-07-13T04:24:32.945Z"
   },
   {
    "duration": 168,
    "start_time": "2021-07-13T04:24:32.961Z"
   },
   {
    "duration": 11,
    "start_time": "2021-07-13T04:24:33.131Z"
   },
   {
    "duration": 68,
    "start_time": "2021-07-13T04:24:33.144Z"
   },
   {
    "duration": 14,
    "start_time": "2021-07-13T04:24:33.215Z"
   },
   {
    "duration": 9,
    "start_time": "2021-07-13T04:24:33.230Z"
   },
   {
    "duration": 14,
    "start_time": "2021-07-13T04:24:33.241Z"
   },
   {
    "duration": 4,
    "start_time": "2021-07-13T04:24:33.256Z"
   },
   {
    "duration": 14,
    "start_time": "2021-07-13T04:24:33.285Z"
   },
   {
    "duration": 290,
    "start_time": "2021-07-13T04:24:33.300Z"
   },
   {
    "duration": 4,
    "start_time": "2021-07-13T04:24:33.592Z"
   },
   {
    "duration": 459,
    "start_time": "2021-07-13T04:24:33.598Z"
   },
   {
    "duration": 28,
    "start_time": "2021-07-13T04:24:34.058Z"
   },
   {
    "duration": 2565,
    "start_time": "2021-07-13T04:24:34.088Z"
   },
   {
    "duration": 3,
    "start_time": "2021-07-13T04:24:36.655Z"
   },
   {
    "duration": 36,
    "start_time": "2021-07-13T04:24:36.660Z"
   },
   {
    "duration": 19,
    "start_time": "2021-07-13T04:24:36.698Z"
   },
   {
    "duration": 17,
    "start_time": "2021-07-13T04:24:36.719Z"
   },
   {
    "duration": 92,
    "start_time": "2021-07-13T04:24:36.738Z"
   },
   {
    "duration": 7,
    "start_time": "2021-07-13T04:24:36.832Z"
   },
   {
    "duration": 15,
    "start_time": "2021-07-13T04:24:36.841Z"
   },
   {
    "duration": 29,
    "start_time": "2021-07-13T04:24:36.859Z"
   },
   {
    "duration": 7,
    "start_time": "2021-07-13T04:24:36.891Z"
   },
   {
    "duration": 8,
    "start_time": "2021-07-13T04:24:36.904Z"
   },
   {
    "duration": 7,
    "start_time": "2021-07-13T04:24:36.914Z"
   },
   {
    "duration": 9,
    "start_time": "2021-07-13T04:24:36.923Z"
   },
   {
    "duration": 6,
    "start_time": "2021-07-13T04:24:36.934Z"
   },
   {
    "duration": 43,
    "start_time": "2021-07-13T04:24:36.942Z"
   },
   {
    "duration": 6,
    "start_time": "2021-07-13T04:24:36.986Z"
   },
   {
    "duration": 5,
    "start_time": "2021-07-13T04:24:36.993Z"
   },
   {
    "duration": 30,
    "start_time": "2021-07-13T04:24:36.999Z"
   },
   {
    "duration": 13,
    "start_time": "2021-07-13T04:24:37.031Z"
   },
   {
    "duration": 52,
    "start_time": "2021-07-13T04:24:37.045Z"
   },
   {
    "duration": 16,
    "start_time": "2021-07-13T04:24:37.098Z"
   },
   {
    "duration": 4,
    "start_time": "2021-07-13T04:24:37.116Z"
   },
   {
    "duration": 18,
    "start_time": "2021-07-13T04:24:37.122Z"
   },
   {
    "duration": 301,
    "start_time": "2021-07-13T04:24:37.142Z"
   },
   {
    "duration": 14,
    "start_time": "2021-07-13T04:25:04.437Z"
   },
   {
    "duration": 14,
    "start_time": "2021-07-13T04:26:26.089Z"
   },
   {
    "duration": 3,
    "start_time": "2021-07-13T04:26:27.897Z"
   },
   {
    "duration": 187,
    "start_time": "2021-07-13T04:26:30.953Z"
   },
   {
    "duration": 14,
    "start_time": "2021-07-13T04:26:55.833Z"
   },
   {
    "duration": 4,
    "start_time": "2021-07-13T04:27:08.489Z"
   },
   {
    "duration": 14,
    "start_time": "2021-07-13T04:27:09.650Z"
   },
   {
    "duration": 5,
    "start_time": "2021-07-13T04:28:34.982Z"
   },
   {
    "duration": 33,
    "start_time": "2021-07-13T04:28:41.687Z"
   },
   {
    "duration": 164,
    "start_time": "2021-07-13T04:28:45.894Z"
   },
   {
    "duration": 11,
    "start_time": "2021-07-13T04:28:57.566Z"
   },
   {
    "duration": 7,
    "start_time": "2021-07-13T04:29:14.647Z"
   },
   {
    "duration": 19,
    "start_time": "2021-07-13T04:29:20.446Z"
   },
   {
    "duration": 198,
    "start_time": "2021-07-13T04:29:36.761Z"
   },
   {
    "duration": 1118,
    "start_time": "2021-07-13T04:30:07.321Z"
   },
   {
    "duration": 618,
    "start_time": "2021-07-13T04:30:08.441Z"
   },
   {
    "duration": 198,
    "start_time": "2021-07-13T04:30:09.061Z"
   },
   {
    "duration": 207,
    "start_time": "2021-07-13T04:30:09.261Z"
   },
   {
    "duration": 301,
    "start_time": "2021-07-13T04:30:09.470Z"
   },
   {
    "duration": 275,
    "start_time": "2021-07-13T04:30:09.773Z"
   },
   {
    "duration": 258,
    "start_time": "2021-07-13T04:30:10.050Z"
   },
   {
    "duration": 249,
    "start_time": "2021-07-13T04:30:10.311Z"
   },
   {
    "duration": 110,
    "start_time": "2021-07-13T04:30:10.563Z"
   },
   {
    "duration": 272,
    "start_time": "2021-07-13T04:30:10.675Z"
   },
   {
    "duration": 19,
    "start_time": "2021-07-13T04:30:10.949Z"
   },
   {
    "duration": 789,
    "start_time": "2021-07-13T04:30:10.970Z"
   },
   {
    "duration": 93,
    "start_time": "2021-07-13T04:30:11.762Z"
   },
   {
    "duration": 94,
    "start_time": "2021-07-13T04:30:11.856Z"
   },
   {
    "duration": 273,
    "start_time": "2021-07-13T04:30:11.952Z"
   },
   {
    "duration": 13,
    "start_time": "2021-07-13T04:30:12.227Z"
   },
   {
    "duration": 185,
    "start_time": "2021-07-13T04:30:12.242Z"
   },
   {
    "duration": 720,
    "start_time": "2021-07-13T04:30:12.429Z"
   },
   {
    "duration": 52,
    "start_time": "2021-07-13T04:30:13.151Z"
   },
   {
    "duration": 32,
    "start_time": "2021-07-13T04:30:13.205Z"
   },
   {
    "duration": 2589,
    "start_time": "2021-07-13T04:30:13.239Z"
   },
   {
    "duration": 63,
    "start_time": "2021-07-13T04:30:15.829Z"
   },
   {
    "duration": 19,
    "start_time": "2021-07-13T04:30:15.896Z"
   },
   {
    "duration": 9,
    "start_time": "2021-07-13T04:30:15.918Z"
   },
   {
    "duration": 24,
    "start_time": "2021-07-13T04:30:15.928Z"
   },
   {
    "duration": 473,
    "start_time": "2021-07-13T04:30:15.953Z"
   },
   {
    "duration": 38,
    "start_time": "2021-07-13T04:30:16.427Z"
   },
   {
    "duration": 18,
    "start_time": "2021-07-13T04:30:16.467Z"
   },
   {
    "duration": 16,
    "start_time": "2021-07-13T04:30:16.487Z"
   },
   {
    "duration": 26,
    "start_time": "2021-07-13T04:30:16.504Z"
   },
   {
    "duration": 4,
    "start_time": "2021-07-13T04:30:16.532Z"
   },
   {
    "duration": 219,
    "start_time": "2021-07-13T04:30:16.537Z"
   },
   {
    "duration": 3,
    "start_time": "2021-07-13T04:30:16.758Z"
   },
   {
    "duration": 44,
    "start_time": "2021-07-13T04:30:16.763Z"
   },
   {
    "duration": 4,
    "start_time": "2021-07-13T04:30:16.809Z"
   },
   {
    "duration": 14,
    "start_time": "2021-07-13T04:30:16.814Z"
   },
   {
    "duration": 34,
    "start_time": "2021-07-13T04:30:16.829Z"
   },
   {
    "duration": 3,
    "start_time": "2021-07-13T04:30:16.865Z"
   },
   {
    "duration": 15,
    "start_time": "2021-07-13T04:30:16.869Z"
   },
   {
    "duration": 9,
    "start_time": "2021-07-13T04:30:16.886Z"
   },
   {
    "duration": 310,
    "start_time": "2021-07-13T04:30:16.896Z"
   },
   {
    "duration": 6,
    "start_time": "2021-07-13T04:30:17.208Z"
   },
   {
    "duration": 9,
    "start_time": "2021-07-13T04:30:17.215Z"
   },
   {
    "duration": 9,
    "start_time": "2021-07-13T04:30:17.226Z"
   },
   {
    "duration": 8,
    "start_time": "2021-07-13T04:30:17.237Z"
   },
   {
    "duration": 171,
    "start_time": "2021-07-13T04:30:17.247Z"
   },
   {
    "duration": 9,
    "start_time": "2021-07-13T04:30:17.419Z"
   },
   {
    "duration": 61,
    "start_time": "2021-07-13T04:30:17.430Z"
   },
   {
    "duration": 13,
    "start_time": "2021-07-13T04:30:17.492Z"
   },
   {
    "duration": 8,
    "start_time": "2021-07-13T04:30:17.507Z"
   },
   {
    "duration": 15,
    "start_time": "2021-07-13T04:30:17.516Z"
   },
   {
    "duration": 3,
    "start_time": "2021-07-13T04:30:17.532Z"
   },
   {
    "duration": 15,
    "start_time": "2021-07-13T04:30:17.537Z"
   },
   {
    "duration": 319,
    "start_time": "2021-07-13T04:30:17.554Z"
   },
   {
    "duration": 3,
    "start_time": "2021-07-13T04:30:17.875Z"
   },
   {
    "duration": 440,
    "start_time": "2021-07-13T04:30:17.880Z"
   },
   {
    "duration": 18,
    "start_time": "2021-07-13T04:30:18.322Z"
   },
   {
    "duration": 2619,
    "start_time": "2021-07-13T04:30:18.341Z"
   },
   {
    "duration": 2,
    "start_time": "2021-07-13T04:30:20.962Z"
   },
   {
    "duration": 18,
    "start_time": "2021-07-13T04:30:20.984Z"
   },
   {
    "duration": 18,
    "start_time": "2021-07-13T04:30:21.004Z"
   },
   {
    "duration": 15,
    "start_time": "2021-07-13T04:30:21.024Z"
   },
   {
    "duration": 89,
    "start_time": "2021-07-13T04:30:21.040Z"
   },
   {
    "duration": 5,
    "start_time": "2021-07-13T04:30:21.131Z"
   },
   {
    "duration": 16,
    "start_time": "2021-07-13T04:30:21.138Z"
   },
   {
    "duration": 8,
    "start_time": "2021-07-13T04:30:21.156Z"
   },
   {
    "duration": 25,
    "start_time": "2021-07-13T04:30:21.166Z"
   },
   {
    "duration": 7,
    "start_time": "2021-07-13T04:30:21.196Z"
   },
   {
    "duration": 7,
    "start_time": "2021-07-13T04:30:21.205Z"
   },
   {
    "duration": 7,
    "start_time": "2021-07-13T04:30:21.214Z"
   },
   {
    "duration": 6,
    "start_time": "2021-07-13T04:30:21.222Z"
   },
   {
    "duration": 6,
    "start_time": "2021-07-13T04:30:21.230Z"
   },
   {
    "duration": 11,
    "start_time": "2021-07-13T04:30:21.238Z"
   },
   {
    "duration": 37,
    "start_time": "2021-07-13T04:30:21.250Z"
   },
   {
    "duration": 33,
    "start_time": "2021-07-13T04:30:21.288Z"
   },
   {
    "duration": 16,
    "start_time": "2021-07-13T04:30:21.322Z"
   },
   {
    "duration": 5,
    "start_time": "2021-07-13T04:30:21.340Z"
   },
   {
    "duration": 51,
    "start_time": "2021-07-13T04:30:21.346Z"
   },
   {
    "duration": 13,
    "start_time": "2021-07-13T04:30:21.399Z"
   },
   {
    "duration": 5,
    "start_time": "2021-07-13T04:52:54.831Z"
   },
   {
    "duration": 11,
    "start_time": "2021-07-13T04:53:01.893Z"
   },
   {
    "duration": 8,
    "start_time": "2021-07-13T04:54:18.467Z"
   },
   {
    "duration": 17,
    "start_time": "2021-07-13T04:54:36.493Z"
   },
   {
    "duration": 17,
    "start_time": "2021-07-13T04:55:38.837Z"
   },
   {
    "duration": 7,
    "start_time": "2021-07-13T04:55:45.215Z"
   },
   {
    "duration": 10,
    "start_time": "2021-07-13T04:55:47.855Z"
   },
   {
    "duration": 4403,
    "start_time": "2021-07-13T04:56:10.592Z"
   },
   {
    "duration": -101,
    "start_time": "2021-07-13T04:56:15.098Z"
   },
   {
    "duration": 192,
    "start_time": "2021-07-13T04:56:16.201Z"
   },
   {
    "duration": 9,
    "start_time": "2021-07-13T04:56:21.781Z"
   },
   {
    "duration": 10,
    "start_time": "2021-07-13T04:56:23.680Z"
   },
   {
    "duration": 192,
    "start_time": "2021-07-13T04:58:53.127Z"
   },
   {
    "duration": 33,
    "start_time": "2021-07-13T04:59:14.640Z"
   },
   {
    "duration": 4295,
    "start_time": "2021-07-13T04:59:20.567Z"
   },
   {
    "duration": 7,
    "start_time": "2021-07-13T04:59:41.882Z"
   },
   {
    "duration": 17,
    "start_time": "2021-07-13T04:59:44.065Z"
   },
   {
    "duration": 1206,
    "start_time": "2021-07-13T05:04:44.196Z"
   },
   {
    "duration": 699,
    "start_time": "2021-07-13T05:04:45.404Z"
   },
   {
    "duration": 197,
    "start_time": "2021-07-13T05:04:46.105Z"
   },
   {
    "duration": 204,
    "start_time": "2021-07-13T05:04:46.304Z"
   },
   {
    "duration": 298,
    "start_time": "2021-07-13T05:04:46.510Z"
   },
   {
    "duration": 262,
    "start_time": "2021-07-13T05:04:46.810Z"
   },
   {
    "duration": 253,
    "start_time": "2021-07-13T05:04:47.074Z"
   },
   {
    "duration": 252,
    "start_time": "2021-07-13T05:04:47.329Z"
   },
   {
    "duration": 113,
    "start_time": "2021-07-13T05:04:47.583Z"
   },
   {
    "duration": 261,
    "start_time": "2021-07-13T05:04:47.698Z"
   },
   {
    "duration": 25,
    "start_time": "2021-07-13T05:04:47.961Z"
   },
   {
    "duration": 763,
    "start_time": "2021-07-13T05:04:47.988Z"
   },
   {
    "duration": 93,
    "start_time": "2021-07-13T05:04:48.753Z"
   },
   {
    "duration": 96,
    "start_time": "2021-07-13T05:04:48.847Z"
   },
   {
    "duration": 258,
    "start_time": "2021-07-13T05:04:48.945Z"
   },
   {
    "duration": 11,
    "start_time": "2021-07-13T05:04:49.205Z"
   },
   {
    "duration": 183,
    "start_time": "2021-07-13T05:04:49.218Z"
   },
   {
    "duration": 689,
    "start_time": "2021-07-13T05:04:49.403Z"
   },
   {
    "duration": 39,
    "start_time": "2021-07-13T05:04:50.094Z"
   },
   {
    "duration": 53,
    "start_time": "2021-07-13T05:04:50.134Z"
   },
   {
    "duration": 2542,
    "start_time": "2021-07-13T05:04:50.188Z"
   },
   {
    "duration": 61,
    "start_time": "2021-07-13T05:04:52.732Z"
   },
   {
    "duration": 19,
    "start_time": "2021-07-13T05:04:52.797Z"
   },
   {
    "duration": 14,
    "start_time": "2021-07-13T05:04:52.818Z"
   },
   {
    "duration": 17,
    "start_time": "2021-07-13T05:04:52.833Z"
   },
   {
    "duration": 475,
    "start_time": "2021-07-13T05:04:52.852Z"
   },
   {
    "duration": 39,
    "start_time": "2021-07-13T05:04:53.328Z"
   },
   {
    "duration": 21,
    "start_time": "2021-07-13T05:04:53.368Z"
   },
   {
    "duration": 20,
    "start_time": "2021-07-13T05:04:53.391Z"
   },
   {
    "duration": 26,
    "start_time": "2021-07-13T05:04:53.413Z"
   },
   {
    "duration": 4,
    "start_time": "2021-07-13T05:04:53.440Z"
   },
   {
    "duration": 217,
    "start_time": "2021-07-13T05:04:53.446Z"
   },
   {
    "duration": 4,
    "start_time": "2021-07-13T05:04:53.665Z"
   },
   {
    "duration": 41,
    "start_time": "2021-07-13T05:04:53.670Z"
   },
   {
    "duration": 4,
    "start_time": "2021-07-13T05:04:53.713Z"
   },
   {
    "duration": 10,
    "start_time": "2021-07-13T05:04:53.719Z"
   },
   {
    "duration": 44,
    "start_time": "2021-07-13T05:04:53.730Z"
   },
   {
    "duration": 10,
    "start_time": "2021-07-13T05:04:53.775Z"
   },
   {
    "duration": 3,
    "start_time": "2021-07-13T05:04:53.786Z"
   },
   {
    "duration": 9,
    "start_time": "2021-07-13T05:04:53.791Z"
   },
   {
    "duration": 304,
    "start_time": "2021-07-13T05:04:53.802Z"
   },
   {
    "duration": 5,
    "start_time": "2021-07-13T05:04:54.108Z"
   },
   {
    "duration": 8,
    "start_time": "2021-07-13T05:04:54.115Z"
   },
   {
    "duration": 9,
    "start_time": "2021-07-13T05:04:54.125Z"
   },
   {
    "duration": 8,
    "start_time": "2021-07-13T05:04:54.135Z"
   },
   {
    "duration": 169,
    "start_time": "2021-07-13T05:04:54.145Z"
   },
   {
    "duration": 9,
    "start_time": "2021-07-13T05:04:54.315Z"
   },
   {
    "duration": 62,
    "start_time": "2021-07-13T05:04:54.326Z"
   },
   {
    "duration": 14,
    "start_time": "2021-07-13T05:04:54.390Z"
   },
   {
    "duration": 9,
    "start_time": "2021-07-13T05:04:54.406Z"
   },
   {
    "duration": 14,
    "start_time": "2021-07-13T05:04:54.417Z"
   },
   {
    "duration": 3,
    "start_time": "2021-07-13T05:04:54.433Z"
   },
   {
    "duration": 15,
    "start_time": "2021-07-13T05:04:54.437Z"
   },
   {
    "duration": 331,
    "start_time": "2021-07-13T05:04:54.453Z"
   },
   {
    "duration": 3,
    "start_time": "2021-07-13T05:04:54.786Z"
   },
   {
    "duration": 460,
    "start_time": "2021-07-13T05:04:54.791Z"
   },
   {
    "duration": 18,
    "start_time": "2021-07-13T05:04:55.253Z"
   },
   {
    "duration": 2588,
    "start_time": "2021-07-13T05:04:55.272Z"
   },
   {
    "duration": 2,
    "start_time": "2021-07-13T05:04:57.862Z"
   },
   {
    "duration": 33,
    "start_time": "2021-07-13T05:04:57.866Z"
   },
   {
    "duration": 16,
    "start_time": "2021-07-13T05:04:57.901Z"
   },
   {
    "duration": 14,
    "start_time": "2021-07-13T05:04:57.919Z"
   },
   {
    "duration": 79,
    "start_time": "2021-07-13T05:04:57.935Z"
   },
   {
    "duration": 6,
    "start_time": "2021-07-13T05:04:58.015Z"
   },
   {
    "duration": 13,
    "start_time": "2021-07-13T05:04:58.022Z"
   },
   {
    "duration": 7,
    "start_time": "2021-07-13T05:04:58.037Z"
   },
   {
    "duration": 6,
    "start_time": "2021-07-13T05:04:58.046Z"
   },
   {
    "duration": 32,
    "start_time": "2021-07-13T05:04:58.057Z"
   },
   {
    "duration": 7,
    "start_time": "2021-07-13T05:04:58.091Z"
   },
   {
    "duration": 6,
    "start_time": "2021-07-13T05:04:58.099Z"
   },
   {
    "duration": 6,
    "start_time": "2021-07-13T05:04:58.107Z"
   },
   {
    "duration": 4,
    "start_time": "2021-07-13T05:04:58.115Z"
   },
   {
    "duration": 6,
    "start_time": "2021-07-13T05:04:58.120Z"
   },
   {
    "duration": 6,
    "start_time": "2021-07-13T05:04:58.127Z"
   },
   {
    "duration": 54,
    "start_time": "2021-07-13T05:04:58.135Z"
   },
   {
    "duration": 12,
    "start_time": "2021-07-13T05:04:58.190Z"
   },
   {
    "duration": 2,
    "start_time": "2021-07-13T05:04:58.204Z"
   },
   {
    "duration": 265,
    "start_time": "2021-07-13T05:04:58.207Z"
   },
   {
    "duration": -89,
    "start_time": "2021-07-13T05:04:58.563Z"
   },
   {
    "duration": -91,
    "start_time": "2021-07-13T05:04:58.566Z"
   },
   {
    "duration": -93,
    "start_time": "2021-07-13T05:04:58.569Z"
   },
   {
    "duration": 35,
    "start_time": "2021-07-13T05:05:28.845Z"
   },
   {
    "duration": 5,
    "start_time": "2021-07-13T05:05:32.535Z"
   },
   {
    "duration": 185,
    "start_time": "2021-07-13T05:05:35.534Z"
   },
   {
    "duration": 187,
    "start_time": "2021-07-13T05:06:04.264Z"
   },
   {
    "duration": 5,
    "start_time": "2021-07-13T05:06:15.240Z"
   },
   {
    "duration": 10,
    "start_time": "2021-07-13T05:06:33.640Z"
   },
   {
    "duration": 6,
    "start_time": "2021-07-13T05:06:43.761Z"
   },
   {
    "duration": 19,
    "start_time": "2021-07-13T05:06:49.304Z"
   },
   {
    "duration": 5402,
    "start_time": "2021-07-13T05:36:54.000Z"
   },
   {
    "duration": 6,
    "start_time": "2021-07-13T05:37:07.450Z"
   },
   {
    "duration": 17,
    "start_time": "2021-07-13T05:37:15.826Z"
   },
   {
    "duration": 7,
    "start_time": "2021-07-13T05:38:10.653Z"
   },
   {
    "duration": 4920,
    "start_time": "2021-07-13T05:38:13.724Z"
   },
   {
    "duration": 6,
    "start_time": "2021-07-13T05:39:48.218Z"
   },
   {
    "duration": 17,
    "start_time": "2021-07-13T05:39:49.977Z"
   },
   {
    "duration": 15,
    "start_time": "2021-07-13T06:25:01.731Z"
   },
   {
    "duration": 16,
    "start_time": "2021-07-13T06:25:40.109Z"
   },
   {
    "duration": 1113,
    "start_time": "2021-07-13T06:25:59.099Z"
   },
   {
    "duration": 623,
    "start_time": "2021-07-13T06:26:00.214Z"
   },
   {
    "duration": 200,
    "start_time": "2021-07-13T06:26:00.839Z"
   },
   {
    "duration": 213,
    "start_time": "2021-07-13T06:26:01.041Z"
   },
   {
    "duration": 324,
    "start_time": "2021-07-13T06:26:01.256Z"
   },
   {
    "duration": 277,
    "start_time": "2021-07-13T06:26:01.587Z"
   },
   {
    "duration": 260,
    "start_time": "2021-07-13T06:26:01.866Z"
   },
   {
    "duration": 256,
    "start_time": "2021-07-13T06:26:02.129Z"
   },
   {
    "duration": 117,
    "start_time": "2021-07-13T06:26:02.387Z"
   },
   {
    "duration": 272,
    "start_time": "2021-07-13T06:26:02.506Z"
   },
   {
    "duration": 17,
    "start_time": "2021-07-13T06:26:02.780Z"
   },
   {
    "duration": 794,
    "start_time": "2021-07-13T06:26:02.799Z"
   },
   {
    "duration": 89,
    "start_time": "2021-07-13T06:26:03.595Z"
   },
   {
    "duration": 101,
    "start_time": "2021-07-13T06:26:03.686Z"
   },
   {
    "duration": 266,
    "start_time": "2021-07-13T06:26:03.788Z"
   },
   {
    "duration": 12,
    "start_time": "2021-07-13T06:26:04.056Z"
   },
   {
    "duration": 180,
    "start_time": "2021-07-13T06:26:04.070Z"
   },
   {
    "duration": 733,
    "start_time": "2021-07-13T06:26:04.252Z"
   },
   {
    "duration": 40,
    "start_time": "2021-07-13T06:26:04.987Z"
   },
   {
    "duration": 31,
    "start_time": "2021-07-13T06:26:05.029Z"
   },
   {
    "duration": 2630,
    "start_time": "2021-07-13T06:26:05.061Z"
   },
   {
    "duration": 56,
    "start_time": "2021-07-13T06:26:07.692Z"
   },
   {
    "duration": 37,
    "start_time": "2021-07-13T06:26:07.752Z"
   },
   {
    "duration": 5,
    "start_time": "2021-07-13T06:26:07.792Z"
   },
   {
    "duration": 14,
    "start_time": "2021-07-13T06:26:07.799Z"
   },
   {
    "duration": 481,
    "start_time": "2021-07-13T06:26:07.814Z"
   },
   {
    "duration": 44,
    "start_time": "2021-07-13T06:26:08.296Z"
   },
   {
    "duration": 9,
    "start_time": "2021-07-13T06:26:08.342Z"
   },
   {
    "duration": 37,
    "start_time": "2021-07-13T06:26:08.353Z"
   },
   {
    "duration": 29,
    "start_time": "2021-07-13T06:26:08.391Z"
   },
   {
    "duration": 4,
    "start_time": "2021-07-13T06:26:08.421Z"
   },
   {
    "duration": 223,
    "start_time": "2021-07-13T06:26:08.426Z"
   },
   {
    "duration": 4,
    "start_time": "2021-07-13T06:26:08.651Z"
   },
   {
    "duration": 43,
    "start_time": "2021-07-13T06:26:08.657Z"
   },
   {
    "duration": 5,
    "start_time": "2021-07-13T06:26:08.702Z"
   },
   {
    "duration": 10,
    "start_time": "2021-07-13T06:26:08.708Z"
   },
   {
    "duration": 35,
    "start_time": "2021-07-13T06:26:08.719Z"
   },
   {
    "duration": 4,
    "start_time": "2021-07-13T06:26:08.756Z"
   },
   {
    "duration": 4,
    "start_time": "2021-07-13T06:26:08.784Z"
   },
   {
    "duration": 10,
    "start_time": "2021-07-13T06:26:08.789Z"
   },
   {
    "duration": 311,
    "start_time": "2021-07-13T06:26:08.800Z"
   },
   {
    "duration": 6,
    "start_time": "2021-07-13T06:26:09.113Z"
   },
   {
    "duration": 13,
    "start_time": "2021-07-13T06:26:09.121Z"
   },
   {
    "duration": 13,
    "start_time": "2021-07-13T06:26:09.136Z"
   },
   {
    "duration": 17,
    "start_time": "2021-07-13T06:26:09.150Z"
   },
   {
    "duration": 164,
    "start_time": "2021-07-13T06:26:09.168Z"
   },
   {
    "duration": 9,
    "start_time": "2021-07-13T06:26:09.333Z"
   },
   {
    "duration": 65,
    "start_time": "2021-07-13T06:26:09.344Z"
   },
   {
    "duration": 13,
    "start_time": "2021-07-13T06:26:09.411Z"
   },
   {
    "duration": 9,
    "start_time": "2021-07-13T06:26:09.426Z"
   },
   {
    "duration": 15,
    "start_time": "2021-07-13T06:26:09.437Z"
   },
   {
    "duration": 4,
    "start_time": "2021-07-13T06:26:09.453Z"
   },
   {
    "duration": 16,
    "start_time": "2021-07-13T06:26:09.485Z"
   },
   {
    "duration": 319,
    "start_time": "2021-07-13T06:26:09.503Z"
   },
   {
    "duration": 3,
    "start_time": "2021-07-13T06:26:09.824Z"
   },
   {
    "duration": 463,
    "start_time": "2021-07-13T06:26:09.828Z"
   },
   {
    "duration": 19,
    "start_time": "2021-07-13T06:26:10.292Z"
   },
   {
    "duration": 2626,
    "start_time": "2021-07-13T06:26:10.313Z"
   },
   {
    "duration": 3,
    "start_time": "2021-07-13T06:26:12.940Z"
   },
   {
    "duration": 20,
    "start_time": "2021-07-13T06:26:12.945Z"
   },
   {
    "duration": 30,
    "start_time": "2021-07-13T06:26:12.966Z"
   },
   {
    "duration": 17,
    "start_time": "2021-07-13T06:26:12.997Z"
   },
   {
    "duration": 84,
    "start_time": "2021-07-13T06:26:13.015Z"
   },
   {
    "duration": 8,
    "start_time": "2021-07-13T06:26:13.101Z"
   },
   {
    "duration": 16,
    "start_time": "2021-07-13T06:26:13.111Z"
   },
   {
    "duration": 9,
    "start_time": "2021-07-13T06:26:13.128Z"
   },
   {
    "duration": 7,
    "start_time": "2021-07-13T06:26:13.139Z"
   },
   {
    "duration": 36,
    "start_time": "2021-07-13T06:26:13.152Z"
   },
   {
    "duration": 8,
    "start_time": "2021-07-13T06:26:13.190Z"
   },
   {
    "duration": 8,
    "start_time": "2021-07-13T06:26:13.200Z"
   },
   {
    "duration": 7,
    "start_time": "2021-07-13T06:26:13.210Z"
   },
   {
    "duration": 6,
    "start_time": "2021-07-13T06:26:13.219Z"
   },
   {
    "duration": 6,
    "start_time": "2021-07-13T06:26:13.227Z"
   },
   {
    "duration": 7,
    "start_time": "2021-07-13T06:26:13.235Z"
   },
   {
    "duration": 63,
    "start_time": "2021-07-13T06:26:13.244Z"
   },
   {
    "duration": 14,
    "start_time": "2021-07-13T06:26:13.309Z"
   },
   {
    "duration": 33,
    "start_time": "2021-07-13T06:26:13.325Z"
   },
   {
    "duration": 25,
    "start_time": "2021-07-13T06:26:13.360Z"
   },
   {
    "duration": 11,
    "start_time": "2021-07-13T06:26:13.387Z"
   },
   {
    "duration": 89,
    "start_time": "2021-07-13T06:26:13.400Z"
   },
   {
    "duration": 16,
    "start_time": "2021-07-13T06:26:55.256Z"
   },
   {
    "duration": 11,
    "start_time": "2021-07-13T06:27:10.664Z"
   },
   {
    "duration": 18,
    "start_time": "2021-07-13T06:27:17.561Z"
   },
   {
    "duration": 1276,
    "start_time": "2021-07-13T06:29:33.480Z"
   },
   {
    "duration": 185,
    "start_time": "2021-07-13T06:29:44.086Z"
   },
   {
    "duration": 10,
    "start_time": "2021-07-13T06:30:20.520Z"
   },
   {
    "duration": 189,
    "start_time": "2021-07-13T06:30:41.729Z"
   },
   {
    "duration": 171,
    "start_time": "2021-07-13T06:30:48.811Z"
   },
   {
    "duration": 4,
    "start_time": "2021-07-13T06:31:26.875Z"
   },
   {
    "duration": 8,
    "start_time": "2021-07-13T06:31:32.234Z"
   },
   {
    "duration": 4,
    "start_time": "2021-07-13T06:32:21.588Z"
   },
   {
    "duration": 11,
    "start_time": "2021-07-13T06:32:25.469Z"
   },
   {
    "duration": 17,
    "start_time": "2021-07-13T06:32:27.703Z"
   },
   {
    "duration": 15,
    "start_time": "2021-07-13T06:32:41.750Z"
   },
   {
    "duration": 16,
    "start_time": "2021-07-13T06:33:08.057Z"
   },
   {
    "duration": 209,
    "start_time": "2021-07-13T06:33:09.632Z"
   },
   {
    "duration": 32,
    "start_time": "2021-07-13T06:35:36.799Z"
   },
   {
    "duration": 29,
    "start_time": "2021-07-13T06:38:09.461Z"
   },
   {
    "duration": 4,
    "start_time": "2021-07-13T06:42:59.548Z"
   },
   {
    "duration": 7,
    "start_time": "2021-07-13T06:43:02.264Z"
   },
   {
    "duration": 11,
    "start_time": "2021-07-13T06:43:11.449Z"
   },
   {
    "duration": 28,
    "start_time": "2021-07-13T06:43:15.664Z"
   },
   {
    "duration": 10,
    "start_time": "2021-07-13T06:44:37.411Z"
   },
   {
    "duration": 31,
    "start_time": "2021-07-13T06:44:41.666Z"
   },
   {
    "duration": 1076,
    "start_time": "2021-07-13T06:44:52.623Z"
   },
   {
    "duration": 610,
    "start_time": "2021-07-13T06:44:53.701Z"
   },
   {
    "duration": 197,
    "start_time": "2021-07-13T06:44:54.314Z"
   },
   {
    "duration": 201,
    "start_time": "2021-07-13T06:44:54.513Z"
   },
   {
    "duration": 308,
    "start_time": "2021-07-13T06:44:54.716Z"
   },
   {
    "duration": 279,
    "start_time": "2021-07-13T06:44:55.026Z"
   },
   {
    "duration": 248,
    "start_time": "2021-07-13T06:44:55.307Z"
   },
   {
    "duration": 245,
    "start_time": "2021-07-13T06:44:55.558Z"
   },
   {
    "duration": 113,
    "start_time": "2021-07-13T06:44:55.805Z"
   },
   {
    "duration": 285,
    "start_time": "2021-07-13T06:44:55.920Z"
   },
   {
    "duration": 18,
    "start_time": "2021-07-13T06:44:56.207Z"
   },
   {
    "duration": 760,
    "start_time": "2021-07-13T06:44:56.226Z"
   },
   {
    "duration": 80,
    "start_time": "2021-07-13T06:44:56.987Z"
   },
   {
    "duration": 100,
    "start_time": "2021-07-13T06:44:57.069Z"
   },
   {
    "duration": 268,
    "start_time": "2021-07-13T06:44:57.170Z"
   },
   {
    "duration": 11,
    "start_time": "2021-07-13T06:44:57.440Z"
   },
   {
    "duration": 181,
    "start_time": "2021-07-13T06:44:57.453Z"
   },
   {
    "duration": 722,
    "start_time": "2021-07-13T06:44:57.636Z"
   },
   {
    "duration": 46,
    "start_time": "2021-07-13T06:44:58.360Z"
   },
   {
    "duration": 30,
    "start_time": "2021-07-13T06:44:58.407Z"
   },
   {
    "duration": 2610,
    "start_time": "2021-07-13T06:44:58.439Z"
   },
   {
    "duration": 62,
    "start_time": "2021-07-13T06:45:01.051Z"
   },
   {
    "duration": 21,
    "start_time": "2021-07-13T06:45:01.117Z"
   },
   {
    "duration": 14,
    "start_time": "2021-07-13T06:45:01.141Z"
   },
   {
    "duration": 18,
    "start_time": "2021-07-13T06:45:01.156Z"
   },
   {
    "duration": 478,
    "start_time": "2021-07-13T06:45:01.176Z"
   },
   {
    "duration": 51,
    "start_time": "2021-07-13T06:45:01.656Z"
   },
   {
    "duration": 10,
    "start_time": "2021-07-13T06:45:01.709Z"
   },
   {
    "duration": 18,
    "start_time": "2021-07-13T06:45:01.722Z"
   },
   {
    "duration": 55,
    "start_time": "2021-07-13T06:45:01.743Z"
   },
   {
    "duration": 5,
    "start_time": "2021-07-13T06:45:01.800Z"
   },
   {
    "duration": 211,
    "start_time": "2021-07-13T06:45:01.807Z"
   },
   {
    "duration": 5,
    "start_time": "2021-07-13T06:45:02.019Z"
   },
   {
    "duration": 41,
    "start_time": "2021-07-13T06:45:02.025Z"
   },
   {
    "duration": 5,
    "start_time": "2021-07-13T06:45:02.067Z"
   },
   {
    "duration": 8,
    "start_time": "2021-07-13T06:45:02.085Z"
   },
   {
    "duration": 38,
    "start_time": "2021-07-13T06:45:02.094Z"
   },
   {
    "duration": 3,
    "start_time": "2021-07-13T06:45:02.133Z"
   },
   {
    "duration": 7,
    "start_time": "2021-07-13T06:45:02.138Z"
   },
   {
    "duration": 8,
    "start_time": "2021-07-13T06:45:02.147Z"
   },
   {
    "duration": 314,
    "start_time": "2021-07-13T06:45:02.157Z"
   },
   {
    "duration": 13,
    "start_time": "2021-07-13T06:45:02.472Z"
   },
   {
    "duration": 9,
    "start_time": "2021-07-13T06:45:02.487Z"
   },
   {
    "duration": 11,
    "start_time": "2021-07-13T06:45:02.498Z"
   },
   {
    "duration": 10,
    "start_time": "2021-07-13T06:45:02.511Z"
   },
   {
    "duration": 169,
    "start_time": "2021-07-13T06:45:02.523Z"
   },
   {
    "duration": 9,
    "start_time": "2021-07-13T06:45:02.694Z"
   },
   {
    "duration": 54,
    "start_time": "2021-07-13T06:45:02.704Z"
   },
   {
    "duration": 31,
    "start_time": "2021-07-13T06:45:02.760Z"
   },
   {
    "duration": 11,
    "start_time": "2021-07-13T06:45:02.793Z"
   },
   {
    "duration": 17,
    "start_time": "2021-07-13T06:45:02.805Z"
   },
   {
    "duration": 4,
    "start_time": "2021-07-13T06:45:02.824Z"
   },
   {
    "duration": 17,
    "start_time": "2021-07-13T06:45:02.829Z"
   },
   {
    "duration": 336,
    "start_time": "2021-07-13T06:45:02.848Z"
   },
   {
    "duration": 4,
    "start_time": "2021-07-13T06:45:03.187Z"
   },
   {
    "duration": 452,
    "start_time": "2021-07-13T06:45:03.193Z"
   },
   {
    "duration": 19,
    "start_time": "2021-07-13T06:45:03.647Z"
   },
   {
    "duration": 2717,
    "start_time": "2021-07-13T06:45:03.668Z"
   },
   {
    "duration": 2,
    "start_time": "2021-07-13T06:45:06.387Z"
   },
   {
    "duration": 19,
    "start_time": "2021-07-13T06:45:06.391Z"
   },
   {
    "duration": 17,
    "start_time": "2021-07-13T06:45:06.411Z"
   },
   {
    "duration": 15,
    "start_time": "2021-07-13T06:45:06.430Z"
   },
   {
    "duration": 87,
    "start_time": "2021-07-13T06:45:06.447Z"
   },
   {
    "duration": 5,
    "start_time": "2021-07-13T06:45:06.535Z"
   },
   {
    "duration": 22,
    "start_time": "2021-07-13T06:45:06.542Z"
   },
   {
    "duration": 7,
    "start_time": "2021-07-13T06:45:06.566Z"
   },
   {
    "duration": 12,
    "start_time": "2021-07-13T06:45:06.574Z"
   },
   {
    "duration": 6,
    "start_time": "2021-07-13T06:45:06.591Z"
   },
   {
    "duration": 10,
    "start_time": "2021-07-13T06:45:06.599Z"
   },
   {
    "duration": 9,
    "start_time": "2021-07-13T06:45:06.610Z"
   },
   {
    "duration": 9,
    "start_time": "2021-07-13T06:45:06.621Z"
   },
   {
    "duration": 15,
    "start_time": "2021-07-13T06:45:06.631Z"
   },
   {
    "duration": 17,
    "start_time": "2021-07-13T06:45:06.648Z"
   },
   {
    "duration": 12,
    "start_time": "2021-07-13T06:45:06.666Z"
   },
   {
    "duration": 37,
    "start_time": "2021-07-13T06:45:06.679Z"
   },
   {
    "duration": 12,
    "start_time": "2021-07-13T06:45:06.718Z"
   },
   {
    "duration": 32,
    "start_time": "2021-07-13T06:45:06.731Z"
   },
   {
    "duration": 4,
    "start_time": "2021-07-13T06:45:06.764Z"
   },
   {
    "duration": 18,
    "start_time": "2021-07-13T06:45:06.769Z"
   },
   {
    "duration": 6,
    "start_time": "2021-07-13T06:45:06.788Z"
   },
   {
    "duration": 14,
    "start_time": "2021-07-13T06:45:06.795Z"
   },
   {
    "duration": 14,
    "start_time": "2021-07-13T06:45:06.811Z"
   },
   {
    "duration": 18,
    "start_time": "2021-07-13T06:45:06.827Z"
   },
   {
    "duration": 31,
    "start_time": "2021-07-13T06:45:06.846Z"
   },
   {
    "duration": 4,
    "start_time": "2021-07-13T06:45:50.395Z"
   },
   {
    "duration": 28,
    "start_time": "2021-07-13T06:46:39.437Z"
   },
   {
    "duration": 926,
    "start_time": "2021-07-13T06:46:56.551Z"
   },
   {
    "duration": 834,
    "start_time": "2021-07-13T06:47:09.352Z"
   },
   {
    "duration": 196,
    "start_time": "2021-07-13T06:48:41.258Z"
   },
   {
    "duration": 45,
    "start_time": "2021-07-13T06:48:46.651Z"
   },
   {
    "duration": 43,
    "start_time": "2021-07-13T06:48:58.253Z"
   },
   {
    "duration": 1108,
    "start_time": "2021-07-13T06:49:22.696Z"
   },
   {
    "duration": 638,
    "start_time": "2021-07-13T06:49:23.806Z"
   },
   {
    "duration": 213,
    "start_time": "2021-07-13T06:49:24.446Z"
   },
   {
    "duration": 214,
    "start_time": "2021-07-13T06:49:24.661Z"
   },
   {
    "duration": 317,
    "start_time": "2021-07-13T06:49:24.876Z"
   },
   {
    "duration": 282,
    "start_time": "2021-07-13T06:49:25.195Z"
   },
   {
    "duration": 263,
    "start_time": "2021-07-13T06:49:25.479Z"
   },
   {
    "duration": 270,
    "start_time": "2021-07-13T06:49:25.746Z"
   },
   {
    "duration": 122,
    "start_time": "2021-07-13T06:49:26.019Z"
   },
   {
    "duration": 289,
    "start_time": "2021-07-13T06:49:26.142Z"
   },
   {
    "duration": 18,
    "start_time": "2021-07-13T06:49:26.433Z"
   },
   {
    "duration": 782,
    "start_time": "2021-07-13T06:49:26.453Z"
   },
   {
    "duration": 97,
    "start_time": "2021-07-13T06:49:27.237Z"
   },
   {
    "duration": 100,
    "start_time": "2021-07-13T06:49:27.335Z"
   },
   {
    "duration": 259,
    "start_time": "2021-07-13T06:49:27.437Z"
   },
   {
    "duration": 13,
    "start_time": "2021-07-13T06:49:27.698Z"
   },
   {
    "duration": 190,
    "start_time": "2021-07-13T06:49:27.712Z"
   },
   {
    "duration": 681,
    "start_time": "2021-07-13T06:49:27.904Z"
   },
   {
    "duration": 42,
    "start_time": "2021-07-13T06:49:28.587Z"
   },
   {
    "duration": 57,
    "start_time": "2021-07-13T06:49:28.631Z"
   },
   {
    "duration": 2571,
    "start_time": "2021-07-13T06:49:28.690Z"
   },
   {
    "duration": 66,
    "start_time": "2021-07-13T06:49:31.263Z"
   },
   {
    "duration": 21,
    "start_time": "2021-07-13T06:49:31.334Z"
   },
   {
    "duration": 6,
    "start_time": "2021-07-13T06:49:31.359Z"
   },
   {
    "duration": 15,
    "start_time": "2021-07-13T06:49:31.386Z"
   },
   {
    "duration": 475,
    "start_time": "2021-07-13T06:49:31.403Z"
   },
   {
    "duration": 41,
    "start_time": "2021-07-13T06:49:31.884Z"
   },
   {
    "duration": 10,
    "start_time": "2021-07-13T06:49:31.927Z"
   },
   {
    "duration": 31,
    "start_time": "2021-07-13T06:49:31.939Z"
   },
   {
    "duration": 41,
    "start_time": "2021-07-13T06:49:31.971Z"
   },
   {
    "duration": 5,
    "start_time": "2021-07-13T06:49:32.014Z"
   },
   {
    "duration": 211,
    "start_time": "2021-07-13T06:49:32.021Z"
   },
   {
    "duration": 5,
    "start_time": "2021-07-13T06:49:32.234Z"
   },
   {
    "duration": 45,
    "start_time": "2021-07-13T06:49:32.241Z"
   },
   {
    "duration": 6,
    "start_time": "2021-07-13T06:49:32.287Z"
   },
   {
    "duration": 11,
    "start_time": "2021-07-13T06:49:32.294Z"
   },
   {
    "duration": 34,
    "start_time": "2021-07-13T06:49:32.307Z"
   },
   {
    "duration": 4,
    "start_time": "2021-07-13T06:49:32.343Z"
   },
   {
    "duration": 36,
    "start_time": "2021-07-13T06:49:32.349Z"
   },
   {
    "duration": 8,
    "start_time": "2021-07-13T06:49:32.387Z"
   },
   {
    "duration": 300,
    "start_time": "2021-07-13T06:49:32.397Z"
   },
   {
    "duration": 7,
    "start_time": "2021-07-13T06:49:32.699Z"
   },
   {
    "duration": 12,
    "start_time": "2021-07-13T06:49:32.708Z"
   },
   {
    "duration": 21,
    "start_time": "2021-07-13T06:49:32.722Z"
   },
   {
    "duration": 14,
    "start_time": "2021-07-13T06:49:32.745Z"
   },
   {
    "duration": 152,
    "start_time": "2021-07-13T06:49:32.761Z"
   },
   {
    "duration": 9,
    "start_time": "2021-07-13T06:49:32.915Z"
   },
   {
    "duration": 61,
    "start_time": "2021-07-13T06:49:32.926Z"
   },
   {
    "duration": 14,
    "start_time": "2021-07-13T06:49:32.989Z"
   },
   {
    "duration": 23,
    "start_time": "2021-07-13T06:49:33.005Z"
   },
   {
    "duration": 22,
    "start_time": "2021-07-13T06:49:33.030Z"
   },
   {
    "duration": 9,
    "start_time": "2021-07-13T06:49:33.054Z"
   },
   {
    "duration": 31,
    "start_time": "2021-07-13T06:49:33.065Z"
   },
   {
    "duration": 288,
    "start_time": "2021-07-13T06:49:33.097Z"
   },
   {
    "duration": 3,
    "start_time": "2021-07-13T06:49:33.387Z"
   },
   {
    "duration": 449,
    "start_time": "2021-07-13T06:49:33.391Z"
   },
   {
    "duration": 18,
    "start_time": "2021-07-13T06:49:33.842Z"
   },
   {
    "duration": 2631,
    "start_time": "2021-07-13T06:49:33.861Z"
   },
   {
    "duration": 2,
    "start_time": "2021-07-13T06:49:36.494Z"
   },
   {
    "duration": 17,
    "start_time": "2021-07-13T06:49:36.498Z"
   },
   {
    "duration": 15,
    "start_time": "2021-07-13T06:49:36.517Z"
   },
   {
    "duration": 15,
    "start_time": "2021-07-13T06:49:36.534Z"
   },
   {
    "duration": 90,
    "start_time": "2021-07-13T06:49:36.551Z"
   },
   {
    "duration": 6,
    "start_time": "2021-07-13T06:49:36.642Z"
   },
   {
    "duration": 13,
    "start_time": "2021-07-13T06:49:36.649Z"
   },
   {
    "duration": 24,
    "start_time": "2021-07-13T06:49:36.663Z"
   },
   {
    "duration": 6,
    "start_time": "2021-07-13T06:49:36.689Z"
   },
   {
    "duration": 7,
    "start_time": "2021-07-13T06:49:36.699Z"
   },
   {
    "duration": 6,
    "start_time": "2021-07-13T06:49:36.707Z"
   },
   {
    "duration": 6,
    "start_time": "2021-07-13T06:49:36.715Z"
   },
   {
    "duration": 6,
    "start_time": "2021-07-13T06:49:36.722Z"
   },
   {
    "duration": 5,
    "start_time": "2021-07-13T06:49:36.729Z"
   },
   {
    "duration": 5,
    "start_time": "2021-07-13T06:49:36.736Z"
   },
   {
    "duration": 43,
    "start_time": "2021-07-13T06:49:36.742Z"
   },
   {
    "duration": 26,
    "start_time": "2021-07-13T06:49:36.787Z"
   },
   {
    "duration": 13,
    "start_time": "2021-07-13T06:49:36.814Z"
   },
   {
    "duration": 30,
    "start_time": "2021-07-13T06:49:36.829Z"
   },
   {
    "duration": 25,
    "start_time": "2021-07-13T06:49:36.861Z"
   },
   {
    "duration": 10,
    "start_time": "2021-07-13T06:49:36.887Z"
   },
   {
    "duration": 3,
    "start_time": "2021-07-13T06:49:36.899Z"
   },
   {
    "duration": 8,
    "start_time": "2021-07-13T06:49:36.904Z"
   },
   {
    "duration": 4,
    "start_time": "2021-07-13T06:49:36.914Z"
   },
   {
    "duration": 14,
    "start_time": "2021-07-13T06:49:36.919Z"
   },
   {
    "duration": 57,
    "start_time": "2021-07-13T06:49:36.934Z"
   },
   {
    "duration": 4,
    "start_time": "2021-07-13T06:49:36.992Z"
   },
   {
    "duration": 47,
    "start_time": "2021-07-13T06:49:36.997Z"
   },
   {
    "duration": 948,
    "start_time": "2021-07-13T06:49:37.046Z"
   },
   {
    "duration": 27,
    "start_time": "2021-07-13T06:50:09.159Z"
   },
   {
    "duration": 230,
    "start_time": "2021-07-13T06:50:50.480Z"
   },
   {
    "duration": 224,
    "start_time": "2021-07-13T06:51:17.695Z"
   },
   {
    "duration": 211,
    "start_time": "2021-07-13T06:52:14.275Z"
   },
   {
    "duration": 26,
    "start_time": "2021-07-13T06:52:47.781Z"
   },
   {
    "duration": 30,
    "start_time": "2021-07-13T06:52:58.141Z"
   },
   {
    "duration": 29,
    "start_time": "2021-07-13T06:53:03.878Z"
   },
   {
    "duration": 46,
    "start_time": "2021-07-13T06:53:44.566Z"
   },
   {
    "duration": 1131,
    "start_time": "2021-07-13T06:54:03.276Z"
   },
   {
    "duration": 614,
    "start_time": "2021-07-13T06:54:04.409Z"
   },
   {
    "duration": 199,
    "start_time": "2021-07-13T06:54:05.025Z"
   },
   {
    "duration": 211,
    "start_time": "2021-07-13T06:54:05.225Z"
   },
   {
    "duration": 300,
    "start_time": "2021-07-13T06:54:05.437Z"
   },
   {
    "duration": 292,
    "start_time": "2021-07-13T06:54:05.739Z"
   },
   {
    "duration": 278,
    "start_time": "2021-07-13T06:54:06.032Z"
   },
   {
    "duration": 254,
    "start_time": "2021-07-13T06:54:06.312Z"
   },
   {
    "duration": 107,
    "start_time": "2021-07-13T06:54:06.567Z"
   },
   {
    "duration": 271,
    "start_time": "2021-07-13T06:54:06.675Z"
   },
   {
    "duration": 18,
    "start_time": "2021-07-13T06:54:06.948Z"
   },
   {
    "duration": 770,
    "start_time": "2021-07-13T06:54:06.967Z"
   },
   {
    "duration": 87,
    "start_time": "2021-07-13T06:54:07.738Z"
   },
   {
    "duration": 92,
    "start_time": "2021-07-13T06:54:07.827Z"
   },
   {
    "duration": 268,
    "start_time": "2021-07-13T06:54:07.921Z"
   },
   {
    "duration": 12,
    "start_time": "2021-07-13T06:54:08.190Z"
   },
   {
    "duration": 192,
    "start_time": "2021-07-13T06:54:08.204Z"
   },
   {
    "duration": 672,
    "start_time": "2021-07-13T06:54:08.397Z"
   },
   {
    "duration": 45,
    "start_time": "2021-07-13T06:54:09.070Z"
   },
   {
    "duration": 32,
    "start_time": "2021-07-13T06:54:09.117Z"
   },
   {
    "duration": 2554,
    "start_time": "2021-07-13T06:54:09.150Z"
   },
   {
    "duration": 55,
    "start_time": "2021-07-13T06:54:11.706Z"
   },
   {
    "duration": 31,
    "start_time": "2021-07-13T06:54:11.765Z"
   },
   {
    "duration": 6,
    "start_time": "2021-07-13T06:54:11.798Z"
   },
   {
    "duration": 13,
    "start_time": "2021-07-13T06:54:11.806Z"
   },
   {
    "duration": 470,
    "start_time": "2021-07-13T06:54:11.820Z"
   },
   {
    "duration": 40,
    "start_time": "2021-07-13T06:54:12.292Z"
   },
   {
    "duration": 9,
    "start_time": "2021-07-13T06:54:12.333Z"
   },
   {
    "duration": 30,
    "start_time": "2021-07-13T06:54:12.344Z"
   },
   {
    "duration": 35,
    "start_time": "2021-07-13T06:54:12.375Z"
   },
   {
    "duration": 4,
    "start_time": "2021-07-13T06:54:12.411Z"
   },
   {
    "duration": 205,
    "start_time": "2021-07-13T06:54:12.416Z"
   },
   {
    "duration": 4,
    "start_time": "2021-07-13T06:54:12.623Z"
   },
   {
    "duration": 33,
    "start_time": "2021-07-13T06:54:12.628Z"
   },
   {
    "duration": 5,
    "start_time": "2021-07-13T06:54:12.662Z"
   },
   {
    "duration": 24,
    "start_time": "2021-07-13T06:54:12.668Z"
   },
   {
    "duration": 33,
    "start_time": "2021-07-13T06:54:12.693Z"
   },
   {
    "duration": 3,
    "start_time": "2021-07-13T06:54:12.728Z"
   },
   {
    "duration": 5,
    "start_time": "2021-07-13T06:54:12.732Z"
   },
   {
    "duration": 7,
    "start_time": "2021-07-13T06:54:12.739Z"
   },
   {
    "duration": 317,
    "start_time": "2021-07-13T06:54:12.748Z"
   },
   {
    "duration": 5,
    "start_time": "2021-07-13T06:54:13.067Z"
   },
   {
    "duration": 8,
    "start_time": "2021-07-13T06:54:13.085Z"
   },
   {
    "duration": 9,
    "start_time": "2021-07-13T06:54:13.095Z"
   },
   {
    "duration": 8,
    "start_time": "2021-07-13T06:54:13.106Z"
   },
   {
    "duration": 168,
    "start_time": "2021-07-13T06:54:13.116Z"
   },
   {
    "duration": 9,
    "start_time": "2021-07-13T06:54:13.286Z"
   },
   {
    "duration": 49,
    "start_time": "2021-07-13T06:54:13.297Z"
   },
   {
    "duration": 13,
    "start_time": "2021-07-13T06:54:13.348Z"
   },
   {
    "duration": 27,
    "start_time": "2021-07-13T06:54:13.362Z"
   },
   {
    "duration": 16,
    "start_time": "2021-07-13T06:54:13.391Z"
   },
   {
    "duration": 3,
    "start_time": "2021-07-13T06:54:13.409Z"
   },
   {
    "duration": 15,
    "start_time": "2021-07-13T06:54:13.414Z"
   },
   {
    "duration": 314,
    "start_time": "2021-07-13T06:54:13.431Z"
   },
   {
    "duration": 4,
    "start_time": "2021-07-13T06:54:13.747Z"
   },
   {
    "duration": 462,
    "start_time": "2021-07-13T06:54:13.753Z"
   },
   {
    "duration": 19,
    "start_time": "2021-07-13T06:54:14.216Z"
   },
   {
    "duration": 2591,
    "start_time": "2021-07-13T06:54:14.236Z"
   },
   {
    "duration": 2,
    "start_time": "2021-07-13T06:54:16.829Z"
   },
   {
    "duration": 19,
    "start_time": "2021-07-13T06:54:16.833Z"
   },
   {
    "duration": 18,
    "start_time": "2021-07-13T06:54:16.853Z"
   },
   {
    "duration": 16,
    "start_time": "2021-07-13T06:54:16.885Z"
   },
   {
    "duration": 66,
    "start_time": "2021-07-13T06:54:16.903Z"
   },
   {
    "duration": 18,
    "start_time": "2021-07-13T06:54:16.971Z"
   },
   {
    "duration": 16,
    "start_time": "2021-07-13T06:54:16.990Z"
   },
   {
    "duration": 8,
    "start_time": "2021-07-13T06:54:17.007Z"
   },
   {
    "duration": 8,
    "start_time": "2021-07-13T06:54:17.016Z"
   },
   {
    "duration": 6,
    "start_time": "2021-07-13T06:54:17.029Z"
   },
   {
    "duration": 6,
    "start_time": "2021-07-13T06:54:17.038Z"
   },
   {
    "duration": 43,
    "start_time": "2021-07-13T06:54:17.046Z"
   },
   {
    "duration": 6,
    "start_time": "2021-07-13T06:54:17.091Z"
   },
   {
    "duration": 6,
    "start_time": "2021-07-13T06:54:17.099Z"
   },
   {
    "duration": 5,
    "start_time": "2021-07-13T06:54:17.107Z"
   },
   {
    "duration": 5,
    "start_time": "2021-07-13T06:54:17.114Z"
   },
   {
    "duration": 30,
    "start_time": "2021-07-13T06:54:17.121Z"
   },
   {
    "duration": 14,
    "start_time": "2021-07-13T06:54:17.184Z"
   },
   {
    "duration": 32,
    "start_time": "2021-07-13T06:54:17.200Z"
   },
   {
    "duration": 4,
    "start_time": "2021-07-13T06:54:17.233Z"
   },
   {
    "duration": 10,
    "start_time": "2021-07-13T06:54:17.239Z"
   },
   {
    "duration": 4,
    "start_time": "2021-07-13T06:54:17.251Z"
   },
   {
    "duration": 33,
    "start_time": "2021-07-13T06:54:17.257Z"
   },
   {
    "duration": 5,
    "start_time": "2021-07-13T06:54:17.292Z"
   },
   {
    "duration": 17,
    "start_time": "2021-07-13T06:54:17.299Z"
   },
   {
    "duration": 30,
    "start_time": "2021-07-13T06:54:17.317Z"
   },
   {
    "duration": 4,
    "start_time": "2021-07-13T06:54:17.349Z"
   },
   {
    "duration": 60,
    "start_time": "2021-07-13T06:54:17.354Z"
   },
   {
    "duration": 29,
    "start_time": "2021-07-13T06:54:17.415Z"
   },
   {
    "duration": 32,
    "start_time": "2021-07-13T06:57:28.293Z"
   },
   {
    "duration": 823,
    "start_time": "2021-07-13T06:57:47.023Z"
   }
  ],
  "kernelspec": {
   "display_name": "Python 3",
   "language": "python",
   "name": "python3"
  },
  "language_info": {
   "codemirror_mode": {
    "name": "ipython",
    "version": 3
   },
   "file_extension": ".py",
   "mimetype": "text/x-python",
   "name": "python",
   "nbconvert_exporter": "python",
   "pygments_lexer": "ipython3",
   "version": "3.7.8"
  },
  "toc": {
   "base_numbering": 1,
   "nav_menu": {},
   "number_sections": true,
   "sideBar": true,
   "skip_h1_title": true,
   "title_cell": "Table of Contents",
   "title_sidebar": "Contents",
   "toc_cell": false,
   "toc_position": {},
   "toc_section_display": true,
   "toc_window_display": false
  }
 },
 "nbformat": 4,
 "nbformat_minor": 2
}
