{
 "cells": [
  {
   "cell_type": "markdown",
   "metadata": {},
   "source": [
    "<div style=\"border:solid green 2px; padding: 20px\"> \n",
    "    \n",
    "**Комментарий ревьюера**\n",
    "\n",
    "Привет! Меня зовут Сысоева Вера.\n",
    "    \n",
    "Далее в файле мои комментарии ты сможешь найти в ячейках, аналогичных данной ( если рамки комментария зелёные - всё сделано правильно; жёлтые - есть замечания, но не критично; красные - нужно переделать). Не удаляй эти комментарии и постарайся учесть их в ходе выполнения проекта.\n",
    "    \n",
    "Я буду поддерживать версионность комментариев, и при следующих итерациях комментарии будут выделены, как \"Комментраии ревьюера - 2 (3 и.т.д.)\"\n",
    "    \n",
    "Если у тебя есть замечания, возражения и вопросы, ты можешь писать свои комментарии, по возможности выделяй их так же цветом (например, синим), чтоб их можно было легко отделить от текста проекта. \n",
    "    \n",
    "Кстати, предлагаю сразу общаться на \"ты\".\n",
    "    \n",
    "Увидев у тебя ошибку, в первый раз я лишь укажу на ее наличие и дам тебе возможность самой найти и исправить ее. На реальной работе твой начальник будет поступать так же, а я пытаюсь подготовить тебя именно к работе аналитиком. Но если ты пока не справишься с такой задачей - при следующей проверке я дам более точную подсказку.\n",
    "    \n",
    "</div>"
   ]
  },
  {
   "cell_type": "markdown",
   "metadata": {},
   "source": [
    "# Принятие решений в бизнесе на основе данных"
   ]
  },
  {
   "cell_type": "markdown",
   "metadata": {},
   "source": [
    "## Описание проекта"
   ]
  },
  {
   "cell_type": "markdown",
   "metadata": {},
   "source": [
    "Подготовлен список гипотез для увеличения выручки.\n",
    "Приоритизация гипотез, запуск A/B-тест и анализ результаты."
   ]
  },
  {
   "cell_type": "code",
   "execution_count": 1,
   "metadata": {},
   "outputs": [],
   "source": [
    "import pandas as pd\n",
    "\n",
    "import scipy.stats as stats\n",
    "import matplotlib.pyplot as plt\n",
    "import numpy as np\n",
    "import seaborn as sns\n",
    "import datetime as dt\n",
    "\n",
    "%matplotlib inline\n",
    "\n",
    "import warnings\n",
    "warnings.filterwarnings('ignore')\n"
   ]
  },
  {
   "cell_type": "markdown",
   "metadata": {},
   "source": [
    "<div style=\"border:solid green 2px; padding: 20px\"> \n",
    "    \n",
    "**Комментарий ревьюера**\n",
    "\n",
    "Здесь можно было бы настроить отображение строк таблицы без обрезаний.\n",
    "\n",
    "    pd.set_option('max_columns',None)\n",
    "    \n",
    "Еще фишки по настройки таблиц можно посмотреть здесь https://habr.com/ru/post/521894/\n",
    "    \n",
    "</div>"
   ]
  },
  {
   "cell_type": "code",
   "execution_count": 2,
   "metadata": {},
   "outputs": [],
   "source": [
    "visitors = pd.read_csv('/datasets/visitors.csv')\n",
    "hypothesis = pd.read_csv('/datasets/hypothesis.csv')\n",
    "orders = pd.read_csv('/datasets/orders.csv')"
   ]
  },
  {
   "cell_type": "code",
   "execution_count": 3,
   "metadata": {},
   "outputs": [
    {
     "name": "stdout",
     "output_type": "stream",
     "text": [
      "<class 'pandas.core.frame.DataFrame'>\n",
      "RangeIndex: 9 entries, 0 to 8\n",
      "Data columns (total 5 columns):\n",
      "Hypothesis    9 non-null object\n",
      "Reach         9 non-null int64\n",
      "Impact        9 non-null int64\n",
      "Confidence    9 non-null int64\n",
      "Efforts       9 non-null int64\n",
      "dtypes: int64(4), object(1)\n",
      "memory usage: 488.0+ bytes\n"
     ]
    }
   ],
   "source": [
    "hypothesis.info()"
   ]
  },
  {
   "cell_type": "markdown",
   "metadata": {},
   "source": [
    "## Приоритизация гипотез"
   ]
  },
  {
   "cell_type": "code",
   "execution_count": 4,
   "metadata": {},
   "outputs": [
    {
     "data": {
      "text/html": [
       "<div>\n",
       "<style scoped>\n",
       "    .dataframe tbody tr th:only-of-type {\n",
       "        vertical-align: middle;\n",
       "    }\n",
       "\n",
       "    .dataframe tbody tr th {\n",
       "        vertical-align: top;\n",
       "    }\n",
       "\n",
       "    .dataframe thead th {\n",
       "        text-align: right;\n",
       "    }\n",
       "</style>\n",
       "<table border=\"1\" class=\"dataframe\">\n",
       "  <thead>\n",
       "    <tr style=\"text-align: right;\">\n",
       "      <th></th>\n",
       "      <th>Hypothesis</th>\n",
       "      <th>Reach</th>\n",
       "      <th>Impact</th>\n",
       "      <th>Confidence</th>\n",
       "      <th>Efforts</th>\n",
       "    </tr>\n",
       "  </thead>\n",
       "  <tbody>\n",
       "    <tr>\n",
       "      <td>0</td>\n",
       "      <td>Добавить два новых канала привлечения трафика,...</td>\n",
       "      <td>3</td>\n",
       "      <td>10</td>\n",
       "      <td>8</td>\n",
       "      <td>6</td>\n",
       "    </tr>\n",
       "    <tr>\n",
       "      <td>1</td>\n",
       "      <td>Запустить собственную службу доставки, что сок...</td>\n",
       "      <td>2</td>\n",
       "      <td>5</td>\n",
       "      <td>4</td>\n",
       "      <td>10</td>\n",
       "    </tr>\n",
       "    <tr>\n",
       "      <td>2</td>\n",
       "      <td>Добавить блоки рекомендаций товаров на сайт ин...</td>\n",
       "      <td>8</td>\n",
       "      <td>3</td>\n",
       "      <td>7</td>\n",
       "      <td>3</td>\n",
       "    </tr>\n",
       "    <tr>\n",
       "      <td>3</td>\n",
       "      <td>Изменить структура категорий, что увеличит кон...</td>\n",
       "      <td>8</td>\n",
       "      <td>3</td>\n",
       "      <td>3</td>\n",
       "      <td>8</td>\n",
       "    </tr>\n",
       "    <tr>\n",
       "      <td>4</td>\n",
       "      <td>Изменить цвет фона главной страницы, чтобы уве...</td>\n",
       "      <td>3</td>\n",
       "      <td>1</td>\n",
       "      <td>1</td>\n",
       "      <td>1</td>\n",
       "    </tr>\n",
       "    <tr>\n",
       "      <td>5</td>\n",
       "      <td>Добавить страницу отзывов клиентов о магазине,...</td>\n",
       "      <td>3</td>\n",
       "      <td>2</td>\n",
       "      <td>2</td>\n",
       "      <td>3</td>\n",
       "    </tr>\n",
       "    <tr>\n",
       "      <td>6</td>\n",
       "      <td>Показать на главной странице баннеры с актуаль...</td>\n",
       "      <td>5</td>\n",
       "      <td>3</td>\n",
       "      <td>8</td>\n",
       "      <td>3</td>\n",
       "    </tr>\n",
       "    <tr>\n",
       "      <td>7</td>\n",
       "      <td>Добавить форму подписки на все основные страни...</td>\n",
       "      <td>10</td>\n",
       "      <td>7</td>\n",
       "      <td>8</td>\n",
       "      <td>5</td>\n",
       "    </tr>\n",
       "    <tr>\n",
       "      <td>8</td>\n",
       "      <td>Запустить акцию, дающую скидку на товар в день...</td>\n",
       "      <td>1</td>\n",
       "      <td>9</td>\n",
       "      <td>9</td>\n",
       "      <td>5</td>\n",
       "    </tr>\n",
       "  </tbody>\n",
       "</table>\n",
       "</div>"
      ],
      "text/plain": [
       "                                          Hypothesis  Reach  Impact  \\\n",
       "0  Добавить два новых канала привлечения трафика,...      3      10   \n",
       "1  Запустить собственную службу доставки, что сок...      2       5   \n",
       "2  Добавить блоки рекомендаций товаров на сайт ин...      8       3   \n",
       "3  Изменить структура категорий, что увеличит кон...      8       3   \n",
       "4  Изменить цвет фона главной страницы, чтобы уве...      3       1   \n",
       "5  Добавить страницу отзывов клиентов о магазине,...      3       2   \n",
       "6  Показать на главной странице баннеры с актуаль...      5       3   \n",
       "7  Добавить форму подписки на все основные страни...     10       7   \n",
       "8  Запустить акцию, дающую скидку на товар в день...      1       9   \n",
       "\n",
       "   Confidence  Efforts  \n",
       "0           8        6  \n",
       "1           4       10  \n",
       "2           7        3  \n",
       "3           3        8  \n",
       "4           1        1  \n",
       "5           2        3  \n",
       "6           8        3  \n",
       "7           8        5  \n",
       "8           9        5  "
      ]
     },
     "execution_count": 4,
     "metadata": {},
     "output_type": "execute_result"
    }
   ],
   "source": [
    "hypothesis"
   ]
  },
  {
   "cell_type": "code",
   "execution_count": 5,
   "metadata": {},
   "outputs": [],
   "source": [
    "hypothesis['ice'] = (hypothesis['Impact'] * hypothesis['Confidence']) / hypothesis['Efforts']\n"
   ]
  },
  {
   "cell_type": "code",
   "execution_count": 6,
   "metadata": {},
   "outputs": [
    {
     "data": {
      "text/html": [
       "<div>\n",
       "<style scoped>\n",
       "    .dataframe tbody tr th:only-of-type {\n",
       "        vertical-align: middle;\n",
       "    }\n",
       "\n",
       "    .dataframe tbody tr th {\n",
       "        vertical-align: top;\n",
       "    }\n",
       "\n",
       "    .dataframe thead th {\n",
       "        text-align: right;\n",
       "    }\n",
       "</style>\n",
       "<table border=\"1\" class=\"dataframe\">\n",
       "  <thead>\n",
       "    <tr style=\"text-align: right;\">\n",
       "      <th></th>\n",
       "      <th>Hypothesis</th>\n",
       "      <th>Reach</th>\n",
       "      <th>Impact</th>\n",
       "      <th>Confidence</th>\n",
       "      <th>Efforts</th>\n",
       "      <th>ice</th>\n",
       "    </tr>\n",
       "  </thead>\n",
       "  <tbody>\n",
       "    <tr>\n",
       "      <td>0</td>\n",
       "      <td>Добавить два новых канала привлечения трафика,...</td>\n",
       "      <td>3</td>\n",
       "      <td>10</td>\n",
       "      <td>8</td>\n",
       "      <td>6</td>\n",
       "      <td>13.333333</td>\n",
       "    </tr>\n",
       "    <tr>\n",
       "      <td>1</td>\n",
       "      <td>Запустить собственную службу доставки, что сок...</td>\n",
       "      <td>2</td>\n",
       "      <td>5</td>\n",
       "      <td>4</td>\n",
       "      <td>10</td>\n",
       "      <td>2.000000</td>\n",
       "    </tr>\n",
       "    <tr>\n",
       "      <td>2</td>\n",
       "      <td>Добавить блоки рекомендаций товаров на сайт ин...</td>\n",
       "      <td>8</td>\n",
       "      <td>3</td>\n",
       "      <td>7</td>\n",
       "      <td>3</td>\n",
       "      <td>7.000000</td>\n",
       "    </tr>\n",
       "    <tr>\n",
       "      <td>3</td>\n",
       "      <td>Изменить структура категорий, что увеличит кон...</td>\n",
       "      <td>8</td>\n",
       "      <td>3</td>\n",
       "      <td>3</td>\n",
       "      <td>8</td>\n",
       "      <td>1.125000</td>\n",
       "    </tr>\n",
       "    <tr>\n",
       "      <td>4</td>\n",
       "      <td>Изменить цвет фона главной страницы, чтобы уве...</td>\n",
       "      <td>3</td>\n",
       "      <td>1</td>\n",
       "      <td>1</td>\n",
       "      <td>1</td>\n",
       "      <td>1.000000</td>\n",
       "    </tr>\n",
       "    <tr>\n",
       "      <td>5</td>\n",
       "      <td>Добавить страницу отзывов клиентов о магазине,...</td>\n",
       "      <td>3</td>\n",
       "      <td>2</td>\n",
       "      <td>2</td>\n",
       "      <td>3</td>\n",
       "      <td>1.333333</td>\n",
       "    </tr>\n",
       "    <tr>\n",
       "      <td>6</td>\n",
       "      <td>Показать на главной странице баннеры с актуаль...</td>\n",
       "      <td>5</td>\n",
       "      <td>3</td>\n",
       "      <td>8</td>\n",
       "      <td>3</td>\n",
       "      <td>8.000000</td>\n",
       "    </tr>\n",
       "    <tr>\n",
       "      <td>7</td>\n",
       "      <td>Добавить форму подписки на все основные страни...</td>\n",
       "      <td>10</td>\n",
       "      <td>7</td>\n",
       "      <td>8</td>\n",
       "      <td>5</td>\n",
       "      <td>11.200000</td>\n",
       "    </tr>\n",
       "    <tr>\n",
       "      <td>8</td>\n",
       "      <td>Запустить акцию, дающую скидку на товар в день...</td>\n",
       "      <td>1</td>\n",
       "      <td>9</td>\n",
       "      <td>9</td>\n",
       "      <td>5</td>\n",
       "      <td>16.200000</td>\n",
       "    </tr>\n",
       "  </tbody>\n",
       "</table>\n",
       "</div>"
      ],
      "text/plain": [
       "                                          Hypothesis  Reach  Impact  \\\n",
       "0  Добавить два новых канала привлечения трафика,...      3      10   \n",
       "1  Запустить собственную службу доставки, что сок...      2       5   \n",
       "2  Добавить блоки рекомендаций товаров на сайт ин...      8       3   \n",
       "3  Изменить структура категорий, что увеличит кон...      8       3   \n",
       "4  Изменить цвет фона главной страницы, чтобы уве...      3       1   \n",
       "5  Добавить страницу отзывов клиентов о магазине,...      3       2   \n",
       "6  Показать на главной странице баннеры с актуаль...      5       3   \n",
       "7  Добавить форму подписки на все основные страни...     10       7   \n",
       "8  Запустить акцию, дающую скидку на товар в день...      1       9   \n",
       "\n",
       "   Confidence  Efforts        ice  \n",
       "0           8        6  13.333333  \n",
       "1           4       10   2.000000  \n",
       "2           7        3   7.000000  \n",
       "3           3        8   1.125000  \n",
       "4           1        1   1.000000  \n",
       "5           2        3   1.333333  \n",
       "6           8        3   8.000000  \n",
       "7           8        5  11.200000  \n",
       "8           9        5  16.200000  "
      ]
     },
     "execution_count": 6,
     "metadata": {},
     "output_type": "execute_result"
    }
   ],
   "source": [
    "hypothesis"
   ]
  },
  {
   "cell_type": "markdown",
   "metadata": {},
   "source": [
    "<div style=\"border:solid gold 2px; padding: 20px\"> \n",
    "    \n",
    "**Комментарий ревьюера**\n",
    "\n",
    "ICE стоило отформатировать до 1-2 знаков после запятой\n",
    "    \n",
    "</div>"
   ]
  },
  {
   "cell_type": "code",
   "execution_count": 7,
   "metadata": {},
   "outputs": [],
   "source": [
    "hypothesis['rice'] = (hypothesis['Reach'] * hypothesis['Impact'] * hypothesis['Confidence']) / hypothesis['Efforts']"
   ]
  },
  {
   "cell_type": "code",
   "execution_count": 8,
   "metadata": {},
   "outputs": [
    {
     "data": {
      "text/html": [
       "<style  type=\"text/css\" >\n",
       "</style><table id=\"T_367af73e_f351_11eb_8f33_02420a39494e\" ><thead>    <tr>        <th class=\"blank level0\" ></th>        <th class=\"col_heading level0 col0\" >Hypothesis</th>        <th class=\"col_heading level0 col1\" >Reach</th>        <th class=\"col_heading level0 col2\" >Impact</th>        <th class=\"col_heading level0 col3\" >Confidence</th>        <th class=\"col_heading level0 col4\" >Efforts</th>        <th class=\"col_heading level0 col5\" >ice</th>        <th class=\"col_heading level0 col6\" >rice</th>    </tr></thead><tbody>\n",
       "                <tr>\n",
       "                        <th id=\"T_367af73e_f351_11eb_8f33_02420a39494elevel0_row0\" class=\"row_heading level0 row0\" >0</th>\n",
       "                        <td id=\"T_367af73e_f351_11eb_8f33_02420a39494erow0_col0\" class=\"data row0 col0\" >Добавить два новых канала привлечения трафика, что позволит привлекать на 30% больше пользователей</td>\n",
       "                        <td id=\"T_367af73e_f351_11eb_8f33_02420a39494erow0_col1\" class=\"data row0 col1\" >3</td>\n",
       "                        <td id=\"T_367af73e_f351_11eb_8f33_02420a39494erow0_col2\" class=\"data row0 col2\" >10</td>\n",
       "                        <td id=\"T_367af73e_f351_11eb_8f33_02420a39494erow0_col3\" class=\"data row0 col3\" >8</td>\n",
       "                        <td id=\"T_367af73e_f351_11eb_8f33_02420a39494erow0_col4\" class=\"data row0 col4\" >6</td>\n",
       "                        <td id=\"T_367af73e_f351_11eb_8f33_02420a39494erow0_col5\" class=\"data row0 col5\" >13.3</td>\n",
       "                        <td id=\"T_367af73e_f351_11eb_8f33_02420a39494erow0_col6\" class=\"data row0 col6\" >40</td>\n",
       "            </tr>\n",
       "            <tr>\n",
       "                        <th id=\"T_367af73e_f351_11eb_8f33_02420a39494elevel0_row1\" class=\"row_heading level0 row1\" >1</th>\n",
       "                        <td id=\"T_367af73e_f351_11eb_8f33_02420a39494erow1_col0\" class=\"data row1 col0\" >Запустить собственную службу доставки, что сократит срок доставки заказов</td>\n",
       "                        <td id=\"T_367af73e_f351_11eb_8f33_02420a39494erow1_col1\" class=\"data row1 col1\" >2</td>\n",
       "                        <td id=\"T_367af73e_f351_11eb_8f33_02420a39494erow1_col2\" class=\"data row1 col2\" >5</td>\n",
       "                        <td id=\"T_367af73e_f351_11eb_8f33_02420a39494erow1_col3\" class=\"data row1 col3\" >4</td>\n",
       "                        <td id=\"T_367af73e_f351_11eb_8f33_02420a39494erow1_col4\" class=\"data row1 col4\" >10</td>\n",
       "                        <td id=\"T_367af73e_f351_11eb_8f33_02420a39494erow1_col5\" class=\"data row1 col5\" >2.0</td>\n",
       "                        <td id=\"T_367af73e_f351_11eb_8f33_02420a39494erow1_col6\" class=\"data row1 col6\" >4</td>\n",
       "            </tr>\n",
       "            <tr>\n",
       "                        <th id=\"T_367af73e_f351_11eb_8f33_02420a39494elevel0_row2\" class=\"row_heading level0 row2\" >2</th>\n",
       "                        <td id=\"T_367af73e_f351_11eb_8f33_02420a39494erow2_col0\" class=\"data row2 col0\" >Добавить блоки рекомендаций товаров на сайт интернет магазина, чтобы повысить конверсию и средний чек заказа</td>\n",
       "                        <td id=\"T_367af73e_f351_11eb_8f33_02420a39494erow2_col1\" class=\"data row2 col1\" >8</td>\n",
       "                        <td id=\"T_367af73e_f351_11eb_8f33_02420a39494erow2_col2\" class=\"data row2 col2\" >3</td>\n",
       "                        <td id=\"T_367af73e_f351_11eb_8f33_02420a39494erow2_col3\" class=\"data row2 col3\" >7</td>\n",
       "                        <td id=\"T_367af73e_f351_11eb_8f33_02420a39494erow2_col4\" class=\"data row2 col4\" >3</td>\n",
       "                        <td id=\"T_367af73e_f351_11eb_8f33_02420a39494erow2_col5\" class=\"data row2 col5\" >7.0</td>\n",
       "                        <td id=\"T_367af73e_f351_11eb_8f33_02420a39494erow2_col6\" class=\"data row2 col6\" >56</td>\n",
       "            </tr>\n",
       "            <tr>\n",
       "                        <th id=\"T_367af73e_f351_11eb_8f33_02420a39494elevel0_row3\" class=\"row_heading level0 row3\" >3</th>\n",
       "                        <td id=\"T_367af73e_f351_11eb_8f33_02420a39494erow3_col0\" class=\"data row3 col0\" >Изменить структура категорий, что увеличит конверсию, т.к. пользователи быстрее найдут нужный товар</td>\n",
       "                        <td id=\"T_367af73e_f351_11eb_8f33_02420a39494erow3_col1\" class=\"data row3 col1\" >8</td>\n",
       "                        <td id=\"T_367af73e_f351_11eb_8f33_02420a39494erow3_col2\" class=\"data row3 col2\" >3</td>\n",
       "                        <td id=\"T_367af73e_f351_11eb_8f33_02420a39494erow3_col3\" class=\"data row3 col3\" >3</td>\n",
       "                        <td id=\"T_367af73e_f351_11eb_8f33_02420a39494erow3_col4\" class=\"data row3 col4\" >8</td>\n",
       "                        <td id=\"T_367af73e_f351_11eb_8f33_02420a39494erow3_col5\" class=\"data row3 col5\" >1.1</td>\n",
       "                        <td id=\"T_367af73e_f351_11eb_8f33_02420a39494erow3_col6\" class=\"data row3 col6\" >9</td>\n",
       "            </tr>\n",
       "            <tr>\n",
       "                        <th id=\"T_367af73e_f351_11eb_8f33_02420a39494elevel0_row4\" class=\"row_heading level0 row4\" >4</th>\n",
       "                        <td id=\"T_367af73e_f351_11eb_8f33_02420a39494erow4_col0\" class=\"data row4 col0\" >Изменить цвет фона главной страницы, чтобы увеличить вовлеченность пользователей</td>\n",
       "                        <td id=\"T_367af73e_f351_11eb_8f33_02420a39494erow4_col1\" class=\"data row4 col1\" >3</td>\n",
       "                        <td id=\"T_367af73e_f351_11eb_8f33_02420a39494erow4_col2\" class=\"data row4 col2\" >1</td>\n",
       "                        <td id=\"T_367af73e_f351_11eb_8f33_02420a39494erow4_col3\" class=\"data row4 col3\" >1</td>\n",
       "                        <td id=\"T_367af73e_f351_11eb_8f33_02420a39494erow4_col4\" class=\"data row4 col4\" >1</td>\n",
       "                        <td id=\"T_367af73e_f351_11eb_8f33_02420a39494erow4_col5\" class=\"data row4 col5\" >1.0</td>\n",
       "                        <td id=\"T_367af73e_f351_11eb_8f33_02420a39494erow4_col6\" class=\"data row4 col6\" >3</td>\n",
       "            </tr>\n",
       "            <tr>\n",
       "                        <th id=\"T_367af73e_f351_11eb_8f33_02420a39494elevel0_row5\" class=\"row_heading level0 row5\" >5</th>\n",
       "                        <td id=\"T_367af73e_f351_11eb_8f33_02420a39494erow5_col0\" class=\"data row5 col0\" >Добавить страницу отзывов клиентов о магазине, что позволит увеличить количество заказов</td>\n",
       "                        <td id=\"T_367af73e_f351_11eb_8f33_02420a39494erow5_col1\" class=\"data row5 col1\" >3</td>\n",
       "                        <td id=\"T_367af73e_f351_11eb_8f33_02420a39494erow5_col2\" class=\"data row5 col2\" >2</td>\n",
       "                        <td id=\"T_367af73e_f351_11eb_8f33_02420a39494erow5_col3\" class=\"data row5 col3\" >2</td>\n",
       "                        <td id=\"T_367af73e_f351_11eb_8f33_02420a39494erow5_col4\" class=\"data row5 col4\" >3</td>\n",
       "                        <td id=\"T_367af73e_f351_11eb_8f33_02420a39494erow5_col5\" class=\"data row5 col5\" >1.3</td>\n",
       "                        <td id=\"T_367af73e_f351_11eb_8f33_02420a39494erow5_col6\" class=\"data row5 col6\" >4</td>\n",
       "            </tr>\n",
       "            <tr>\n",
       "                        <th id=\"T_367af73e_f351_11eb_8f33_02420a39494elevel0_row6\" class=\"row_heading level0 row6\" >6</th>\n",
       "                        <td id=\"T_367af73e_f351_11eb_8f33_02420a39494erow6_col0\" class=\"data row6 col0\" >Показать на главной странице баннеры с актуальными акциями и распродажами, чтобы увеличить конверсию</td>\n",
       "                        <td id=\"T_367af73e_f351_11eb_8f33_02420a39494erow6_col1\" class=\"data row6 col1\" >5</td>\n",
       "                        <td id=\"T_367af73e_f351_11eb_8f33_02420a39494erow6_col2\" class=\"data row6 col2\" >3</td>\n",
       "                        <td id=\"T_367af73e_f351_11eb_8f33_02420a39494erow6_col3\" class=\"data row6 col3\" >8</td>\n",
       "                        <td id=\"T_367af73e_f351_11eb_8f33_02420a39494erow6_col4\" class=\"data row6 col4\" >3</td>\n",
       "                        <td id=\"T_367af73e_f351_11eb_8f33_02420a39494erow6_col5\" class=\"data row6 col5\" >8.0</td>\n",
       "                        <td id=\"T_367af73e_f351_11eb_8f33_02420a39494erow6_col6\" class=\"data row6 col6\" >40</td>\n",
       "            </tr>\n",
       "            <tr>\n",
       "                        <th id=\"T_367af73e_f351_11eb_8f33_02420a39494elevel0_row7\" class=\"row_heading level0 row7\" >7</th>\n",
       "                        <td id=\"T_367af73e_f351_11eb_8f33_02420a39494erow7_col0\" class=\"data row7 col0\" >Добавить форму подписки на все основные страницы, чтобы собрать базу клиентов для email-рассылок</td>\n",
       "                        <td id=\"T_367af73e_f351_11eb_8f33_02420a39494erow7_col1\" class=\"data row7 col1\" >10</td>\n",
       "                        <td id=\"T_367af73e_f351_11eb_8f33_02420a39494erow7_col2\" class=\"data row7 col2\" >7</td>\n",
       "                        <td id=\"T_367af73e_f351_11eb_8f33_02420a39494erow7_col3\" class=\"data row7 col3\" >8</td>\n",
       "                        <td id=\"T_367af73e_f351_11eb_8f33_02420a39494erow7_col4\" class=\"data row7 col4\" >5</td>\n",
       "                        <td id=\"T_367af73e_f351_11eb_8f33_02420a39494erow7_col5\" class=\"data row7 col5\" >11.2</td>\n",
       "                        <td id=\"T_367af73e_f351_11eb_8f33_02420a39494erow7_col6\" class=\"data row7 col6\" >112</td>\n",
       "            </tr>\n",
       "            <tr>\n",
       "                        <th id=\"T_367af73e_f351_11eb_8f33_02420a39494elevel0_row8\" class=\"row_heading level0 row8\" >8</th>\n",
       "                        <td id=\"T_367af73e_f351_11eb_8f33_02420a39494erow8_col0\" class=\"data row8 col0\" >Запустить акцию, дающую скидку на товар в день рождения</td>\n",
       "                        <td id=\"T_367af73e_f351_11eb_8f33_02420a39494erow8_col1\" class=\"data row8 col1\" >1</td>\n",
       "                        <td id=\"T_367af73e_f351_11eb_8f33_02420a39494erow8_col2\" class=\"data row8 col2\" >9</td>\n",
       "                        <td id=\"T_367af73e_f351_11eb_8f33_02420a39494erow8_col3\" class=\"data row8 col3\" >9</td>\n",
       "                        <td id=\"T_367af73e_f351_11eb_8f33_02420a39494erow8_col4\" class=\"data row8 col4\" >5</td>\n",
       "                        <td id=\"T_367af73e_f351_11eb_8f33_02420a39494erow8_col5\" class=\"data row8 col5\" >16.2</td>\n",
       "                        <td id=\"T_367af73e_f351_11eb_8f33_02420a39494erow8_col6\" class=\"data row8 col6\" >16.2</td>\n",
       "            </tr>\n",
       "    </tbody></table>"
      ],
      "text/plain": [
       "<pandas.io.formats.style.Styler at 0x7f80136a1e90>"
      ]
     },
     "execution_count": 8,
     "metadata": {},
     "output_type": "execute_result"
    }
   ],
   "source": [
    "hypothesis.style.format({'ice': '{:.1f}'})"
   ]
  },
  {
   "cell_type": "markdown",
   "metadata": {},
   "source": [
    "Порядок гипотез несколько изменился, на первое место встала гипотеза №7, где показатель reach - оценка количества пользователей, которых затронет изменение, на максимальном уровне, что более важно при постановке задач. "
   ]
  },
  {
   "cell_type": "markdown",
   "metadata": {},
   "source": [
    "<div style=\"border:solid green 2px; padding: 20px\"> \n",
    "    \n",
    "**Комментарий ревьюера**\n",
    "\n",
    "Отлично, что ты сделала сравнительную таблицу. Также можно было сделать сравнительную диаграмму для большей наглядности, только на диаграмме надо нормировать показатели или использовать две шкалы, т.к. параметры разнятся\n",
    "    \n",
    "    \n",
    "А вот выводы стоило написать поподробнее. Так на какой показатель стоит ориентироваться? Важен ли в нашем случае охват? Можем мы на него полагаться? \n",
    "    \n",
    "</div>"
   ]
  },
  {
   "cell_type": "markdown",
   "metadata": {},
   "source": [
    "## Анализ А/В теста"
   ]
  },
  {
   "cell_type": "markdown",
   "metadata": {},
   "source": [
    "**График кумулятивной выручки по группам**"
   ]
  },
  {
   "cell_type": "code",
   "execution_count": 9,
   "metadata": {},
   "outputs": [
    {
     "data": {
      "text/html": [
       "<div>\n",
       "<style scoped>\n",
       "    .dataframe tbody tr th:only-of-type {\n",
       "        vertical-align: middle;\n",
       "    }\n",
       "\n",
       "    .dataframe tbody tr th {\n",
       "        vertical-align: top;\n",
       "    }\n",
       "\n",
       "    .dataframe thead th {\n",
       "        text-align: right;\n",
       "    }\n",
       "</style>\n",
       "<table border=\"1\" class=\"dataframe\">\n",
       "  <thead>\n",
       "    <tr style=\"text-align: right;\">\n",
       "      <th></th>\n",
       "      <th>date</th>\n",
       "      <th>group</th>\n",
       "      <th>visitors</th>\n",
       "    </tr>\n",
       "  </thead>\n",
       "  <tbody>\n",
       "    <tr>\n",
       "      <td>0</td>\n",
       "      <td>2019-08-01</td>\n",
       "      <td>A</td>\n",
       "      <td>719</td>\n",
       "    </tr>\n",
       "    <tr>\n",
       "      <td>1</td>\n",
       "      <td>2019-08-02</td>\n",
       "      <td>A</td>\n",
       "      <td>619</td>\n",
       "    </tr>\n",
       "    <tr>\n",
       "      <td>2</td>\n",
       "      <td>2019-08-03</td>\n",
       "      <td>A</td>\n",
       "      <td>507</td>\n",
       "    </tr>\n",
       "    <tr>\n",
       "      <td>3</td>\n",
       "      <td>2019-08-04</td>\n",
       "      <td>A</td>\n",
       "      <td>717</td>\n",
       "    </tr>\n",
       "    <tr>\n",
       "      <td>4</td>\n",
       "      <td>2019-08-05</td>\n",
       "      <td>A</td>\n",
       "      <td>756</td>\n",
       "    </tr>\n",
       "    <tr>\n",
       "      <td>...</td>\n",
       "      <td>...</td>\n",
       "      <td>...</td>\n",
       "      <td>...</td>\n",
       "    </tr>\n",
       "    <tr>\n",
       "      <td>57</td>\n",
       "      <td>2019-08-27</td>\n",
       "      <td>B</td>\n",
       "      <td>720</td>\n",
       "    </tr>\n",
       "    <tr>\n",
       "      <td>58</td>\n",
       "      <td>2019-08-28</td>\n",
       "      <td>B</td>\n",
       "      <td>654</td>\n",
       "    </tr>\n",
       "    <tr>\n",
       "      <td>59</td>\n",
       "      <td>2019-08-29</td>\n",
       "      <td>B</td>\n",
       "      <td>531</td>\n",
       "    </tr>\n",
       "    <tr>\n",
       "      <td>60</td>\n",
       "      <td>2019-08-30</td>\n",
       "      <td>B</td>\n",
       "      <td>490</td>\n",
       "    </tr>\n",
       "    <tr>\n",
       "      <td>61</td>\n",
       "      <td>2019-08-31</td>\n",
       "      <td>B</td>\n",
       "      <td>718</td>\n",
       "    </tr>\n",
       "  </tbody>\n",
       "</table>\n",
       "<p>62 rows × 3 columns</p>\n",
       "</div>"
      ],
      "text/plain": [
       "          date group  visitors\n",
       "0   2019-08-01     A       719\n",
       "1   2019-08-02     A       619\n",
       "2   2019-08-03     A       507\n",
       "3   2019-08-04     A       717\n",
       "4   2019-08-05     A       756\n",
       "..         ...   ...       ...\n",
       "57  2019-08-27     B       720\n",
       "58  2019-08-28     B       654\n",
       "59  2019-08-29     B       531\n",
       "60  2019-08-30     B       490\n",
       "61  2019-08-31     B       718\n",
       "\n",
       "[62 rows x 3 columns]"
      ]
     },
     "execution_count": 9,
     "metadata": {},
     "output_type": "execute_result"
    }
   ],
   "source": [
    "visitors"
   ]
  },
  {
   "cell_type": "code",
   "execution_count": 10,
   "metadata": {},
   "outputs": [
    {
     "data": {
      "text/html": [
       "<div>\n",
       "<style scoped>\n",
       "    .dataframe tbody tr th:only-of-type {\n",
       "        vertical-align: middle;\n",
       "    }\n",
       "\n",
       "    .dataframe tbody tr th {\n",
       "        vertical-align: top;\n",
       "    }\n",
       "\n",
       "    .dataframe thead th {\n",
       "        text-align: right;\n",
       "    }\n",
       "</style>\n",
       "<table border=\"1\" class=\"dataframe\">\n",
       "  <thead>\n",
       "    <tr style=\"text-align: right;\">\n",
       "      <th></th>\n",
       "      <th>transactionId</th>\n",
       "      <th>visitorId</th>\n",
       "      <th>date</th>\n",
       "      <th>revenue</th>\n",
       "      <th>group</th>\n",
       "    </tr>\n",
       "  </thead>\n",
       "  <tbody>\n",
       "    <tr>\n",
       "      <td>0</td>\n",
       "      <td>3667963787</td>\n",
       "      <td>3312258926</td>\n",
       "      <td>2019-08-15</td>\n",
       "      <td>1650</td>\n",
       "      <td>B</td>\n",
       "    </tr>\n",
       "    <tr>\n",
       "      <td>1</td>\n",
       "      <td>2804400009</td>\n",
       "      <td>3642806036</td>\n",
       "      <td>2019-08-15</td>\n",
       "      <td>730</td>\n",
       "      <td>B</td>\n",
       "    </tr>\n",
       "    <tr>\n",
       "      <td>2</td>\n",
       "      <td>2961555356</td>\n",
       "      <td>4069496402</td>\n",
       "      <td>2019-08-15</td>\n",
       "      <td>400</td>\n",
       "      <td>A</td>\n",
       "    </tr>\n",
       "    <tr>\n",
       "      <td>3</td>\n",
       "      <td>3797467345</td>\n",
       "      <td>1196621759</td>\n",
       "      <td>2019-08-15</td>\n",
       "      <td>9759</td>\n",
       "      <td>B</td>\n",
       "    </tr>\n",
       "    <tr>\n",
       "      <td>4</td>\n",
       "      <td>2282983706</td>\n",
       "      <td>2322279887</td>\n",
       "      <td>2019-08-15</td>\n",
       "      <td>2308</td>\n",
       "      <td>B</td>\n",
       "    </tr>\n",
       "    <tr>\n",
       "      <td>...</td>\n",
       "      <td>...</td>\n",
       "      <td>...</td>\n",
       "      <td>...</td>\n",
       "      <td>...</td>\n",
       "      <td>...</td>\n",
       "    </tr>\n",
       "    <tr>\n",
       "      <td>1192</td>\n",
       "      <td>2662137336</td>\n",
       "      <td>3733762160</td>\n",
       "      <td>2019-08-14</td>\n",
       "      <td>6490</td>\n",
       "      <td>B</td>\n",
       "    </tr>\n",
       "    <tr>\n",
       "      <td>1193</td>\n",
       "      <td>2203539145</td>\n",
       "      <td>370388673</td>\n",
       "      <td>2019-08-14</td>\n",
       "      <td>3190</td>\n",
       "      <td>A</td>\n",
       "    </tr>\n",
       "    <tr>\n",
       "      <td>1194</td>\n",
       "      <td>1807773912</td>\n",
       "      <td>573423106</td>\n",
       "      <td>2019-08-14</td>\n",
       "      <td>10550</td>\n",
       "      <td>A</td>\n",
       "    </tr>\n",
       "    <tr>\n",
       "      <td>1195</td>\n",
       "      <td>1947021204</td>\n",
       "      <td>1614305549</td>\n",
       "      <td>2019-08-14</td>\n",
       "      <td>100</td>\n",
       "      <td>A</td>\n",
       "    </tr>\n",
       "    <tr>\n",
       "      <td>1196</td>\n",
       "      <td>3936777065</td>\n",
       "      <td>2108080724</td>\n",
       "      <td>2019-08-15</td>\n",
       "      <td>202740</td>\n",
       "      <td>B</td>\n",
       "    </tr>\n",
       "  </tbody>\n",
       "</table>\n",
       "<p>1197 rows × 5 columns</p>\n",
       "</div>"
      ],
      "text/plain": [
       "      transactionId   visitorId        date  revenue group\n",
       "0        3667963787  3312258926  2019-08-15     1650     B\n",
       "1        2804400009  3642806036  2019-08-15      730     B\n",
       "2        2961555356  4069496402  2019-08-15      400     A\n",
       "3        3797467345  1196621759  2019-08-15     9759     B\n",
       "4        2282983706  2322279887  2019-08-15     2308     B\n",
       "...             ...         ...         ...      ...   ...\n",
       "1192     2662137336  3733762160  2019-08-14     6490     B\n",
       "1193     2203539145   370388673  2019-08-14     3190     A\n",
       "1194     1807773912   573423106  2019-08-14    10550     A\n",
       "1195     1947021204  1614305549  2019-08-14      100     A\n",
       "1196     3936777065  2108080724  2019-08-15   202740     B\n",
       "\n",
       "[1197 rows x 5 columns]"
      ]
     },
     "execution_count": 10,
     "metadata": {},
     "output_type": "execute_result"
    }
   ],
   "source": [
    "orders"
   ]
  },
  {
   "cell_type": "markdown",
   "metadata": {},
   "source": [
    "Посчитаем количество посещений и заказов в группах"
   ]
  },
  {
   "cell_type": "code",
   "execution_count": 11,
   "metadata": {},
   "outputs": [
    {
     "name": "stdout",
     "output_type": "stream",
     "text": [
      "Количество посещений в группе А - 18736\n",
      "Количество посещений в группе B - 18916\n",
      "-----------------------------------\n",
      "Количество заказов в группе А - 557\n",
      "Количество заказов в группе B - 640\n"
     ]
    }
   ],
   "source": [
    "print ('Количество посещений в группе А -', visitors.query('group == \"A\"')['visitors'].sum())\n",
    "print ('Количество посещений в группе B -',visitors.query('group == \"B\"')['visitors'].sum())\n",
    "print('-----------------------------------')\n",
    "print ('Количество заказов в группе А -', orders.query('group == \"A\"').shape[0])\n",
    "print ('Количество заказов в группе B -',orders.query('group == \"B\"').shape[0])"
   ]
  },
  {
   "cell_type": "markdown",
   "metadata": {},
   "source": [
    "Посмотрим, есть ли такие, что попали в обе группы, уберем их"
   ]
  },
  {
   "cell_type": "code",
   "execution_count": 12,
   "metadata": {},
   "outputs": [],
   "source": [
    "visitorsA = orders[orders['group']=='A']['visitorId']\n",
    "visitorsB = orders[orders['group']=='B']['visitorId']"
   ]
  },
  {
   "cell_type": "code",
   "execution_count": 13,
   "metadata": {},
   "outputs": [],
   "source": [
    "visitorsA = orders[orders['group']=='A']['visitorId']\n",
    "visitorsB = orders[orders['group']=='B']['visitorId']"
   ]
  },
  {
   "cell_type": "code",
   "execution_count": 14,
   "metadata": {},
   "outputs": [],
   "source": [
    "visitors_AB = orders.loc[orders['visitorId'].isin(visitorsA)& orders['visitorId'].isin(visitorsB),'visitorId'].unique()"
   ]
  },
  {
   "cell_type": "code",
   "execution_count": 15,
   "metadata": {},
   "outputs": [
    {
     "data": {
      "text/plain": [
       "973"
      ]
     },
     "execution_count": 15,
     "metadata": {},
     "output_type": "execute_result"
    }
   ],
   "source": [
    "orders = orders.loc[~orders['visitorId'].isin(visitors_AB)]\n",
    "(orders.groupby('visitorId')['group'].nunique()>1).count()"
   ]
  },
  {
   "cell_type": "code",
   "execution_count": 16,
   "metadata": {},
   "outputs": [
    {
     "name": "stdout",
     "output_type": "stream",
     "text": [
      "Количество заказов в группе А - 468\n",
      "Количество заказов в группе B - 548\n"
     ]
    }
   ],
   "source": [
    "print ('Количество заказов в группе А -', orders.query('group == \"A\"').shape[0])\n",
    "print ('Количество заказов в группе B -',orders.query('group == \"B\"').shape[0])"
   ]
  },
  {
   "cell_type": "markdown",
   "metadata": {},
   "source": [
    "Готовим таблицу для графика кумулятивной выручки"
   ]
  },
  {
   "cell_type": "code",
   "execution_count": 17,
   "metadata": {},
   "outputs": [],
   "source": [
    "# создаем массив уникальных пар значений дат и групп теста\n",
    "dates_groups = orders[['date','group']].drop_duplicates()"
   ]
  },
  {
   "cell_type": "code",
   "execution_count": 18,
   "metadata": {},
   "outputs": [],
   "source": [
    "# Соберём агрегированные кумулятивные по дням данные о заказах с помощью np.logical_and()\n",
    "orders_aggregated = (dates_groups\n",
    "                     .apply(lambda x: orders[np.logical_and(orders['date'] <= x['date']\n",
    "                                                            , orders['group'] ==  x['group'])]\n",
    "                    .agg({'date':'max', 'group':'max', 'revenue':'sum', 'transactionId':'nunique'}), axis=1) \n",
    "                    .sort_values(by=['date','group']))"
   ]
  },
  {
   "cell_type": "code",
   "execution_count": 19,
   "metadata": {},
   "outputs": [],
   "source": [
    "# переименуем немножк\n",
    "orders_aggregated.rename(columns={'transactionId':'orders'}, inplace=True)"
   ]
  },
  {
   "cell_type": "code",
   "execution_count": 20,
   "metadata": {},
   "outputs": [
    {
     "data": {
      "text/html": [
       "<div>\n",
       "<style scoped>\n",
       "    .dataframe tbody tr th:only-of-type {\n",
       "        vertical-align: middle;\n",
       "    }\n",
       "\n",
       "    .dataframe tbody tr th {\n",
       "        vertical-align: top;\n",
       "    }\n",
       "\n",
       "    .dataframe thead th {\n",
       "        text-align: right;\n",
       "    }\n",
       "</style>\n",
       "<table border=\"1\" class=\"dataframe\">\n",
       "  <thead>\n",
       "    <tr style=\"text-align: right;\">\n",
       "      <th></th>\n",
       "      <th>date</th>\n",
       "      <th>group</th>\n",
       "      <th>revenue</th>\n",
       "      <th>orders</th>\n",
       "    </tr>\n",
       "  </thead>\n",
       "  <tbody>\n",
       "    <tr>\n",
       "      <td>55</td>\n",
       "      <td>2019-08-01</td>\n",
       "      <td>A</td>\n",
       "      <td>142779</td>\n",
       "      <td>23</td>\n",
       "    </tr>\n",
       "    <tr>\n",
       "      <td>66</td>\n",
       "      <td>2019-08-01</td>\n",
       "      <td>B</td>\n",
       "      <td>59758</td>\n",
       "      <td>17</td>\n",
       "    </tr>\n",
       "    <tr>\n",
       "      <td>175</td>\n",
       "      <td>2019-08-02</td>\n",
       "      <td>A</td>\n",
       "      <td>234381</td>\n",
       "      <td>42</td>\n",
       "    </tr>\n",
       "    <tr>\n",
       "      <td>173</td>\n",
       "      <td>2019-08-02</td>\n",
       "      <td>B</td>\n",
       "      <td>221801</td>\n",
       "      <td>40</td>\n",
       "    </tr>\n",
       "    <tr>\n",
       "      <td>291</td>\n",
       "      <td>2019-08-03</td>\n",
       "      <td>A</td>\n",
       "      <td>346854</td>\n",
       "      <td>66</td>\n",
       "    </tr>\n",
       "  </tbody>\n",
       "</table>\n",
       "</div>"
      ],
      "text/plain": [
       "           date group  revenue  orders\n",
       "55   2019-08-01     A   142779      23\n",
       "66   2019-08-01     B    59758      17\n",
       "175  2019-08-02     A   234381      42\n",
       "173  2019-08-02     B   221801      40\n",
       "291  2019-08-03     A   346854      66"
      ]
     },
     "execution_count": 20,
     "metadata": {},
     "output_type": "execute_result"
    }
   ],
   "source": [
    "orders_aggregated.head()"
   ]
  },
  {
   "cell_type": "code",
   "execution_count": 21,
   "metadata": {},
   "outputs": [
    {
     "data": {
      "text/html": [
       "<div>\n",
       "<style scoped>\n",
       "    .dataframe tbody tr th:only-of-type {\n",
       "        vertical-align: middle;\n",
       "    }\n",
       "\n",
       "    .dataframe tbody tr th {\n",
       "        vertical-align: top;\n",
       "    }\n",
       "\n",
       "    .dataframe thead th {\n",
       "        text-align: right;\n",
       "    }\n",
       "</style>\n",
       "<table border=\"1\" class=\"dataframe\">\n",
       "  <thead>\n",
       "    <tr style=\"text-align: right;\">\n",
       "      <th></th>\n",
       "      <th>date</th>\n",
       "      <th>group</th>\n",
       "      <th>visitors</th>\n",
       "    </tr>\n",
       "  </thead>\n",
       "  <tbody>\n",
       "    <tr>\n",
       "      <td>55</td>\n",
       "      <td>2019-08-01</td>\n",
       "      <td>A</td>\n",
       "      <td>719</td>\n",
       "    </tr>\n",
       "    <tr>\n",
       "      <td>66</td>\n",
       "      <td>2019-08-01</td>\n",
       "      <td>B</td>\n",
       "      <td>713</td>\n",
       "    </tr>\n",
       "    <tr>\n",
       "      <td>175</td>\n",
       "      <td>2019-08-02</td>\n",
       "      <td>A</td>\n",
       "      <td>1338</td>\n",
       "    </tr>\n",
       "    <tr>\n",
       "      <td>173</td>\n",
       "      <td>2019-08-02</td>\n",
       "      <td>B</td>\n",
       "      <td>1294</td>\n",
       "    </tr>\n",
       "    <tr>\n",
       "      <td>291</td>\n",
       "      <td>2019-08-03</td>\n",
       "      <td>A</td>\n",
       "      <td>1845</td>\n",
       "    </tr>\n",
       "  </tbody>\n",
       "</table>\n",
       "</div>"
      ],
      "text/plain": [
       "           date group  visitors\n",
       "55   2019-08-01     A       719\n",
       "66   2019-08-01     B       713\n",
       "175  2019-08-02     A      1338\n",
       "173  2019-08-02     B      1294\n",
       "291  2019-08-03     A      1845"
      ]
     },
     "execution_count": 21,
     "metadata": {},
     "output_type": "execute_result"
    }
   ],
   "source": [
    "# повторим с посещениями\n",
    "visitors_aggregated = (dates_groups\n",
    "                     .apply(lambda x: visitors[np.logical_and(visitors['date'] <= x['date']\n",
    "                                                            , visitors['group'] ==  x['group'])]\n",
    "                    .agg({'date':'max', 'group':'max', 'visitors':'sum'}), axis=1) \n",
    "                    .sort_values(by=['date','group']))\n",
    "visitors_aggregated.head()"
   ]
  },
  {
   "cell_type": "code",
   "execution_count": 22,
   "metadata": {},
   "outputs": [
    {
     "data": {
      "text/html": [
       "<div>\n",
       "<style scoped>\n",
       "    .dataframe tbody tr th:only-of-type {\n",
       "        vertical-align: middle;\n",
       "    }\n",
       "\n",
       "    .dataframe tbody tr th {\n",
       "        vertical-align: top;\n",
       "    }\n",
       "\n",
       "    .dataframe thead th {\n",
       "        text-align: right;\n",
       "    }\n",
       "</style>\n",
       "<table border=\"1\" class=\"dataframe\">\n",
       "  <thead>\n",
       "    <tr style=\"text-align: right;\">\n",
       "      <th></th>\n",
       "      <th>date</th>\n",
       "      <th>group</th>\n",
       "      <th>revenue</th>\n",
       "      <th>orders</th>\n",
       "      <th>visitors</th>\n",
       "    </tr>\n",
       "  </thead>\n",
       "  <tbody>\n",
       "    <tr>\n",
       "      <td>0</td>\n",
       "      <td>2019-08-01</td>\n",
       "      <td>A</td>\n",
       "      <td>142779</td>\n",
       "      <td>23</td>\n",
       "      <td>719</td>\n",
       "    </tr>\n",
       "    <tr>\n",
       "      <td>1</td>\n",
       "      <td>2019-08-01</td>\n",
       "      <td>B</td>\n",
       "      <td>59758</td>\n",
       "      <td>17</td>\n",
       "      <td>713</td>\n",
       "    </tr>\n",
       "    <tr>\n",
       "      <td>2</td>\n",
       "      <td>2019-08-02</td>\n",
       "      <td>A</td>\n",
       "      <td>234381</td>\n",
       "      <td>42</td>\n",
       "      <td>1338</td>\n",
       "    </tr>\n",
       "    <tr>\n",
       "      <td>3</td>\n",
       "      <td>2019-08-02</td>\n",
       "      <td>B</td>\n",
       "      <td>221801</td>\n",
       "      <td>40</td>\n",
       "      <td>1294</td>\n",
       "    </tr>\n",
       "    <tr>\n",
       "      <td>4</td>\n",
       "      <td>2019-08-03</td>\n",
       "      <td>A</td>\n",
       "      <td>346854</td>\n",
       "      <td>66</td>\n",
       "      <td>1845</td>\n",
       "    </tr>\n",
       "  </tbody>\n",
       "</table>\n",
       "</div>"
      ],
      "text/plain": [
       "         date group  revenue  orders  visitors\n",
       "0  2019-08-01     A   142779      23       719\n",
       "1  2019-08-01     B    59758      17       713\n",
       "2  2019-08-02     A   234381      42      1338\n",
       "3  2019-08-02     B   221801      40      1294\n",
       "4  2019-08-03     A   346854      66      1845"
      ]
     },
     "execution_count": 22,
     "metadata": {},
     "output_type": "execute_result"
    }
   ],
   "source": [
    "# объединяем кумулятивные данные в одной таблице\n",
    "cumulative_data = orders_aggregated.merge(visitors_aggregated, on=['date','group'])\n",
    "cumulative_data.head()"
   ]
  },
  {
   "cell_type": "code",
   "execution_count": 23,
   "metadata": {},
   "outputs": [
    {
     "data": {
      "image/png": "[encoded data removed]",
      "text/plain": [
       "<Figure size 720x360 with 1 Axes>"
      ]
     },
     "metadata": {
      "needs_background": "light"
     },
     "output_type": "display_data"
    }
   ],
   "source": [
    "# датафрейм с кумулятивным количеством заказов и кумулятивной выручкой по дням в группе А и В\n",
    "cumulative_a = cumulative_data.loc[cumulative_data['group'] == 'A',['date','revenue','orders','visitors']]\n",
    "cumulative_b = cumulative_data.loc[cumulative_data['group'] == 'B',['date','revenue','orders','visitors']]\n",
    "\n",
    "#график\n",
    "\n",
    "plt.figure(figsize=(10, 5))\n",
    "plt.plot(cumulative_a['date'], cumulative_a['revenue'], label='A')\n",
    "plt.plot(cumulative_b['date'], cumulative_b['revenue'], label='B')\n",
    "plt.xticks(rotation=45)\n",
    "plt.title('Кумулятивная выручка по группам')\n",
    "plt.legend();"
   ]
  },
  {
   "cell_type": "markdown",
   "metadata": {},
   "source": [
    "Обе группы растут в выручке, в группе В всплеск выручки 17 августа. Возможно, выброс в виде крупной покупки"
   ]
  },
  {
   "cell_type": "markdown",
   "metadata": {},
   "source": [
    "**График кумулятивного чека**"
   ]
  },
  {
   "cell_type": "code",
   "execution_count": 24,
   "metadata": {},
   "outputs": [
    {
     "data": {
      "image/png": "[encoded data removed]",
      "text/plain": [
       "<Figure size 720x360 with 1 Axes>"
      ]
     },
     "metadata": {
      "needs_background": "light"
     },
     "output_type": "display_data"
    }
   ],
   "source": [
    "\n",
    "plt.figure(figsize=(10, 5))\n",
    "plt.plot(cumulative_a['date'], cumulative_a['revenue'] / cumulative_a['orders'], label='A')\n",
    "plt.plot(cumulative_b['date'], cumulative_b['revenue'] / cumulative_b['orders'], label='B')\n",
    "plt.xticks(rotation=45)\n",
    "plt.title('Кумулятивный средний чек по группам')\n",
    "plt.legend();"
   ]
  },
  {
   "cell_type": "markdown",
   "metadata": {},
   "source": [
    "18.08 в группе В крупная покупка, после которой средний чек начинает снижаться."
   ]
  },
  {
   "cell_type": "markdown",
   "metadata": {},
   "source": [
    "**Относительное изменение кумулятивного среднего чека**"
   ]
  },
  {
   "cell_type": "code",
   "execution_count": 25,
   "metadata": {},
   "outputs": [],
   "source": [
    "#таблица для графика изменения среднего чека с маркерами групп а и б\n",
    "merged_cumulative = cumulative_a.merge(cumulative_b, on=['date'],suffixes=('_a', '_b'))"
   ]
  },
  {
   "cell_type": "code",
   "execution_count": 26,
   "metadata": {},
   "outputs": [
    {
     "data": {
      "image/png": "[encoded data removed]",
      "text/plain": [
       "<Figure size 720x360 with 1 Axes>"
      ]
     },
     "metadata": {
      "needs_background": "light"
     },
     "output_type": "display_data"
    }
   ],
   "source": [
    "plt.figure(figsize=(10, 5))\n",
    "plt.plot(\n",
    "    merged_cumulative['date'],\n",
    "    (merged_cumulative['revenue_b'] / merged_cumulative['orders_b']) / (merged_cumulative['revenue_a'] / merged_cumulative['orders_a']) -1\n",
    ")\n",
    "plt.xticks(rotation=45)\n",
    "plt.title('Изменения кумулятивного среднего чека')\n",
    "plt.axhline(y=0, color='green', linestyle='dotted');"
   ]
  },
  {
   "cell_type": "markdown",
   "metadata": {},
   "source": [
    "Крупные заказы присутствуют и до 18.08. Пока рано делать выводы относительно групп, график скачет, а значит, эти аномалии нужно в дальнейшем учесть"
   ]
  },
  {
   "cell_type": "markdown",
   "metadata": {},
   "source": [
    "\n",
    "<div style=\"border:solid green 2px; padding: 20px\"> \n",
    "    \n",
    "**Комментарий ревьюера**\n",
    "\n",
    "В этой части графики построены верно, предположение о больших заказах правильное. Надо только не забыть отметить когда мы подтвердим это предположение\n",
    "    \n",
    "</div>\n"
   ]
  },
  {
   "cell_type": "markdown",
   "metadata": {},
   "source": [
    "**Кумулятивная конверсия по группам**"
   ]
  },
  {
   "cell_type": "code",
   "execution_count": 27,
   "metadata": {},
   "outputs": [
    {
     "data": {
      "image/png": "[encoded data removed]",
      "text/plain": [
       "<Figure size 720x360 with 1 Axes>"
      ]
     },
     "metadata": {
      "needs_background": "light"
     },
     "output_type": "display_data"
    }
   ],
   "source": [
    "plt.figure(figsize=(10, 5))\n",
    "plt.plot(cumulative_a['date'], cumulative_a['orders'] / cumulative_a['visitors'], label='A')\n",
    "plt.plot(cumulative_b['date'], cumulative_b['orders'] / cumulative_b['visitors'], label='B')\n",
    "plt.xticks(rotation=45)\n",
    "plt.title('Кумулятивная конверсия по группам')\n",
    "plt.axis(xmin=cumulative_a['date'].min(), xmax=cumulative_a['date'].max())\n",
    "plt.legend();"
   ]
  },
  {
   "cell_type": "markdown",
   "metadata": {},
   "source": [
    "До 5.08 группа А была впереди, конверсия колебалась, но после - группы зафиксировались: конверсия группы В стала стабильно выше конверсии группы А. "
   ]
  },
  {
   "cell_type": "markdown",
   "metadata": {},
   "source": [
    "**Относительное изменение кумулятивной конверсии**"
   ]
  },
  {
   "cell_type": "code",
   "execution_count": 28,
   "metadata": {},
   "outputs": [
    {
     "data": {
      "image/png": "[encoded data removed]",
      "text/plain": [
       "<Figure size 720x360 with 1 Axes>"
      ]
     },
     "metadata": {
      "needs_background": "light"
     },
     "output_type": "display_data"
    }
   ],
   "source": [
    "plt.figure(figsize=(10, 5))\n",
    "plt.plot(\n",
    "    merged_cumulative['date'],\n",
    "    (merged_cumulative['orders_b'] / merged_cumulative['visitors_b']) / (merged_cumulative['orders_a'] / merged_cumulative['visitors_a']) -1\n",
    ")\n",
    "plt.xticks(rotation=45)\n",
    "plt.title('График относительного изменения кумулятивной конверсии групп')\n",
    "plt.axis(xmin=merged_cumulative['date'].min(), xmax=merged_cumulative['date'].max())\n",
    "plt.axhline(y=0, color='grey', linestyle='--')\n",
    "plt.axhline(y=0.1, color='black', linestyle='--');"
   ]
  },
  {
   "cell_type": "markdown",
   "metadata": {},
   "source": [
    "Как и было определено ранее, группа А сначала вырывалась вперед, затем группа В зафиксировалась стабильно выше группы А. Далее - анализ аномалий"
   ]
  },
  {
   "cell_type": "markdown",
   "metadata": {},
   "source": [
    "\n",
    "<div style=\"border:solid green 2px; padding: 20px\"> \n",
    "    \n",
    "**Комментарий ревьюера**\n",
    "\n",
    "Отлично, здесь тоже все правильно построено и оформлено, молодец\n",
    "    \n",
    "</div>\n"
   ]
  },
  {
   "cell_type": "markdown",
   "metadata": {},
   "source": [
    "**Количество заказов по пользователям**"
   ]
  },
  {
   "cell_type": "markdown",
   "metadata": {},
   "source": [
    "посмотрим на дорогие заказы"
   ]
  },
  {
   "cell_type": "code",
   "execution_count": 29,
   "metadata": {},
   "outputs": [
    {
     "data": {
      "image/png": "[encoded data removed]",
      "text/plain": [
       "<Figure size 432x288 with 1 Axes>"
      ]
     },
     "metadata": {
      "needs_background": "light"
     },
     "output_type": "display_data"
    }
   ],
   "source": [
    "plt.hist(orders['revenue'])\n",
    "plt.title('Распределение стоимости заказов');"
   ]
  },
  {
   "cell_type": "markdown",
   "metadata": {},
   "source": [
    "очевидно, есть крупные заказы более 200 000, посмотрим подробнее"
   ]
  },
  {
   "cell_type": "code",
   "execution_count": 30,
   "metadata": {},
   "outputs": [],
   "source": [
    "bigorders = orders.query('revenue > 200000')"
   ]
  },
  {
   "cell_type": "code",
   "execution_count": 31,
   "metadata": {},
   "outputs": [
    {
     "data": {
      "image/png": "[encoded data removed]",
      "text/plain": [
       "<Figure size 432x288 with 1 Axes>"
      ]
     },
     "metadata": {
      "needs_background": "light"
     },
     "output_type": "display_data"
    }
   ],
   "source": [
    "plt.hist(bigorders['revenue'])\n",
    "plt.title('Распределение стоимости крупных заказов');"
   ]
  },
  {
   "cell_type": "markdown",
   "metadata": {},
   "source": [
    "итого, целых два крупных заказа"
   ]
  },
  {
   "cell_type": "markdown",
   "metadata": {},
   "source": [
    "\n",
    "<div style=\"border:solid green 2px; padding: 20px\"> \n",
    "    \n",
    "**Комментарий ревьюера**\n",
    "\n",
    "Отлично, здесь стоило подчеркнуть, что наши предположения оправдались и что именно эти заказы внесли шум на графиках выше\n",
    "    \n",
    "</div>\n"
   ]
  },
  {
   "cell_type": "code",
   "execution_count": 32,
   "metadata": {},
   "outputs": [
    {
     "data": {
      "image/png": "[encoded data removed]",
      "text/plain": [
       "<Figure size 720x360 with 1 Axes>"
      ]
     },
     "metadata": {
      "needs_background": "light"
     },
     "output_type": "display_data"
    }
   ],
   "source": [
    "#построим точечный график с нагрядным отображением групп\n",
    "x_values = pd.Series(range(0,orders['revenue'].count()))\n",
    "\n",
    "plt.figure(figsize=(10, 5))\n",
    "sns.scatterplot(x=x_values, y=\"revenue\", hue=\"group\",\n",
    "                     data=orders)\n",
    "plt.grid()\n",
    "plt.title('Точечный график количества заказов');"
   ]
  },
  {
   "cell_type": "markdown",
   "metadata": {},
   "source": [
    "Самый крупный заказ принадлежит группе В, что, возможно, определяет ее лидерство"
   ]
  },
  {
   "cell_type": "markdown",
   "metadata": {},
   "source": [
    "Посмотрим на заказы на пользователя"
   ]
  },
  {
   "cell_type": "code",
   "execution_count": 33,
   "metadata": {},
   "outputs": [],
   "source": [
    "ordersByUsers = (\n",
    "   orders.drop(['group', 'revenue', 'date'], axis=1)\n",
    "    .groupby('visitorId', as_index=False)\n",
    "    .agg({'transactionId': pd.Series.nunique})\n",
    ")\n",
    "ordersByUsers.columns = ['visitorId', 'orders']\n",
    "\n"
   ]
  },
  {
   "cell_type": "markdown",
   "metadata": {},
   "source": [
    "построим точечный график, чтобы увидеть выбросы"
   ]
  },
  {
   "cell_type": "code",
   "execution_count": 34,
   "metadata": {},
   "outputs": [
    {
     "data": {
      "image/png": "[encoded data removed]",
      "text/plain": [
       "<Figure size 432x288 with 1 Axes>"
      ]
     },
     "metadata": {
      "needs_background": "light"
     },
     "output_type": "display_data"
    }
   ],
   "source": [
    "x_values = pd.Series(range(0, len(ordersByUsers)))\n",
    "plt.scatter(x_values, ordersByUsers['orders']);"
   ]
  },
  {
   "cell_type": "markdown",
   "metadata": {},
   "source": [
    "Достаточно пользователей с 2-3 заказами, нужно посчитать перцентили"
   ]
  },
  {
   "cell_type": "markdown",
   "metadata": {},
   "source": [
    "**95 и 99 перцентели количества заказов на пользователя**"
   ]
  },
  {
   "cell_type": "code",
   "execution_count": 35,
   "metadata": {},
   "outputs": [
    {
     "name": "stdout",
     "output_type": "stream",
     "text": [
      "[1. 2.]\n"
     ]
    }
   ],
   "source": [
    "print(np.percentile(ordersByUsers['orders'], [95, 99])) "
   ]
  },
  {
   "cell_type": "markdown",
   "metadata": {},
   "source": [
    "*не более 1% пользователей заказывали 2 и более раз, границей определения аномальных пользователей будет 99 перцентиль. избавимся от таких*"
   ]
  },
  {
   "cell_type": "code",
   "execution_count": 36,
   "metadata": {},
   "outputs": [],
   "source": [
    "per99 = np.percentile(ordersByUsers['orders'], [99])[0]\n",
    "ordersByUsersClean = ordersByUsers.query('orders<= @per99')"
   ]
  },
  {
   "cell_type": "markdown",
   "metadata": {},
   "source": [
    "**Стоимость заказов**"
   ]
  },
  {
   "cell_type": "code",
   "execution_count": 37,
   "metadata": {},
   "outputs": [
    {
     "data": {
      "image/png": "[encoded data removed]",
      "text/plain": [
       "<Figure size 432x288 with 1 Axes>"
      ]
     },
     "metadata": {
      "needs_background": "light"
     },
     "output_type": "display_data"
    }
   ],
   "source": [
    "x_values = pd.Series(range(0, len(orders['revenue'])))\n",
    "plt.scatter(x_values, orders['revenue']);"
   ]
  },
  {
   "cell_type": "markdown",
   "metadata": {},
   "source": [
    "Мы построили график на данных с \"аномалиями\" - крупными покупками. В основном, стоимость всех заказов лежит в диапазоне до 200 000"
   ]
  },
  {
   "cell_type": "markdown",
   "metadata": {},
   "source": [
    "**95 и 99 перцентили стоимости заказов**"
   ]
  },
  {
   "cell_type": "code",
   "execution_count": 38,
   "metadata": {},
   "outputs": [
    {
     "name": "stdout",
     "output_type": "stream",
     "text": [
      "[26785. 53904.]\n"
     ]
    }
   ],
   "source": [
    "print(np.percentile(orders['revenue'], [95, 99])) "
   ]
  },
  {
   "cell_type": "markdown",
   "metadata": {},
   "source": [
    "*Также определим 99 перцентиль в качестве границы**"
   ]
  },
  {
   "cell_type": "code",
   "execution_count": 39,
   "metadata": {},
   "outputs": [],
   "source": [
    "per_99 = np.percentile(orders['revenue'], [99])[0]\n",
    "orders_clean = orders.query('revenue<= @per_99')"
   ]
  },
  {
   "cell_type": "code",
   "execution_count": 40,
   "metadata": {},
   "outputs": [],
   "source": [
    "#итоговая таблица без аномалий\n",
    "orders_clean = orders_clean.loc[orders_clean['visitorId'].isin(ordersByUsersClean['visitorId'])]\n"
   ]
  },
  {
   "cell_type": "markdown",
   "metadata": {},
   "source": [
    "\n",
    "<div style=\"border:solid green 2px; padding: 20px\"> \n",
    "    \n",
    "**Комментарий ревьюера**\n",
    "\n",
    "Отлично, все верно. 99% - правильный выбор для отсечения выбросов.\n",
    "    \n",
    "</div>\n"
   ]
  },
  {
   "cell_type": "markdown",
   "metadata": {},
   "source": [
    "**Статистическая значимость различий в конверсии между группами по сырым данным**"
   ]
  },
  {
   "cell_type": "code",
   "execution_count": 41,
   "metadata": {},
   "outputs": [
    {
     "name": "stdout",
     "output_type": "stream",
     "text": [
      "<class 'pandas.core.frame.DataFrame'>\n",
      "Int64Index: 1016 entries, 0 to 1196\n",
      "Data columns (total 5 columns):\n",
      "transactionId    1016 non-null int64\n",
      "visitorId        1016 non-null int64\n",
      "date             1016 non-null object\n",
      "revenue          1016 non-null int64\n",
      "group            1016 non-null object\n",
      "dtypes: int64(3), object(2)\n",
      "memory usage: 87.6+ KB\n"
     ]
    }
   ],
   "source": [
    "orders.info()"
   ]
  },
  {
   "cell_type": "code",
   "execution_count": 42,
   "metadata": {},
   "outputs": [
    {
     "name": "stdout",
     "output_type": "stream",
     "text": [
      "<class 'pandas.core.frame.DataFrame'>\n",
      "RangeIndex: 62 entries, 0 to 61\n",
      "Data columns (total 3 columns):\n",
      "date        62 non-null object\n",
      "group       62 non-null object\n",
      "visitors    62 non-null int64\n",
      "dtypes: int64(1), object(2)\n",
      "memory usage: 1.6+ KB\n"
     ]
    }
   ],
   "source": [
    "visitors.info()"
   ]
  },
  {
   "cell_type": "markdown",
   "metadata": {},
   "source": [
    "подготовим данные для анализа по сырым данным: приведем столбец с датой в нужный тип, посчитаем для каждой из групп заказы и визиты"
   ]
  },
  {
   "cell_type": "code",
   "execution_count": 43,
   "metadata": {},
   "outputs": [],
   "source": [
    "orders = pd.read_csv('/datasets/orders.csv')\n",
    "orders['date'] = orders['date'].map(\n",
    "    lambda x: dt.datetime.strptime(x, '%Y-%m-%d')\n",
    ")\n",
    "\n",
    "visitors = pd.read_csv('/datasets/visitors.csv')\n",
    "visitors['date'] = visitors['date'].map(\n",
    "    lambda x: dt.datetime.strptime(x, '%Y-%m-%d')\n",
    ")"
   ]
  },
  {
   "cell_type": "code",
   "execution_count": 44,
   "metadata": {},
   "outputs": [
    {
     "name": "stdout",
     "output_type": "stream",
     "text": [
      "        date  ordersPerDateA  revenuePerDateA  ordersPerDateB  \\\n",
      "0 2019-08-01              24           148579              21   \n",
      "1 2019-08-02              20            93822              24   \n",
      "2 2019-08-03              24           112473              16   \n",
      "3 2019-08-04              16            70825              17   \n",
      "4 2019-08-05              25           124218              23   \n",
      "\n",
      "   revenuePerDateB  ordersCummulativeA  revenueCummulativeA  \\\n",
      "0           101217                  24               148579   \n",
      "1           165531                  44               242401   \n",
      "2           114248                  68               354874   \n",
      "3           108571                  84               425699   \n",
      "4            92428                 109               549917   \n",
      "\n",
      "   ordersCummulativeB  revenueCummulativeB  visitorsPerDateA  \\\n",
      "0                  21               101217               719   \n",
      "1                  45               266748               619   \n",
      "2                  61               380996               507   \n",
      "3                  78               489567               717   \n",
      "4                 101               581995               756   \n",
      "\n",
      "   visitorsPerDateB  visitorsCummulativeA  visitorsCummulativeB  \n",
      "0               713                   719                   713  \n",
      "1               581                  1338                  1294  \n",
      "2               509                  1845                  1803  \n",
      "3               770                  2562                  2573  \n",
      "4               707                  3318                  3280  \n"
     ]
    }
   ],
   "source": [
    "\n",
    "\n",
    "visitorsADaily = visitors[visitors['group'] == 'A'][['date', 'visitors']]\n",
    "visitorsADaily.columns = ['date', 'visitorsPerDateA']\n",
    "\n",
    "visitorsACummulative = visitorsADaily.apply(\n",
    "    lambda x: visitorsADaily[visitorsADaily['date'] <= x['date']].agg(\n",
    "        {'date': 'max', 'visitorsPerDateA': 'sum'}\n",
    "    ),\n",
    "    axis=1,\n",
    ")\n",
    "visitorsACummulative.columns = ['date', 'visitorsCummulativeA']\n",
    "\n",
    "visitorsBDaily = visitors[visitors['group'] == 'B'][['date', 'visitors']]\n",
    "visitorsBDaily.columns = ['date', 'visitorsPerDateB']\n",
    "\n",
    "visitorsBCummulative = visitorsBDaily.apply(\n",
    "    lambda x: visitorsBDaily[visitorsBDaily['date'] <= x['date']].agg(\n",
    "        {'date': 'max', 'visitorsPerDateB': 'sum'}\n",
    "    ),\n",
    "    axis=1,\n",
    ")\n",
    "visitorsBCummulative.columns = ['date', 'visitorsCummulativeB']\n",
    "\n",
    "ordersADaily = (\n",
    "    orders[orders['group'] == 'A'][['date', 'transactionId', 'visitorId', 'revenue']]\n",
    "    .groupby('date', as_index=False)\n",
    "    .agg({'transactionId': pd.Series.nunique, 'revenue': 'sum'})\n",
    ")\n",
    "ordersADaily.columns = ['date', 'ordersPerDateA', 'revenuePerDateA']\n",
    "\n",
    "ordersACummulative = ordersADaily.apply(\n",
    "    lambda x: ordersADaily[ordersADaily['date'] <= x['date']].agg(\n",
    "        {'date': 'max', 'ordersPerDateA': 'sum', 'revenuePerDateA': 'sum'}\n",
    "    ),\n",
    "    axis=1,\n",
    ").sort_values(by=['date'])\n",
    "ordersACummulative.columns = [\n",
    "    'date',\n",
    "    'ordersCummulativeA',\n",
    "    'revenueCummulativeA',\n",
    "]\n",
    "\n",
    "ordersBDaily = (\n",
    "    orders[orders['group'] == 'B'][['date', 'transactionId', 'visitorId', 'revenue']]\n",
    "    .groupby('date', as_index=False)\n",
    "    .agg({'transactionId': pd.Series.nunique, 'revenue': 'sum'})\n",
    ")\n",
    "ordersBDaily.columns = ['date', 'ordersPerDateB', 'revenuePerDateB']\n",
    "\n",
    "ordersBCummulative = ordersBDaily.apply(\n",
    "    lambda x: ordersBDaily[ordersBDaily['date'] <= x['date']].agg(\n",
    "        {'date': 'max', 'ordersPerDateB': 'sum', 'revenuePerDateB': 'sum'}\n",
    "    ),\n",
    "    axis=1,\n",
    ").sort_values(by=['date'])\n",
    "ordersBCummulative.columns = [\n",
    "    'date',\n",
    "    'ordersCummulativeB',\n",
    "    'revenueCummulativeB',\n",
    "]\n",
    "\n",
    "data = (\n",
    "    ordersADaily.merge(\n",
    "        ordersBDaily, left_on='date', right_on='date', how='left'\n",
    "    )\n",
    "    .merge(ordersACummulative, left_on='date', right_on='date', how='left')\n",
    "    .merge(ordersBCummulative, left_on='date', right_on='date', how='left')\n",
    "    .merge(visitorsADaily, left_on='date', right_on='date', how='left')\n",
    "    .merge(visitorsBDaily, left_on='date', right_on='date', how='left')\n",
    "    .merge(visitorsACummulative, left_on='date', right_on='date', how='left')\n",
    "    .merge(visitorsBCummulative, left_on='date', right_on='date', how='left')\n",
    ")\n",
    "\n",
    "print(data.head(5))"
   ]
  },
  {
   "cell_type": "markdown",
   "metadata": {},
   "source": [
    "Посчитаем статистическую значимость различия в конверсии между группами.\n",
    "Создадим переменные ordersByUsersA и ordersByUsersB (в них для пользователей, которые заказывали хотя бы 1 раз, укажем число совершённых заказов)"
   ]
  },
  {
   "cell_type": "code",
   "execution_count": 45,
   "metadata": {},
   "outputs": [],
   "source": [
    "ordersByUsersA = (\n",
    "    orders[orders['group'] == 'A']\n",
    "    .groupby('visitorId', as_index=False)\n",
    "    .agg({'transactionId': pd.Series.nunique})\n",
    ")\n",
    "ordersByUsersA.columns = ['visitorId', 'orders']\n",
    "\n",
    "ordersByUsersB = (\n",
    "    orders[orders['group'] == 'B']\n",
    "    .groupby('visitorId', as_index=False)\n",
    "    .agg({'transactionId': pd.Series.nunique})\n",
    ")\n",
    "ordersByUsersB.columns = ['visitorId', 'orders']"
   ]
  },
  {
   "cell_type": "markdown",
   "metadata": {},
   "source": [
    "\n",
    "<div style=\"border:solid red 2px; padding: 20px\"> \n",
    "    \n",
    "**Комментарий ревьюера**\n",
    "\n",
    "Все верно, но нужно было сформулировать HO и Ha, а также поподробнее рассказать почему мы выбрали именно критерий манна-Уитни\n",
    "    \n",
    "</div>\n"
   ]
  },
  {
   "cell_type": "markdown",
   "metadata": {},
   "source": [
    "<div style=\"border:solid blue 2px; padding: 20px\"> \n",
    "    \n",
    "**Комментарий студента**\n",
    "\n",
    "fixed\n",
    "    \n",
    "</div>"
   ]
  },
  {
   "cell_type": "markdown",
   "metadata": {},
   "source": [
    "\n",
    "<div style=\"border:solid green 2px; padding: 20px\"> \n",
    "    \n",
    "**Комментарий ревьюера - 2**\n",
    "\n",
    "Да, отлично, теперь все правильно\n",
    "    \n",
    "</div>"
   ]
  },
  {
   "cell_type": "markdown",
   "metadata": {},
   "source": [
    "**Строим гипотезы для анализа средних конверсий:\n",
    "Н0 - конверсии группы А и В равны\n",
    "Н1 - конверсии группы А и В не равны**"
   ]
  },
  {
   "cell_type": "markdown",
   "metadata": {},
   "source": [
    "**Мы используем критерий Манна-Уитни, т.к. в наших данных есть выбросы и судить о нормальном распределении не приходится. Для того, чтобы выбивающиеся значения не так существенно влияли на результат, используются непараметрические тесты**"
   ]
  },
  {
   "cell_type": "markdown",
   "metadata": {},
   "source": [
    "Посчитаем кол-во заказов для пользователй разных групп. Далее тем, кто ничего не заказал, будут соответствовать нули. \n",
    "Список индексов функцией np.arange(), сцепляем списки pd.concat()"
   ]
  },
  {
   "cell_type": "code",
   "execution_count": 46,
   "metadata": {},
   "outputs": [],
   "source": [
    "sampleA = pd.concat([ordersByUsersA['orders'],pd.Series(0, index=np.arange(data['visitorsPerDateA'].sum() - len(ordersByUsersA['orders'])), name='orders')],axis=0)\n",
    "\n",
    "sampleB = pd.concat([ordersByUsersB['orders'],pd.Series(0, index=np.arange(data['visitorsPerDateB'].sum() - len(ordersByUsersB['orders'])), name='orders')],axis=0)"
   ]
  },
  {
   "cell_type": "markdown",
   "metadata": {},
   "source": [
    "применим критерий манна-уитни.\n",
    "alpha = 0.05\n",
    "Выведем также относительный прирост конверсии группы B"
   ]
  },
  {
   "cell_type": "code",
   "execution_count": 47,
   "metadata": {},
   "outputs": [
    {
     "name": "stdout",
     "output_type": "stream",
     "text": [
      "0.017\n",
      "Относительный прирост конверсии группы В 0.138\n"
     ]
    }
   ],
   "source": [
    "\n",
    "\n",
    "print(\"{0:.3f}\".format(stats.mannwhitneyu(sampleA, sampleB, alternative='two-sided')[1]))\n",
    "\n",
    "print('Относительный прирост конверсии группы В', \"{0:.3f}\".format(sampleB.mean() / sampleA.mean() - 1))\n"
   ]
  },
  {
   "cell_type": "markdown",
   "metadata": {},
   "source": [
    "Так как p_value меньше заданного значения alpha, то мы отвергаем гипотезу о равенстве средний конверсий."
   ]
  },
  {
   "cell_type": "markdown",
   "metadata": {},
   "source": [
    "**Статистическая значимость различий в среднем чеке между группами по сырым данным**"
   ]
  },
  {
   "cell_type": "markdown",
   "metadata": {},
   "source": [
    "Чтобы рассчитать статистическую значимость различий в среднем чеке между сегментами, передадим критерию mannwhitneyu() данные о выручке с заказов."
   ]
  },
  {
   "cell_type": "markdown",
   "metadata": {},
   "source": [
    "**Строим гипотезы для анализа средних чеков:\n",
    "Н0 - средние чеки группы А и В равны\n",
    "Н1 - средние чеки группы А и В не равны**"
   ]
  },
  {
   "cell_type": "code",
   "execution_count": 48,
   "metadata": {},
   "outputs": [
    {
     "name": "stdout",
     "output_type": "stream",
     "text": [
      "0.729\n",
      "0.259\n"
     ]
    }
   ],
   "source": [
    "print('{0:.3f}'.format(stats.mannwhitneyu(orders[orders['group']=='A']['revenue'], orders[orders['group']=='B']['revenue'], alternative='two-sided')[1]))\n",
    "print('{0:.3f}'.format(orders[orders['group']=='B']['revenue'].mean()/orders[orders['group']=='A']['revenue'].mean()-1))"
   ]
  },
  {
   "cell_type": "markdown",
   "metadata": {},
   "source": [
    "P-value значительно больше 0.05. Значит, причин отвергать нулевую гипотезу и считать, что в среднем чеке есть различия, нет. \n",
    "Теперь подготовим очищенные данные"
   ]
  },
  {
   "cell_type": "markdown",
   "metadata": {},
   "source": [
    "**Статистическая значимость различий в конверсии между группами по очищенным данным**"
   ]
  },
  {
   "cell_type": "markdown",
   "metadata": {},
   "source": [
    "*ранее мы изучили аномальных пользователей на основании 99 перцентиля и определили границы сумм (200 000) и количества заказов (2), подготовим данные*"
   ]
  },
  {
   "cell_type": "code",
   "execution_count": 49,
   "metadata": {},
   "outputs": [],
   "source": [
    "limit_orders = 2\n",
    "limit_revenue = 200000"
   ]
  },
  {
   "cell_type": "code",
   "execution_count": 50,
   "metadata": {},
   "outputs": [
    {
     "name": "stdout",
     "output_type": "stream",
     "text": [
      "Кол-во аномальных пользователей: 22\n"
     ]
    }
   ],
   "source": [
    "#кол-во аномальных пользователей\n",
    "usersWithManyOrders = pd.concat([ordersByUsersA[ordersByUsersA['orders']>limit_orders]['visitorId'], \n",
    "                                ordersByUsersB[ordersByUsersB['orders']>limit_orders]['visitorId']], axis = 0)\n",
    "usersWithExpensiveOrders = orders[orders['revenue']>limit_revenue]['visitorId']\n",
    "abnormalUsers = pd.concat([usersWithManyOrders, usersWithExpensiveOrders], axis = 0).drop_duplicates().sort_values()\n",
    "print('Кол-во аномальных пользователей: {}'.format(len(abnormalUsers)))"
   ]
  },
  {
   "cell_type": "markdown",
   "metadata": {},
   "source": [
    "22 аномальных пользователей. посмотрим на разницу без их учета, отфильтруем с помощью np.logical"
   ]
  },
  {
   "cell_type": "code",
   "execution_count": 51,
   "metadata": {},
   "outputs": [],
   "source": [
    "sampleAFiltered = pd.concat(\n",
    "    [\n",
    "        ordersByUsersA[\n",
    "            np.logical_not(ordersByUsersA['visitorId'].isin(abnormalUsers))\n",
    "        ]['orders'],\n",
    "        pd.Series(\n",
    "            0,\n",
    "            index=np.arange(\n",
    "                data['visitorsPerDateA'].sum() - len(ordersByUsersA['orders'])\n",
    "            ),\n",
    "            name='orders',\n",
    "        ),\n",
    "    ],\n",
    "    axis=0,\n",
    ")\n",
    "\n",
    "sampleBFiltered = pd.concat(\n",
    "    [\n",
    "        ordersByUsersB[\n",
    "            np.logical_not(ordersByUsersB['visitorId'].isin(abnormalUsers))\n",
    "        ]['orders'],\n",
    "        pd.Series(\n",
    "            0,\n",
    "            index=np.arange(\n",
    "                data['visitorsPerDateB'].sum() - len(ordersByUsersB['orders'])\n",
    "            ),\n",
    "            name='orders',\n",
    "        ),\n",
    "    ],\n",
    "    axis=0,\n",
    ")"
   ]
  },
  {
   "cell_type": "code",
   "execution_count": 52,
   "metadata": {},
   "outputs": [
    {
     "name": "stdout",
     "output_type": "stream",
     "text": [
      "0.014\n",
      "0.166\n"
     ]
    }
   ],
   "source": [
    "print('{0:.3f}'.format(stats.mannwhitneyu(sampleAFiltered, sampleBFiltered, alternative='two-sided')[1]))\n",
    "print('{0:.3f}'.format(sampleBFiltered.mean()/sampleAFiltered.mean()-1))"
   ]
  },
  {
   "cell_type": "markdown",
   "metadata": {},
   "source": [
    "<div style=\"border:solid green 2px; padding: 20px\"> \n",
    "    \n",
    "**Комментарий студента**\n",
    "\n",
    "Конверсия изменилась: стала меньше, прирост конверсии также уменьшился\n",
    "</div>"
   ]
  },
  {
   "cell_type": "markdown",
   "metadata": {},
   "source": [
    "<div style=\"border:solid red 2px; padding: 20px\"> \n",
    "    \n",
    "**Комментарий ревьюера**\n",
    "\n",
    "Посмотри, судя по результатам ты провела проверку на тех же данных без фильтрации\n",
    "    \n",
    "</div>"
   ]
  },
  {
   "cell_type": "markdown",
   "metadata": {},
   "source": [
    "<div style=\"border:solid blue 2px; padding: 20px\"> \n",
    "    \n",
    "**Комментарий студента**\n",
    "\n",
    "Действительно, была ошибка еще на подсчете количества аномальных пользователей:(\n",
    "    исправила\n",
    "</div>"
   ]
  },
  {
   "cell_type": "markdown",
   "metadata": {},
   "source": [
    "<div style=\"border:solid green 2px; padding: 20px\"> \n",
    "    \n",
    "**Комментарий ревьюера - 2**\n",
    "\n",
    "Ок, поправлено, молодец\n",
    "    \n",
    "</div>"
   ]
  },
  {
   "cell_type": "markdown",
   "metadata": {},
   "source": [
    "**Статистическая значимость различий в среднем чеке между группами по очищенным данным**"
   ]
  },
  {
   "cell_type": "code",
   "execution_count": 53,
   "metadata": {},
   "outputs": [
    {
     "name": "stdout",
     "output_type": "stream",
     "text": [
      "0.296\n",
      "-0.100\n"
     ]
    }
   ],
   "source": [
    "print(\n",
    "    '{0:.3f}'.format(\n",
    "        stats.mannwhitneyu(\n",
    "            orders[\n",
    "                np.logical_and(\n",
    "                    orders['group'] == 'A',\n",
    "                    np.logical_not(orders['visitorId'].isin(abnormalUsers)),\n",
    "                )\n",
    "            ]['revenue'],\n",
    "            orders[\n",
    "                np.logical_and(\n",
    "                    orders['group'] == 'B',\n",
    "                    np.logical_not(orders['visitorId'].isin(abnormalUsers)),\n",
    "                )\n",
    "            ]['revenue'],\n",
    "        )[1]\n",
    "    )\n",
    ")\n",
    "\n",
    "print(\n",
    "    \"{0:.3f}\".format(\n",
    "        orders[\n",
    "            np.logical_and(\n",
    "                orders['group'] == 'B',\n",
    "                np.logical_not(orders['visitorId'].isin(abnormalUsers)),\n",
    "            )\n",
    "        ]['revenue'].mean()\n",
    "        / orders[\n",
    "            np.logical_and(\n",
    "                orders['group'] == 'A',\n",
    "                np.logical_not(orders['visitorId'].isin(abnormalUsers)),\n",
    "            )\n",
    "        ]['revenue'].mean()\n",
    "        - 1\n",
    "    )\n",
    ")"
   ]
  },
  {
   "cell_type": "markdown",
   "metadata": {},
   "source": [
    "P-value сильно уменьшился, но все еще значительно больше alpha. Относительные различия в среднем чеке между группами сильно изменились: крупная покупка была в группе В и это отразилось на результатах"
   ]
  },
  {
   "cell_type": "markdown",
   "metadata": {},
   "source": [
    "## Выводы"
   ]
  },
  {
   "cell_type": "markdown",
   "metadata": {},
   "source": [
    "1) Выявлена стат значимость в конверсих двух групп, конверсия в группе В выше. \n",
    "\n",
    "2) В среднем чеке групп не было найдено стат значимых различий. \n",
    "\n",
    "3) Т.к. конверсия группы В больше, чем у группы А, а также больший размер куммулитивной выручки (после результатов проерки по очищенным данным), принимаем решение остановить тест и зафиксировать победу группы В.\n",
    "\n",
    "4) Можно сделать замечание, что одни и те же пользователи попадали в обе группы."
   ]
  },
  {
   "cell_type": "markdown",
   "metadata": {},
   "source": [
    "<div style=\"border:solid green 2px; padding: 20px\"> <h1 style=\"color:green; margin-bottom:20px\">Общий комментарий по проекту</h1>\n",
    "    \n",
    "Ты отлично поработала над проектом, графики верно построены и гипотезы проверены правильно. \n",
    "    \n",
    "Постарайся доработать проверку гипотез. Даже при отбрасывании 1% шумов результаты проверки гипотез должны достаточно сильно измениться.\n",
    "    \n",
    "Ты хорошо справляешься с программой. Удачи.\n",
    "</div>"
   ]
  },
  {
   "cell_type": "markdown",
   "metadata": {},
   "source": [
    "<div style=\"border:solid blue 2px; padding: 20px\"> \n",
    "    \n",
    "**Комментарий студента**\n",
    "\n",
    "Спасибо огромное за ревью и полезные ссылки! Я по зеленым комментариям прошлась, усвоила, но за неимением времени переделывать не стала, прошу меня понять и простить:) \n",
    "</div>"
   ]
  },
  {
   "cell_type": "markdown",
   "metadata": {},
   "source": [
    "<div style=\"border:solid green 2px; padding: 20px\"> \n",
    "    \n",
    "**Комментарий ревьюера - 2**\n",
    "\n",
    "Проект отлично доработан, молодец. Зеленые комменты не обязательны для исправления это скорее доп. материал.\n",
    "    \n",
    "</div>"
   ]
  },
  {
   "cell_type": "code",
   "execution_count": null,
   "metadata": {},
   "outputs": [],
   "source": []
  }
 ],
 "metadata": {
  "ExecuteTimeLog": [
   {
    "duration": 1127,
    "start_time": "2021-07-12T08:41:15.119Z"
   },
   {
    "duration": 4300,
    "start_time": "2021-07-12T08:44:46.258Z"
   },
   {
    "duration": 5688,
    "start_time": "2021-07-12T08:47:45.793Z"
   },
   {
    "duration": 4855,
    "start_time": "2021-07-12T08:49:38.542Z"
   },
   {
    "duration": 16,
    "start_time": "2021-07-12T08:54:40.320Z"
   },
   {
    "duration": 79,
    "start_time": "2021-07-12T08:55:21.707Z"
   },
   {
    "duration": 7,
    "start_time": "2021-07-12T08:55:28.771Z"
   },
   {
    "duration": 6,
    "start_time": "2021-07-12T08:58:10.113Z"
   },
   {
    "duration": 10,
    "start_time": "2021-07-12T09:00:59.017Z"
   },
   {
    "duration": 10,
    "start_time": "2021-07-12T09:03:32.502Z"
   },
   {
    "duration": 10,
    "start_time": "2021-07-12T09:04:05.103Z"
   },
   {
    "duration": 4,
    "start_time": "2021-07-12T09:04:44.745Z"
   },
   {
    "duration": 13,
    "start_time": "2021-07-12T09:04:53.042Z"
   },
   {
    "duration": 9,
    "start_time": "2021-07-12T09:20:51.726Z"
   },
   {
    "duration": 11,
    "start_time": "2021-07-12T09:20:56.512Z"
   },
   {
    "duration": 12,
    "start_time": "2021-07-12T09:45:21.456Z"
   },
   {
    "duration": 5,
    "start_time": "2021-07-12T09:45:41.564Z"
   },
   {
    "duration": 5,
    "start_time": "2021-07-12T09:46:54.111Z"
   },
   {
    "duration": 7,
    "start_time": "2021-07-12T09:47:14.944Z"
   },
   {
    "duration": 8,
    "start_time": "2021-07-12T09:58:24.746Z"
   },
   {
    "duration": 6,
    "start_time": "2021-07-12T09:58:42.155Z"
   },
   {
    "duration": 147,
    "start_time": "2021-07-12T10:01:06.448Z"
   },
   {
    "duration": 4,
    "start_time": "2021-07-12T10:01:14.425Z"
   },
   {
    "duration": 8,
    "start_time": "2021-07-12T10:01:19.297Z"
   },
   {
    "duration": 133,
    "start_time": "2021-07-12T10:01:31.201Z"
   },
   {
    "duration": 10,
    "start_time": "2021-07-12T10:01:40.274Z"
   },
   {
    "duration": 357,
    "start_time": "2021-07-12T10:01:55.947Z"
   },
   {
    "duration": 1194,
    "start_time": "2021-07-12T10:10:33.017Z"
   },
   {
    "duration": 92,
    "start_time": "2021-07-12T10:10:34.213Z"
   },
   {
    "duration": 12,
    "start_time": "2021-07-12T10:10:34.307Z"
   },
   {
    "duration": 30,
    "start_time": "2021-07-12T10:10:34.320Z"
   },
   {
    "duration": 10,
    "start_time": "2021-07-12T10:10:34.351Z"
   },
   {
    "duration": 16,
    "start_time": "2021-07-12T10:10:34.363Z"
   },
   {
    "duration": 11,
    "start_time": "2021-07-12T10:10:34.380Z"
   },
   {
    "duration": 17,
    "start_time": "2021-07-12T10:10:34.394Z"
   },
   {
    "duration": 14,
    "start_time": "2021-07-12T10:10:34.413Z"
   },
   {
    "duration": 20,
    "start_time": "2021-07-12T10:10:34.428Z"
   },
   {
    "duration": 19,
    "start_time": "2021-07-12T10:10:34.449Z"
   },
   {
    "duration": 10,
    "start_time": "2021-07-12T10:10:34.470Z"
   },
   {
    "duration": 9,
    "start_time": "2021-07-12T10:10:34.482Z"
   },
   {
    "duration": 18,
    "start_time": "2021-07-12T10:10:34.492Z"
   },
   {
    "duration": 9,
    "start_time": "2021-07-12T10:10:34.511Z"
   },
   {
    "duration": 12,
    "start_time": "2021-07-12T10:10:34.522Z"
   },
   {
    "duration": 8,
    "start_time": "2021-07-12T10:10:34.536Z"
   },
   {
    "duration": 167,
    "start_time": "2021-07-12T10:10:34.545Z"
   },
   {
    "duration": 4,
    "start_time": "2021-07-12T10:10:34.714Z"
   },
   {
    "duration": 21,
    "start_time": "2021-07-12T10:10:34.719Z"
   },
   {
    "duration": 138,
    "start_time": "2021-07-12T10:10:34.741Z"
   },
   {
    "duration": 9,
    "start_time": "2021-07-12T10:10:34.881Z"
   },
   {
    "duration": 339,
    "start_time": "2021-07-12T10:10:34.892Z"
   },
   {
    "duration": 1381,
    "start_time": "2021-07-28T04:11:52.953Z"
   },
   {
    "duration": 59,
    "start_time": "2021-07-28T04:11:54.336Z"
   },
   {
    "duration": 10,
    "start_time": "2021-07-28T04:11:54.398Z"
   },
   {
    "duration": 18,
    "start_time": "2021-07-28T04:11:54.410Z"
   },
   {
    "duration": 5,
    "start_time": "2021-07-28T04:11:54.431Z"
   },
   {
    "duration": 12,
    "start_time": "2021-07-28T04:11:54.439Z"
   },
   {
    "duration": 32,
    "start_time": "2021-07-28T04:11:54.453Z"
   },
   {
    "duration": 15,
    "start_time": "2021-07-28T04:11:54.489Z"
   },
   {
    "duration": 13,
    "start_time": "2021-07-28T04:11:54.506Z"
   },
   {
    "duration": 18,
    "start_time": "2021-07-28T04:11:54.521Z"
   },
   {
    "duration": 52,
    "start_time": "2021-07-28T04:11:54.541Z"
   },
   {
    "duration": 7,
    "start_time": "2021-07-28T04:11:54.595Z"
   },
   {
    "duration": 8,
    "start_time": "2021-07-28T04:11:54.604Z"
   },
   {
    "duration": 6,
    "start_time": "2021-07-28T04:11:54.614Z"
   },
   {
    "duration": 10,
    "start_time": "2021-07-28T04:11:54.623Z"
   },
   {
    "duration": 50,
    "start_time": "2021-07-28T04:11:54.635Z"
   },
   {
    "duration": 7,
    "start_time": "2021-07-28T04:11:54.688Z"
   },
   {
    "duration": 270,
    "start_time": "2021-07-28T04:11:54.697Z"
   },
   {
    "duration": 13,
    "start_time": "2021-07-28T04:11:54.969Z"
   },
   {
    "duration": 10,
    "start_time": "2021-07-28T04:11:54.984Z"
   },
   {
    "duration": 254,
    "start_time": "2021-07-28T04:11:54.996Z"
   },
   {
    "duration": 30,
    "start_time": "2021-07-28T04:11:55.253Z"
   },
   {
    "duration": 536,
    "start_time": "2021-07-28T04:11:55.287Z"
   },
   {
    "duration": 518,
    "start_time": "2021-07-28T04:19:39.276Z"
   },
   {
    "duration": 8,
    "start_time": "2021-07-28T04:29:31.539Z"
   },
   {
    "duration": 575,
    "start_time": "2021-07-28T04:29:32.776Z"
   },
   {
    "duration": 858,
    "start_time": "2021-07-28T04:29:59.831Z"
   },
   {
    "duration": 573,
    "start_time": "2021-07-28T04:30:20.186Z"
   },
   {
    "duration": 8,
    "start_time": "2021-07-28T04:31:48.429Z"
   },
   {
    "duration": 713,
    "start_time": "2021-07-28T04:31:49.133Z"
   },
   {
    "duration": 612,
    "start_time": "2021-07-28T04:32:00.829Z"
   },
   {
    "duration": 575,
    "start_time": "2021-07-28T05:14:12.457Z"
   },
   {
    "duration": 601,
    "start_time": "2021-07-28T05:22:24.701Z"
   },
   {
    "duration": 620,
    "start_time": "2021-07-28T05:23:50.218Z"
   },
   {
    "duration": 581,
    "start_time": "2021-07-28T05:23:59.377Z"
   },
   {
    "duration": 419,
    "start_time": "2021-07-28T05:31:47.288Z"
   },
   {
    "duration": 602,
    "start_time": "2021-07-28T05:32:15.899Z"
   },
   {
    "duration": 757,
    "start_time": "2021-07-28T05:32:31.254Z"
   },
   {
    "duration": 568,
    "start_time": "2021-07-28T05:33:34.177Z"
   },
   {
    "duration": 521,
    "start_time": "2021-07-28T05:33:53.185Z"
   },
   {
    "duration": 371,
    "start_time": "2021-07-28T05:37:51.742Z"
   },
   {
    "duration": 17,
    "start_time": "2021-07-28T05:38:22.459Z"
   },
   {
    "duration": 663,
    "start_time": "2021-07-28T05:40:07.696Z"
   },
   {
    "duration": 290,
    "start_time": "2021-07-28T05:42:38.926Z"
   },
   {
    "duration": 85,
    "start_time": "2021-07-28T05:42:49.614Z"
   },
   {
    "duration": 109,
    "start_time": "2021-07-28T05:42:58.830Z"
   },
   {
    "duration": 7,
    "start_time": "2021-07-28T05:44:07.609Z"
   },
   {
    "duration": 309,
    "start_time": "2021-07-28T05:44:22.473Z"
   },
   {
    "duration": 6,
    "start_time": "2021-07-28T05:44:33.146Z"
   },
   {
    "duration": 287,
    "start_time": "2021-07-28T05:44:34.474Z"
   },
   {
    "duration": 571,
    "start_time": "2021-07-28T05:47:08.965Z"
   },
   {
    "duration": 18,
    "start_time": "2021-07-28T05:54:51.353Z"
   },
   {
    "duration": 496,
    "start_time": "2021-07-28T05:57:04.679Z"
   },
   {
    "duration": 475,
    "start_time": "2021-07-28T05:57:08.858Z"
   },
   {
    "duration": 411,
    "start_time": "2021-07-28T05:57:51.154Z"
   },
   {
    "duration": 432,
    "start_time": "2021-07-28T05:57:55.450Z"
   },
   {
    "duration": 208,
    "start_time": "2021-07-28T05:57:57.450Z"
   },
   {
    "duration": 6,
    "start_time": "2021-07-28T06:01:57.603Z"
   },
   {
    "duration": 5,
    "start_time": "2021-07-28T06:02:06.733Z"
   },
   {
    "duration": 8,
    "start_time": "2021-07-28T06:05:15.584Z"
   },
   {
    "duration": 263,
    "start_time": "2021-07-28T06:06:41.400Z"
   },
   {
    "duration": 6406,
    "start_time": "2021-07-28T06:07:22.865Z"
   },
   {
    "duration": 177,
    "start_time": "2021-07-28T06:08:11.979Z"
   },
   {
    "duration": 367,
    "start_time": "2021-07-28T06:08:14.715Z"
   },
   {
    "duration": 6,
    "start_time": "2021-07-28T06:08:17.203Z"
   },
   {
    "duration": 8,
    "start_time": "2021-07-28T06:08:18.820Z"
   },
   {
    "duration": 6,
    "start_time": "2021-07-28T06:08:22.020Z"
   },
   {
    "duration": 18,
    "start_time": "2021-07-28T06:08:25.696Z"
   },
   {
    "duration": 5,
    "start_time": "2021-07-28T06:08:48.893Z"
   },
   {
    "duration": 287,
    "start_time": "2021-07-28T06:12:04.347Z"
   },
   {
    "duration": 388,
    "start_time": "2021-07-28T06:12:10.801Z"
   },
   {
    "duration": 510,
    "start_time": "2021-07-28T06:12:14.284Z"
   },
   {
    "duration": 6,
    "start_time": "2021-07-28T06:14:09.167Z"
   },
   {
    "duration": 1381,
    "start_time": "2021-07-28T06:16:58.183Z"
   },
   {
    "duration": 58,
    "start_time": "2021-07-28T06:16:59.567Z"
   },
   {
    "duration": 10,
    "start_time": "2021-07-28T06:16:59.628Z"
   },
   {
    "duration": 19,
    "start_time": "2021-07-28T06:16:59.641Z"
   },
   {
    "duration": 6,
    "start_time": "2021-07-28T06:16:59.663Z"
   },
   {
    "duration": 20,
    "start_time": "2021-07-28T06:16:59.671Z"
   },
   {
    "duration": 7,
    "start_time": "2021-07-28T06:16:59.694Z"
   },
   {
    "duration": 17,
    "start_time": "2021-07-28T06:16:59.705Z"
   },
   {
    "duration": 13,
    "start_time": "2021-07-28T06:16:59.725Z"
   },
   {
    "duration": 49,
    "start_time": "2021-07-28T06:16:59.741Z"
   },
   {
    "duration": 19,
    "start_time": "2021-07-28T06:16:59.792Z"
   },
   {
    "duration": 8,
    "start_time": "2021-07-28T06:16:59.813Z"
   },
   {
    "duration": 9,
    "start_time": "2021-07-28T06:16:59.823Z"
   },
   {
    "duration": 7,
    "start_time": "2021-07-28T06:16:59.834Z"
   },
   {
    "duration": 45,
    "start_time": "2021-07-28T06:16:59.843Z"
   },
   {
    "duration": 10,
    "start_time": "2021-07-28T06:16:59.890Z"
   },
   {
    "duration": 7,
    "start_time": "2021-07-28T06:16:59.902Z"
   },
   {
    "duration": 323,
    "start_time": "2021-07-28T06:16:59.911Z"
   },
   {
    "duration": 4,
    "start_time": "2021-07-28T06:17:00.236Z"
   },
   {
    "duration": 15,
    "start_time": "2021-07-28T06:17:00.243Z"
   },
   {
    "duration": 266,
    "start_time": "2021-07-28T06:17:00.261Z"
   },
   {
    "duration": 16,
    "start_time": "2021-07-28T06:17:00.530Z"
   },
   {
    "duration": 582,
    "start_time": "2021-07-28T06:17:00.551Z"
   },
   {
    "duration": 606,
    "start_time": "2021-07-28T06:17:01.136Z"
   },
   {
    "duration": 8,
    "start_time": "2021-07-28T06:17:01.744Z"
   },
   {
    "duration": 602,
    "start_time": "2021-07-28T06:17:01.754Z"
   },
   {
    "duration": 560,
    "start_time": "2021-07-28T06:17:02.359Z"
   },
   {
    "duration": 635,
    "start_time": "2021-07-28T06:17:02.921Z"
   },
   {
    "duration": 366,
    "start_time": "2021-07-28T06:17:03.559Z"
   },
   {
    "duration": 7,
    "start_time": "2021-07-28T06:17:03.927Z"
   },
   {
    "duration": 306,
    "start_time": "2021-07-28T06:17:03.936Z"
   },
   {
    "duration": 591,
    "start_time": "2021-07-28T06:17:04.244Z"
   },
   {
    "duration": 173,
    "start_time": "2021-07-28T06:17:04.837Z"
   },
   {
    "duration": 380,
    "start_time": "2021-07-28T06:17:05.013Z"
   },
   {
    "duration": 6,
    "start_time": "2021-07-28T06:17:05.396Z"
   },
   {
    "duration": 27,
    "start_time": "2021-07-28T06:17:05.404Z"
   },
   {
    "duration": 416,
    "start_time": "2021-07-28T06:17:05.433Z"
   },
   {
    "duration": 6,
    "start_time": "2021-07-28T06:17:05.851Z"
   },
   {
    "duration": 30,
    "start_time": "2021-07-28T06:17:05.860Z"
   },
   {
    "duration": 22,
    "start_time": "2021-07-28T06:17:05.893Z"
   },
   {
    "duration": 1555,
    "start_time": "2021-07-30T06:30:22.771Z"
   },
   {
    "duration": 69,
    "start_time": "2021-07-30T06:30:24.329Z"
   },
   {
    "duration": 9,
    "start_time": "2021-07-30T06:30:24.402Z"
   },
   {
    "duration": 17,
    "start_time": "2021-07-30T06:30:24.414Z"
   },
   {
    "duration": 6,
    "start_time": "2021-07-30T06:30:24.434Z"
   },
   {
    "duration": 26,
    "start_time": "2021-07-30T06:30:24.443Z"
   },
   {
    "duration": 6,
    "start_time": "2021-07-30T06:30:24.471Z"
   },
   {
    "duration": 17,
    "start_time": "2021-07-30T06:30:24.479Z"
   },
   {
    "duration": 21,
    "start_time": "2021-07-30T06:30:24.500Z"
   },
   {
    "duration": 60,
    "start_time": "2021-07-30T06:30:24.523Z"
   },
   {
    "duration": 21,
    "start_time": "2021-07-30T06:30:24.585Z"
   },
   {
    "duration": 7,
    "start_time": "2021-07-30T06:30:24.609Z"
   },
   {
    "duration": 7,
    "start_time": "2021-07-30T06:30:24.618Z"
   },
   {
    "duration": 8,
    "start_time": "2021-07-30T06:30:24.667Z"
   },
   {
    "duration": 12,
    "start_time": "2021-07-30T06:30:24.677Z"
   },
   {
    "duration": 11,
    "start_time": "2021-07-30T06:30:24.692Z"
   },
   {
    "duration": 8,
    "start_time": "2021-07-30T06:30:24.706Z"
   },
   {
    "duration": 330,
    "start_time": "2021-07-30T06:30:24.716Z"
   },
   {
    "duration": 6,
    "start_time": "2021-07-30T06:30:25.049Z"
   },
   {
    "duration": 28,
    "start_time": "2021-07-30T06:30:25.057Z"
   },
   {
    "duration": 285,
    "start_time": "2021-07-30T06:30:25.088Z"
   },
   {
    "duration": 17,
    "start_time": "2021-07-30T06:30:25.375Z"
   },
   {
    "duration": 709,
    "start_time": "2021-07-30T06:30:25.394Z"
   },
   {
    "duration": 594,
    "start_time": "2021-07-30T06:30:26.105Z"
   },
   {
    "duration": 8,
    "start_time": "2021-07-30T06:30:26.702Z"
   },
   {
    "duration": 684,
    "start_time": "2021-07-30T06:30:26.713Z"
   },
   {
    "duration": 622,
    "start_time": "2021-07-30T06:30:27.402Z"
   },
   {
    "duration": 664,
    "start_time": "2021-07-30T06:30:28.027Z"
   },
   {
    "duration": 408,
    "start_time": "2021-07-30T06:30:28.693Z"
   },
   {
    "duration": 6,
    "start_time": "2021-07-30T06:30:29.104Z"
   },
   {
    "duration": 330,
    "start_time": "2021-07-30T06:30:29.113Z"
   },
   {
    "duration": 617,
    "start_time": "2021-07-30T06:30:29.446Z"
   },
   {
    "duration": 216,
    "start_time": "2021-07-30T06:30:30.067Z"
   },
   {
    "duration": 452,
    "start_time": "2021-07-30T06:30:30.286Z"
   },
   {
    "duration": 6,
    "start_time": "2021-07-30T06:30:30.740Z"
   },
   {
    "duration": 27,
    "start_time": "2021-07-30T06:30:30.748Z"
   },
   {
    "duration": 423,
    "start_time": "2021-07-30T06:30:30.777Z"
   },
   {
    "duration": 6,
    "start_time": "2021-07-30T06:30:31.202Z"
   },
   {
    "duration": 23,
    "start_time": "2021-07-30T06:30:31.211Z"
   },
   {
    "duration": 17,
    "start_time": "2021-07-30T06:30:31.237Z"
   },
   {
    "duration": 20,
    "start_time": "2021-07-30T06:30:39.623Z"
   },
   {
    "duration": 8,
    "start_time": "2021-07-30T06:30:45.377Z"
   },
   {
    "duration": 6,
    "start_time": "2021-07-30T06:31:10.333Z"
   },
   {
    "duration": 9,
    "start_time": "2021-07-30T06:31:42.041Z"
   },
   {
    "duration": 2077,
    "start_time": "2021-07-30T06:35:24.540Z"
   },
   {
    "duration": 2184,
    "start_time": "2021-07-30T06:35:53.060Z"
   },
   {
    "duration": 861,
    "start_time": "2021-07-30T06:36:32.192Z"
   },
   {
    "duration": 139,
    "start_time": "2021-07-30T06:38:39.360Z"
   },
   {
    "duration": 76,
    "start_time": "2021-07-30T06:38:48.716Z"
   },
   {
    "duration": 463,
    "start_time": "2021-07-30T06:38:52.925Z"
   },
   {
    "duration": 266,
    "start_time": "2021-07-30T06:41:29.669Z"
   },
   {
    "duration": 8,
    "start_time": "2021-07-30T06:44:59.011Z"
   },
   {
    "duration": 406,
    "start_time": "2021-07-30T06:45:51.737Z"
   },
   {
    "duration": 411,
    "start_time": "2021-07-30T06:48:42.537Z"
   },
   {
    "duration": 8,
    "start_time": "2021-07-30T06:49:28.116Z"
   },
   {
    "duration": 11,
    "start_time": "2021-07-30T06:49:32.075Z"
   },
   {
    "duration": 11,
    "start_time": "2021-07-30T06:50:10.547Z"
   },
   {
    "duration": 16,
    "start_time": "2021-07-30T06:51:50.595Z"
   },
   {
    "duration": 11,
    "start_time": "2021-07-30T06:55:32.629Z"
   },
   {
    "duration": 16,
    "start_time": "2021-07-30T06:56:16.031Z"
   },
   {
    "duration": 16,
    "start_time": "2021-07-30T06:58:12.222Z"
   },
   {
    "duration": 17,
    "start_time": "2021-07-30T07:01:08.984Z"
   },
   {
    "duration": 10,
    "start_time": "2021-07-30T07:02:51.702Z"
   },
   {
    "duration": 6,
    "start_time": "2021-07-30T07:03:33.522Z"
   },
   {
    "duration": 13,
    "start_time": "2021-07-30T07:05:08.498Z"
   },
   {
    "duration": 7506,
    "start_time": "2021-07-30T07:10:21.694Z"
   },
   {
    "duration": 7987,
    "start_time": "2021-07-30T07:11:00.566Z"
   },
   {
    "duration": 1630,
    "start_time": "2021-07-30T07:11:34.668Z"
   },
   {
    "duration": 59,
    "start_time": "2021-07-30T07:11:36.300Z"
   },
   {
    "duration": 10,
    "start_time": "2021-07-30T07:11:36.362Z"
   },
   {
    "duration": 22,
    "start_time": "2021-07-30T07:11:36.374Z"
   },
   {
    "duration": 6,
    "start_time": "2021-07-30T07:11:36.399Z"
   },
   {
    "duration": 14,
    "start_time": "2021-07-30T07:11:36.407Z"
   },
   {
    "duration": 12,
    "start_time": "2021-07-30T07:11:36.424Z"
   },
   {
    "duration": 40,
    "start_time": "2021-07-30T07:11:36.438Z"
   },
   {
    "duration": 13,
    "start_time": "2021-07-30T07:11:36.482Z"
   },
   {
    "duration": 17,
    "start_time": "2021-07-30T07:11:36.498Z"
   },
   {
    "duration": 61,
    "start_time": "2021-07-30T07:11:36.518Z"
   },
   {
    "duration": 6,
    "start_time": "2021-07-30T07:11:36.581Z"
   },
   {
    "duration": 10,
    "start_time": "2021-07-30T07:11:36.590Z"
   },
   {
    "duration": 8,
    "start_time": "2021-07-30T07:11:36.602Z"
   },
   {
    "duration": 54,
    "start_time": "2021-07-30T07:11:36.613Z"
   },
   {
    "duration": 12,
    "start_time": "2021-07-30T07:11:36.670Z"
   },
   {
    "duration": 10,
    "start_time": "2021-07-30T07:11:36.685Z"
   },
   {
    "duration": 318,
    "start_time": "2021-07-30T07:11:36.698Z"
   },
   {
    "duration": 5,
    "start_time": "2021-07-30T07:11:37.019Z"
   },
   {
    "duration": 14,
    "start_time": "2021-07-30T07:11:37.027Z"
   },
   {
    "duration": 294,
    "start_time": "2021-07-30T07:11:37.044Z"
   },
   {
    "duration": 36,
    "start_time": "2021-07-30T07:11:37.341Z"
   },
   {
    "duration": 617,
    "start_time": "2021-07-30T07:11:37.380Z"
   },
   {
    "duration": 585,
    "start_time": "2021-07-30T07:11:38.000Z"
   },
   {
    "duration": 8,
    "start_time": "2021-07-30T07:11:38.588Z"
   },
   {
    "duration": 651,
    "start_time": "2021-07-30T07:11:38.599Z"
   },
   {
    "duration": 685,
    "start_time": "2021-07-30T07:11:39.257Z"
   },
   {
    "duration": 630,
    "start_time": "2021-07-30T07:11:39.944Z"
   },
   {
    "duration": 427,
    "start_time": "2021-07-30T07:11:40.577Z"
   },
   {
    "duration": 7,
    "start_time": "2021-07-30T07:11:41.006Z"
   },
   {
    "duration": 354,
    "start_time": "2021-07-30T07:11:41.016Z"
   },
   {
    "duration": 601,
    "start_time": "2021-07-30T07:11:41.372Z"
   },
   {
    "duration": 216,
    "start_time": "2021-07-30T07:11:41.976Z"
   },
   {
    "duration": 409,
    "start_time": "2021-07-30T07:11:42.194Z"
   },
   {
    "duration": 6,
    "start_time": "2021-07-30T07:11:42.605Z"
   },
   {
    "duration": 9,
    "start_time": "2021-07-30T07:11:42.613Z"
   },
   {
    "duration": 446,
    "start_time": "2021-07-30T07:11:42.624Z"
   },
   {
    "duration": 5,
    "start_time": "2021-07-30T07:11:43.073Z"
   },
   {
    "duration": 9,
    "start_time": "2021-07-30T07:11:43.080Z"
   },
   {
    "duration": 6,
    "start_time": "2021-07-30T07:11:43.091Z"
   },
   {
    "duration": 13,
    "start_time": "2021-07-30T07:11:43.099Z"
   },
   {
    "duration": 11,
    "start_time": "2021-07-30T07:11:43.114Z"
   },
   {
    "duration": 100,
    "start_time": "2021-07-30T07:11:43.128Z"
   },
   {
    "duration": 471,
    "start_time": "2021-07-30T07:11:43.230Z"
   },
   {
    "duration": 234,
    "start_time": "2021-07-30T07:11:43.704Z"
   },
   {
    "duration": 7,
    "start_time": "2021-07-30T07:11:43.941Z"
   },
   {
    "duration": 30,
    "start_time": "2021-07-30T07:11:43.952Z"
   },
   {
    "duration": 16,
    "start_time": "2021-07-30T07:11:43.985Z"
   },
   {
    "duration": 9087,
    "start_time": "2021-07-30T07:11:44.004Z"
   },
   {
    "duration": 11,
    "start_time": "2021-07-30T07:12:46.551Z"
   },
   {
    "duration": 11,
    "start_time": "2021-07-30T07:12:55.541Z"
   },
   {
    "duration": 8772,
    "start_time": "2021-07-30T07:14:25.636Z"
   },
   {
    "duration": 11,
    "start_time": "2021-07-30T07:16:33.682Z"
   },
   {
    "duration": 4,
    "start_time": "2021-07-30T07:17:03.282Z"
   },
   {
    "duration": 4,
    "start_time": "2021-07-30T07:17:34.772Z"
   },
   {
    "duration": 9588,
    "start_time": "2021-07-30T07:17:37.157Z"
   },
   {
    "duration": 7665,
    "start_time": "2021-07-30T07:19:34.964Z"
   },
   {
    "duration": 361,
    "start_time": "2021-07-30T07:21:44.730Z"
   },
   {
    "duration": 20,
    "start_time": "2021-07-30T07:23:15.749Z"
   },
   {
    "duration": 19,
    "start_time": "2021-07-30T07:23:28.025Z"
   },
   {
    "duration": 24,
    "start_time": "2021-07-30T07:23:40.490Z"
   },
   {
    "duration": 20,
    "start_time": "2021-07-30T07:24:17.056Z"
   },
   {
    "duration": 13,
    "start_time": "2021-07-30T07:28:44.257Z"
   },
   {
    "duration": 10,
    "start_time": "2021-07-30T07:29:14.899Z"
   },
   {
    "duration": 7830,
    "start_time": "2021-07-30T07:30:54.373Z"
   },
   {
    "duration": 19,
    "start_time": "2021-07-30T07:34:53.795Z"
   },
   {
    "duration": 21,
    "start_time": "2021-07-30T07:35:25.301Z"
   },
   {
    "duration": 309,
    "start_time": "2021-07-30T07:44:09.759Z"
   },
   {
    "duration": 1477,
    "start_time": "2021-07-30T07:44:49.401Z"
   },
   {
    "duration": 59,
    "start_time": "2021-07-30T07:44:50.881Z"
   },
   {
    "duration": 10,
    "start_time": "2021-07-30T07:44:50.943Z"
   },
   {
    "duration": 18,
    "start_time": "2021-07-30T07:44:50.955Z"
   },
   {
    "duration": 7,
    "start_time": "2021-07-30T07:44:50.975Z"
   },
   {
    "duration": 15,
    "start_time": "2021-07-30T07:44:50.984Z"
   },
   {
    "duration": 7,
    "start_time": "2021-07-30T07:44:51.002Z"
   },
   {
    "duration": 17,
    "start_time": "2021-07-30T07:44:51.013Z"
   },
   {
    "duration": 14,
    "start_time": "2021-07-30T07:44:51.067Z"
   },
   {
    "duration": 24,
    "start_time": "2021-07-30T07:44:51.083Z"
   },
   {
    "duration": 19,
    "start_time": "2021-07-30T07:44:51.110Z"
   },
   {
    "duration": 40,
    "start_time": "2021-07-30T07:44:51.132Z"
   },
   {
    "duration": 12,
    "start_time": "2021-07-30T07:44:51.174Z"
   },
   {
    "duration": 12,
    "start_time": "2021-07-30T07:44:51.188Z"
   },
   {
    "duration": 11,
    "start_time": "2021-07-30T07:44:51.202Z"
   },
   {
    "duration": 10,
    "start_time": "2021-07-30T07:44:51.216Z"
   },
   {
    "duration": 42,
    "start_time": "2021-07-30T07:44:51.228Z"
   },
   {
    "duration": 295,
    "start_time": "2021-07-30T07:44:51.272Z"
   },
   {
    "duration": 4,
    "start_time": "2021-07-30T07:44:51.569Z"
   },
   {
    "duration": 32,
    "start_time": "2021-07-30T07:44:51.575Z"
   },
   {
    "duration": 270,
    "start_time": "2021-07-30T07:44:51.610Z"
   },
   {
    "duration": 16,
    "start_time": "2021-07-30T07:44:51.883Z"
   },
   {
    "duration": 664,
    "start_time": "2021-07-30T07:44:51.904Z"
   },
   {
    "duration": 591,
    "start_time": "2021-07-30T07:44:52.572Z"
   },
   {
    "duration": 8,
    "start_time": "2021-07-30T07:44:53.168Z"
   },
   {
    "duration": 703,
    "start_time": "2021-07-30T07:44:53.179Z"
   },
   {
    "duration": 604,
    "start_time": "2021-07-30T07:44:53.884Z"
   },
   {
    "duration": 694,
    "start_time": "2021-07-30T07:44:54.490Z"
   },
   {
    "duration": 413,
    "start_time": "2021-07-30T07:44:55.186Z"
   },
   {
    "duration": 7,
    "start_time": "2021-07-30T07:44:55.601Z"
   },
   {
    "duration": 338,
    "start_time": "2021-07-30T07:44:55.610Z"
   },
   {
    "duration": 648,
    "start_time": "2021-07-30T07:44:55.951Z"
   },
   {
    "duration": 191,
    "start_time": "2021-07-30T07:44:56.602Z"
   },
   {
    "duration": 411,
    "start_time": "2021-07-30T07:44:56.796Z"
   },
   {
    "duration": 6,
    "start_time": "2021-07-30T07:44:57.209Z"
   },
   {
    "duration": 9,
    "start_time": "2021-07-30T07:44:57.217Z"
   },
   {
    "duration": 456,
    "start_time": "2021-07-30T07:44:57.229Z"
   },
   {
    "duration": 5,
    "start_time": "2021-07-30T07:44:57.687Z"
   },
   {
    "duration": 9,
    "start_time": "2021-07-30T07:44:57.695Z"
   },
   {
    "duration": 6,
    "start_time": "2021-07-30T07:44:57.707Z"
   },
   {
    "duration": 13,
    "start_time": "2021-07-30T07:44:57.716Z"
   },
   {
    "duration": 37,
    "start_time": "2021-07-30T07:44:57.731Z"
   },
   {
    "duration": 65,
    "start_time": "2021-07-30T07:44:57.771Z"
   },
   {
    "duration": 475,
    "start_time": "2021-07-30T07:44:57.838Z"
   },
   {
    "duration": 233,
    "start_time": "2021-07-30T07:44:58.316Z"
   },
   {
    "duration": 20,
    "start_time": "2021-07-30T07:44:58.552Z"
   },
   {
    "duration": 479,
    "start_time": "2021-07-30T07:44:58.574Z"
   },
   {
    "duration": 7449,
    "start_time": "2021-07-30T07:44:51.606Z"
   },
   {
    "duration": 7447,
    "start_time": "2021-07-30T07:44:51.610Z"
   },
   {
    "duration": 7447,
    "start_time": "2021-07-30T07:44:51.611Z"
   },
   {
    "duration": 7446,
    "start_time": "2021-07-30T07:44:51.613Z"
   },
   {
    "duration": 7447,
    "start_time": "2021-07-30T07:44:51.614Z"
   },
   {
    "duration": 7443,
    "start_time": "2021-07-30T07:44:51.619Z"
   },
   {
    "duration": 7442,
    "start_time": "2021-07-30T07:44:51.621Z"
   },
   {
    "duration": 453,
    "start_time": "2021-07-30T07:46:36.323Z"
   },
   {
    "duration": 14,
    "start_time": "2021-07-30T07:47:11.866Z"
   },
   {
    "duration": 290,
    "start_time": "2021-07-30T07:47:16.626Z"
   },
   {
    "duration": 322,
    "start_time": "2021-07-30T07:47:23.830Z"
   },
   {
    "duration": 15,
    "start_time": "2021-07-30T07:47:32.428Z"
   },
   {
    "duration": 101,
    "start_time": "2021-07-30T07:48:16.053Z"
   },
   {
    "duration": 10,
    "start_time": "2021-07-30T07:48:18.855Z"
   },
   {
    "duration": 1559,
    "start_time": "2021-07-30T07:50:25.008Z"
   },
   {
    "duration": 61,
    "start_time": "2021-07-30T07:50:26.569Z"
   },
   {
    "duration": 11,
    "start_time": "2021-07-30T07:50:26.633Z"
   },
   {
    "duration": 21,
    "start_time": "2021-07-30T07:50:26.647Z"
   },
   {
    "duration": 8,
    "start_time": "2021-07-30T07:50:26.670Z"
   },
   {
    "duration": 18,
    "start_time": "2021-07-30T07:50:26.680Z"
   },
   {
    "duration": 8,
    "start_time": "2021-07-30T07:50:26.700Z"
   },
   {
    "duration": 59,
    "start_time": "2021-07-30T07:50:26.712Z"
   },
   {
    "duration": 19,
    "start_time": "2021-07-30T07:50:26.774Z"
   },
   {
    "duration": 21,
    "start_time": "2021-07-30T07:50:26.795Z"
   },
   {
    "duration": 49,
    "start_time": "2021-07-30T07:50:26.818Z"
   },
   {
    "duration": 8,
    "start_time": "2021-07-30T07:50:26.869Z"
   },
   {
    "duration": 11,
    "start_time": "2021-07-30T07:50:26.879Z"
   },
   {
    "duration": 9,
    "start_time": "2021-07-30T07:50:26.892Z"
   },
   {
    "duration": 14,
    "start_time": "2021-07-30T07:50:26.903Z"
   },
   {
    "duration": 53,
    "start_time": "2021-07-30T07:50:26.920Z"
   },
   {
    "duration": 8,
    "start_time": "2021-07-30T07:50:26.976Z"
   },
   {
    "duration": 295,
    "start_time": "2021-07-30T07:50:26.987Z"
   },
   {
    "duration": 4,
    "start_time": "2021-07-30T07:50:27.284Z"
   },
   {
    "duration": 15,
    "start_time": "2021-07-30T07:50:27.290Z"
   },
   {
    "duration": 296,
    "start_time": "2021-07-30T07:50:27.307Z"
   },
   {
    "duration": 26,
    "start_time": "2021-07-30T07:50:27.606Z"
   },
   {
    "duration": 602,
    "start_time": "2021-07-30T07:50:27.639Z"
   },
   {
    "duration": 637,
    "start_time": "2021-07-30T07:50:28.244Z"
   },
   {
    "duration": 8,
    "start_time": "2021-07-30T07:50:28.884Z"
   },
   {
    "duration": 673,
    "start_time": "2021-07-30T07:50:28.894Z"
   },
   {
    "duration": 610,
    "start_time": "2021-07-30T07:50:29.569Z"
   },
   {
    "duration": 686,
    "start_time": "2021-07-30T07:50:30.181Z"
   },
   {
    "duration": 442,
    "start_time": "2021-07-30T07:50:30.869Z"
   },
   {
    "duration": 7,
    "start_time": "2021-07-30T07:50:31.313Z"
   },
   {
    "duration": 398,
    "start_time": "2021-07-30T07:50:31.322Z"
   },
   {
    "duration": 741,
    "start_time": "2021-07-30T07:50:31.722Z"
   },
   {
    "duration": 253,
    "start_time": "2021-07-30T07:50:32.467Z"
   },
   {
    "duration": 545,
    "start_time": "2021-07-30T07:50:32.724Z"
   },
   {
    "duration": 7,
    "start_time": "2021-07-30T07:50:33.272Z"
   },
   {
    "duration": 15,
    "start_time": "2021-07-30T07:50:33.282Z"
   },
   {
    "duration": 451,
    "start_time": "2021-07-30T07:50:33.299Z"
   },
   {
    "duration": 16,
    "start_time": "2021-07-30T07:50:33.753Z"
   },
   {
    "duration": 14,
    "start_time": "2021-07-30T07:50:33.772Z"
   },
   {
    "duration": 15,
    "start_time": "2021-07-30T07:50:33.789Z"
   },
   {
    "duration": 25,
    "start_time": "2021-07-30T07:50:33.807Z"
   },
   {
    "duration": 12,
    "start_time": "2021-07-30T07:50:33.834Z"
   },
   {
    "duration": 381,
    "start_time": "2021-07-30T07:50:33.849Z"
   },
   {
    "duration": 500,
    "start_time": "2021-07-30T07:50:34.233Z"
   },
   {
    "duration": 326,
    "start_time": "2021-07-30T07:50:34.736Z"
   },
   {
    "duration": 8,
    "start_time": "2021-07-30T07:50:35.064Z"
   },
   {
    "duration": 12,
    "start_time": "2021-07-30T07:50:35.075Z"
   },
   {
    "duration": 13,
    "start_time": "2021-07-30T07:50:35.089Z"
   },
   {
    "duration": 4,
    "start_time": "2021-07-30T07:50:35.105Z"
   },
   {
    "duration": 6,
    "start_time": "2021-07-30T07:50:35.111Z"
   },
   {
    "duration": 60,
    "start_time": "2021-07-30T07:50:35.119Z"
   },
   {
    "duration": 12,
    "start_time": "2021-07-30T07:50:35.181Z"
   },
   {
    "duration": 10,
    "start_time": "2021-07-30T07:50:35.195Z"
   },
   {
    "duration": 64,
    "start_time": "2021-07-30T07:50:35.208Z"
   },
   {
    "duration": 1069,
    "start_time": "2021-08-02T04:19:06.043Z"
   },
   {
    "duration": 67,
    "start_time": "2021-08-02T04:19:07.114Z"
   },
   {
    "duration": 7,
    "start_time": "2021-08-02T04:19:07.184Z"
   },
   {
    "duration": 17,
    "start_time": "2021-08-02T04:19:07.193Z"
   },
   {
    "duration": 7,
    "start_time": "2021-08-02T04:19:07.211Z"
   },
   {
    "duration": 10,
    "start_time": "2021-08-02T04:19:07.219Z"
   },
   {
    "duration": 7,
    "start_time": "2021-08-02T04:19:07.230Z"
   },
   {
    "duration": 11,
    "start_time": "2021-08-02T04:19:07.240Z"
   },
   {
    "duration": 32,
    "start_time": "2021-08-02T04:19:07.254Z"
   },
   {
    "duration": 12,
    "start_time": "2021-08-02T04:19:07.288Z"
   },
   {
    "duration": 13,
    "start_time": "2021-08-02T04:19:07.301Z"
   },
   {
    "duration": 5,
    "start_time": "2021-08-02T04:19:07.316Z"
   },
   {
    "duration": 6,
    "start_time": "2021-08-02T04:19:07.322Z"
   },
   {
    "duration": 5,
    "start_time": "2021-08-02T04:19:07.329Z"
   },
   {
    "duration": 7,
    "start_time": "2021-08-02T04:19:07.336Z"
   },
   {
    "duration": 44,
    "start_time": "2021-08-02T04:19:07.345Z"
   },
   {
    "duration": 7,
    "start_time": "2021-08-02T04:19:07.391Z"
   },
   {
    "duration": 170,
    "start_time": "2021-08-02T04:19:07.400Z"
   },
   {
    "duration": 3,
    "start_time": "2021-08-02T04:19:07.572Z"
   },
   {
    "duration": 13,
    "start_time": "2021-08-02T04:19:07.577Z"
   },
   {
    "duration": 144,
    "start_time": "2021-08-02T04:19:07.592Z"
   },
   {
    "duration": 11,
    "start_time": "2021-08-02T04:19:07.737Z"
   },
   {
    "duration": 382,
    "start_time": "2021-08-02T04:19:07.752Z"
   },
   {
    "duration": 385,
    "start_time": "2021-08-02T04:19:08.136Z"
   },
   {
    "duration": 6,
    "start_time": "2021-08-02T04:19:08.522Z"
   },
   {
    "duration": 481,
    "start_time": "2021-08-02T04:19:08.530Z"
   },
   {
    "duration": 385,
    "start_time": "2021-08-02T04:19:09.013Z"
   },
   {
    "duration": 442,
    "start_time": "2021-08-02T04:19:09.400Z"
   },
   {
    "duration": 291,
    "start_time": "2021-08-02T04:19:09.844Z"
   },
   {
    "duration": 5,
    "start_time": "2021-08-02T04:19:10.136Z"
   },
   {
    "duration": 211,
    "start_time": "2021-08-02T04:19:10.143Z"
   },
   {
    "duration": 461,
    "start_time": "2021-08-02T04:19:10.355Z"
   },
   {
    "duration": 107,
    "start_time": "2021-08-02T04:19:10.817Z"
   },
   {
    "duration": 295,
    "start_time": "2021-08-02T04:19:10.926Z"
   },
   {
    "duration": 4,
    "start_time": "2021-08-02T04:19:11.222Z"
   },
   {
    "duration": 9,
    "start_time": "2021-08-02T04:19:11.227Z"
   },
   {
    "duration": 272,
    "start_time": "2021-08-02T04:19:11.237Z"
   },
   {
    "duration": 3,
    "start_time": "2021-08-02T04:19:11.511Z"
   },
   {
    "duration": 8,
    "start_time": "2021-08-02T04:19:11.516Z"
   },
   {
    "duration": 5,
    "start_time": "2021-08-02T04:19:11.525Z"
   },
   {
    "duration": 8,
    "start_time": "2021-08-02T04:19:11.531Z"
   },
   {
    "duration": 8,
    "start_time": "2021-08-02T04:19:11.541Z"
   },
   {
    "duration": 65,
    "start_time": "2021-08-02T04:19:11.551Z"
   },
   {
    "duration": 252,
    "start_time": "2021-08-02T04:19:11.617Z"
   },
   {
    "duration": 143,
    "start_time": "2021-08-02T04:19:11.871Z"
   },
   {
    "duration": 6,
    "start_time": "2021-08-02T04:19:12.015Z"
   },
   {
    "duration": 10,
    "start_time": "2021-08-02T04:19:12.022Z"
   },
   {
    "duration": 9,
    "start_time": "2021-08-02T04:19:12.034Z"
   },
   {
    "duration": 4,
    "start_time": "2021-08-02T04:19:12.044Z"
   },
   {
    "duration": 5,
    "start_time": "2021-08-02T04:19:12.049Z"
   },
   {
    "duration": 38,
    "start_time": "2021-08-02T04:19:12.055Z"
   },
   {
    "duration": 9,
    "start_time": "2021-08-02T04:19:12.094Z"
   },
   {
    "duration": 7,
    "start_time": "2021-08-02T04:19:12.104Z"
   },
   {
    "duration": 13,
    "start_time": "2021-08-02T04:19:12.113Z"
   },
   {
    "duration": 63,
    "start_time": "2021-08-02T04:20:03.811Z"
   },
   {
    "duration": 6,
    "start_time": "2021-08-02T04:20:18.036Z"
   },
   {
    "duration": 260,
    "start_time": "2021-08-02T04:20:20.419Z"
   },
   {
    "duration": 173,
    "start_time": "2021-08-02T04:20:33.859Z"
   },
   {
    "duration": 1127,
    "start_time": "2021-08-02T04:20:43.567Z"
   },
   {
    "duration": 67,
    "start_time": "2021-08-02T04:20:44.696Z"
   },
   {
    "duration": 7,
    "start_time": "2021-08-02T04:20:44.765Z"
   },
   {
    "duration": 11,
    "start_time": "2021-08-02T04:20:44.775Z"
   },
   {
    "duration": 4,
    "start_time": "2021-08-02T04:20:44.787Z"
   },
   {
    "duration": 9,
    "start_time": "2021-08-02T04:20:44.793Z"
   },
   {
    "duration": 7,
    "start_time": "2021-08-02T04:20:44.804Z"
   },
   {
    "duration": 12,
    "start_time": "2021-08-02T04:20:44.813Z"
   },
   {
    "duration": 9,
    "start_time": "2021-08-02T04:20:44.827Z"
   },
   {
    "duration": 12,
    "start_time": "2021-08-02T04:20:44.837Z"
   },
   {
    "duration": 41,
    "start_time": "2021-08-02T04:20:44.851Z"
   },
   {
    "duration": 5,
    "start_time": "2021-08-02T04:20:44.894Z"
   },
   {
    "duration": 6,
    "start_time": "2021-08-02T04:20:44.901Z"
   },
   {
    "duration": 5,
    "start_time": "2021-08-02T04:20:44.909Z"
   },
   {
    "duration": 8,
    "start_time": "2021-08-02T04:20:44.915Z"
   },
   {
    "duration": 7,
    "start_time": "2021-08-02T04:20:44.924Z"
   },
   {
    "duration": 13,
    "start_time": "2021-08-02T04:20:44.933Z"
   },
   {
    "duration": 194,
    "start_time": "2021-08-02T04:20:44.947Z"
   },
   {
    "duration": 3,
    "start_time": "2021-08-02T04:20:45.143Z"
   },
   {
    "duration": 11,
    "start_time": "2021-08-02T04:20:45.147Z"
   },
   {
    "duration": 155,
    "start_time": "2021-08-02T04:20:45.159Z"
   },
   {
    "duration": 10,
    "start_time": "2021-08-02T04:20:45.316Z"
   },
   {
    "duration": 366,
    "start_time": "2021-08-02T04:20:45.329Z"
   },
   {
    "duration": 368,
    "start_time": "2021-08-02T04:20:45.697Z"
   },
   {
    "duration": 6,
    "start_time": "2021-08-02T04:20:46.067Z"
   },
   {
    "duration": 446,
    "start_time": "2021-08-02T04:20:46.074Z"
   },
   {
    "duration": 366,
    "start_time": "2021-08-02T04:20:46.521Z"
   },
   {
    "duration": 435,
    "start_time": "2021-08-02T04:20:46.889Z"
   },
   {
    "duration": 261,
    "start_time": "2021-08-02T04:20:47.325Z"
   },
   {
    "duration": 4,
    "start_time": "2021-08-02T04:20:47.588Z"
   },
   {
    "duration": 201,
    "start_time": "2021-08-02T04:20:47.594Z"
   },
   {
    "duration": 432,
    "start_time": "2021-08-02T04:20:47.797Z"
   },
   {
    "duration": 104,
    "start_time": "2021-08-02T04:20:48.231Z"
   },
   {
    "duration": 277,
    "start_time": "2021-08-02T04:20:48.336Z"
   },
   {
    "duration": 5,
    "start_time": "2021-08-02T04:20:48.615Z"
   },
   {
    "duration": 7,
    "start_time": "2021-08-02T04:20:48.622Z"
   },
   {
    "duration": 286,
    "start_time": "2021-08-02T04:20:48.631Z"
   },
   {
    "duration": 4,
    "start_time": "2021-08-02T04:20:48.920Z"
   },
   {
    "duration": 7,
    "start_time": "2021-08-02T04:20:48.926Z"
   },
   {
    "duration": 7,
    "start_time": "2021-08-02T04:20:48.935Z"
   },
   {
    "duration": 6,
    "start_time": "2021-08-02T04:20:48.944Z"
   },
   {
    "duration": 33,
    "start_time": "2021-08-02T04:20:48.952Z"
   },
   {
    "duration": 65,
    "start_time": "2021-08-02T04:20:48.987Z"
   },
   {
    "duration": 260,
    "start_time": "2021-08-02T04:20:49.053Z"
   },
   {
    "duration": 124,
    "start_time": "2021-08-02T04:20:49.315Z"
   },
   {
    "duration": 5,
    "start_time": "2021-08-02T04:20:49.441Z"
   },
   {
    "duration": 9,
    "start_time": "2021-08-02T04:20:49.448Z"
   },
   {
    "duration": 31,
    "start_time": "2021-08-02T04:20:49.459Z"
   },
   {
    "duration": 3,
    "start_time": "2021-08-02T04:20:49.492Z"
   },
   {
    "duration": 5,
    "start_time": "2021-08-02T04:20:49.496Z"
   },
   {
    "duration": 12,
    "start_time": "2021-08-02T04:20:49.503Z"
   },
   {
    "duration": 7,
    "start_time": "2021-08-02T04:20:49.517Z"
   },
   {
    "duration": 6,
    "start_time": "2021-08-02T04:20:49.526Z"
   },
   {
    "duration": 50,
    "start_time": "2021-08-02T04:20:49.534Z"
   },
   {
    "duration": 5,
    "start_time": "2021-08-02T04:21:45.474Z"
   },
   {
    "duration": 11,
    "start_time": "2021-08-02T04:21:53.227Z"
   },
   {
    "duration": 283,
    "start_time": "2021-08-02T04:24:13.825Z"
   },
   {
    "duration": 1067,
    "start_time": "2021-08-02T04:24:31.018Z"
   },
   {
    "duration": 67,
    "start_time": "2021-08-02T04:24:32.087Z"
   },
   {
    "duration": 15,
    "start_time": "2021-08-02T04:24:32.156Z"
   },
   {
    "duration": 28,
    "start_time": "2021-08-02T04:24:32.173Z"
   },
   {
    "duration": 13,
    "start_time": "2021-08-02T04:24:32.203Z"
   },
   {
    "duration": 284,
    "start_time": "2021-08-02T04:24:32.218Z"
   },
   {
    "duration": 11,
    "start_time": "2021-08-02T04:24:32.504Z"
   },
   {
    "duration": 9,
    "start_time": "2021-08-02T04:24:32.517Z"
   },
   {
    "duration": 18,
    "start_time": "2021-08-02T04:24:32.527Z"
   },
   {
    "duration": 17,
    "start_time": "2021-08-02T04:24:32.547Z"
   },
   {
    "duration": 21,
    "start_time": "2021-08-02T04:24:32.565Z"
   },
   {
    "duration": 21,
    "start_time": "2021-08-02T04:24:32.587Z"
   },
   {
    "duration": 24,
    "start_time": "2021-08-02T04:24:32.609Z"
   },
   {
    "duration": 16,
    "start_time": "2021-08-02T04:24:32.635Z"
   },
   {
    "duration": 11,
    "start_time": "2021-08-02T04:24:32.652Z"
   },
   {
    "duration": 21,
    "start_time": "2021-08-02T04:24:32.665Z"
   },
   {
    "duration": 13,
    "start_time": "2021-08-02T04:24:32.687Z"
   },
   {
    "duration": 17,
    "start_time": "2021-08-02T04:24:32.701Z"
   },
   {
    "duration": 169,
    "start_time": "2021-08-02T04:24:32.719Z"
   },
   {
    "duration": 3,
    "start_time": "2021-08-02T04:24:32.889Z"
   },
   {
    "duration": 24,
    "start_time": "2021-08-02T04:24:32.894Z"
   },
   {
    "duration": 149,
    "start_time": "2021-08-02T04:24:32.919Z"
   },
   {
    "duration": 19,
    "start_time": "2021-08-02T04:24:33.071Z"
   },
   {
    "duration": 348,
    "start_time": "2021-08-02T04:24:33.092Z"
   },
   {
    "duration": 343,
    "start_time": "2021-08-02T04:24:33.441Z"
   },
   {
    "duration": 6,
    "start_time": "2021-08-02T04:24:33.786Z"
   },
   {
    "duration": 548,
    "start_time": "2021-08-02T04:24:33.793Z"
   },
   {
    "duration": 354,
    "start_time": "2021-08-02T04:24:34.342Z"
   },
   {
    "duration": 429,
    "start_time": "2021-08-02T04:24:34.697Z"
   },
   {
    "duration": 197,
    "start_time": "2021-08-02T04:24:35.128Z"
   },
   {
    "duration": 5,
    "start_time": "2021-08-02T04:24:35.326Z"
   },
   {
    "duration": 204,
    "start_time": "2021-08-02T04:24:35.332Z"
   },
   {
    "duration": 405,
    "start_time": "2021-08-02T04:24:35.538Z"
   },
   {
    "duration": 150,
    "start_time": "2021-08-02T04:24:35.944Z"
   },
   {
    "duration": 307,
    "start_time": "2021-08-02T04:24:36.096Z"
   },
   {
    "duration": 4,
    "start_time": "2021-08-02T04:24:36.405Z"
   },
   {
    "duration": 8,
    "start_time": "2021-08-02T04:24:36.410Z"
   },
   {
    "duration": 281,
    "start_time": "2021-08-02T04:24:36.419Z"
   },
   {
    "duration": 4,
    "start_time": "2021-08-02T04:24:36.701Z"
   },
   {
    "duration": 7,
    "start_time": "2021-08-02T04:24:36.706Z"
   },
   {
    "duration": 5,
    "start_time": "2021-08-02T04:24:36.714Z"
   },
   {
    "duration": 8,
    "start_time": "2021-08-02T04:24:36.720Z"
   },
   {
    "duration": 7,
    "start_time": "2021-08-02T04:24:36.729Z"
   },
   {
    "duration": 63,
    "start_time": "2021-08-02T04:24:36.737Z"
   },
   {
    "duration": 258,
    "start_time": "2021-08-02T04:24:36.802Z"
   },
   {
    "duration": 108,
    "start_time": "2021-08-02T04:24:37.062Z"
   },
   {
    "duration": 15,
    "start_time": "2021-08-02T04:24:37.172Z"
   },
   {
    "duration": 10,
    "start_time": "2021-08-02T04:24:37.189Z"
   },
   {
    "duration": 9,
    "start_time": "2021-08-02T04:24:37.200Z"
   },
   {
    "duration": 2,
    "start_time": "2021-08-02T04:24:37.211Z"
   },
   {
    "duration": 5,
    "start_time": "2021-08-02T04:24:37.214Z"
   },
   {
    "duration": 12,
    "start_time": "2021-08-02T04:24:37.221Z"
   },
   {
    "duration": 8,
    "start_time": "2021-08-02T04:24:37.235Z"
   },
   {
    "duration": 42,
    "start_time": "2021-08-02T04:24:37.244Z"
   },
   {
    "duration": 13,
    "start_time": "2021-08-02T04:24:37.288Z"
   },
   {
    "duration": 61,
    "start_time": "2021-08-02T04:25:16.235Z"
   },
   {
    "duration": 10,
    "start_time": "2021-08-02T04:25:33.508Z"
   },
   {
    "duration": 5,
    "start_time": "2021-08-02T04:26:05.325Z"
   },
   {
    "duration": 66,
    "start_time": "2021-08-02T04:26:07.837Z"
   },
   {
    "duration": 6,
    "start_time": "2021-08-02T04:26:08.173Z"
   },
   {
    "duration": 8,
    "start_time": "2021-08-02T04:26:09.677Z"
   },
   {
    "duration": 2,
    "start_time": "2021-08-02T04:26:26.142Z"
   },
   {
    "duration": 8,
    "start_time": "2021-08-02T04:26:28.662Z"
   },
   {
    "duration": 63,
    "start_time": "2021-08-02T04:27:48.130Z"
   },
   {
    "duration": 55,
    "start_time": "2021-08-02T04:27:56.361Z"
   },
   {
    "duration": 262,
    "start_time": "2021-08-02T04:28:14.515Z"
   },
   {
    "duration": 11,
    "start_time": "2021-08-02T04:28:39.707Z"
   },
   {
    "duration": 8,
    "start_time": "2021-08-02T04:28:51.116Z"
   },
   {
    "duration": 193,
    "start_time": "2021-08-02T04:29:24.365Z"
   },
   {
    "duration": 4,
    "start_time": "2021-08-02T04:29:29.653Z"
   },
   {
    "duration": 10,
    "start_time": "2021-08-02T04:29:31.349Z"
   },
   {
    "duration": 12,
    "start_time": "2021-08-02T04:29:59.623Z"
   },
   {
    "duration": 206,
    "start_time": "2021-08-02T04:30:24.863Z"
   },
   {
    "duration": 4,
    "start_time": "2021-08-02T04:31:03.193Z"
   },
   {
    "duration": 9,
    "start_time": "2021-08-02T04:31:10.170Z"
   },
   {
    "duration": 1066,
    "start_time": "2021-08-02T04:31:21.652Z"
   },
   {
    "duration": 67,
    "start_time": "2021-08-02T04:31:22.720Z"
   },
   {
    "duration": 6,
    "start_time": "2021-08-02T04:31:22.789Z"
   },
   {
    "duration": 10,
    "start_time": "2021-08-02T04:31:22.797Z"
   },
   {
    "duration": 4,
    "start_time": "2021-08-02T04:31:22.808Z"
   },
   {
    "duration": 273,
    "start_time": "2021-08-02T04:31:22.813Z"
   },
   {
    "duration": 10,
    "start_time": "2021-08-02T04:31:23.088Z"
   },
   {
    "duration": 5,
    "start_time": "2021-08-02T04:31:23.101Z"
   },
   {
    "duration": 15,
    "start_time": "2021-08-02T04:31:23.108Z"
   },
   {
    "duration": 9,
    "start_time": "2021-08-02T04:31:23.125Z"
   },
   {
    "duration": 14,
    "start_time": "2021-08-02T04:31:23.135Z"
   },
   {
    "duration": 40,
    "start_time": "2021-08-02T04:31:23.151Z"
   },
   {
    "duration": 5,
    "start_time": "2021-08-02T04:31:23.193Z"
   },
   {
    "duration": 5,
    "start_time": "2021-08-02T04:31:23.200Z"
   },
   {
    "duration": 6,
    "start_time": "2021-08-02T04:31:23.207Z"
   },
   {
    "duration": 8,
    "start_time": "2021-08-02T04:31:23.215Z"
   },
   {
    "duration": 9,
    "start_time": "2021-08-02T04:31:23.225Z"
   },
   {
    "duration": 12,
    "start_time": "2021-08-02T04:31:23.235Z"
   },
   {
    "duration": 197,
    "start_time": "2021-08-02T04:31:23.248Z"
   },
   {
    "duration": 3,
    "start_time": "2021-08-02T04:31:23.447Z"
   },
   {
    "duration": 14,
    "start_time": "2021-08-02T04:31:23.451Z"
   },
   {
    "duration": 153,
    "start_time": "2021-08-02T04:31:23.466Z"
   },
   {
    "duration": 10,
    "start_time": "2021-08-02T04:31:23.623Z"
   },
   {
    "duration": 377,
    "start_time": "2021-08-02T04:31:23.636Z"
   },
   {
    "duration": 374,
    "start_time": "2021-08-02T04:31:24.015Z"
   },
   {
    "duration": 5,
    "start_time": "2021-08-02T04:31:24.391Z"
   },
   {
    "duration": 568,
    "start_time": "2021-08-02T04:31:24.398Z"
   },
   {
    "duration": 388,
    "start_time": "2021-08-02T04:31:24.968Z"
   },
   {
    "duration": 465,
    "start_time": "2021-08-02T04:31:25.358Z"
   },
   {
    "duration": 217,
    "start_time": "2021-08-02T04:31:25.824Z"
   },
   {
    "duration": 5,
    "start_time": "2021-08-02T04:31:26.043Z"
   },
   {
    "duration": 219,
    "start_time": "2021-08-02T04:31:26.050Z"
   },
   {
    "duration": 447,
    "start_time": "2021-08-02T04:31:26.270Z"
   },
   {
    "duration": 125,
    "start_time": "2021-08-02T04:31:26.718Z"
   },
   {
    "duration": 313,
    "start_time": "2021-08-02T04:31:26.845Z"
   },
   {
    "duration": 4,
    "start_time": "2021-08-02T04:31:27.159Z"
   },
   {
    "duration": 8,
    "start_time": "2021-08-02T04:31:27.165Z"
   },
   {
    "duration": 332,
    "start_time": "2021-08-02T04:31:27.174Z"
   },
   {
    "duration": 4,
    "start_time": "2021-08-02T04:31:27.508Z"
   },
   {
    "duration": 7,
    "start_time": "2021-08-02T04:31:27.514Z"
   },
   {
    "duration": 4,
    "start_time": "2021-08-02T04:31:27.523Z"
   },
   {
    "duration": 7,
    "start_time": "2021-08-02T04:31:27.528Z"
   },
   {
    "duration": 7,
    "start_time": "2021-08-02T04:31:27.536Z"
   },
   {
    "duration": 65,
    "start_time": "2021-08-02T04:31:27.544Z"
   },
   {
    "duration": 263,
    "start_time": "2021-08-02T04:31:27.611Z"
   },
   {
    "duration": 126,
    "start_time": "2021-08-02T04:31:27.876Z"
   },
   {
    "duration": 7,
    "start_time": "2021-08-02T04:31:28.004Z"
   },
   {
    "duration": 11,
    "start_time": "2021-08-02T04:31:28.012Z"
   },
   {
    "duration": 10,
    "start_time": "2021-08-02T04:31:28.024Z"
   },
   {
    "duration": 3,
    "start_time": "2021-08-02T04:31:28.036Z"
   },
   {
    "duration": 5,
    "start_time": "2021-08-02T04:31:28.041Z"
   },
   {
    "duration": 47,
    "start_time": "2021-08-02T04:31:28.047Z"
   },
   {
    "duration": 9,
    "start_time": "2021-08-02T04:31:28.097Z"
   },
   {
    "duration": 9,
    "start_time": "2021-08-02T04:31:28.108Z"
   },
   {
    "duration": 15,
    "start_time": "2021-08-02T04:31:28.119Z"
   },
   {
    "duration": 8,
    "start_time": "2021-08-02T04:32:20.237Z"
   },
   {
    "duration": 4,
    "start_time": "2021-08-02T04:33:21.391Z"
   },
   {
    "duration": 10,
    "start_time": "2021-08-02T04:33:22.857Z"
   },
   {
    "duration": 75,
    "start_time": "2021-08-02T04:33:46.736Z"
   },
   {
    "duration": 8,
    "start_time": "2021-08-02T04:33:48.752Z"
   },
   {
    "duration": 7,
    "start_time": "2021-08-02T04:34:12.841Z"
   },
   {
    "duration": 1085,
    "start_time": "2021-08-02T04:34:23.229Z"
   },
   {
    "duration": 68,
    "start_time": "2021-08-02T04:34:24.315Z"
   },
   {
    "duration": 6,
    "start_time": "2021-08-02T04:34:24.385Z"
   },
   {
    "duration": 10,
    "start_time": "2021-08-02T04:34:24.393Z"
   },
   {
    "duration": 5,
    "start_time": "2021-08-02T04:34:24.405Z"
   },
   {
    "duration": 9,
    "start_time": "2021-08-02T04:34:24.412Z"
   },
   {
    "duration": 9,
    "start_time": "2021-08-02T04:34:24.422Z"
   },
   {
    "duration": 306,
    "start_time": "2021-08-02T04:34:24.434Z"
   },
   {
    "duration": 10,
    "start_time": "2021-08-02T04:34:24.742Z"
   },
   {
    "duration": 13,
    "start_time": "2021-08-02T04:34:24.754Z"
   },
   {
    "duration": 14,
    "start_time": "2021-08-02T04:34:24.784Z"
   },
   {
    "duration": 6,
    "start_time": "2021-08-02T04:34:24.799Z"
   },
   {
    "duration": 5,
    "start_time": "2021-08-02T04:34:24.807Z"
   },
   {
    "duration": 5,
    "start_time": "2021-08-02T04:34:24.814Z"
   },
   {
    "duration": 8,
    "start_time": "2021-08-02T04:34:24.820Z"
   },
   {
    "duration": 7,
    "start_time": "2021-08-02T04:34:24.830Z"
   },
   {
    "duration": 5,
    "start_time": "2021-08-02T04:34:24.839Z"
   },
   {
    "duration": 195,
    "start_time": "2021-08-02T04:34:24.846Z"
   },
   {
    "duration": 3,
    "start_time": "2021-08-02T04:34:25.043Z"
   },
   {
    "duration": 12,
    "start_time": "2021-08-02T04:34:25.048Z"
   },
   {
    "duration": 167,
    "start_time": "2021-08-02T04:34:25.062Z"
   },
   {
    "duration": 12,
    "start_time": "2021-08-02T04:34:25.231Z"
   },
   {
    "duration": 376,
    "start_time": "2021-08-02T04:34:25.246Z"
   },
   {
    "duration": 363,
    "start_time": "2021-08-02T04:34:25.624Z"
   },
   {
    "duration": 7,
    "start_time": "2021-08-02T04:34:25.988Z"
   },
   {
    "duration": 549,
    "start_time": "2021-08-02T04:34:25.996Z"
   },
   {
    "duration": 355,
    "start_time": "2021-08-02T04:34:26.546Z"
   },
   {
    "duration": 446,
    "start_time": "2021-08-02T04:34:26.902Z"
   },
   {
    "duration": 199,
    "start_time": "2021-08-02T04:34:27.350Z"
   },
   {
    "duration": 5,
    "start_time": "2021-08-02T04:34:27.551Z"
   },
   {
    "duration": 200,
    "start_time": "2021-08-02T04:34:27.557Z"
   },
   {
    "duration": 490,
    "start_time": "2021-08-02T04:34:27.759Z"
   },
   {
    "duration": 97,
    "start_time": "2021-08-02T04:34:28.251Z"
   },
   {
    "duration": 334,
    "start_time": "2021-08-02T04:34:28.350Z"
   },
   {
    "duration": 4,
    "start_time": "2021-08-02T04:34:28.686Z"
   },
   {
    "duration": 8,
    "start_time": "2021-08-02T04:34:28.691Z"
   },
   {
    "duration": 297,
    "start_time": "2021-08-02T04:34:28.700Z"
   },
   {
    "duration": 4,
    "start_time": "2021-08-02T04:34:28.999Z"
   },
   {
    "duration": 8,
    "start_time": "2021-08-02T04:34:29.004Z"
   },
   {
    "duration": 5,
    "start_time": "2021-08-02T04:34:29.013Z"
   },
   {
    "duration": 6,
    "start_time": "2021-08-02T04:34:29.020Z"
   },
   {
    "duration": 5,
    "start_time": "2021-08-02T04:34:29.028Z"
   },
   {
    "duration": 65,
    "start_time": "2021-08-02T04:34:29.034Z"
   },
   {
    "duration": 251,
    "start_time": "2021-08-02T04:34:29.101Z"
   },
   {
    "duration": 110,
    "start_time": "2021-08-02T04:34:29.354Z"
   },
   {
    "duration": 19,
    "start_time": "2021-08-02T04:34:29.466Z"
   },
   {
    "duration": 9,
    "start_time": "2021-08-02T04:34:29.486Z"
   },
   {
    "duration": 9,
    "start_time": "2021-08-02T04:34:29.496Z"
   },
   {
    "duration": 3,
    "start_time": "2021-08-02T04:34:29.507Z"
   },
   {
    "duration": 5,
    "start_time": "2021-08-02T04:34:29.512Z"
   },
   {
    "duration": 14,
    "start_time": "2021-08-02T04:34:29.518Z"
   },
   {
    "duration": 7,
    "start_time": "2021-08-02T04:34:29.534Z"
   },
   {
    "duration": 43,
    "start_time": "2021-08-02T04:34:29.543Z"
   },
   {
    "duration": 14,
    "start_time": "2021-08-02T04:34:29.587Z"
   },
   {
    "duration": 64,
    "start_time": "2021-08-02T04:39:07.137Z"
   },
   {
    "duration": 8,
    "start_time": "2021-08-02T04:50:34.213Z"
   },
   {
    "duration": 4462,
    "start_time": "2021-08-02T04:51:58.504Z"
   },
   {
    "duration": 4322,
    "start_time": "2021-08-02T04:52:15.797Z"
   },
   {
    "duration": 4319,
    "start_time": "2021-08-02T04:53:33.648Z"
   },
   {
    "duration": 1048,
    "start_time": "2021-08-02T04:53:45.850Z"
   },
   {
    "duration": 67,
    "start_time": "2021-08-02T04:53:46.900Z"
   },
   {
    "duration": 7,
    "start_time": "2021-08-02T04:53:46.969Z"
   },
   {
    "duration": 11,
    "start_time": "2021-08-02T04:53:46.978Z"
   },
   {
    "duration": 5,
    "start_time": "2021-08-02T04:53:46.991Z"
   },
   {
    "duration": 12,
    "start_time": "2021-08-02T04:53:46.998Z"
   },
   {
    "duration": 7,
    "start_time": "2021-08-02T04:53:47.011Z"
   },
   {
    "duration": 281,
    "start_time": "2021-08-02T04:53:47.020Z"
   },
   {
    "duration": 11,
    "start_time": "2021-08-02T04:53:47.304Z"
   },
   {
    "duration": 15,
    "start_time": "2021-08-02T04:53:47.316Z"
   },
   {
    "duration": 14,
    "start_time": "2021-08-02T04:53:47.333Z"
   },
   {
    "duration": 5,
    "start_time": "2021-08-02T04:53:47.348Z"
   },
   {
    "duration": 35,
    "start_time": "2021-08-02T04:53:47.355Z"
   },
   {
    "duration": 5,
    "start_time": "2021-08-02T04:53:47.392Z"
   },
   {
    "duration": 7,
    "start_time": "2021-08-02T04:53:47.399Z"
   },
   {
    "duration": 8,
    "start_time": "2021-08-02T04:53:47.408Z"
   },
   {
    "duration": 6,
    "start_time": "2021-08-02T04:53:47.417Z"
   },
   {
    "duration": 184,
    "start_time": "2021-08-02T04:53:47.424Z"
   },
   {
    "duration": 3,
    "start_time": "2021-08-02T04:53:47.610Z"
   },
   {
    "duration": 13,
    "start_time": "2021-08-02T04:53:47.615Z"
   },
   {
    "duration": 161,
    "start_time": "2021-08-02T04:53:47.630Z"
   },
   {
    "duration": 11,
    "start_time": "2021-08-02T04:53:47.792Z"
   },
   {
    "duration": 373,
    "start_time": "2021-08-02T04:53:47.806Z"
   },
   {
    "duration": 350,
    "start_time": "2021-08-02T04:53:48.184Z"
   },
   {
    "duration": 7,
    "start_time": "2021-08-02T04:53:48.535Z"
   },
   {
    "duration": 596,
    "start_time": "2021-08-02T04:53:48.543Z"
   },
   {
    "duration": 364,
    "start_time": "2021-08-02T04:53:49.140Z"
   },
   {
    "duration": 421,
    "start_time": "2021-08-02T04:53:49.506Z"
   },
   {
    "duration": 210,
    "start_time": "2021-08-02T04:53:49.929Z"
   },
   {
    "duration": 4,
    "start_time": "2021-08-02T04:53:50.141Z"
   },
   {
    "duration": 201,
    "start_time": "2021-08-02T04:53:50.147Z"
   },
   {
    "duration": 442,
    "start_time": "2021-08-02T04:53:50.350Z"
   },
   {
    "duration": 110,
    "start_time": "2021-08-02T04:53:50.793Z"
   },
   {
    "duration": 299,
    "start_time": "2021-08-02T04:53:50.905Z"
   },
   {
    "duration": 4,
    "start_time": "2021-08-02T04:53:51.205Z"
   },
   {
    "duration": 8,
    "start_time": "2021-08-02T04:53:51.210Z"
   },
   {
    "duration": 279,
    "start_time": "2021-08-02T04:53:51.220Z"
   },
   {
    "duration": 5,
    "start_time": "2021-08-02T04:53:51.501Z"
   },
   {
    "duration": 7,
    "start_time": "2021-08-02T04:53:51.507Z"
   },
   {
    "duration": 6,
    "start_time": "2021-08-02T04:53:51.515Z"
   },
   {
    "duration": 6,
    "start_time": "2021-08-02T04:53:51.523Z"
   },
   {
    "duration": 7,
    "start_time": "2021-08-02T04:53:51.531Z"
   },
   {
    "duration": 64,
    "start_time": "2021-08-02T04:53:51.539Z"
   },
   {
    "duration": 245,
    "start_time": "2021-08-02T04:53:51.604Z"
   },
   {
    "duration": 106,
    "start_time": "2021-08-02T04:53:51.851Z"
   },
   {
    "duration": 6,
    "start_time": "2021-08-02T04:53:51.959Z"
   },
   {
    "duration": 18,
    "start_time": "2021-08-02T04:53:51.967Z"
   },
   {
    "duration": 10,
    "start_time": "2021-08-02T04:53:51.987Z"
   },
   {
    "duration": 4386,
    "start_time": "2021-08-02T04:53:51.999Z"
   },
   {
    "duration": -172,
    "start_time": "2021-08-02T04:53:56.558Z"
   },
   {
    "duration": -182,
    "start_time": "2021-08-02T04:53:56.569Z"
   },
   {
    "duration": -190,
    "start_time": "2021-08-02T04:53:56.578Z"
   },
   {
    "duration": 8,
    "start_time": "2021-08-02T04:54:21.109Z"
   },
   {
    "duration": 2,
    "start_time": "2021-08-02T04:55:05.375Z"
   },
   {
    "duration": 2,
    "start_time": "2021-08-02T04:55:14.377Z"
   },
   {
    "duration": 4213,
    "start_time": "2021-08-02T04:57:25.780Z"
   },
   {
    "duration": 1078,
    "start_time": "2021-08-02T04:58:47.661Z"
   },
   {
    "duration": 67,
    "start_time": "2021-08-02T04:58:48.741Z"
   },
   {
    "duration": 6,
    "start_time": "2021-08-02T04:58:48.810Z"
   },
   {
    "duration": 12,
    "start_time": "2021-08-02T04:58:48.818Z"
   },
   {
    "duration": 4,
    "start_time": "2021-08-02T04:58:48.831Z"
   },
   {
    "duration": 8,
    "start_time": "2021-08-02T04:58:48.837Z"
   },
   {
    "duration": 5,
    "start_time": "2021-08-02T04:58:48.846Z"
   },
   {
    "duration": 285,
    "start_time": "2021-08-02T04:58:48.853Z"
   },
   {
    "duration": 11,
    "start_time": "2021-08-02T04:58:49.140Z"
   },
   {
    "duration": 13,
    "start_time": "2021-08-02T04:58:49.153Z"
   },
   {
    "duration": 24,
    "start_time": "2021-08-02T04:58:49.168Z"
   },
   {
    "duration": 6,
    "start_time": "2021-08-02T04:58:49.193Z"
   },
   {
    "duration": 10,
    "start_time": "2021-08-02T04:58:49.200Z"
   },
   {
    "duration": 10,
    "start_time": "2021-08-02T04:58:49.211Z"
   },
   {
    "duration": 11,
    "start_time": "2021-08-02T04:58:49.222Z"
   },
   {
    "duration": 11,
    "start_time": "2021-08-02T04:58:49.234Z"
   },
   {
    "duration": 7,
    "start_time": "2021-08-02T04:58:49.246Z"
   },
   {
    "duration": 183,
    "start_time": "2021-08-02T04:58:49.254Z"
   },
   {
    "duration": 3,
    "start_time": "2021-08-02T04:58:49.439Z"
   },
   {
    "duration": 10,
    "start_time": "2021-08-02T04:58:49.443Z"
   },
   {
    "duration": 160,
    "start_time": "2021-08-02T04:58:49.454Z"
   },
   {
    "duration": 11,
    "start_time": "2021-08-02T04:58:49.615Z"
   },
   {
    "duration": 377,
    "start_time": "2021-08-02T04:58:49.629Z"
   },
   {
    "duration": 360,
    "start_time": "2021-08-02T04:58:50.009Z"
   },
   {
    "duration": 14,
    "start_time": "2021-08-02T04:58:50.371Z"
   },
   {
    "duration": 563,
    "start_time": "2021-08-02T04:58:50.386Z"
   },
   {
    "duration": 351,
    "start_time": "2021-08-02T04:58:50.951Z"
   },
   {
    "duration": 436,
    "start_time": "2021-08-02T04:58:51.304Z"
   },
   {
    "duration": 201,
    "start_time": "2021-08-02T04:58:51.742Z"
   },
   {
    "duration": 6,
    "start_time": "2021-08-02T04:58:51.945Z"
   },
   {
    "duration": 195,
    "start_time": "2021-08-02T04:58:51.953Z"
   },
   {
    "duration": 452,
    "start_time": "2021-08-02T04:58:52.150Z"
   },
   {
    "duration": 105,
    "start_time": "2021-08-02T04:58:52.604Z"
   },
   {
    "duration": 288,
    "start_time": "2021-08-02T04:58:52.711Z"
   },
   {
    "duration": 4,
    "start_time": "2021-08-02T04:58:53.000Z"
   },
   {
    "duration": 7,
    "start_time": "2021-08-02T04:58:53.006Z"
   },
   {
    "duration": 307,
    "start_time": "2021-08-02T04:58:53.015Z"
   },
   {
    "duration": 5,
    "start_time": "2021-08-02T04:58:53.324Z"
   },
   {
    "duration": 10,
    "start_time": "2021-08-02T04:58:53.330Z"
   },
   {
    "duration": 6,
    "start_time": "2021-08-02T04:58:53.341Z"
   },
   {
    "duration": 7,
    "start_time": "2021-08-02T04:58:53.348Z"
   },
   {
    "duration": 28,
    "start_time": "2021-08-02T04:58:53.357Z"
   },
   {
    "duration": 62,
    "start_time": "2021-08-02T04:58:53.387Z"
   },
   {
    "duration": 250,
    "start_time": "2021-08-02T04:58:53.451Z"
   },
   {
    "duration": 114,
    "start_time": "2021-08-02T04:58:53.703Z"
   },
   {
    "duration": 5,
    "start_time": "2021-08-02T04:58:53.818Z"
   },
   {
    "duration": 9,
    "start_time": "2021-08-02T04:58:53.825Z"
   },
   {
    "duration": 7,
    "start_time": "2021-08-02T04:58:53.835Z"
   },
   {
    "duration": 2,
    "start_time": "2021-08-02T04:58:53.844Z"
   },
   {
    "duration": 9,
    "start_time": "2021-08-02T04:58:53.847Z"
   },
   {
    "duration": 4337,
    "start_time": "2021-08-02T04:58:53.857Z"
   },
   {
    "duration": -169,
    "start_time": "2021-08-02T04:58:58.365Z"
   },
   {
    "duration": -179,
    "start_time": "2021-08-02T04:58:58.376Z"
   },
   {
    "duration": 8,
    "start_time": "2021-08-02T05:01:32.432Z"
   },
   {
    "duration": 7,
    "start_time": "2021-08-02T05:01:36.404Z"
   },
   {
    "duration": 186,
    "start_time": "2021-08-02T05:02:14.461Z"
   },
   {
    "duration": 8,
    "start_time": "2021-08-02T05:02:17.669Z"
   },
   {
    "duration": 15,
    "start_time": "2021-08-02T05:03:34.625Z"
   },
   {
    "duration": 1439,
    "start_time": "2021-08-02T05:19:27.854Z"
   },
   {
    "duration": 68,
    "start_time": "2021-08-02T05:19:29.294Z"
   },
   {
    "duration": 7,
    "start_time": "2021-08-02T05:19:29.364Z"
   },
   {
    "duration": 12,
    "start_time": "2021-08-02T05:19:29.373Z"
   },
   {
    "duration": 4,
    "start_time": "2021-08-02T05:19:29.387Z"
   },
   {
    "duration": 8,
    "start_time": "2021-08-02T05:19:29.393Z"
   },
   {
    "duration": 4,
    "start_time": "2021-08-02T05:19:29.403Z"
   },
   {
    "duration": 282,
    "start_time": "2021-08-02T05:19:29.410Z"
   },
   {
    "duration": 10,
    "start_time": "2021-08-02T05:19:29.695Z"
   },
   {
    "duration": 13,
    "start_time": "2021-08-02T05:19:29.707Z"
   },
   {
    "duration": 14,
    "start_time": "2021-08-02T05:19:29.722Z"
   },
   {
    "duration": 4,
    "start_time": "2021-08-02T05:19:29.738Z"
   },
   {
    "duration": 5,
    "start_time": "2021-08-02T05:19:29.744Z"
   },
   {
    "duration": 35,
    "start_time": "2021-08-02T05:19:29.750Z"
   },
   {
    "duration": 9,
    "start_time": "2021-08-02T05:19:29.786Z"
   },
   {
    "duration": 8,
    "start_time": "2021-08-02T05:19:29.796Z"
   },
   {
    "duration": 7,
    "start_time": "2021-08-02T05:19:29.805Z"
   },
   {
    "duration": 181,
    "start_time": "2021-08-02T05:19:29.813Z"
   },
   {
    "duration": 3,
    "start_time": "2021-08-02T05:19:29.996Z"
   },
   {
    "duration": 11,
    "start_time": "2021-08-02T05:19:30.001Z"
   },
   {
    "duration": 151,
    "start_time": "2021-08-02T05:19:30.014Z"
   },
   {
    "duration": 24,
    "start_time": "2021-08-02T05:19:30.167Z"
   },
   {
    "duration": 357,
    "start_time": "2021-08-02T05:19:30.194Z"
   },
   {
    "duration": 358,
    "start_time": "2021-08-02T05:19:30.553Z"
   },
   {
    "duration": 6,
    "start_time": "2021-08-02T05:19:30.913Z"
   },
   {
    "duration": 540,
    "start_time": "2021-08-02T05:19:30.920Z"
   },
   {
    "duration": 360,
    "start_time": "2021-08-02T05:19:31.462Z"
   },
   {
    "duration": 428,
    "start_time": "2021-08-02T05:19:31.823Z"
   },
   {
    "duration": 193,
    "start_time": "2021-08-02T05:19:32.253Z"
   },
   {
    "duration": 5,
    "start_time": "2021-08-02T05:19:32.448Z"
   },
   {
    "duration": 191,
    "start_time": "2021-08-02T05:19:32.455Z"
   },
   {
    "duration": 454,
    "start_time": "2021-08-02T05:19:32.647Z"
   },
   {
    "duration": 104,
    "start_time": "2021-08-02T05:19:33.103Z"
   },
   {
    "duration": 297,
    "start_time": "2021-08-02T05:19:33.209Z"
   },
   {
    "duration": 4,
    "start_time": "2021-08-02T05:19:33.508Z"
   },
   {
    "duration": 7,
    "start_time": "2021-08-02T05:19:33.514Z"
   },
   {
    "duration": 281,
    "start_time": "2021-08-02T05:19:33.522Z"
   },
   {
    "duration": 5,
    "start_time": "2021-08-02T05:19:33.805Z"
   },
   {
    "duration": 7,
    "start_time": "2021-08-02T05:19:33.811Z"
   },
   {
    "duration": 7,
    "start_time": "2021-08-02T05:19:33.820Z"
   },
   {
    "duration": 7,
    "start_time": "2021-08-02T05:19:33.829Z"
   },
   {
    "duration": 7,
    "start_time": "2021-08-02T05:19:33.837Z"
   },
   {
    "duration": 63,
    "start_time": "2021-08-02T05:19:33.845Z"
   },
   {
    "duration": 266,
    "start_time": "2021-08-02T05:19:33.910Z"
   },
   {
    "duration": 109,
    "start_time": "2021-08-02T05:19:34.178Z"
   },
   {
    "duration": 5,
    "start_time": "2021-08-02T05:19:34.288Z"
   },
   {
    "duration": 15,
    "start_time": "2021-08-02T05:19:34.295Z"
   },
   {
    "duration": 11,
    "start_time": "2021-08-02T05:19:34.311Z"
   },
   {
    "duration": 5,
    "start_time": "2021-08-02T05:19:34.323Z"
   },
   {
    "duration": 10,
    "start_time": "2021-08-02T05:19:34.329Z"
   },
   {
    "duration": 7,
    "start_time": "2021-08-02T05:19:34.341Z"
   },
   {
    "duration": 9,
    "start_time": "2021-08-02T05:19:34.350Z"
   },
   {
    "duration": 33,
    "start_time": "2021-08-02T05:19:34.361Z"
   },
   {
    "duration": 89,
    "start_time": "2021-08-02T07:35:52.325Z"
   }
  ],
  "kernelspec": {
   "display_name": "Python 3",
   "language": "python",
   "name": "python3"
  },
  "language_info": {
   "codemirror_mode": {
    "name": "ipython",
    "version": 3
   },
   "file_extension": ".py",
   "mimetype": "text/x-python",
   "name": "python",
   "nbconvert_exporter": "python",
   "pygments_lexer": "ipython3",
   "version": "3.7.8"
  },
  "toc": {
   "base_numbering": 1,
   "nav_menu": {},
   "number_sections": true,
   "sideBar": true,
   "skip_h1_title": true,
   "title_cell": "Table of Contents",
   "title_sidebar": "Contents",
   "toc_cell": false,
   "toc_position": {},
   "toc_section_display": true,
   "toc_window_display": false
  }
 },
 "nbformat": 4,
 "nbformat_minor": 2
}
