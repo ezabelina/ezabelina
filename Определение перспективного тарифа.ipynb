{
 "cells": [
  {
   "cell_type": "markdown",
   "metadata": {},
   "source": [
    " <div style=\"border:solid green 2px; padding: 20px\">\n",
    "<b>Привет, Екатерина!</b>\n",
    "\n",
    "Меня зовут Марина К, и я буду проверять твой проект. Предлагаю общаться на «ты» :) Но если это не удобно - дай мне знать, и мы перейдем на «вы». \n",
    "\n",
    "Ты проделала большую работу над проектом, но давай сделаем его еще лучше! Ниже ты найдешь мои комментарии - пожалуйста, не перемещай, не изменяй и не удаляй их. Я буду использовать цветовую разметку:\n",
    "\n",
    "<div class=\"alert alert-danger\">\n",
    "<b>Комментарии ревьюера:</b> Так выделены самые важные замечания. Без их отработки проект не будет принят. </div>\n",
    "\n",
    "<div class=\"alert alert-warning\">\n",
    "<b>Комментарии ревьюера:</b> Так выделены небольшие замечания. Одно-два таких замечания в проекте допустимы, но если их будет больше - тебе будет необходимо внести исправления.  </div>\n",
    "\n",
    "<div class=\"alert alert-success\">\n",
    "<b>Комментарии ревьюера:</b> Так я выделяю все остальные комментарии, твои удачные решения, комментарии по твоим промежуточным выводам и даю подсказки, как можно улучшить твоё решение.</div>\n",
    "\n",
    "Давай работать над проектом в диалоге: если ты что-то меняешь в проекте или отвечаешь на мои комментарии — пиши об этом. Мне будет легче отследить изменения, если ты выделишь свои комментарии:\n",
    "<div class=\"alert alert-info\"> <b>Комментарии студента:</b> Например, вот так.</div>\n",
    "\n",
    "Всё это поможет выполнить повторную проверку твоего проекта оперативнее. Если будут какие-нибудь вопросы по моим комментариям, пиши, будем разбираться вместе :)"
   ]
  },
  {
   "cell_type": "markdown",
   "metadata": {},
   "source": [
    " <div style=\"border:solid green 2px; padding: 20px\">\n",
    " Проект принят, удачи в следующих проектах! Оставила немного комментариев с пометкой V2."
   ]
  },
  {
   "cell_type": "markdown",
   "metadata": {},
   "source": [
    "# Описание проекта"
   ]
  },
  {
   "cell_type": "markdown",
   "metadata": {},
   "source": [
    "Вам предстоит сделать предварительный анализ тарифов на небольшой выборке клиентов. В вашем распоряжении данные 500 пользователей «Мегалайна»: кто они, откуда, каким тарифом пользуются, сколько звонков и сообщений каждый отправил за 2018 год. Нужно проанализировать поведение клиентов и сделать вывод — какой тариф лучше."
   ]
  },
  {
   "cell_type": "markdown",
   "metadata": {},
   "source": [
    "<div class=\"alert alert-success\">\n",
    "<b>Комментарии ревьюера:</b> Хорошее начало :) Можно еще отдельно зафиксировать цель, добавить план проекта и сделать описание входных переменных. Так, читатель твоего проекта сразу сможет погрузиться в суть проекта. </div>"
   ]
  },
  {
   "cell_type": "markdown",
   "metadata": {},
   "source": [
    "## Шаг 1. Откройте файл с данными и изучите общую информацию"
   ]
  },
  {
   "cell_type": "code",
   "execution_count": 1,
   "metadata": {},
   "outputs": [],
   "source": [
    "from scipy import stats as st\n",
    "import numpy as np\n",
    "import pandas as pd\n",
    "import matplotlib.pyplot as plt\n",
    "import datetime\n",
    "from math import factorial\n",
    "\n",
    "calls = pd.read_csv('/datasets/calls.csv')\n",
    "internet = pd.read_csv('/datasets/internet.csv')\n",
    "messages = pd.read_csv('/datasets/messages.csv')\n",
    "tariffs = pd.read_csv('/datasets/tariffs.csv')\n",
    "users = pd.read_csv('/datasets/users.csv')\n",
    "\n",
    "\n",
    "pd.options.display.max_columns = 40\n",
    "import warnings\n",
    "warnings.filterwarnings('ignore')"
   ]
  },
  {
   "cell_type": "markdown",
   "metadata": {},
   "source": [
    "<div class=\"alert alert-success\">\n",
    "<b>Комментарии ревьюера:</b> Данные загружены, давай на них посмотрим.</div>"
   ]
  },
  {
   "cell_type": "code",
   "execution_count": 2,
   "metadata": {},
   "outputs": [
    {
     "name": "stdout",
     "output_type": "stream",
     "text": [
      "<class 'pandas.core.frame.DataFrame'>\n",
      "RangeIndex: 149396 entries, 0 to 149395\n",
      "Data columns (total 5 columns):\n",
      "Unnamed: 0      149396 non-null int64\n",
      "id              149396 non-null object\n",
      "mb_used         149396 non-null float64\n",
      "session_date    149396 non-null object\n",
      "user_id         149396 non-null int64\n",
      "dtypes: float64(1), int64(2), object(2)\n",
      "memory usage: 5.7+ MB\n",
      "<class 'pandas.core.frame.DataFrame'>\n",
      "RangeIndex: 123036 entries, 0 to 123035\n",
      "Data columns (total 3 columns):\n",
      "id              123036 non-null object\n",
      "message_date    123036 non-null object\n",
      "user_id         123036 non-null int64\n",
      "dtypes: int64(1), object(2)\n",
      "memory usage: 2.8+ MB\n",
      "<class 'pandas.core.frame.DataFrame'>\n",
      "RangeIndex: 2 entries, 0 to 1\n",
      "Data columns (total 8 columns):\n",
      "messages_included        2 non-null int64\n",
      "mb_per_month_included    2 non-null int64\n",
      "minutes_included         2 non-null int64\n",
      "rub_monthly_fee          2 non-null int64\n",
      "rub_per_gb               2 non-null int64\n",
      "rub_per_message          2 non-null int64\n",
      "rub_per_minute           2 non-null int64\n",
      "tariff_name              2 non-null object\n",
      "dtypes: int64(7), object(1)\n",
      "memory usage: 256.0+ bytes\n",
      "<class 'pandas.core.frame.DataFrame'>\n",
      "RangeIndex: 500 entries, 0 to 499\n",
      "Data columns (total 8 columns):\n",
      "user_id       500 non-null int64\n",
      "age           500 non-null int64\n",
      "churn_date    38 non-null object\n",
      "city          500 non-null object\n",
      "first_name    500 non-null object\n",
      "last_name     500 non-null object\n",
      "reg_date      500 non-null object\n",
      "tariff        500 non-null object\n",
      "dtypes: int64(2), object(6)\n",
      "memory usage: 31.4+ KB\n",
      "<class 'pandas.core.frame.DataFrame'>\n",
      "RangeIndex: 202607 entries, 0 to 202606\n",
      "Data columns (total 4 columns):\n",
      "id           202607 non-null object\n",
      "call_date    202607 non-null object\n",
      "duration     202607 non-null float64\n",
      "user_id      202607 non-null int64\n",
      "dtypes: float64(1), int64(1), object(2)\n",
      "memory usage: 6.2+ MB\n"
     ]
    }
   ],
   "source": [
    "\n",
    "internet.info()\n",
    "messages.info()\n",
    "tariffs.info()\n",
    "users.info()\n",
    "calls.info()\n",
    "\n"
   ]
  },
  {
   "cell_type": "code",
   "execution_count": 3,
   "metadata": {},
   "outputs": [
    {
     "data": {
      "text/plain": [
       "0"
      ]
     },
     "execution_count": 3,
     "metadata": {},
     "output_type": "execute_result"
    }
   ],
   "source": [
    "#проверка на дубликаты\n",
    "messages.duplicated().sum()\n",
    "\n",
    "tariffs.duplicated().sum()\n",
    "\n",
    "users.duplicated().sum()\n",
    "\n",
    "calls.duplicated().sum()"
   ]
  },
  {
   "cell_type": "code",
   "execution_count": 4,
   "metadata": {},
   "outputs": [
    {
     "name": "stdout",
     "output_type": "stream",
     "text": [
      "         id   call_date  duration  user_id\n",
      "0    1000_0  2018-07-25      0.00     1000\n",
      "1    1000_1  2018-08-17      0.00     1000\n",
      "2    1000_2  2018-06-11      2.85     1000\n",
      "3    1000_3  2018-09-21     13.80     1000\n",
      "4    1000_4  2018-12-15      5.18     1000\n",
      "5    1000_5  2018-11-02      0.00     1000\n",
      "6    1000_6  2018-10-18      0.00     1000\n",
      "7    1000_7  2018-08-22     18.31     1000\n",
      "8    1000_8  2018-09-15     18.44     1000\n",
      "9    1000_9  2018-08-15      0.00     1000\n",
      "10  1000_10  2018-08-22      5.03     1000\n",
      "11  1000_11  2018-05-28     18.82     1000\n",
      "12  1000_12  2018-07-05      2.02     1000\n",
      "13  1000_13  2018-09-29      7.15     1000\n",
      "14  1000_14  2018-12-11      9.13     1000\n"
     ]
    }
   ],
   "source": [
    "print(calls.head(15))"
   ]
  },
  {
   "cell_type": "markdown",
   "metadata": {},
   "source": [
    "<div class=\"alert alert-warning\">\n",
    "<b>Комментарии ревьюера:</b> Верное решение использовать info(), но выводы немного слились. Стоит добавить строки-разделители. Можно также попробовать сделать вывод таблиц в цикле для большей автоматизации процесса. </div>"
   ]
  },
  {
   "cell_type": "markdown",
   "metadata": {},
   "source": [
    "Данные по 500 пользователям, пропущенных значений нет, кроме тех, о которых говорится в тз - дата прекращения пользования тарифом. Пропущенное значение здесь означает, что на момент выгрузки данных тариф еще действовал."
   ]
  },
  {
   "cell_type": "markdown",
   "metadata": {},
   "source": [
    "<div class=\"alert alert-danger\">\n",
    "<b>Комментарии ревьюера:</b> <s>Стоит еще сразу проверить каждую таблицу на наличие дубликатов. Добавь, пожалуйста :)</s>\n",
    "\n",
    "Perfect :)\n",
    "</div>\n",
    "\n",
    "<div class=\"alert alert-info\"> fixed:)</div>"
   ]
  },
  {
   "cell_type": "markdown",
   "metadata": {},
   "source": [
    "## Шаг 2. Подготовьте данные"
   ]
  },
  {
   "cell_type": "code",
   "execution_count": 5,
   "metadata": {},
   "outputs": [],
   "source": [
    "#округлим значения длительности звонков\n",
    "internet['mb_used'] = np.ceil(internet['mb_used'])\n",
    "internet['mb_used'] = internet['mb_used'].astype('int')\n",
    "#округлим значение интернет-сессий\n",
    "calls['duration'] = np.ceil(calls['duration'])\n",
    "calls['duration'] = calls['duration'].astype('int')\n",
    "#приведем все столбцы с датами к нужному формату\n",
    "users['reg_date'] = pd.to_datetime(users['reg_date'])\n",
    "users['churn_date'] = pd.to_datetime(users['churn_date'])\n",
    "calls['call_date'] = pd.to_datetime(calls['call_date'])\n",
    "messages['message_date'] = pd.to_datetime(messages['message_date'])\n",
    "internet['session_date'] = pd.to_datetime(internet['session_date'])\n"
   ]
  },
  {
   "cell_type": "code",
   "execution_count": 6,
   "metadata": {},
   "outputs": [
    {
     "data": {
      "image/png": "[encoded data removed]",
      "text/plain": [
       "<Figure size 576x288 with 1 Axes>"
      ]
     },
     "metadata": {
      "needs_background": "light"
     },
     "output_type": "display_data"
    }
   ],
   "source": [
    "plt.figure(figsize =(8, 4))\n",
    "plt.title('Распределение длительности звонков')\n",
    "hist = calls['duration'].plot(kind='hist', bins=(30),         \n",
    "                alpha=0.5, \n",
    "                ec='black',\n",
    "                color='red')\n",
    "plt.show()\n"
   ]
  },
  {
   "cell_type": "code",
   "execution_count": 7,
   "metadata": {},
   "outputs": [
    {
     "data": {
      "image/png": "[encoded data removed]",
      "text/plain": [
       "<Figure size 576x288 with 1 Axes>"
      ]
     },
     "metadata": {
      "needs_background": "light"
     },
     "output_type": "display_data"
    }
   ],
   "source": [
    "plt.figure(figsize =(8, 4))\n",
    "plt.title('Распределение длительности интернет-сессий')\n",
    "hist = internet['mb_used'].plot(kind='hist', bins=(30),         \n",
    "                alpha=0.5, \n",
    "                ec='black',\n",
    "                color='red')\n",
    "plt.show()\n"
   ]
  },
  {
   "cell_type": "markdown",
   "metadata": {},
   "source": [
    "Большое количество нулей в длительности звонков и объеме трафика. Со звонками понятно - могут быть пропущенные, сброшенные и так далее. Если человек в принципе трубку не взял - то есть не проговорил и секунды, - то и стоимости такие звонки иметь не будут. То же самое и с объемом трафика. \n",
    "Но так как мы в объеме трафика и длительности звонков сделали округление в большую сторону, то есть звонки длительностью в секунду у нас стали минутой, то оставшиеся нули - определенно точно не стоили ни копейки.\n",
    "В этом случае не вижу смысла их обрабатывать. **поправьте меня, если не права в выводах, в таком случае подобные строки можно просто удалить**"
   ]
  },
  {
   "cell_type": "markdown",
   "metadata": {},
   "source": [
    "<div class=\"alert alert-success\">\n",
    "<b>Комментарии ревьюера V2:</b> Теперь замечаний нет. Нам важно было рассмотреть распределения звонков и интернет-сессий, чтобы знать, с какими данными мы работаем. Ты абсолютно верно отметила, что далее при агрегировании наши нули никак не повлияют на расчеты, поэтому можно их удалить или просто оставить.</div>"
   ]
  },
  {
   "cell_type": "markdown",
   "metadata": {},
   "source": [
    "<div class=\"alert alert-danger\">\n",
    "<b>Комментарии ревьюера:</b> <s>Здесь еще (после округления) необходимо посмотреть на распределения длительности звонков и интернет-сессий. Построй гистограммы и опиши аномалии, которые ты обнаружила. Прокомментируй, откуда могли взяться такие данные, и как мы будем их обрабатывать.\n",
    "    \n",
    "Еще, по условиям тарифа необходимо сделать округление для интернет-сессий (используй аналогичный метод и также приведи после этого к целочисленному типу).    \n",
    "    Уверена, у тебя это не займет много времени :) </s></div>\n",
    "\n",
    "<div class=\"alert alert-info\"> добавила распределение и вывод, насколько легитимный - не знаю:)</div>"
   ]
  },
  {
   "cell_type": "code",
   "execution_count": 8,
   "metadata": {},
   "outputs": [],
   "source": [
    "#функция для просчитывания значений по месяцам для каждого пользователя\n",
    "def count_for_month(data, datetime, index, values, func):\n",
    "    data['month'] = data[datetime].dt.month\n",
    "    pivot = data.pivot_table(index = [index,'month'], values = values, aggfunc = func, fill_value = 0)\n",
    "    pivot=pivot.reset_index()\n",
    "    return pivot"
   ]
  },
  {
   "cell_type": "markdown",
   "metadata": {},
   "source": [
    "<div class=\"alert alert-success\">\n",
    "<b>Комментарии ревьюера:</b> Все верно, нам нужна группировка по двум столбцам user_id и месяцу. </div>"
   ]
  },
  {
   "cell_type": "code",
   "execution_count": 9,
   "metadata": {},
   "outputs": [],
   "source": [
    "#применим функцию к таблицам с необходимыми данными и соответствующими операциями - суммой и подсчетом\n",
    "calls_count = count_for_month(calls, 'call_date', 'user_id' ,'duration', 'sum')\n",
    "messages_count = count_for_month(messages, 'message_date', 'user_id' ,'message_date', 'count')\n",
    "internet_count = count_for_month(internet, 'session_date', 'user_id' ,'mb_used', 'sum')"
   ]
  },
  {
   "cell_type": "code",
   "execution_count": 10,
   "metadata": {},
   "outputs": [
    {
     "data": {
      "text/html": [
       "<div>\n",
       "<style scoped>\n",
       "    .dataframe tbody tr th:only-of-type {\n",
       "        vertical-align: middle;\n",
       "    }\n",
       "\n",
       "    .dataframe tbody tr th {\n",
       "        vertical-align: top;\n",
       "    }\n",
       "\n",
       "    .dataframe thead th {\n",
       "        text-align: right;\n",
       "    }\n",
       "</style>\n",
       "<table border=\"1\" class=\"dataframe\">\n",
       "  <thead>\n",
       "    <tr style=\"text-align: right;\">\n",
       "      <th></th>\n",
       "      <th>user_id</th>\n",
       "      <th>month</th>\n",
       "      <th>duration</th>\n",
       "      <th>message_date</th>\n",
       "      <th>mb_used</th>\n",
       "      <th>tariff</th>\n",
       "      <th>city</th>\n",
       "      <th>messages_included</th>\n",
       "      <th>mb_per_month_included</th>\n",
       "      <th>minutes_included</th>\n",
       "      <th>rub_monthly_fee</th>\n",
       "      <th>rub_per_gb</th>\n",
       "      <th>rub_per_message</th>\n",
       "      <th>rub_per_minute</th>\n",
       "    </tr>\n",
       "  </thead>\n",
       "  <tbody>\n",
       "    <tr>\n",
       "      <td>0</td>\n",
       "      <td>1000</td>\n",
       "      <td>5</td>\n",
       "      <td>159.0</td>\n",
       "      <td>22.0</td>\n",
       "      <td>2256.0</td>\n",
       "      <td>ultra</td>\n",
       "      <td>Краснодар</td>\n",
       "      <td>1000</td>\n",
       "      <td>30720</td>\n",
       "      <td>3000</td>\n",
       "      <td>1950</td>\n",
       "      <td>150</td>\n",
       "      <td>1</td>\n",
       "      <td>1</td>\n",
       "    </tr>\n",
       "    <tr>\n",
       "      <td>1</td>\n",
       "      <td>1000</td>\n",
       "      <td>6</td>\n",
       "      <td>172.0</td>\n",
       "      <td>60.0</td>\n",
       "      <td>23257.0</td>\n",
       "      <td>ultra</td>\n",
       "      <td>Краснодар</td>\n",
       "      <td>1000</td>\n",
       "      <td>30720</td>\n",
       "      <td>3000</td>\n",
       "      <td>1950</td>\n",
       "      <td>150</td>\n",
       "      <td>1</td>\n",
       "      <td>1</td>\n",
       "    </tr>\n",
       "    <tr>\n",
       "      <td>2</td>\n",
       "      <td>1000</td>\n",
       "      <td>7</td>\n",
       "      <td>340.0</td>\n",
       "      <td>75.0</td>\n",
       "      <td>14016.0</td>\n",
       "      <td>ultra</td>\n",
       "      <td>Краснодар</td>\n",
       "      <td>1000</td>\n",
       "      <td>30720</td>\n",
       "      <td>3000</td>\n",
       "      <td>1950</td>\n",
       "      <td>150</td>\n",
       "      <td>1</td>\n",
       "      <td>1</td>\n",
       "    </tr>\n",
       "    <tr>\n",
       "      <td>3</td>\n",
       "      <td>1000</td>\n",
       "      <td>8</td>\n",
       "      <td>408.0</td>\n",
       "      <td>81.0</td>\n",
       "      <td>14070.0</td>\n",
       "      <td>ultra</td>\n",
       "      <td>Краснодар</td>\n",
       "      <td>1000</td>\n",
       "      <td>30720</td>\n",
       "      <td>3000</td>\n",
       "      <td>1950</td>\n",
       "      <td>150</td>\n",
       "      <td>1</td>\n",
       "      <td>1</td>\n",
       "    </tr>\n",
       "    <tr>\n",
       "      <td>4</td>\n",
       "      <td>1000</td>\n",
       "      <td>9</td>\n",
       "      <td>466.0</td>\n",
       "      <td>57.0</td>\n",
       "      <td>14581.0</td>\n",
       "      <td>ultra</td>\n",
       "      <td>Краснодар</td>\n",
       "      <td>1000</td>\n",
       "      <td>30720</td>\n",
       "      <td>3000</td>\n",
       "      <td>1950</td>\n",
       "      <td>150</td>\n",
       "      <td>1</td>\n",
       "      <td>1</td>\n",
       "    </tr>\n",
       "    <tr>\n",
       "      <td>...</td>\n",
       "      <td>...</td>\n",
       "      <td>...</td>\n",
       "      <td>...</td>\n",
       "      <td>...</td>\n",
       "      <td>...</td>\n",
       "      <td>...</td>\n",
       "      <td>...</td>\n",
       "      <td>...</td>\n",
       "      <td>...</td>\n",
       "      <td>...</td>\n",
       "      <td>...</td>\n",
       "      <td>...</td>\n",
       "      <td>...</td>\n",
       "      <td>...</td>\n",
       "    </tr>\n",
       "    <tr>\n",
       "      <td>3209</td>\n",
       "      <td>1489</td>\n",
       "      <td>9</td>\n",
       "      <td>0.0</td>\n",
       "      <td>32.0</td>\n",
       "      <td>17232.0</td>\n",
       "      <td>smart</td>\n",
       "      <td>Санкт-Петербург</td>\n",
       "      <td>50</td>\n",
       "      <td>15360</td>\n",
       "      <td>500</td>\n",
       "      <td>550</td>\n",
       "      <td>200</td>\n",
       "      <td>3</td>\n",
       "      <td>3</td>\n",
       "    </tr>\n",
       "    <tr>\n",
       "      <td>3210</td>\n",
       "      <td>1489</td>\n",
       "      <td>10</td>\n",
       "      <td>0.0</td>\n",
       "      <td>21.0</td>\n",
       "      <td>19588.0</td>\n",
       "      <td>smart</td>\n",
       "      <td>Санкт-Петербург</td>\n",
       "      <td>50</td>\n",
       "      <td>15360</td>\n",
       "      <td>500</td>\n",
       "      <td>550</td>\n",
       "      <td>200</td>\n",
       "      <td>3</td>\n",
       "      <td>3</td>\n",
       "    </tr>\n",
       "    <tr>\n",
       "      <td>3211</td>\n",
       "      <td>1489</td>\n",
       "      <td>11</td>\n",
       "      <td>0.0</td>\n",
       "      <td>20.0</td>\n",
       "      <td>17516.0</td>\n",
       "      <td>smart</td>\n",
       "      <td>Санкт-Петербург</td>\n",
       "      <td>50</td>\n",
       "      <td>15360</td>\n",
       "      <td>500</td>\n",
       "      <td>550</td>\n",
       "      <td>200</td>\n",
       "      <td>3</td>\n",
       "      <td>3</td>\n",
       "    </tr>\n",
       "    <tr>\n",
       "      <td>3212</td>\n",
       "      <td>1489</td>\n",
       "      <td>12</td>\n",
       "      <td>0.0</td>\n",
       "      <td>35.0</td>\n",
       "      <td>17341.0</td>\n",
       "      <td>smart</td>\n",
       "      <td>Санкт-Петербург</td>\n",
       "      <td>50</td>\n",
       "      <td>15360</td>\n",
       "      <td>500</td>\n",
       "      <td>550</td>\n",
       "      <td>200</td>\n",
       "      <td>3</td>\n",
       "      <td>3</td>\n",
       "    </tr>\n",
       "    <tr>\n",
       "      <td>3213</td>\n",
       "      <td>1476</td>\n",
       "      <td>4</td>\n",
       "      <td>0.0</td>\n",
       "      <td>0.0</td>\n",
       "      <td>531.0</td>\n",
       "      <td>ultra</td>\n",
       "      <td>Москва</td>\n",
       "      <td>1000</td>\n",
       "      <td>30720</td>\n",
       "      <td>3000</td>\n",
       "      <td>1950</td>\n",
       "      <td>150</td>\n",
       "      <td>1</td>\n",
       "      <td>1</td>\n",
       "    </tr>\n",
       "  </tbody>\n",
       "</table>\n",
       "<p>3214 rows × 14 columns</p>\n",
       "</div>"
      ],
      "text/plain": [
       "      user_id  month  duration  message_date  mb_used tariff             city  \\\n",
       "0        1000      5     159.0          22.0   2256.0  ultra        Краснодар   \n",
       "1        1000      6     172.0          60.0  23257.0  ultra        Краснодар   \n",
       "2        1000      7     340.0          75.0  14016.0  ultra        Краснодар   \n",
       "3        1000      8     408.0          81.0  14070.0  ultra        Краснодар   \n",
       "4        1000      9     466.0          57.0  14581.0  ultra        Краснодар   \n",
       "...       ...    ...       ...           ...      ...    ...              ...   \n",
       "3209     1489      9       0.0          32.0  17232.0  smart  Санкт-Петербург   \n",
       "3210     1489     10       0.0          21.0  19588.0  smart  Санкт-Петербург   \n",
       "3211     1489     11       0.0          20.0  17516.0  smart  Санкт-Петербург   \n",
       "3212     1489     12       0.0          35.0  17341.0  smart  Санкт-Петербург   \n",
       "3213     1476      4       0.0           0.0    531.0  ultra           Москва   \n",
       "\n",
       "      messages_included  mb_per_month_included  minutes_included  \\\n",
       "0                  1000                  30720              3000   \n",
       "1                  1000                  30720              3000   \n",
       "2                  1000                  30720              3000   \n",
       "3                  1000                  30720              3000   \n",
       "4                  1000                  30720              3000   \n",
       "...                 ...                    ...               ...   \n",
       "3209                 50                  15360               500   \n",
       "3210                 50                  15360               500   \n",
       "3211                 50                  15360               500   \n",
       "3212                 50                  15360               500   \n",
       "3213               1000                  30720              3000   \n",
       "\n",
       "      rub_monthly_fee  rub_per_gb  rub_per_message  rub_per_minute  \n",
       "0                1950         150                1               1  \n",
       "1                1950         150                1               1  \n",
       "2                1950         150                1               1  \n",
       "3                1950         150                1               1  \n",
       "4                1950         150                1               1  \n",
       "...               ...         ...              ...             ...  \n",
       "3209              550         200                3               3  \n",
       "3210              550         200                3               3  \n",
       "3211              550         200                3               3  \n",
       "3212              550         200                3               3  \n",
       "3213             1950         150                1               1  \n",
       "\n",
       "[3214 rows x 14 columns]"
      ]
     },
     "execution_count": 10,
     "metadata": {},
     "output_type": "execute_result"
    }
   ],
   "source": [
    "#соединяем нужные таблички и нужные столбцы\n",
    "revenue = calls_count.merge(messages_count, on=['user_id', 'month'], how='outer')\n",
    "revenue = revenue.merge(internet_count, on=['user_id', 'month'], how='outer')\n",
    "revenue = revenue.merge(users[['user_id', 'tariff','city']], on='user_id', how='left')\n",
    "tariffs.rename(columns={'tariff_name':'tariff'}, inplace=True)\n",
    "revenue = revenue.merge(tariffs, on = 'tariff',how = 'left')\n",
    "\n",
    "#образовавшиеся пропуски заполняем нулями, пропуски здесь = не доход\n",
    "revenue = revenue.fillna(0)\n",
    "revenue"
   ]
  },
  {
   "cell_type": "markdown",
   "metadata": {},
   "source": [
    "<div class=\"alert alert-success\">\n",
    "<b>Комментарии ревьюера:</b> Объединение таблиц верное! \n",
    " Правильно, что использовала метод объединения outer для таблиц calls_count, messages_count, internet_count. Некоторые клиенты пользуются только одной из видов связи, и нам важно не потерять никакие строки. Потом с помощью left присоединяем данные из таблицы пользователей. Верно, что заполняешь пропуски, если клиент не пользуется какой-либо услугой, то в общей сумме это должно зафиксироваться как нуль.\n",
    " \n",
    "Проверить правильность объединения можно, если вывести количество уникальных пользователей. Их будет 498, всего в датасете 500. 2 клиента выпали, так как они пользовались услугами меньше месяца (проверяется с помощью churn_date).  \n",
    "    \n",
    "Маленький совет - лучше выводи первые, последние или случайные строки таблицы. Всю таблицу мы рассмотреть не можем, а памяти для её загрузки требуется много :)</div>"
   ]
  },
  {
   "cell_type": "code",
   "execution_count": 11,
   "metadata": {
    "scrolled": true
   },
   "outputs": [
    {
     "data": {
      "text/html": [
       "<div>\n",
       "<style scoped>\n",
       "    .dataframe tbody tr th:only-of-type {\n",
       "        vertical-align: middle;\n",
       "    }\n",
       "\n",
       "    .dataframe tbody tr th {\n",
       "        vertical-align: top;\n",
       "    }\n",
       "\n",
       "    .dataframe thead th {\n",
       "        text-align: right;\n",
       "    }\n",
       "</style>\n",
       "<table border=\"1\" class=\"dataframe\">\n",
       "  <thead>\n",
       "    <tr style=\"text-align: right;\">\n",
       "      <th></th>\n",
       "      <th>user_id</th>\n",
       "      <th>month</th>\n",
       "      <th>duration</th>\n",
       "      <th>message_date</th>\n",
       "      <th>mb_used</th>\n",
       "      <th>tariff</th>\n",
       "      <th>city</th>\n",
       "      <th>messages_included</th>\n",
       "      <th>mb_per_month_included</th>\n",
       "      <th>minutes_included</th>\n",
       "      <th>rub_monthly_fee</th>\n",
       "      <th>rub_per_gb</th>\n",
       "      <th>rub_per_message</th>\n",
       "      <th>rub_per_minute</th>\n",
       "      <th>minover</th>\n",
       "      <th>mesover</th>\n",
       "      <th>gbover</th>\n",
       "      <th>proceeds</th>\n",
       "    </tr>\n",
       "  </thead>\n",
       "  <tbody>\n",
       "    <tr>\n",
       "      <td>0</td>\n",
       "      <td>1000</td>\n",
       "      <td>5</td>\n",
       "      <td>159.0</td>\n",
       "      <td>22.0</td>\n",
       "      <td>2256.0</td>\n",
       "      <td>ultra</td>\n",
       "      <td>Краснодар</td>\n",
       "      <td>1000</td>\n",
       "      <td>30720</td>\n",
       "      <td>3000</td>\n",
       "      <td>1950</td>\n",
       "      <td>150</td>\n",
       "      <td>1</td>\n",
       "      <td>1</td>\n",
       "      <td>0.0</td>\n",
       "      <td>0.0</td>\n",
       "      <td>0.000000</td>\n",
       "      <td>1950.000000</td>\n",
       "    </tr>\n",
       "    <tr>\n",
       "      <td>1</td>\n",
       "      <td>1000</td>\n",
       "      <td>6</td>\n",
       "      <td>172.0</td>\n",
       "      <td>60.0</td>\n",
       "      <td>23257.0</td>\n",
       "      <td>ultra</td>\n",
       "      <td>Краснодар</td>\n",
       "      <td>1000</td>\n",
       "      <td>30720</td>\n",
       "      <td>3000</td>\n",
       "      <td>1950</td>\n",
       "      <td>150</td>\n",
       "      <td>1</td>\n",
       "      <td>1</td>\n",
       "      <td>0.0</td>\n",
       "      <td>0.0</td>\n",
       "      <td>0.000000</td>\n",
       "      <td>1950.000000</td>\n",
       "    </tr>\n",
       "    <tr>\n",
       "      <td>2</td>\n",
       "      <td>1000</td>\n",
       "      <td>7</td>\n",
       "      <td>340.0</td>\n",
       "      <td>75.0</td>\n",
       "      <td>14016.0</td>\n",
       "      <td>ultra</td>\n",
       "      <td>Краснодар</td>\n",
       "      <td>1000</td>\n",
       "      <td>30720</td>\n",
       "      <td>3000</td>\n",
       "      <td>1950</td>\n",
       "      <td>150</td>\n",
       "      <td>1</td>\n",
       "      <td>1</td>\n",
       "      <td>0.0</td>\n",
       "      <td>0.0</td>\n",
       "      <td>0.000000</td>\n",
       "      <td>1950.000000</td>\n",
       "    </tr>\n",
       "    <tr>\n",
       "      <td>3</td>\n",
       "      <td>1000</td>\n",
       "      <td>8</td>\n",
       "      <td>408.0</td>\n",
       "      <td>81.0</td>\n",
       "      <td>14070.0</td>\n",
       "      <td>ultra</td>\n",
       "      <td>Краснодар</td>\n",
       "      <td>1000</td>\n",
       "      <td>30720</td>\n",
       "      <td>3000</td>\n",
       "      <td>1950</td>\n",
       "      <td>150</td>\n",
       "      <td>1</td>\n",
       "      <td>1</td>\n",
       "      <td>0.0</td>\n",
       "      <td>0.0</td>\n",
       "      <td>0.000000</td>\n",
       "      <td>1950.000000</td>\n",
       "    </tr>\n",
       "    <tr>\n",
       "      <td>4</td>\n",
       "      <td>1000</td>\n",
       "      <td>9</td>\n",
       "      <td>466.0</td>\n",
       "      <td>57.0</td>\n",
       "      <td>14581.0</td>\n",
       "      <td>ultra</td>\n",
       "      <td>Краснодар</td>\n",
       "      <td>1000</td>\n",
       "      <td>30720</td>\n",
       "      <td>3000</td>\n",
       "      <td>1950</td>\n",
       "      <td>150</td>\n",
       "      <td>1</td>\n",
       "      <td>1</td>\n",
       "      <td>0.0</td>\n",
       "      <td>0.0</td>\n",
       "      <td>0.000000</td>\n",
       "      <td>1950.000000</td>\n",
       "    </tr>\n",
       "    <tr>\n",
       "      <td>...</td>\n",
       "      <td>...</td>\n",
       "      <td>...</td>\n",
       "      <td>...</td>\n",
       "      <td>...</td>\n",
       "      <td>...</td>\n",
       "      <td>...</td>\n",
       "      <td>...</td>\n",
       "      <td>...</td>\n",
       "      <td>...</td>\n",
       "      <td>...</td>\n",
       "      <td>...</td>\n",
       "      <td>...</td>\n",
       "      <td>...</td>\n",
       "      <td>...</td>\n",
       "      <td>...</td>\n",
       "      <td>...</td>\n",
       "      <td>...</td>\n",
       "      <td>...</td>\n",
       "    </tr>\n",
       "    <tr>\n",
       "      <td>3209</td>\n",
       "      <td>1489</td>\n",
       "      <td>9</td>\n",
       "      <td>0.0</td>\n",
       "      <td>32.0</td>\n",
       "      <td>17232.0</td>\n",
       "      <td>smart</td>\n",
       "      <td>Санкт-Петербург</td>\n",
       "      <td>50</td>\n",
       "      <td>15360</td>\n",
       "      <td>500</td>\n",
       "      <td>550</td>\n",
       "      <td>200</td>\n",
       "      <td>3</td>\n",
       "      <td>3</td>\n",
       "      <td>0.0</td>\n",
       "      <td>0.0</td>\n",
       "      <td>365.625000</td>\n",
       "      <td>915.625000</td>\n",
       "    </tr>\n",
       "    <tr>\n",
       "      <td>3210</td>\n",
       "      <td>1489</td>\n",
       "      <td>10</td>\n",
       "      <td>0.0</td>\n",
       "      <td>21.0</td>\n",
       "      <td>19588.0</td>\n",
       "      <td>smart</td>\n",
       "      <td>Санкт-Петербург</td>\n",
       "      <td>50</td>\n",
       "      <td>15360</td>\n",
       "      <td>500</td>\n",
       "      <td>550</td>\n",
       "      <td>200</td>\n",
       "      <td>3</td>\n",
       "      <td>3</td>\n",
       "      <td>0.0</td>\n",
       "      <td>0.0</td>\n",
       "      <td>825.781250</td>\n",
       "      <td>1375.781250</td>\n",
       "    </tr>\n",
       "    <tr>\n",
       "      <td>3211</td>\n",
       "      <td>1489</td>\n",
       "      <td>11</td>\n",
       "      <td>0.0</td>\n",
       "      <td>20.0</td>\n",
       "      <td>17516.0</td>\n",
       "      <td>smart</td>\n",
       "      <td>Санкт-Петербург</td>\n",
       "      <td>50</td>\n",
       "      <td>15360</td>\n",
       "      <td>500</td>\n",
       "      <td>550</td>\n",
       "      <td>200</td>\n",
       "      <td>3</td>\n",
       "      <td>3</td>\n",
       "      <td>0.0</td>\n",
       "      <td>0.0</td>\n",
       "      <td>421.093750</td>\n",
       "      <td>971.093750</td>\n",
       "    </tr>\n",
       "    <tr>\n",
       "      <td>3212</td>\n",
       "      <td>1489</td>\n",
       "      <td>12</td>\n",
       "      <td>0.0</td>\n",
       "      <td>35.0</td>\n",
       "      <td>17341.0</td>\n",
       "      <td>smart</td>\n",
       "      <td>Санкт-Петербург</td>\n",
       "      <td>50</td>\n",
       "      <td>15360</td>\n",
       "      <td>500</td>\n",
       "      <td>550</td>\n",
       "      <td>200</td>\n",
       "      <td>3</td>\n",
       "      <td>3</td>\n",
       "      <td>0.0</td>\n",
       "      <td>0.0</td>\n",
       "      <td>386.914062</td>\n",
       "      <td>936.914062</td>\n",
       "    </tr>\n",
       "    <tr>\n",
       "      <td>3213</td>\n",
       "      <td>1476</td>\n",
       "      <td>4</td>\n",
       "      <td>0.0</td>\n",
       "      <td>0.0</td>\n",
       "      <td>531.0</td>\n",
       "      <td>ultra</td>\n",
       "      <td>Москва</td>\n",
       "      <td>1000</td>\n",
       "      <td>30720</td>\n",
       "      <td>3000</td>\n",
       "      <td>1950</td>\n",
       "      <td>150</td>\n",
       "      <td>1</td>\n",
       "      <td>1</td>\n",
       "      <td>0.0</td>\n",
       "      <td>0.0</td>\n",
       "      <td>0.000000</td>\n",
       "      <td>1950.000000</td>\n",
       "    </tr>\n",
       "  </tbody>\n",
       "</table>\n",
       "<p>3214 rows × 18 columns</p>\n",
       "</div>"
      ],
      "text/plain": [
       "      user_id  month  duration  message_date  mb_used tariff             city  \\\n",
       "0        1000      5     159.0          22.0   2256.0  ultra        Краснодар   \n",
       "1        1000      6     172.0          60.0  23257.0  ultra        Краснодар   \n",
       "2        1000      7     340.0          75.0  14016.0  ultra        Краснодар   \n",
       "3        1000      8     408.0          81.0  14070.0  ultra        Краснодар   \n",
       "4        1000      9     466.0          57.0  14581.0  ultra        Краснодар   \n",
       "...       ...    ...       ...           ...      ...    ...              ...   \n",
       "3209     1489      9       0.0          32.0  17232.0  smart  Санкт-Петербург   \n",
       "3210     1489     10       0.0          21.0  19588.0  smart  Санкт-Петербург   \n",
       "3211     1489     11       0.0          20.0  17516.0  smart  Санкт-Петербург   \n",
       "3212     1489     12       0.0          35.0  17341.0  smart  Санкт-Петербург   \n",
       "3213     1476      4       0.0           0.0    531.0  ultra           Москва   \n",
       "\n",
       "      messages_included  mb_per_month_included  minutes_included  \\\n",
       "0                  1000                  30720              3000   \n",
       "1                  1000                  30720              3000   \n",
       "2                  1000                  30720              3000   \n",
       "3                  1000                  30720              3000   \n",
       "4                  1000                  30720              3000   \n",
       "...                 ...                    ...               ...   \n",
       "3209                 50                  15360               500   \n",
       "3210                 50                  15360               500   \n",
       "3211                 50                  15360               500   \n",
       "3212                 50                  15360               500   \n",
       "3213               1000                  30720              3000   \n",
       "\n",
       "      rub_monthly_fee  rub_per_gb  rub_per_message  rub_per_minute  minover  \\\n",
       "0                1950         150                1               1      0.0   \n",
       "1                1950         150                1               1      0.0   \n",
       "2                1950         150                1               1      0.0   \n",
       "3                1950         150                1               1      0.0   \n",
       "4                1950         150                1               1      0.0   \n",
       "...               ...         ...              ...             ...      ...   \n",
       "3209              550         200                3               3      0.0   \n",
       "3210              550         200                3               3      0.0   \n",
       "3211              550         200                3               3      0.0   \n",
       "3212              550         200                3               3      0.0   \n",
       "3213             1950         150                1               1      0.0   \n",
       "\n",
       "      mesover      gbover     proceeds  \n",
       "0         0.0    0.000000  1950.000000  \n",
       "1         0.0    0.000000  1950.000000  \n",
       "2         0.0    0.000000  1950.000000  \n",
       "3         0.0    0.000000  1950.000000  \n",
       "4         0.0    0.000000  1950.000000  \n",
       "...       ...         ...          ...  \n",
       "3209      0.0  365.625000   915.625000  \n",
       "3210      0.0  825.781250  1375.781250  \n",
       "3211      0.0  421.093750   971.093750  \n",
       "3212      0.0  386.914062   936.914062  \n",
       "3213      0.0    0.000000  1950.000000  \n",
       "\n",
       "[3214 rows x 18 columns]"
      ]
     },
     "execution_count": 11,
     "metadata": {},
     "output_type": "execute_result"
    }
   ],
   "source": [
    "#страшные рассчеты выручки\n",
    "#по каждому показателю считаем превышение(если оно есть)\n",
    "\n",
    "revenue['minover'] = (revenue['duration'] - revenue['minutes_included'])*revenue['rub_per_minute']\n",
    "revenue['mesover'] = (revenue['message_date'] - revenue['messages_included'])*revenue['rub_per_message']\n",
    "revenue['gbover'] = (revenue['mb_used'] - revenue['mb_per_month_included'])/1024*revenue['rub_per_gb']\n",
    "\n",
    "#от отрицательных избавляемся=приравниваем к нулю, так как нас интересует только выручка\n",
    "\n",
    "revenue.loc[revenue['minover'] > 0, 'minover'] = revenue['minover']\n",
    "revenue.loc[revenue['minover'] <= 0, 'minover'] = 0\n",
    "\n",
    "revenue.loc[revenue['mesover'] > 0, 'mesover'] = revenue['mesover']\n",
    "revenue.loc[revenue['mesover'] <= 0, 'mesover'] = 0\n",
    "\n",
    "revenue.loc[revenue['gbover'] > 0, 'gbover'] = revenue['gbover']\n",
    "revenue.loc[revenue['gbover'] <= 0, 'gbover'] = 0\n",
    "\n",
    "#добавляем новый столбец, где суммируем все неотрицательные значения по показателям тарифа и добавляем абонентскую плату\n",
    "revenue['proceeds'] = revenue[['minover', 'mesover', 'gbover', 'rub_monthly_fee']].sum(axis=1)\n",
    "\n",
    "revenue"
   ]
  },
  {
   "cell_type": "markdown",
   "metadata": {},
   "source": [
    "*Чесно говоря, сильно сомневаюсь, что так нужно рассчитывать выручку, но следовала описанию проекта в практикуме*"
   ]
  },
  {
   "cell_type": "markdown",
   "metadata": {},
   "source": [
    "<div class=\"alert alert-success\">\n",
    "<b>Комментарии ревьюера:</b> Логика расчетов абсолютно правильная. Здорово, что не забыла перевести мегабайты в гигабайты, так как в тарифе идет начисление именно за гигабайты.\n",
    "\n",
    "Решение можно улучшить, если записать его в виде функции и вызывать через apply. Также, вместо проверки больше/меньше нуля можно использовать max. \n",
    "    \n",
    "Твое решение тоже хорошее:)\n",
    "\n",
    "</div>"
   ]
  },
  {
   "cell_type": "markdown",
   "metadata": {},
   "source": [
    "<div class=\"alert alert-success\">\n",
    "<b>Комментарии ревьюера V2:</b> \n",
    " \n",
    "По поводу строки revenue['gbover'] = (revenue['mb_used'] - revenue['mb_per_month_included'])/1024*revenue['rub_per_gb'] :\n",
    "    \n",
    "Здесь можно было использовать какое-либо округление. Возможно оператор не округляет до целого гигабайта даже 100 мб, но какое-то округление точно используют. Подошел бы, например, round().\n",
    "\n",
    "</div>"
   ]
  },
  {
   "cell_type": "markdown",
   "metadata": {},
   "source": [
    "**Теперь в новой сводной таблице есть необходимые для дальнейшего анализа данные: месячный доход на пользователя, тариф, локация и трафик.**"
   ]
  },
  {
   "cell_type": "markdown",
   "metadata": {},
   "source": [
    "## Шаг 3. Проанализируйте данные"
   ]
  },
  {
   "cell_type": "code",
   "execution_count": 12,
   "metadata": {},
   "outputs": [],
   "source": [
    "#разделим датасет по тарифам\n",
    "ultra = revenue.query('tariff == \"ultra\"')\n",
    "smart = revenue.query('tariff == \"smart\"')"
   ]
  },
  {
   "cell_type": "code",
   "execution_count": 13,
   "metadata": {},
   "outputs": [],
   "source": [
    "#функция для удобного определения корзин\n",
    "def my_bins(df,value):    \n",
    "    if revenue[value].max() > 100:\n",
    "        return 50\n",
    "    elif revenue[value].max() > 500:\n",
    "        return  100\n",
    "    elif revenue[value].max() > 1000:\n",
    "        return  200\n",
    "    else: return 20"
   ]
  },
  {
   "cell_type": "code",
   "execution_count": 14,
   "metadata": {},
   "outputs": [],
   "source": [
    "#функция для построения гистограмм\n",
    "def my_hist(df, col):\n",
    "    \n",
    "    coef_bins = 0.005\n",
    "    tariff = df.loc[(df[col] >= df[col].quantile(.05))&(df[col] <= df[col].quantile(.95)), col]\n",
    "\n",
    "    plt.figure(figsize =(6, 2))\n",
    "    hist = tariff.plot(\n",
    "                kind='hist', \n",
    "                bins=my_bins(df, col), \n",
    "                alpha=0.5, \n",
    "                ec='black',\n",
    "                color='red',\n",
    "                )\n",
    "    plt.title('Распределение по столбцу ' + col)\n",
    "    plt.grid()\n",
    "    plt.show()"
   ]
  },
  {
   "cell_type": "code",
   "execution_count": 15,
   "metadata": {},
   "outputs": [
    {
     "name": "stdout",
     "output_type": "stream",
     "text": [
      "Распределение минут, сообщений и интернет-трафика по тарифу \"Ультра\"\n"
     ]
    },
    {
     "data": {
      "image/png": "[encoded data removed]",
      "text/plain": [
       "<Figure size 432x144 with 1 Axes>"
      ]
     },
     "metadata": {
      "needs_background": "light"
     },
     "output_type": "display_data"
    },
    {
     "data": {
      "image/png": "[encoded data removed]",
      "text/plain": [
       "<Figure size 432x144 with 1 Axes>"
      ]
     },
     "metadata": {
      "needs_background": "light"
     },
     "output_type": "display_data"
    },
    {
     "data": {
      "image/png": "[encoded data removed]",
      "text/plain": [
       "<Figure size 432x144 with 1 Axes>"
      ]
     },
     "metadata": {
      "needs_background": "light"
     },
     "output_type": "display_data"
    }
   ],
   "source": [
    "print('Распределение минут, сообщений и интернет-трафика по тарифу \"Ультра\"')\n",
    "amount_list = ['duration', 'message_date', 'mb_used']\n",
    "for i in amount_list:\n",
    "    my_hist(ultra, i)\n",
    "    \n"
   ]
  },
  {
   "cell_type": "code",
   "execution_count": 16,
   "metadata": {},
   "outputs": [
    {
     "name": "stdout",
     "output_type": "stream",
     "text": [
      "Распределение минут, сообщений и интернет-трафика по тарифу \"Смарт\"\n"
     ]
    },
    {
     "data": {
      "image/png": "[encoded data removed]",
      "text/plain": [
       "<Figure size 432x144 with 1 Axes>"
      ]
     },
     "metadata": {
      "needs_background": "light"
     },
     "output_type": "display_data"
    },
    {
     "data": {
      "image/png": "[encoded data removed]",
      "text/plain": [
       "<Figure size 432x144 with 1 Axes>"
      ]
     },
     "metadata": {
      "needs_background": "light"
     },
     "output_type": "display_data"
    },
    {
     "data": {
      "image/png": "[encoded data removed]",
      "text/plain": [
       "<Figure size 432x144 with 1 Axes>"
      ]
     },
     "metadata": {
      "needs_background": "light"
     },
     "output_type": "display_data"
    }
   ],
   "source": [
    "print('Распределение минут, сообщений и интернет-трафика по тарифу \"Смарт\"')\n",
    "amount_list = ['duration', 'message_date', 'mb_used']\n",
    "for i in amount_list:\n",
    "    my_hist(smart, i)\n",
    "    "
   ]
  },
  {
   "cell_type": "code",
   "execution_count": 17,
   "metadata": {},
   "outputs": [
    {
     "name": "stdout",
     "output_type": "stream",
     "text": [
      "Среднее количество минут разговора, дисперсия и стандартное отклонение по двум тарифам\n"
     ]
    },
    {
     "data": {
      "text/html": [
       "<div>\n",
       "<style scoped>\n",
       "    .dataframe tbody tr th:only-of-type {\n",
       "        vertical-align: middle;\n",
       "    }\n",
       "\n",
       "    .dataframe tbody tr th {\n",
       "        vertical-align: top;\n",
       "    }\n",
       "\n",
       "    .dataframe thead tr th {\n",
       "        text-align: left;\n",
       "    }\n",
       "\n",
       "    .dataframe thead tr:last-of-type th {\n",
       "        text-align: right;\n",
       "    }\n",
       "</style>\n",
       "<table border=\"1\" class=\"dataframe\">\n",
       "  <thead>\n",
       "    <tr>\n",
       "      <th></th>\n",
       "      <th colspan=\"3\" halign=\"left\">duration</th>\n",
       "    </tr>\n",
       "    <tr>\n",
       "      <th></th>\n",
       "      <th>mean</th>\n",
       "      <th>std</th>\n",
       "      <th>var</th>\n",
       "    </tr>\n",
       "    <tr>\n",
       "      <th>tariff</th>\n",
       "      <th></th>\n",
       "      <th></th>\n",
       "      <th></th>\n",
       "    </tr>\n",
       "  </thead>\n",
       "  <tbody>\n",
       "    <tr>\n",
       "      <td>smart</td>\n",
       "      <td>417.934948</td>\n",
       "      <td>190.313730</td>\n",
       "      <td>36219.315784</td>\n",
       "    </tr>\n",
       "    <tr>\n",
       "      <td>ultra</td>\n",
       "      <td>526.623350</td>\n",
       "      <td>317.606098</td>\n",
       "      <td>100873.633397</td>\n",
       "    </tr>\n",
       "  </tbody>\n",
       "</table>\n",
       "</div>"
      ],
      "text/plain": [
       "          duration                           \n",
       "              mean         std            var\n",
       "tariff                                       \n",
       "smart   417.934948  190.313730   36219.315784\n",
       "ultra   526.623350  317.606098  100873.633397"
      ]
     },
     "execution_count": 17,
     "metadata": {},
     "output_type": "execute_result"
    }
   ],
   "source": [
    "#теперь посчитаем среднее, дисперсию и стандартное отклонение\n",
    "print('Среднее количество минут разговора, дисперсия и стандартное отклонение по двум тарифам')\n",
    "revenue.groupby('tariff').agg({'duration': ['mean', 'std', 'var']})"
   ]
  },
  {
   "cell_type": "code",
   "execution_count": 18,
   "metadata": {},
   "outputs": [
    {
     "name": "stdout",
     "output_type": "stream",
     "text": [
      "Среднее количество сообщений, дисперсия и стандартное отклонение по двум тарифам\n"
     ]
    },
    {
     "data": {
      "text/html": [
       "<div>\n",
       "<style scoped>\n",
       "    .dataframe tbody tr th:only-of-type {\n",
       "        vertical-align: middle;\n",
       "    }\n",
       "\n",
       "    .dataframe tbody tr th {\n",
       "        vertical-align: top;\n",
       "    }\n",
       "\n",
       "    .dataframe thead tr th {\n",
       "        text-align: left;\n",
       "    }\n",
       "\n",
       "    .dataframe thead tr:last-of-type th {\n",
       "        text-align: right;\n",
       "    }\n",
       "</style>\n",
       "<table border=\"1\" class=\"dataframe\">\n",
       "  <thead>\n",
       "    <tr>\n",
       "      <th></th>\n",
       "      <th colspan=\"3\" halign=\"left\">message_date</th>\n",
       "    </tr>\n",
       "    <tr>\n",
       "      <th></th>\n",
       "      <th>mean</th>\n",
       "      <th>std</th>\n",
       "      <th>var</th>\n",
       "    </tr>\n",
       "    <tr>\n",
       "      <th>tariff</th>\n",
       "      <th></th>\n",
       "      <th></th>\n",
       "      <th></th>\n",
       "    </tr>\n",
       "  </thead>\n",
       "  <tbody>\n",
       "    <tr>\n",
       "      <td>smart</td>\n",
       "      <td>33.384029</td>\n",
       "      <td>28.227876</td>\n",
       "      <td>796.812958</td>\n",
       "    </tr>\n",
       "    <tr>\n",
       "      <td>ultra</td>\n",
       "      <td>49.363452</td>\n",
       "      <td>47.804457</td>\n",
       "      <td>2285.266143</td>\n",
       "    </tr>\n",
       "  </tbody>\n",
       "</table>\n",
       "</div>"
      ],
      "text/plain": [
       "       message_date                        \n",
       "               mean        std          var\n",
       "tariff                                     \n",
       "smart     33.384029  28.227876   796.812958\n",
       "ultra     49.363452  47.804457  2285.266143"
      ]
     },
     "execution_count": 18,
     "metadata": {},
     "output_type": "execute_result"
    }
   ],
   "source": [
    "print('Среднее количество сообщений, дисперсия и стандартное отклонение по двум тарифам')\n",
    "revenue.groupby('tariff').agg({'message_date': ['mean', 'std', 'var']})"
   ]
  },
  {
   "cell_type": "code",
   "execution_count": 19,
   "metadata": {},
   "outputs": [
    {
     "name": "stdout",
     "output_type": "stream",
     "text": [
      "Среднее количество интернет-трафика, дисперсия и стандартное отклонение по двум тарифам\n"
     ]
    },
    {
     "data": {
      "text/html": [
       "<div>\n",
       "<style scoped>\n",
       "    .dataframe tbody tr th:only-of-type {\n",
       "        vertical-align: middle;\n",
       "    }\n",
       "\n",
       "    .dataframe tbody tr th {\n",
       "        vertical-align: top;\n",
       "    }\n",
       "\n",
       "    .dataframe thead tr th {\n",
       "        text-align: left;\n",
       "    }\n",
       "\n",
       "    .dataframe thead tr:last-of-type th {\n",
       "        text-align: right;\n",
       "    }\n",
       "</style>\n",
       "<table border=\"1\" class=\"dataframe\">\n",
       "  <thead>\n",
       "    <tr>\n",
       "      <th></th>\n",
       "      <th colspan=\"3\" halign=\"left\">mb_used</th>\n",
       "    </tr>\n",
       "    <tr>\n",
       "      <th></th>\n",
       "      <th>mean</th>\n",
       "      <th>std</th>\n",
       "      <th>var</th>\n",
       "    </tr>\n",
       "    <tr>\n",
       "      <th>tariff</th>\n",
       "      <th></th>\n",
       "      <th></th>\n",
       "      <th></th>\n",
       "    </tr>\n",
       "  </thead>\n",
       "  <tbody>\n",
       "    <tr>\n",
       "      <td>smart</td>\n",
       "      <td>16229.188425</td>\n",
       "      <td>5877.576978</td>\n",
       "      <td>3.454591e+07</td>\n",
       "    </tr>\n",
       "    <tr>\n",
       "      <td>ultra</td>\n",
       "      <td>19486.901523</td>\n",
       "      <td>10096.317202</td>\n",
       "      <td>1.019356e+08</td>\n",
       "    </tr>\n",
       "  </tbody>\n",
       "</table>\n",
       "</div>"
      ],
      "text/plain": [
       "             mb_used                            \n",
       "                mean           std           var\n",
       "tariff                                          \n",
       "smart   16229.188425   5877.576978  3.454591e+07\n",
       "ultra   19486.901523  10096.317202  1.019356e+08"
      ]
     },
     "execution_count": 19,
     "metadata": {},
     "output_type": "execute_result"
    }
   ],
   "source": [
    "print('Среднее количество интернет-трафика, дисперсия и стандартное отклонение по двум тарифам')\n",
    "revenue.groupby('tariff').agg({'mb_used': ['mean', 'std', 'var']})"
   ]
  },
  {
   "cell_type": "markdown",
   "metadata": {},
   "source": [
    "**Распределения минут и трафика по тарифу \"Смарт\" ближе к нормальному, в тарифе \"Ультра\" больше выбросов. По сообщениям картина весьма предсказуемая: мало кто использует SMS при наличии мессенджеров.**"
   ]
  },
  {
   "cell_type": "markdown",
   "metadata": {},
   "source": [
    "<div class=\"alert alert-danger\">\n",
    "<b>Комментарии ревьюера:</b> <s>Когда исправишь в первом пункте обработку аномальных значений, найденных на гистограмме, поправь, пожалуйста выводы при необходимости :) </s>\n",
    "    \n",
    "    \n",
    "Согласна с твоими выводами, но все же, если мы говорим про выбросы, то для этого нужно строить боксплоты и на них смотреть выбросы. Гистограммы выглядят так из-за того, что мы взяли большое количество корзин. \n",
    "    \n",
    "Круто, кстати, что не забыла посчитать дисперсии! \n",
    "</div>\n",
    "\n",
    "<div class=\"alert alert-info\"> нулевые выбросы я решила не удалять, так как они не повлияют на расчет прибыли от использования тарифов, а в гистограммах выше в функции прописала процентили, чтобы туда как раз-таки эти нули и не попали:(</div>\n"
   ]
  },
  {
   "cell_type": "markdown",
   "metadata": {},
   "source": [
    "## Шаг 4. Проверьте гипотезы"
   ]
  },
  {
   "cell_type": "markdown",
   "metadata": {},
   "source": [
    "Проверяем гипотезу \"Средняя выручка пользователей тарифов \"Ультра\" и \"Смарт\" различается.\n",
    "Соответственно формулируем нулевую и альтернативную гипотезы так, чтобы при отвержении нулевой гипотезы данные показывали бы нам, что средняя выручка между тарифам не равна.\n",
    "\n",
    "H0 - средняя выручка тарифов одинакова\n",
    "H1 - средняя выручка тарифов не одинакова"
   ]
  },
  {
   "cell_type": "markdown",
   "metadata": {},
   "source": [
    "<div class=\"alert alert-success\">\n",
    "<b>Комментарии ревьюера:</b> Гипотезы сформулированы верно.</div>"
   ]
  },
  {
   "cell_type": "code",
   "execution_count": 20,
   "metadata": {},
   "outputs": [
    {
     "name": "stdout",
     "output_type": "stream",
     "text": [
      "p-значение: 8.931402711368788e-296\n",
      "Отвергаем нулевую гипотезу\n"
     ]
    }
   ],
   "source": [
    "#устанавливаем пороговое значение\n",
    "alpha = 0.05\n",
    "\n",
    "#проверять равенство средних будем с помощью ttest\n",
    "results = st.ttest_ind(ultra['proceeds'], smart['proceeds'],equal_var = False)\n",
    "\n",
    "print('p-значение:', results.pvalue)\n",
    "\n",
    "if results.pvalue < alpha:\n",
    "    print(\"Отвергаем нулевую гипотезу\")\n",
    "else:\n",
    "    print(\"Не получилось отвергнуть нулевую гипотезу\")"
   ]
  },
  {
   "cell_type": "markdown",
   "metadata": {},
   "source": [
    "**Средняя выручка пользователей тарифов различается.**"
   ]
  },
  {
   "cell_type": "markdown",
   "metadata": {},
   "source": [
    "Проверяем гипотезу \"Средняя выручка пользователей из Москвы отличается от выручки пользователей других регионов.\n",
    "H0 - средняя выручка пользователей из Москвы и регионов одинакова H1 - средняя выручка  пользователей из Москвы и регионов не одинакова"
   ]
  },
  {
   "cell_type": "markdown",
   "metadata": {},
   "source": [
    "<div class=\"alert alert-success\">\n",
    "<b>Комментарии ревьюера:</b> Согласна !</div>"
   ]
  },
  {
   "cell_type": "markdown",
   "metadata": {},
   "source": [
    "*В таком случае, целесообразно сравнить среднюю выручку по тарифам*"
   ]
  },
  {
   "cell_type": "code",
   "execution_count": 21,
   "metadata": {},
   "outputs": [
    {
     "data": {
      "text/html": [
       "<div>\n",
       "<style scoped>\n",
       "    .dataframe tbody tr th:only-of-type {\n",
       "        vertical-align: middle;\n",
       "    }\n",
       "\n",
       "    .dataframe tbody tr th {\n",
       "        vertical-align: top;\n",
       "    }\n",
       "\n",
       "    .dataframe thead tr th {\n",
       "        text-align: left;\n",
       "    }\n",
       "\n",
       "    .dataframe thead tr:last-of-type th {\n",
       "        text-align: right;\n",
       "    }\n",
       "</style>\n",
       "<table border=\"1\" class=\"dataframe\">\n",
       "  <thead>\n",
       "    <tr>\n",
       "      <th></th>\n",
       "      <th>proceeds</th>\n",
       "    </tr>\n",
       "    <tr>\n",
       "      <th></th>\n",
       "      <th>mean</th>\n",
       "    </tr>\n",
       "    <tr>\n",
       "      <th>tariff</th>\n",
       "      <th></th>\n",
       "    </tr>\n",
       "  </thead>\n",
       "  <tbody>\n",
       "    <tr>\n",
       "      <td>smart</td>\n",
       "      <td>1233.349467</td>\n",
       "    </tr>\n",
       "    <tr>\n",
       "      <td>ultra</td>\n",
       "      <td>2060.529971</td>\n",
       "    </tr>\n",
       "  </tbody>\n",
       "</table>\n",
       "</div>"
      ],
      "text/plain": [
       "           proceeds\n",
       "               mean\n",
       "tariff             \n",
       "smart   1233.349467\n",
       "ultra   2060.529971"
      ]
     },
     "execution_count": 21,
     "metadata": {},
     "output_type": "execute_result"
    }
   ],
   "source": [
    "revenue.groupby('tariff').agg({'proceeds': ['mean']})"
   ]
  },
  {
   "cell_type": "markdown",
   "metadata": {},
   "source": [
    "**Исходя из полученных показателей, можно сделать вывод, что в тарифе \"Ультра\" выручка выше.**"
   ]
  },
  {
   "cell_type": "code",
   "execution_count": 22,
   "metadata": {},
   "outputs": [],
   "source": [
    "#разделим на выборки по Москве и регионам\n",
    "moscow = revenue.query('city == \"Москва\"')\n",
    "region = revenue.query('city != \"Москва\"')"
   ]
  },
  {
   "cell_type": "code",
   "execution_count": 23,
   "metadata": {},
   "outputs": [
    {
     "name": "stdout",
     "output_type": "stream",
     "text": [
      "p-значение: 0.4549775646471024\n",
      "Не получилось отвергнуть нулевую гипотезу\n"
     ]
    }
   ],
   "source": [
    "#устанавливаем пороговое значение\n",
    "alpha = 0.05\n",
    "\n",
    "#проверять равенство средних будем с помощью ttest\n",
    "results = st.ttest_ind(moscow['proceeds'], region['proceeds'],equal_var = False)\n",
    "\n",
    "print('p-значение:', results.pvalue)\n",
    "\n",
    "if results.pvalue < alpha:\n",
    "    print(\"Отвергаем нулевую гипотезу\")\n",
    "else:\n",
    "    print(\"Не получилось отвергнуть нулевую гипотезу\")"
   ]
  },
  {
   "cell_type": "markdown",
   "metadata": {},
   "source": [
    "**Средняя выручка пользователей из Москвы НЕ отличается от выручки пользователей в регионах.**\n",
    "*неожиданно*"
   ]
  },
  {
   "cell_type": "markdown",
   "metadata": {},
   "source": [
    "<div class=\"alert alert-success\">\n",
    "<b>Комментарии ревьюера:</b> Т-тест проведен корректно. Молодец!  В этом пункте также стоит отдельно выделить гипотезы, которые будем проверять .</div>"
   ]
  },
  {
   "cell_type": "markdown",
   "metadata": {},
   "source": [
    "## Шаг 5. Напишите общий вывод"
   ]
  },
  {
   "cell_type": "markdown",
   "metadata": {},
   "source": [
    "Итак, результаты t-теста показали, что средние выручки по тарифам все-таки различаются. Мы проверили среднее значение выручки и выяснили, что выгоднее (для оператора, конечно же) - тариф \"Ультра\". Он дороже по размеру абонентской платы в 3,5 раза, предоставляет пакеты минут, сообщений и трафика в разы больлше, а исходя из средних значений выручки мало кто из пользователей тарифа \"Ультра\" выходит за рамки \"пакета\".\n",
    "Также мы выяснили, что на обоих тарифах не пользуются популярностью SMS, так что вполне адекватным решением было бы сократить количество SMS в пакете тарифа \"Ультра\", а также количество минут - за пределы лимита в нашей выборке никто не вышел. Сократить их в пользу, например, интернет-трафика: пользователи выходят даже за такой размер пакета как 30гб.\n",
    "\n",
    "**обновление после ревью**\n",
    "*В общем, выгоднее все-таки продвигать тариф \"Ультра\", но я бы также посоветовала чуть скорректировать пакеты, включенные в тариф, исходя из анализа и предыдущих выводов*"
   ]
  },
  {
   "cell_type": "markdown",
   "metadata": {},
   "source": [
    "<div class=\"alert alert-danger\">\n",
    "<b>Комментарии ревьюера:</b> <s>Очень хорошие выводы. Здорово, что отметила, что смски уже устарели как вид связи. Здесь еще очень важно ответить на вопрос, какой тариф для компании Мегалайн выгоднее продвигать? Правильного ответа нет, очень важны твои рассуждения как аналитика:) </s>\n",
    "\n",
    "Интересная рекомендация! Здесь важно сделать одну важную оговорку :) Если скорректировать лимиты по тарифу Ультра или ввести возможность менять нерастраченные смски на мегабайты, то это будет идеальный тариф... для клиента. А нам важно повысить прибыль самой компании. Важно найти этот баланс, чтобы и тарифы были выгодные, и клиенты довольны, и компания на этом зарабатывала. Мы как аналитики сейчас выступаем не в роли потребителей, а даем советы компании как разбогатеть. Однако, в данном вопросе нет правильного ответа и было важно услышать именно твоё мнение. Возможно \"честный\" и максимально клиентоориентированный подход привлечет много новых пользователей и прибыль вырастет, почему нет :)\n",
    "</div>"
   ]
  },
  {
   "cell_type": "markdown",
   "metadata": {},
   "source": [
    "<div class=\"alert alert-success\">\n",
    "<b>Комментарии ревьюера:</b> \n",
    "<b>Общий вывод по проекту:</b>\n",
    "    \n",
    "<s>У тебя получилась очень хорошая работа. Ты  продемонстрировала правильное использование методов pandas для работы с датафреймами, умение группировать данные и автоматизировать этот процесс, грамотное тестирование гипотез. Отлично, так держать! Для принятия проекта его осталось совсем чуть-чуть доработать.\n",
    "\n",
    "Критично исправить:\n",
    "\n",
    "- добавить проверку на наличие дубликатов,\n",
    "- добавить округление для интернет-сессий,\n",
    "- построить гистограммы, описать аномальные наблюдения и обработать их,\n",
    "- обновить выводы\n",
    "- ответить на вопрос, какой тариф выгоднее продвигать.\n",
    "    \n",
    "    \n",
    "Жду твою работу на повторное ревью, обещаю, что оно не займет много времени :) </s>\n",
    "    \n",
    "    \n",
    "    \n",
    "</div>\n",
    "\n",
    "<div class=\"alert alert-info\"> Спасибо большое за ревью! Некоторые вещи я действительно просто забыла сделать, спасибо за терпеливое отношение. По поводу этих злополучных нулей: раз мы оставили только те нули, которые ничего не стоят, соответственно, не повлияют на расчет прибыли, я решила от них не избавляться. В любом случае, такие \"аномалии\" будут всегда при использовании сотовой связи. Что в универе при работе со статистикой, что в Практикуме, я уяснила, что если нули несут в себе конкретно нулевое значение (а не пропуск или случайное число), то это тоже ценные данные для анализа:)\n",
    "Могу быть не права, и если в данной работе обработка нулей необходима - сделаю. Был еще вариант заменить нули на единички, но это грубое искажение данных ИМХО:)</div>\n"
   ]
  },
  {
   "cell_type": "markdown",
   "metadata": {},
   "source": [
    "<div class=\"alert alert-success\">\n",
    "<b>Комментарии ревьюера V2:</b> \n",
    " \n",
    "Я рада, если мои комментарии оказались полезными. В своей работе ты максимально подробно изучаешь исходные данные и обдумываешь, как лучше сделать обработку. Это очень важно. Статистические методы и критерии можно выучить, но куда важнее научиться видеть, когда и что применять. Поэтому твой подход к решению самый правильный. \n",
    "    \n",
    "По поводу нулей. Как я уже сказала, нам важно было посмотреть на распределения, с которыми мы будем работать. Здесь в датасете у нас относительно все хорошо, но нам могут встретиться неполные данные и тогда прогнозы и анализ делать некорректно, надо думать, как обрабатывать (это был спойлер к одному будущему проекту :). Мы оставили нули, так как посчитали, что это недозвоны и неудачные попытки войти в интернет, в сводной таблице эти нули в сумме ни на что не повлияют. Решение абсолютно логично.\n",
    "    \n",
    "Но заменить все нули на единички тоже можно. Это просто другой подход. Если бы мы узнали, что оператор начинает засекать разговоры не с первой минуты, а со второй, чтобы как раз таки отсечь все такие недозвоны, то здесь нули это звонки чуть больше минуты и их уже нужно не отбрасывать, а округлять.\n",
    "\n",
    "</div>"
   ]
  },
  {
   "cell_type": "code",
   "execution_count": null,
   "metadata": {},
   "outputs": [],
   "source": []
  }
 ],
 "metadata": {
  "kernelspec": {
   "display_name": "Python 3",
   "language": "python",
   "name": "python3"
  },
  "language_info": {
   "codemirror_mode": {
    "name": "ipython",
    "version": 3
   },
   "file_extension": ".py",
   "mimetype": "text/x-python",
   "name": "python",
   "nbconvert_exporter": "python",
   "pygments_lexer": "ipython3",
   "version": "3.7.8"
  },
  "toc": {
   "base_numbering": "",
   "nav_menu": {},
   "number_sections": false,
   "sideBar": true,
   "skip_h1_title": true,
   "title_cell": "Table of Contents",
   "title_sidebar": "Contents",
   "toc_cell": false,
   "toc_position": {},
   "toc_section_display": true,
   "toc_window_display": true
  }
 },
 "nbformat": 4,
 "nbformat_minor": 2
}
